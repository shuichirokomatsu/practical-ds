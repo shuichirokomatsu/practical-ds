{
 "cells": [
  {
   "cell_type": "code",
   "execution_count": null,
   "metadata": {
    "hide_output": true,
    "results": "\"hide\""
   },
   "outputs": [],
   "source": [
    "source(here::here(\"R/setup.R\"))"
   ]
  },
  {
   "cell_type": "markdown",
   "metadata": {},
   "source": [
    "# 探索的データ分析\n",
    "\n",
    "データを料理する前に、どのようなデータが与えられているのか確認することが大切です。この段階を踏むことで、データに対する理解が深まり、より良いモデルの構築に繋がる可能性もあります。こうした一連の作業は探索的データ分析 (Exploratory Data Analysis: EDA)と呼ばれます。この作業には、データの集計、要約、可視化が含まれます。\n",
    "\n",
    "EDAがデータ分析の作業において早期段階で行われるのは、データの異常（思い込みとの比較を含めて）や特徴を把握するためです。これらは分析全体のアプローチや良い出発点を見つけるために有効です。出発点と表現したのは、モデルの構築や特徴量の生成によって改めてデータを見つめ直す作業が発生するためです。そのため必ずしも徹底的である必要はありません。\n",
    "\n",
    "前章でもデータについて簡単な調査を行いましたが、データをグラフによって表現してみましょう。グラフにすることで、集計値では見えなかった情報やデータ間の関係を表現できます。\n",
    "\n",
    "特に欠損値や異常値（外れ値）、データの分布などデータ全体あるいはデータ間の関係性やそのばらつきを見るのに可視化は重要です。なお欠損値の視覚化については別の章で解説します。\n",
    "\n",
    "## データを眺める\n",
    "\n",
    "目的変数として設定する地価価格に影響を及ぼす変数を明らかにしたい、またその関係を知りたいという状況を設定します。\n",
    "\n",
    "<!-- ここで扱うデータは地価公示データのみ。他のデータ、地価公示データの紹介は別のノート (`dataset/`)で。基本的に説明は地価公示データベース。データの性質に合わせて利用する。 -->\n",
    "\n",
    "- サイズ（列数、行数）\n",
    "- 各列のデータ型\n",
    "- 完全データ、欠損データ\n",
    "\n",
    "データを手に入れたら、分析作業へ取り掛かる前にまずはデータを眺めてみることにしましょう。眺める、と言ってもデータの値を1つずつ見ていくわけではありません。これから扱うデータにはどのような値が含まれているのか、データ型が処理されているか、また全体の大きさはどれくらいなのか欠損はどれだけあるかと言った情報を俯瞰的に整理していきます。\n",
    "\n",
    "### データの大きさ\n",
    "\n",
    "データフレームは行と列からなります。いくつかの関数を使って読み込んだデータの大きさを調べてみましょう。"
   ]
  },
  {
   "cell_type": "code",
   "execution_count": null,
   "metadata": {
    "eval": true
   },
   "outputs": [],
   "source": [
    "dim(df_lp_kanto)"
   ]
  },
  {
   "cell_type": "markdown",
   "metadata": {},
   "source": [
    "`dim()`をデータフレームに適用すると、そのサイズを数値ベクトルで返します。最初の要素が行数、2番目の数字が列数を示します。これは次の`ncol()`、`nrow()`により個別に求めることができます。\n"
   ]
  },
  {
   "cell_type": "code",
   "execution_count": null,
   "metadata": {
    "eval": true,
    "lines_to_next_cell": 2
   },
   "outputs": [],
   "source": [
    "nrow(df_lp_kanto)\n",
    "ncol(df_lp_kanto)"
   ]
  },
  {
   "cell_type": "markdown",
   "metadata": {},
   "source": [
    "### データの一部を表示\n",
    "\n",
    "データフレームの一部を表示して、列名と値の確認をしてみましょう。`head()`をデータフレームに対して実行すると先頭の数行を表示します。また`tail()` でデータフレームの最後の行を表示できます。いずれの関数も引数`n = ` に実数を与えることで表示される行数を制御可能です。"
   ]
  },
  {
   "cell_type": "code",
   "execution_count": null,
   "metadata": {
    "eval": true
   },
   "outputs": [],
   "source": [
    "head(df_lp_kanto)\n",
    "\n",
    "tail(df_lp_kanto, n = 3)"
   ]
  },
  {
   "cell_type": "markdown",
   "metadata": {},
   "source": [
    "### 各列の情報\n",
    "\n",
    "データ型や件数、欠損の状況を調べます。"
   ]
  },
  {
   "cell_type": "code",
   "execution_count": null,
   "metadata": {
    "eval": true
   },
   "outputs": [],
   "source": [
    "glimpse(df_lp_kanto)"
   ]
  },
  {
   "cell_type": "markdown",
   "metadata": {},
   "source": [
    "この地価公示データには45の列（変数）があります。\n",
    "\n",
    "- データの型 (`character`, `numeric`, `logical`, `factor`)\n",
    "- 欠損数、ユニーク数\n",
    "- 文字データの長さの幅\n",
    "- カテゴリデータの偏り、水準、順序\n",
    "- 数値データの要約統計量、分布（ヒストグラム）\n",
    "\n",
    "- `configuration`や`fire_area`は欠損を多く含んでいることがわかります。`building_structure`にもわずかですが欠損データがあります\n"
   ]
  },
  {
   "cell_type": "code",
   "execution_count": null,
   "metadata": {},
   "outputs": [],
   "source": [
    "# 同一のデータで重複があるもの\n",
    "df_lp_kanto %>% \n",
    "  tidyr::separate_rows(\"current_use\", sep = \",\") %>% \n",
    "  count(.row_id) %>% \n",
    "  filter(n > 1) %>% \n",
    "  distinct(.row_id) %>% \n",
    "  nrow() %>% \n",
    "  ensure(. == 1986L)"
   ]
  },
  {
   "cell_type": "markdown",
   "metadata": {},
   "source": [
    "明確な答えがあるわけではありませんが、以下の情報はデータ全体、各変数について把握しておくと良いでしょう。またデータの偏りや出現傾向、分布のパターンは可視化を行い確認するのが効率的です。\n",
    "\n",
    "## 要約統計量の算出"
   ]
  },
  {
   "cell_type": "code",
   "execution_count": null,
   "metadata": {},
   "outputs": [],
   "source": [
    "summary(df_lp_kanto)"
   ]
  },
  {
   "cell_type": "markdown",
   "metadata": {},
   "source": [
    "Rの組み込み関数として用意されている `summary()` を利用して、データフレームに含まれる列の要約統計量を得ることができます。"
   ]
  },
  {
   "cell_type": "code",
   "execution_count": null,
   "metadata": {
    "lines_to_next_cell": 2
   },
   "outputs": [],
   "source": [
    "# 論理値型で標準偏差0の列を特定 constant cols\n",
    "df_lp_kanto %>% \n",
    "  select(-starts_with(\".\")) %>% \n",
    "  select_if(is.logical) %>% \n",
    "  mutate_all(as.numeric) %>% \n",
    "  summarise_all(sd) %>% \n",
    "  tidyr::gather()"
   ]
  },
  {
   "cell_type": "markdown",
   "metadata": {},
   "source": [
    "ここでは `skimr::` で行う例を示します。"
   ]
  },
  {
   "cell_type": "code",
   "execution_count": null,
   "metadata": {},
   "outputs": [],
   "source": [
    "# skimr::skim(df_lp) # Rコンソールでの実行は skim() で構いません\n",
    "df_lp_kanto %>% \n",
    "  select(-starts_with(\".\")) %>% \n",
    "  skimr::skim_to_list()"
   ]
  },
  {
   "cell_type": "markdown",
   "metadata": {},
   "source": [
    "論理型データのうち、`attribute_change_forest_law` と `attribute_change_parks_law` は FALSE のみが出現していることがわかります。"
   ]
  },
  {
   "cell_type": "markdown",
   "metadata": {},
   "source": [
    "## 探索的データ分析\n",
    "\n",
    "モデリングでは、目的変数の挙動（予測、分類）を明らかにすることがゴールとして設定されます。変数が多いデータであるほど確認する図の数が多くなり、効率的ではなくなります。そのため、まずはモデリングの目的変数となるデータを詳しく見ることを勧めます。また、この段階で作る図は初期モデルを構築する前段階で示唆を提供するものであると望ましいです。そこで目的変数に影響する説明変数、説明変数間の関係を明らかにすることで、次のモデリングプロセスに活かせる知識を得られることが期待できます。\n",
    "\n",
    "探索的データ分析の結果が最終的な成果物になることは稀です。ここで作られる図は論文や書籍、プレゼンテーションのための図ではありません。つまり複雑な図を作ることは求められていません。ここでは主にggplot2による作図を行いますが、扱いに慣れた最低限の機能を提供しれくれるライブラリを利用すると良いでしょう。\n",
    "\n",
    "以下では引き続き、地価公示データを使います。このデータには位置情報も含まれているため、地図上へのデータのマッピングも試みます。\n",
    "\n",
    "また時系列データの例としてビールへの支出データも利用します。\n",
    "\n",
    "## 数値データ"
   ]
  },
  {
   "cell_type": "code",
   "execution_count": null,
   "metadata": {
    "eval": true,
    "warning": false
   },
   "outputs": [],
   "source": [
    "df_is_num <- \n",
    "  df_lp_kanto %>% \n",
    "  select(-starts_with(\".\")) %>% \n",
    "  select_if(is_numeric)"
   ]
  },
  {
   "cell_type": "markdown",
   "metadata": {},
   "source": [
    "## カテゴリデータ"
   ]
  },
  {
   "cell_type": "code",
   "execution_count": null,
   "metadata": {
    "eval": true,
    "warning": false
   },
   "outputs": [],
   "source": [
    "df_is_cat <- \n",
    "  df_lp_kanto %>% \n",
    "  select(-starts_with(\".\")) %>% \n",
    "  select_if(is.character) %>% \n",
    "  verify(ncol(.) == 13)"
   ]
  },
  {
   "cell_type": "code",
   "execution_count": null,
   "metadata": {
    "eval": true
   },
   "outputs": [],
   "source": [
    "df_is_cat %>% \n",
    "  count(name_of_nearest_station, sort = TRUE)"
   ]
  },
  {
   "cell_type": "markdown",
   "metadata": {},
   "source": [
    "## 論理値"
   ]
  },
  {
   "cell_type": "code",
   "execution_count": null,
   "metadata": {
    "eval": true,
    "lines_to_next_cell": 2
   },
   "outputs": [],
   "source": [
    "df_is_log <-\n",
    "  df_lp_kanto %>% \n",
    "  select(-starts_with(\".\")) %>% \n",
    "  select_if(is.logical) %>% \n",
    "  verify(ncol(.) == 17)"
   ]
  },
  {
   "cell_type": "code",
   "execution_count": null,
   "metadata": {
    "eval": true
   },
   "outputs": [],
   "source": [
    "gg_count_var <- function(data, var) {\n",
    "  var <- rlang::enquo(var)\n",
    "  var_label <- rlang::quo_name(var)\n",
    "    data %>% \n",
    "    count(!!var) %>% \n",
    "    ggplot(aes(forcats::fct_reorder(!!var, n), n)) +\n",
    "    geom_bar(stat = \"identity\") +\n",
    "    labs(x = var_label) +\n",
    "    coord_flip()\n",
    "}"
   ]
  },
  {
   "cell_type": "code",
   "execution_count": null,
   "metadata": {
    "eval": false,
    "fig.height": 10,
    "hide_input": false,
    "name": "pref08_name_of_nearest_station"
   },
   "outputs": [],
   "source": [
    "df_is_cat %>% \n",
    "  filter(stringr::str_detect(administrative_area_code, \"^08\")) %>% \n",
    "  gg_count_var(name_of_nearest_station)"
   ]
  },
  {
   "cell_type": "markdown",
   "metadata": {},
   "source": [
    "![](../images/pref08_name_of_nearest_station-1.png)"
   ]
  },
  {
   "cell_type": "code",
   "execution_count": null,
   "metadata": {
    "eval": true,
    "fig.height": 16,
    "hide_input": false,
    "name": "pref08_categorical_count"
   },
   "outputs": [],
   "source": [
    "purrr::map(\n",
    "  rlang::syms(str_subset(names(df_is_cat), \"name_of_nearest_station\", negate = TRUE)),\n",
    "  ~ gg_count_var(df_is_cat %>% \n",
    "                   filter(stringr::str_detect(administrative_area_code, \"^08\")), \n",
    "                 !!.x)) %>% \n",
    "    plot_grid(plotlist = ., ncol = 2)"
   ]
  },
  {
   "cell_type": "markdown",
   "metadata": {},
   "source": [
    "![](../images/pref08_categorical_count-1.png)\n",
    "\n",
    "何枚かの図は文字が潰れてしまいましたが、いくつかのカテゴリデータについて掴めたことがあります。\n"
   ]
  },
  {
   "cell_type": "markdown",
   "metadata": {},
   "source": [
    "### 全体"
   ]
  },
  {
   "cell_type": "code",
   "execution_count": null,
   "metadata": {
    "lines_to_next_cell": 0
   },
   "outputs": [],
   "source": [
    "vis_dat(df_lp_kanto)"
   ]
  },
  {
   "cell_type": "markdown",
   "metadata": {},
   "source": []
  },
  {
   "cell_type": "markdown",
   "metadata": {},
   "source": [
    "### 1変数の可視化\n",
    "\n",
    "データのばらつきを見るのにはヒストグラム、箱ひげ図を利用します。一変量を対象とした単純な可視化は、変数の変動、特性を理解するのに役立ちます。\n",
    "\n",
    "#### ヒストグラム\n",
    "\n",
    "スパイク（峰）を検出するのに効果的です。ヒストグラムは単峰、二峰など多様な形状を取り得ます。"
   ]
  },
  {
   "cell_type": "code",
   "execution_count": null,
   "metadata": {},
   "outputs": [],
   "source": [
    "df_lp_kanto %>% \n",
    "  ggplot(aes(posted_land_price)) +\n",
    "  geom_histogram(bins = 30)"
   ]
  },
  {
   "cell_type": "markdown",
   "metadata": {},
   "source": [
    "<!-- box-cox変換をする図をあとで -->"
   ]
  },
  {
   "cell_type": "code",
   "execution_count": null,
   "metadata": {},
   "outputs": [],
   "source": [
    "df_lp_kanto %>% \n",
    "  ggplot(aes(posted_land_price)) +\n",
    "  geom_density() +\n",
    "  facet_wrap(~ .prefecture, ncol = 1)"
   ]
  },
  {
   "cell_type": "code",
   "execution_count": null,
   "metadata": {
    "lines_to_next_cell": 2
   },
   "outputs": [],
   "source": [
    "library(ggridges)\n",
    "\n",
    "ggplot(df_lp_kanto, \n",
    "       aes(x = posted_land_price, y  = .prefecture)) +\n",
    "  scale_x_log10() +\n",
    "  ggridges::geom_density_ridges(scale = 4)"
   ]
  },
  {
   "cell_type": "markdown",
   "metadata": {},
   "source": [
    "#### 箱ひげ図・バイオリンプロット"
   ]
  },
  {
   "cell_type": "markdown",
   "metadata": {},
   "source": [
    "### 2変数の可視化\n"
   ]
  },
  {
   "cell_type": "code",
   "execution_count": null,
   "metadata": {},
   "outputs": [],
   "source": [
    "df_lp_kanto %>% \n",
    "  ggplot(aes(use_district, posted_land_price)) +\n",
    "  geom_boxplot()"
   ]
  },
  {
   "cell_type": "markdown",
   "metadata": {},
   "source": [
    "#### 散布図"
   ]
  },
  {
   "cell_type": "code",
   "execution_count": null,
   "metadata": {},
   "outputs": [],
   "source": [
    "df_lp_kanto %>% \n",
    "  ggplot(aes(distance_from_station, posted_land_price)) +\n",
    "  geom_point()"
   ]
  },
  {
   "cell_type": "code",
   "execution_count": null,
   "metadata": {},
   "outputs": [],
   "source": [
    "df_lp_kanto %>% \n",
    "  ggplot(aes(distance_from_station, acreage)) +\n",
    "  geom_point()"
   ]
  },
  {
   "cell_type": "markdown",
   "metadata": {},
   "source": [
    "## 特殊なデータの視覚化\n",
    "\n",
    "### 時系列データ\n",
    "\n",
    "時系列データを扱うときは、時間のならびの通りに表示させることが肝心です。周期があるものは分割したり重ねてみると良いでしょう。"
   ]
  },
  {
   "cell_type": "code",
   "execution_count": null,
   "metadata": {},
   "outputs": [],
   "source": [
    "df_beer2018q2 %>% \n",
    "  ggplot(aes(date, expense)) +\n",
    "  geom_point() +\n",
    "  geom_line() +\n",
    "  scale_x_date(date_breaks = \"7 days\")"
   ]
  },
  {
   "cell_type": "code",
   "execution_count": null,
   "metadata": {
    "lines_to_next_cell": 2
   },
   "outputs": [],
   "source": [
    "df_beer2018q2 %>% \n",
    "  ggplot(aes(expense)) +\n",
    "  geom_histogram(bins = 30)"
   ]
  },
  {
   "cell_type": "markdown",
   "metadata": {},
   "source": [
    "### 空間データ"
   ]
  },
  {
   "cell_type": "code",
   "execution_count": null,
   "metadata": {},
   "outputs": [],
   "source": [
    "sf_lp_kanto <- \n",
    "  df_lp_kanto %>% \n",
    "  select(posted_land_price, .longitude, .latitude) %>% \n",
    "  st_as_sf(coords = c(\".longitude\", \".latitude\"), crs = 4326)\n",
    "\n",
    "ggplot(sf_lp_kanto) +\n",
    "  geom_sf(aes(color = posted_land_price),\n",
    "          fill = \"transparent\", alpha = 0.1, size = 0.5) +\n",
    "  scale_color_viridis_c()"
   ]
  },
  {
   "cell_type": "markdown",
   "metadata": {},
   "source": [
    "<!-- ksjのクレジット -->\n",
    "\n",
    "<!-- アンスコムの例 -->"
   ]
  },
  {
   "cell_type": "markdown",
   "metadata": {},
   "source": [
    "### 高次元の可視化\n",
    "\n",
    "3次元の世界に生きる我々は、高次元のデータを直接扱うことに慣れていません。\n",
    "\n",
    "次元圧縮を行ってからの可視化が効果的です。\n",
    "\n",
    "#### ヒートマップ\n",
    "\n",
    "変数間の関係、特に相関や欠損関係がある場合に役立ちます。\n",
    "\n",
    "#### 散布図行列\n"
   ]
  },
  {
   "cell_type": "code",
   "execution_count": null,
   "metadata": {
    "lines_to_next_cell": 2
   },
   "outputs": [],
   "source": [
    "df_is_num %>% \n",
    "  GGally::ggpairs()\n",
    "\n",
    "df_is_num %>% \n",
    "  corrr::correlate()"
   ]
  },
  {
   "cell_type": "code",
   "execution_count": null,
   "metadata": {},
   "outputs": [],
   "source": [
    "df_is_num %>% \n",
    "  vis_cor()\n",
    "\n",
    "df_is_log %>% \n",
    "  mutate_all(as.numeric) %>% \n",
    "  vis_cor()\n",
    "\n",
    "all.equal(\n",
    "  df_lp_kanto$attribute_change_building_coverage,\n",
    "  df_lp_kanto$attribute_change_floor_area_ratio)"
   ]
  },
  {
   "cell_type": "markdown",
   "metadata": {},
   "source": [
    "#### t-SNE\n",
    "\n",
    "高次元データの2次元散布図を用いた可視化に利用される"
   ]
  },
  {
   "cell_type": "markdown",
   "metadata": {},
   "source": [
    "#### モデルの利用\n",
    "\n",
    "効果的な変数の仮説がない場合や、変数の量が多い場合には、EDAの前に木ベースのモデルを適用してみるのも戦略の1つです。これらのモデルでは目的変数に対する説明変数の貢献度として、変数重要度を示すことが可能です。これによりEDAのとっかかりを得ることが可能になるはずです。変数重要度については後の章で解説します。\n",
    "\n",
    "## まとめ\n",
    "\n",
    "- モデリング、統計分析を行う前にデータを精査することが大事\n",
    "    - データの特徴を理解することで次のステップにかける時間を減らす、異常を見逃さない、（意図しない）間違いを見逃さない\n",
    "- 特に可視化の手法を用いることでデータの集約や関係、パターンを見やすくする\n",
    "\n",
    "## 関連項目\n",
    "\n",
    "- 次元削減\n",
    "- 欠損処理\n",
    "- 変数重要度\n",
    "\n",
    "## 参考文献"
   ]
  }
 ],
 "metadata": {
  "jupytext": {
   "formats": "ipynb,Rmd"
  },
  "kernelspec": {
   "display_name": "R",
   "language": "R",
   "name": "ir"
  }
 },
 "nbformat": 4,
 "nbformat_minor": 2
}
