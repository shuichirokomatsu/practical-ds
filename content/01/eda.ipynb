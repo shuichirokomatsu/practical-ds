{
 "cells": [
  {
   "cell_type": "code",
   "execution_count": 1,
   "metadata": {
    "hide_output": true,
    "results": "\"hide\""
   },
   "outputs": [
    {
     "name": "stderr",
     "output_type": "stream",
     "text": [
      "─ \u001b[1mAttaching packages\u001b[22m ──────────────────────────────────────────── tidyverse 1.2.1 ─\n",
      "\u001b[32m✔\u001b[39m \u001b[34mggplot2\u001b[39m 3.2.0          \u001b[32m✔\u001b[39m \u001b[34mpurrr  \u001b[39m 0.3.2     \n",
      "\u001b[32m✔\u001b[39m \u001b[34mtibble \u001b[39m 2.1.3          \u001b[32m✔\u001b[39m \u001b[34mdplyr  \u001b[39m 0.8.2     \n",
      "\u001b[32m✔\u001b[39m \u001b[34mtidyr  \u001b[39m 0.8.3.\u001b[31m9000\u001b[39m     \u001b[32m✔\u001b[39m \u001b[34mstringr\u001b[39m 1.4.0     \n",
      "\u001b[32m✔\u001b[39m \u001b[34mreadr  \u001b[39m 1.3.1          \u001b[32m✔\u001b[39m \u001b[34mforcats\u001b[39m 0.4.0     \n",
      "─ \u001b[1mConflicts\u001b[22m ────────────────────────────────────────────── tidyverse_conflicts() ─\n",
      "\u001b[31m✖\u001b[39m \u001b[34mdplyr\u001b[39m::\u001b[32mfilter()\u001b[39m  masks \u001b[34mstats\u001b[39m::filter()\n",
      "\u001b[31m✖\u001b[39m \u001b[34mpurrr\u001b[39m::\u001b[32mflatten()\u001b[39m masks \u001b[34mjsonlite\u001b[39m::flatten()\n",
      "\u001b[31m✖\u001b[39m \u001b[34mdplyr\u001b[39m::\u001b[32mlag()\u001b[39m     masks \u001b[34mstats\u001b[39m::lag()\n",
      "Registered S3 method overwritten by 'xts':\n",
      "  method     from\n",
      "  as.zoo.xts zoo \n",
      "─ \u001b[1mAttaching packages\u001b[22m ──────────────────────────────────────────── tidymodels 0.0.2 ─\n",
      "\u001b[32m✔\u001b[39m \u001b[34mbroom    \u001b[39m 0.5.2       \u001b[32m✔\u001b[39m \u001b[34mrecipes  \u001b[39m 0.1.6  \n",
      "\u001b[32m✔\u001b[39m \u001b[34mdials    \u001b[39m 0.0.2       \u001b[32m✔\u001b[39m \u001b[34mrsample  \u001b[39m 0.0.4  \n",
      "\u001b[32m✔\u001b[39m \u001b[34minfer    \u001b[39m 0.4.0.\u001b[31m1\u001b[39m     \u001b[32m✔\u001b[39m \u001b[34myardstick\u001b[39m 0.0.3  \n",
      "\u001b[32m✔\u001b[39m \u001b[34mparsnip  \u001b[39m 0.0.2       \n",
      "─ \u001b[1mConflicts\u001b[22m ───────────────────────────────────────────── tidymodels_conflicts() ─\n",
      "\u001b[31m✖\u001b[39m \u001b[34mscales\u001b[39m::\u001b[32mdiscard()\u001b[39m masks \u001b[34mpurrr\u001b[39m::discard()\n",
      "\u001b[31m✖\u001b[39m \u001b[34mdplyr\u001b[39m::\u001b[32mfilter()\u001b[39m   masks \u001b[34mstats\u001b[39m::filter()\n",
      "\u001b[31m✖\u001b[39m \u001b[34mrecipes\u001b[39m::\u001b[32mfixed()\u001b[39m  masks \u001b[34mstringr\u001b[39m::fixed()\n",
      "\u001b[31m✖\u001b[39m \u001b[34mpurrr\u001b[39m::\u001b[32mflatten()\u001b[39m  masks \u001b[34mjsonlite\u001b[39m::flatten()\n",
      "\u001b[31m✖\u001b[39m \u001b[34mdplyr\u001b[39m::\u001b[32mlag()\u001b[39m      masks \u001b[34mstats\u001b[39m::lag()\n",
      "\u001b[31m✖\u001b[39m \u001b[34myardstick\u001b[39m::\u001b[32mspec()\u001b[39m masks \u001b[34mreadr\u001b[39m::spec()\n",
      "\u001b[31m✖\u001b[39m \u001b[34mrecipes\u001b[39m::\u001b[32mstep()\u001b[39m   masks \u001b[34mstats\u001b[39m::step()\n",
      "Linking to GEOS 3.7.2, GDAL 2.4.1, PROJ 5.2.0\n",
      "\n",
      "Attaching package: ‘ensurer’\n",
      "\n",
      "The following object is masked from ‘package:recipes’:\n",
      "\n",
      "    check\n",
      "\n",
      "\n",
      "Attaching package: ‘janitor’\n",
      "\n",
      "The following objects are masked from ‘package:stats’:\n",
      "\n",
      "    chisq.test, fisher.test\n",
      "\n",
      "\n",
      "Attaching package: ‘cowplot’\n",
      "\n",
      "The following object is masked from ‘package:ggplot2’:\n",
      "\n",
      "    ggsave\n",
      "\n",
      "[conflicted] Will prefer \u001b[34mdplyr::filter\u001b[39m over any other package\n",
      "[conflicted] Will prefer \u001b[34mdplyr::select\u001b[39m over any other package\n",
      "Warning message:\n",
      "“Running make() in a subdirectory of your project. \n",
      "This could cause problems if your file_in()/file_out()/knitr_in() files are relative paths.\n",
      "Please either\n",
      "  (1) run make() from your drake project root, or\n",
      "  (2) create a cache in your working directory with new_cache('path_name'), or\n",
      "  (3) supply a cache of your own (e.g. make(cache = your_cache))\n",
      "      whose folder name is not '.drake'.\n",
      "  running make() from: /Users/suryu/Library/Mobile Documents/com~apple~CloudDocs/jupyter_book/practical-ds/content/01\n",
      "  drake project root:  /Users/suryu/Library/Mobile Documents/com~apple~CloudDocs/jupyter_book/practical-ds\n",
      "  cache directory:     /Users/suryu/Library/Mobile Documents/com~apple~CloudDocs/jupyter_book/practical-ds/.drake”\u001b[38;5;32mAll targets are already up to date.\u001b[39m\n"
     ]
    }
   ],
   "source": [
    "source(here::here(\"R/setup.R\"))"
   ]
  },
  {
   "cell_type": "markdown",
   "metadata": {},
   "source": [
    "# 探索的データ分析\n",
    "\n",
    "データを料理する前に、どのようなデータが与えられているのか確認することが大切です。この段階を踏むことで、データに対する理解が深まり、より良いモデルの構築に繋がる可能性もあります。こうした一連の作業は探索的データ分析 (Exploratory Data Analysis: EDA)と呼ばれます。この作業には、データの集計、要約、可視化が含まれます。\n",
    "\n",
    "EDAがデータ分析の作業において早期段階で行われるのは、データの異常（思い込みとの比較を含めて）や特徴を把握するためです。これらは分析全体のアプローチや良い出発点を見つけるために有効です。出発点と表現したのは、モデルの構築や特徴量の生成によって改めてデータを見つめ直す作業が発生するためです。そのため必ずしも徹底的である必要はありません。\n",
    "\n",
    "前章でもデータについて簡単な調査を行いましたが、データをグラフによって表現してみましょう。グラフにすることで、集計値では見えなかった情報やデータ間の関係を表現できます。\n",
    "\n",
    "特に欠損値や異常値（外れ値）、データの分布などデータ全体あるいはデータ間の関係性やそのばらつきを見るのに可視化は重要です。なお欠損値の視覚化については別の章で解説します。\n",
    "\n",
    "## データを眺める\n",
    "\n",
    "目的変数として設定する地価価格に影響を及ぼす変数を明らかにしたい、またその関係を知りたいという状況を設定します。\n",
    "\n",
    "<!-- ここで扱うデータは地価公示データのみ。他のデータ、地価公示データの紹介は別のノート (`dataset/`)で。基本的に説明は地価公示データベース。データの性質に合わせて利用する。 -->\n",
    "\n",
    "- サイズ（列数、行数）\n",
    "- 各列のデータ型\n",
    "- 完全データ、欠損データ\n",
    "\n",
    "データを手に入れたら、分析作業へ取り掛かる前にまずはデータを眺めてみることにしましょう。眺める、と言ってもデータの値を1つずつ見ていくわけではありません。これから扱うデータにはどのような値が含まれているのか、データ型が処理されているか、また全体の大きさはどれくらいなのか欠損はどれだけあるかと言った情報を俯瞰的に整理していきます。\n",
    "\n",
    "### データの大きさ\n",
    "\n",
    "データフレームは行と列からなります。いくつかの関数を使って読み込んだデータの大きさを調べてみましょう。"
   ]
  },
  {
   "cell_type": "code",
   "execution_count": 2,
   "metadata": {
    "eval": true
   },
   "outputs": [
    {
     "data": {
      "text/html": [
       "<ol class=list-inline>\n",
       "\t<li>8476</li>\n",
       "\t<li>45</li>\n",
       "</ol>\n"
      ],
      "text/latex": [
       "\\begin{enumerate*}\n",
       "\\item 8476\n",
       "\\item 45\n",
       "\\end{enumerate*}\n"
      ],
      "text/markdown": [
       "1. 8476\n",
       "2. 45\n",
       "\n",
       "\n"
      ],
      "text/plain": [
       "[1] 8476   45"
      ]
     },
     "metadata": {},
     "output_type": "display_data"
    }
   ],
   "source": [
    "dim(df_lp_kanto)"
   ]
  },
  {
   "cell_type": "markdown",
   "metadata": {},
   "source": [
    "`dim()`をデータフレームに適用すると、そのサイズを数値ベクトルで返します。最初の要素が行数、2番目の数字が列数を示します。これは次の`ncol()`、`nrow()`により個別に求めることができます。\n"
   ]
  },
  {
   "cell_type": "code",
   "execution_count": 3,
   "metadata": {
    "eval": true,
    "lines_to_next_cell": 2
   },
   "outputs": [
    {
     "data": {
      "text/html": [
       "8476"
      ],
      "text/latex": [
       "8476"
      ],
      "text/markdown": [
       "8476"
      ],
      "text/plain": [
       "[1] 8476"
      ]
     },
     "metadata": {},
     "output_type": "display_data"
    },
    {
     "data": {
      "text/html": [
       "45"
      ],
      "text/latex": [
       "45"
      ],
      "text/markdown": [
       "45"
      ],
      "text/plain": [
       "[1] 45"
      ]
     },
     "metadata": {},
     "output_type": "display_data"
    }
   ],
   "source": [
    "nrow(df_lp_kanto)\n",
    "ncol(df_lp_kanto)"
   ]
  },
  {
   "cell_type": "markdown",
   "metadata": {},
   "source": [
    "### データの一部を表示\n",
    "\n",
    "データフレームの一部を表示して、列名と値の確認をしてみましょう。`head()`をデータフレームに対して実行すると先頭の数行を表示します。また`tail()` でデータフレームの最後の行を表示できます。いずれの関数も引数`n = ` に実数を与えることで表示される行数を制御可能です。"
   ]
  },
  {
   "cell_type": "code",
   "execution_count": 4,
   "metadata": {
    "eval": true
   },
   "outputs": [
    {
     "data": {
      "text/html": [
       "<table>\n",
       "<caption>A tibble: 6 × 45</caption>\n",
       "<thead>\n",
       "\t<tr><th scope=col>.row_id</th><th scope=col>.prefecture</th><th scope=col>administrative_area_code</th><th scope=col>posted_land_price</th><th scope=col>name_of_nearest_station</th><th scope=col>distance_from_station</th><th scope=col>acreage</th><th scope=col>current_use</th><th scope=col>usage_description</th><th scope=col>building_structure</th><th scope=col>⋯</th><th scope=col>attribute_change_use_district</th><th scope=col>attribute_change_fire_area</th><th scope=col>attribute_change_urban_planning_area</th><th scope=col>attribute_change_forest_law</th><th scope=col>attribute_change_parks_law</th><th scope=col>attribute_change_building_coverage</th><th scope=col>common_surveyed_position</th><th scope=col>.longitude</th><th scope=col>.latitude</th><th scope=col>night_population</th></tr>\n",
       "\t<tr><th scope=col>&lt;int&gt;</th><th scope=col>&lt;chr&gt;</th><th scope=col>&lt;chr&gt;</th><th scope=col>&lt;int&gt;</th><th scope=col>&lt;chr&gt;</th><th scope=col>&lt;int&gt;</th><th scope=col>&lt;int&gt;</th><th scope=col>&lt;chr&gt;</th><th scope=col>&lt;chr&gt;</th><th scope=col>&lt;chr&gt;</th><th scope=col>⋯</th><th scope=col>&lt;lgl&gt;</th><th scope=col>&lt;lgl&gt;</th><th scope=col>&lt;lgl&gt;</th><th scope=col>&lt;lgl&gt;</th><th scope=col>&lt;lgl&gt;</th><th scope=col>&lt;lgl&gt;</th><th scope=col>&lt;lgl&gt;</th><th scope=col>&lt;dbl&gt;</th><th scope=col>&lt;dbl&gt;</th><th scope=col>&lt;dbl&gt;</th></tr>\n",
       "</thead>\n",
       "<tbody>\n",
       "\t<tr><td>13534</td><td>群馬県</td><td>10425</td><td> 4150</td><td>万座・鹿沢口</td><td> 8700</td><td>317</td><td>住宅,その他</td><td>別荘</td><td>W1</td><td>⋯</td><td>FALSE</td><td>FALSE</td><td>FALSE</td><td>FALSE</td><td>FALSE</td><td>FALSE</td><td>FALSE</td><td>138.5383</td><td>36.46920</td><td>9780</td></tr>\n",
       "\t<tr><td>13604</td><td>群馬県</td><td>10426</td><td>39000</td><td>長野原草津口</td><td>13000</td><td>166</td><td>住宅       </td><td>NA  </td><td>W2</td><td>⋯</td><td>FALSE</td><td>FALSE</td><td>FALSE</td><td>FALSE</td><td>FALSE</td><td>FALSE</td><td>FALSE</td><td>138.5921</td><td>36.61913</td><td>6518</td></tr>\n",
       "\t<tr><td>13605</td><td>群馬県</td><td>10426</td><td>56800</td><td>長野原草津口</td><td>13000</td><td>226</td><td>店舗       </td><td>NA  </td><td>W1</td><td>⋯</td><td>FALSE</td><td>FALSE</td><td>FALSE</td><td>FALSE</td><td>FALSE</td><td>FALSE</td><td>FALSE</td><td>138.5933</td><td>36.62025</td><td>6518</td></tr>\n",
       "\t<tr><td>13613</td><td>群馬県</td><td>10424</td><td> 2700</td><td>羽根尾      </td><td> 5500</td><td>274</td><td>住宅,その他</td><td>別荘</td><td>W2</td><td>⋯</td><td>FALSE</td><td>FALSE</td><td>FALSE</td><td>FALSE</td><td>FALSE</td><td>FALSE</td><td>FALSE</td><td>138.6017</td><td>36.52271</td><td>5536</td></tr>\n",
       "\t<tr><td>13620</td><td>群馬県</td><td>10424</td><td>12100</td><td>羽根尾      </td><td>   80</td><td>357</td><td>住宅       </td><td>NA  </td><td>W2</td><td>⋯</td><td>FALSE</td><td>FALSE</td><td>FALSE</td><td>FALSE</td><td>FALSE</td><td>FALSE</td><td>FALSE</td><td>138.6058</td><td>36.54922</td><td>5536</td></tr>\n",
       "\t<tr><td>13621</td><td>群馬県</td><td>10426</td><td>29800</td><td>長野原草津口</td><td>14000</td><td>173</td><td>住宅       </td><td>NA  </td><td>W2</td><td>⋯</td><td>FALSE</td><td>FALSE</td><td>FALSE</td><td>FALSE</td><td>FALSE</td><td>FALSE</td><td>FALSE</td><td>138.6083</td><td>36.62088</td><td>6518</td></tr>\n",
       "</tbody>\n",
       "</table>\n"
      ],
      "text/latex": [
       "A tibble: 6 × 45\n",
       "\\begin{tabular}{r|lllllllllllllllllllllllllllllllllllllllllllll}\n",
       " .row\\_id & .prefecture & administrative\\_area\\_code & posted\\_land\\_price & name\\_of\\_nearest\\_station & distance\\_from\\_station & acreage & current\\_use & usage\\_description & building\\_structure & attribute\\_change\\_supplied\\_facility & water\\_facility & gas\\_facility & sewage\\_facility & proximity\\_with\\_transportation\\_facility & depth\\_ratio & number\\_of\\_floors & number\\_of\\_basement\\_floors & use\\_district & building\\_coverage & configuration & surrounding\\_present\\_usage & fire\\_area & urban\\_planning\\_area & forest\\_law & parks\\_law & attribute\\_change\\_floor\\_area\\_ratio & frontage\\_ratio & floor\\_area\\_ratio & attribute\\_change\\_selected\\_land\\_status & attribute\\_change\\_address & attribute\\_change\\_acreage & attribute\\_change\\_current\\_use & attribute\\_change\\_building\\_structure & attribute\\_change\\_distance\\_from\\_station & attribute\\_change\\_use\\_district & attribute\\_change\\_fire\\_area & attribute\\_change\\_urban\\_planning\\_area & attribute\\_change\\_forest\\_law & attribute\\_change\\_parks\\_law & attribute\\_change\\_building\\_coverage & common\\_surveyed\\_position & .longitude & .latitude & night\\_population\\\\\n",
       " <int> & <chr> & <chr> & <int> & <chr> & <int> & <int> & <chr> & <chr> & <chr> & <lgl> & <lgl> & <lgl> & <lgl> & <chr> & <dbl> & <int> & <int> & <chr> & <dbl> & <chr> & <chr> & <chr> & <chr> & <chr> & <chr> & <lgl> & <dbl> & <dbl> & <dbl> & <lgl> & <lgl> & <lgl> & <lgl> & <lgl> & <lgl> & <lgl> & <lgl> & <lgl> & <lgl> & <lgl> & <lgl> & <dbl> & <dbl> & <dbl>\\\\\n",
       "\\hline\n",
       "\t 13534 & 群馬県 & 10425 &  4150 & 万座・鹿沢口 &  8700 & 317 & 住宅,その他 & 別荘 & W1 & FALSE & TRUE & FALSE & FALSE & NA & 1.0 & 1 & 0 & NA    &  0 & NA   & 低層別荘が建ち並ぶ環境の良い別荘地域         & NA & 都計外 & NA & NA & FALSE & 1.2 &   0 & 1 & FALSE & FALSE & FALSE & FALSE & FALSE & FALSE & FALSE & FALSE & FALSE & FALSE & FALSE & FALSE & 138.5383 & 36.46920 & 9780\\\\\n",
       "\t 13604 & 群馬県 & 10426 & 39000 & 長野原草津口 & 13000 & 166 & 住宅        & NA   & W2 & FALSE & TRUE & FALSE &  TRUE & NA & 1.0 & 2 & 0 & 2住居 & 60 & NA   & 一般住宅の中にアパート等が混在する住宅地域   & NA & 非線引 & NA & NA & FALSE & 1.2 & 200 & 1 & FALSE & FALSE & FALSE & FALSE & FALSE & FALSE & FALSE & FALSE & FALSE & FALSE & FALSE & FALSE & 138.5921 & 36.61913 & 6518\\\\\n",
       "\t 13605 & 群馬県 & 10426 & 56800 & 長野原草津口 & 13000 & 226 & 店舗        & NA   & W1 & FALSE & TRUE & FALSE &  TRUE & NA & 2.0 & 1 & 0 & 近商  & 80 & 台形 & 土産店、小売店舗等が多い温泉地の商業地域     & NA & 非線引 & NA & NA & FALSE & 1.0 & 300 & 1 & FALSE & FALSE & FALSE & FALSE & FALSE & FALSE & FALSE & FALSE & FALSE & FALSE & FALSE & FALSE & 138.5933 & 36.62025 & 6518\\\\\n",
       "\t 13613 & 群馬県 & 10424 &  2700 & 羽根尾       &  5500 & 274 & 住宅,その他 & 別荘 & W2 & FALSE & TRUE & FALSE &  TRUE & NA & 2.0 & 2 & 0 & NA    & 70 & NA   & 小規模別荘が多く見られる熟成度の劣る別荘地域 & NA & 非線引 & NA & NA & FALSE & 1.0 & 400 & 1 & FALSE & FALSE & FALSE & FALSE & FALSE & FALSE & FALSE & FALSE & FALSE & FALSE & FALSE & FALSE & 138.6017 & 36.52271 & 5536\\\\\n",
       "\t 13620 & 群馬県 & 10424 & 12100 & 羽根尾       &    80 & 357 & 住宅        & NA   & W2 & FALSE & TRUE & FALSE &  TRUE & NA & 1.5 & 2 & 0 & NA    & 70 & NA   & 中規模一般住宅が多い国道背後の住宅地域       & NA & 非線引 & NA & NA & FALSE & 1.0 & 400 & 1 & FALSE & FALSE & FALSE & FALSE & FALSE & FALSE & FALSE & FALSE & FALSE & FALSE & FALSE & FALSE & 138.6058 & 36.54922 & 5536\\\\\n",
       "\t 13621 & 群馬県 & 10426 & 29800 & 長野原草津口 & 14000 & 173 & 住宅        & NA   & W2 & FALSE & TRUE & FALSE &  TRUE & NA & 1.0 & 2 & 0 & 2住居 & 60 & NA   & 一般住宅、アパート等が混在する既成住宅地域   & NA & 非線引 & NA & NA & FALSE & 1.0 & 200 & 1 & FALSE & FALSE & FALSE & FALSE & FALSE & FALSE & FALSE & FALSE & FALSE & FALSE & FALSE & FALSE & 138.6083 & 36.62088 & 6518\\\\\n",
       "\\end{tabular}\n"
      ],
      "text/markdown": [
       "\n",
       "A tibble: 6 × 45\n",
       "\n",
       "| .row_id &lt;int&gt; | .prefecture &lt;chr&gt; | administrative_area_code &lt;chr&gt; | posted_land_price &lt;int&gt; | name_of_nearest_station &lt;chr&gt; | distance_from_station &lt;int&gt; | acreage &lt;int&gt; | current_use &lt;chr&gt; | usage_description &lt;chr&gt; | building_structure &lt;chr&gt; | ⋯ ⋯ | attribute_change_use_district &lt;lgl&gt; | attribute_change_fire_area &lt;lgl&gt; | attribute_change_urban_planning_area &lt;lgl&gt; | attribute_change_forest_law &lt;lgl&gt; | attribute_change_parks_law &lt;lgl&gt; | attribute_change_building_coverage &lt;lgl&gt; | common_surveyed_position &lt;lgl&gt; | .longitude &lt;dbl&gt; | .latitude &lt;dbl&gt; | night_population &lt;dbl&gt; |\n",
       "|---|---|---|---|---|---|---|---|---|---|---|---|---|---|---|---|---|---|---|---|---|\n",
       "| 13534 | 群馬県 | 10425 |  4150 | 万座・鹿沢口 |  8700 | 317 | 住宅,その他 | 別荘 | W1 | ⋯ | FALSE | FALSE | FALSE | FALSE | FALSE | FALSE | FALSE | 138.5383 | 36.46920 | 9780 |\n",
       "| 13604 | 群馬県 | 10426 | 39000 | 長野原草津口 | 13000 | 166 | 住宅        | NA   | W2 | ⋯ | FALSE | FALSE | FALSE | FALSE | FALSE | FALSE | FALSE | 138.5921 | 36.61913 | 6518 |\n",
       "| 13605 | 群馬県 | 10426 | 56800 | 長野原草津口 | 13000 | 226 | 店舗        | NA   | W1 | ⋯ | FALSE | FALSE | FALSE | FALSE | FALSE | FALSE | FALSE | 138.5933 | 36.62025 | 6518 |\n",
       "| 13613 | 群馬県 | 10424 |  2700 | 羽根尾       |  5500 | 274 | 住宅,その他 | 別荘 | W2 | ⋯ | FALSE | FALSE | FALSE | FALSE | FALSE | FALSE | FALSE | 138.6017 | 36.52271 | 5536 |\n",
       "| 13620 | 群馬県 | 10424 | 12100 | 羽根尾       |    80 | 357 | 住宅        | NA   | W2 | ⋯ | FALSE | FALSE | FALSE | FALSE | FALSE | FALSE | FALSE | 138.6058 | 36.54922 | 5536 |\n",
       "| 13621 | 群馬県 | 10426 | 29800 | 長野原草津口 | 14000 | 173 | 住宅        | NA   | W2 | ⋯ | FALSE | FALSE | FALSE | FALSE | FALSE | FALSE | FALSE | 138.6083 | 36.62088 | 6518 |\n",
       "\n"
      ],
      "text/plain": [
       "  .row_id .prefecture administrative_area_code posted_land_price\n",
       "1 13534   群馬県      10425                     4150            \n",
       "2 13604   群馬県      10426                    39000            \n",
       "3 13605   群馬県      10426                    56800            \n",
       "4 13613   群馬県      10424                     2700            \n",
       "5 13620   群馬県      10424                    12100            \n",
       "6 13621   群馬県      10426                    29800            \n",
       "  name_of_nearest_station distance_from_station acreage current_use\n",
       "1 万座・鹿沢口             8700                 317     住宅,その他\n",
       "2 長野原草津口            13000                 166     住宅       \n",
       "3 長野原草津口            13000                 226     店舗       \n",
       "4 羽根尾                   5500                 274     住宅,その他\n",
       "5 羽根尾                     80                 357     住宅       \n",
       "6 長野原草津口            14000                 173     住宅       \n",
       "  usage_description building_structure ⋯ attribute_change_use_district\n",
       "1 別荘              W1                 ⋯ FALSE                        \n",
       "2 NA                W2                 ⋯ FALSE                        \n",
       "3 NA                W1                 ⋯ FALSE                        \n",
       "4 別荘              W2                 ⋯ FALSE                        \n",
       "5 NA                W2                 ⋯ FALSE                        \n",
       "6 NA                W2                 ⋯ FALSE                        \n",
       "  attribute_change_fire_area attribute_change_urban_planning_area\n",
       "1 FALSE                      FALSE                               \n",
       "2 FALSE                      FALSE                               \n",
       "3 FALSE                      FALSE                               \n",
       "4 FALSE                      FALSE                               \n",
       "5 FALSE                      FALSE                               \n",
       "6 FALSE                      FALSE                               \n",
       "  attribute_change_forest_law attribute_change_parks_law\n",
       "1 FALSE                       FALSE                     \n",
       "2 FALSE                       FALSE                     \n",
       "3 FALSE                       FALSE                     \n",
       "4 FALSE                       FALSE                     \n",
       "5 FALSE                       FALSE                     \n",
       "6 FALSE                       FALSE                     \n",
       "  attribute_change_building_coverage common_surveyed_position .longitude\n",
       "1 FALSE                              FALSE                    138.5383  \n",
       "2 FALSE                              FALSE                    138.5921  \n",
       "3 FALSE                              FALSE                    138.5933  \n",
       "4 FALSE                              FALSE                    138.6017  \n",
       "5 FALSE                              FALSE                    138.6058  \n",
       "6 FALSE                              FALSE                    138.6083  \n",
       "  .latitude night_population\n",
       "1 36.46920  9780            \n",
       "2 36.61913  6518            \n",
       "3 36.62025  6518            \n",
       "4 36.52271  5536            \n",
       "5 36.54922  5536            \n",
       "6 36.62088  6518            "
      ]
     },
     "metadata": {},
     "output_type": "display_data"
    },
    {
     "data": {
      "text/html": [
       "<table>\n",
       "<caption>A tibble: 3 × 45</caption>\n",
       "<thead>\n",
       "\t<tr><th scope=col>.row_id</th><th scope=col>.prefecture</th><th scope=col>administrative_area_code</th><th scope=col>posted_land_price</th><th scope=col>name_of_nearest_station</th><th scope=col>distance_from_station</th><th scope=col>acreage</th><th scope=col>current_use</th><th scope=col>usage_description</th><th scope=col>building_structure</th><th scope=col>⋯</th><th scope=col>attribute_change_use_district</th><th scope=col>attribute_change_fire_area</th><th scope=col>attribute_change_urban_planning_area</th><th scope=col>attribute_change_forest_law</th><th scope=col>attribute_change_parks_law</th><th scope=col>attribute_change_building_coverage</th><th scope=col>common_surveyed_position</th><th scope=col>.longitude</th><th scope=col>.latitude</th><th scope=col>night_population</th></tr>\n",
       "\t<tr><th scope=col>&lt;int&gt;</th><th scope=col>&lt;chr&gt;</th><th scope=col>&lt;chr&gt;</th><th scope=col>&lt;int&gt;</th><th scope=col>&lt;chr&gt;</th><th scope=col>&lt;int&gt;</th><th scope=col>&lt;int&gt;</th><th scope=col>&lt;chr&gt;</th><th scope=col>&lt;chr&gt;</th><th scope=col>&lt;chr&gt;</th><th scope=col>⋯</th><th scope=col>&lt;lgl&gt;</th><th scope=col>&lt;lgl&gt;</th><th scope=col>&lt;lgl&gt;</th><th scope=col>&lt;lgl&gt;</th><th scope=col>&lt;lgl&gt;</th><th scope=col>&lt;lgl&gt;</th><th scope=col>&lt;lgl&gt;</th><th scope=col>&lt;dbl&gt;</th><th scope=col>&lt;dbl&gt;</th><th scope=col>&lt;dbl&gt;</th></tr>\n",
       "</thead>\n",
       "<tbody>\n",
       "\t<tr><td>23818</td><td>茨城県</td><td>08232</td><td>15600</td><td>銚子</td><td>3200</td><td>125</td><td>住宅     </td><td>NA</td><td>W2</td><td>⋯</td><td>FALSE</td><td>FALSE</td><td>FALSE</td><td>FALSE</td><td>FALSE</td><td>FALSE</td><td>FALSE</td><td>140.8311</td><td>35.74772</td><td>94522</td></tr>\n",
       "\t<tr><td>23839</td><td>千葉県</td><td>12202</td><td>41200</td><td>銚子</td><td>1800</td><td>119</td><td>住宅,店舗</td><td>NA</td><td>S3</td><td>⋯</td><td>FALSE</td><td>FALSE</td><td>FALSE</td><td>FALSE</td><td>FALSE</td><td>FALSE</td><td>FALSE</td><td>140.8434</td><td>35.73295</td><td>64415</td></tr>\n",
       "\t<tr><td>23851</td><td>千葉県</td><td>12202</td><td>31500</td><td>銚子</td><td>2200</td><td>111</td><td>住宅     </td><td>NA</td><td>W2</td><td>⋯</td><td>FALSE</td><td>FALSE</td><td>FALSE</td><td>FALSE</td><td>FALSE</td><td>FALSE</td><td>FALSE</td><td>140.8480</td><td>35.73405</td><td>64415</td></tr>\n",
       "</tbody>\n",
       "</table>\n"
      ],
      "text/latex": [
       "A tibble: 3 × 45\n",
       "\\begin{tabular}{r|lllllllllllllllllllllllllllllllllllllllllllll}\n",
       " .row\\_id & .prefecture & administrative\\_area\\_code & posted\\_land\\_price & name\\_of\\_nearest\\_station & distance\\_from\\_station & acreage & current\\_use & usage\\_description & building\\_structure & attribute\\_change\\_supplied\\_facility & water\\_facility & gas\\_facility & sewage\\_facility & proximity\\_with\\_transportation\\_facility & depth\\_ratio & number\\_of\\_floors & number\\_of\\_basement\\_floors & use\\_district & building\\_coverage & configuration & surrounding\\_present\\_usage & fire\\_area & urban\\_planning\\_area & forest\\_law & parks\\_law & attribute\\_change\\_floor\\_area\\_ratio & frontage\\_ratio & floor\\_area\\_ratio & attribute\\_change\\_selected\\_land\\_status & attribute\\_change\\_address & attribute\\_change\\_acreage & attribute\\_change\\_current\\_use & attribute\\_change\\_building\\_structure & attribute\\_change\\_distance\\_from\\_station & attribute\\_change\\_use\\_district & attribute\\_change\\_fire\\_area & attribute\\_change\\_urban\\_planning\\_area & attribute\\_change\\_forest\\_law & attribute\\_change\\_parks\\_law & attribute\\_change\\_building\\_coverage & common\\_surveyed\\_position & .longitude & .latitude & night\\_population\\\\\n",
       " <int> & <chr> & <chr> & <int> & <chr> & <int> & <int> & <chr> & <chr> & <chr> & <lgl> & <lgl> & <lgl> & <lgl> & <chr> & <dbl> & <int> & <int> & <chr> & <dbl> & <chr> & <chr> & <chr> & <chr> & <chr> & <chr> & <lgl> & <dbl> & <dbl> & <dbl> & <lgl> & <lgl> & <lgl> & <lgl> & <lgl> & <lgl> & <lgl> & <lgl> & <lgl> & <lgl> & <lgl> & <lgl> & <dbl> & <dbl> & <dbl>\\\\\n",
       "\\hline\n",
       "\t 23818 & 茨城県 & 08232 & 15600 & 銚子 & 3200 & 125 & 住宅      & NA & W2 & FALSE & TRUE & FALSE & FALSE & NA & 1.2 & 2 & 0 & 1住居 & 60 & NA & 一般住宅の中に空地等が見られる住宅地域 & NA   & 市街化 & NA & NA & FALSE & 1 & 200 & 1 & FALSE & FALSE & FALSE & FALSE & FALSE & FALSE & FALSE & FALSE & FALSE & FALSE & FALSE & FALSE & 140.8311 & 35.74772 & 94522\\\\\n",
       "\t 23839 & 千葉県 & 12202 & 41200 & 銚子 & 1800 & 119 & 住宅,店舗 & NA & S3 & FALSE & TRUE &  TRUE &  TRUE & NA & 2.0 & 3 & 0 & 商業  & 80 & NA & 小売店舗等が建ち並ぶ既成の普通商業地域 & 準防 & 非線引 & NA & NA & FALSE & 1 & 400 & 1 & FALSE & FALSE & FALSE & FALSE & FALSE & FALSE & FALSE & FALSE & FALSE & FALSE & FALSE & FALSE & 140.8434 & 35.73295 & 64415\\\\\n",
       "\t 23851 & 千葉県 & 12202 & 31500 & 銚子 & 2200 & 111 & 住宅      & NA & W2 & FALSE & TRUE &  TRUE &  TRUE & NA & 1.5 & 2 & 0 & 1住居 & 60 & NA & 小規模一般住宅が密集する戸建住宅地域   & 準防 & 非線引 & NA & NA & FALSE & 1 & 200 & 1 & FALSE & FALSE & FALSE & FALSE & FALSE & FALSE & FALSE & FALSE & FALSE & FALSE & FALSE & FALSE & 140.8480 & 35.73405 & 64415\\\\\n",
       "\\end{tabular}\n"
      ],
      "text/markdown": [
       "\n",
       "A tibble: 3 × 45\n",
       "\n",
       "| .row_id &lt;int&gt; | .prefecture &lt;chr&gt; | administrative_area_code &lt;chr&gt; | posted_land_price &lt;int&gt; | name_of_nearest_station &lt;chr&gt; | distance_from_station &lt;int&gt; | acreage &lt;int&gt; | current_use &lt;chr&gt; | usage_description &lt;chr&gt; | building_structure &lt;chr&gt; | ⋯ ⋯ | attribute_change_use_district &lt;lgl&gt; | attribute_change_fire_area &lt;lgl&gt; | attribute_change_urban_planning_area &lt;lgl&gt; | attribute_change_forest_law &lt;lgl&gt; | attribute_change_parks_law &lt;lgl&gt; | attribute_change_building_coverage &lt;lgl&gt; | common_surveyed_position &lt;lgl&gt; | .longitude &lt;dbl&gt; | .latitude &lt;dbl&gt; | night_population &lt;dbl&gt; |\n",
       "|---|---|---|---|---|---|---|---|---|---|---|---|---|---|---|---|---|---|---|---|---|\n",
       "| 23818 | 茨城県 | 08232 | 15600 | 銚子 | 3200 | 125 | 住宅      | NA | W2 | ⋯ | FALSE | FALSE | FALSE | FALSE | FALSE | FALSE | FALSE | 140.8311 | 35.74772 | 94522 |\n",
       "| 23839 | 千葉県 | 12202 | 41200 | 銚子 | 1800 | 119 | 住宅,店舗 | NA | S3 | ⋯ | FALSE | FALSE | FALSE | FALSE | FALSE | FALSE | FALSE | 140.8434 | 35.73295 | 64415 |\n",
       "| 23851 | 千葉県 | 12202 | 31500 | 銚子 | 2200 | 111 | 住宅      | NA | W2 | ⋯ | FALSE | FALSE | FALSE | FALSE | FALSE | FALSE | FALSE | 140.8480 | 35.73405 | 64415 |\n",
       "\n"
      ],
      "text/plain": [
       "  .row_id .prefecture administrative_area_code posted_land_price\n",
       "1 23818   茨城県      08232                    15600            \n",
       "2 23839   千葉県      12202                    41200            \n",
       "3 23851   千葉県      12202                    31500            \n",
       "  name_of_nearest_station distance_from_station acreage current_use\n",
       "1 銚子                    3200                  125     住宅       \n",
       "2 銚子                    1800                  119     住宅,店舗  \n",
       "3 銚子                    2200                  111     住宅       \n",
       "  usage_description building_structure ⋯ attribute_change_use_district\n",
       "1 NA                W2                 ⋯ FALSE                        \n",
       "2 NA                S3                 ⋯ FALSE                        \n",
       "3 NA                W2                 ⋯ FALSE                        \n",
       "  attribute_change_fire_area attribute_change_urban_planning_area\n",
       "1 FALSE                      FALSE                               \n",
       "2 FALSE                      FALSE                               \n",
       "3 FALSE                      FALSE                               \n",
       "  attribute_change_forest_law attribute_change_parks_law\n",
       "1 FALSE                       FALSE                     \n",
       "2 FALSE                       FALSE                     \n",
       "3 FALSE                       FALSE                     \n",
       "  attribute_change_building_coverage common_surveyed_position .longitude\n",
       "1 FALSE                              FALSE                    140.8311  \n",
       "2 FALSE                              FALSE                    140.8434  \n",
       "3 FALSE                              FALSE                    140.8480  \n",
       "  .latitude night_population\n",
       "1 35.74772  94522           \n",
       "2 35.73295  64415           \n",
       "3 35.73405  64415           "
      ]
     },
     "metadata": {},
     "output_type": "display_data"
    }
   ],
   "source": [
    "head(df_lp_kanto)\n",
    "\n",
    "tail(df_lp_kanto, n = 3)"
   ]
  },
  {
   "cell_type": "markdown",
   "metadata": {},
   "source": [
    "### 各列の情報\n",
    "\n",
    "データ型や件数、欠損の状況を調べます。"
   ]
  },
  {
   "cell_type": "code",
   "execution_count": 5,
   "metadata": {
    "eval": true
   },
   "outputs": [
    {
     "name": "stdout",
     "output_type": "stream",
     "text": [
      "Observations: 8,476\n",
      "Variables: 45\n",
      "$ .row_id                                \u001b[3m\u001b[38;5;246m<int>\u001b[39m\u001b[23m 13534, 13604, 13605, 13613, 1…\n",
      "$ .prefecture                            \u001b[3m\u001b[38;5;246m<chr>\u001b[39m\u001b[23m \"群馬県\", \"群馬県\", \"群馬県\", \"群馬県\", \"…\n",
      "$ administrative_area_code               \u001b[3m\u001b[38;5;246m<chr>\u001b[39m\u001b[23m \"10425\", \"10426\", \"10426\", \"1…\n",
      "$ posted_land_price                      \u001b[3m\u001b[38;5;246m<int>\u001b[39m\u001b[23m 4150, 39000, 56800, 2700, 121…\n",
      "$ name_of_nearest_station                \u001b[3m\u001b[38;5;246m<chr>\u001b[39m\u001b[23m \"万座・鹿沢口\", \"長野原草津口\", \"長野原草津口\",…\n",
      "$ distance_from_station                  \u001b[3m\u001b[38;5;246m<int>\u001b[39m\u001b[23m 8700, 13000, 13000, 5500, 80,…\n",
      "$ acreage                                \u001b[3m\u001b[38;5;246m<int>\u001b[39m\u001b[23m 317, 166, 226, 274, 357, 173,…\n",
      "$ current_use                            \u001b[3m\u001b[38;5;246m<chr>\u001b[39m\u001b[23m \"住宅,その他\", \"住宅\", \"店舗\", \"住宅,その他…\n",
      "$ usage_description                      \u001b[3m\u001b[38;5;246m<chr>\u001b[39m\u001b[23m \"別荘\", NA, NA, \"別荘\", NA, NA, N…\n",
      "$ building_structure                     \u001b[3m\u001b[38;5;246m<chr>\u001b[39m\u001b[23m \"W1\", \"W2\", \"W1\", \"W2\", \"W2\",…\n",
      "$ attribute_change_supplied_facility     \u001b[3m\u001b[38;5;246m<lgl>\u001b[39m\u001b[23m FALSE, FALSE, FALSE, FALSE, F…\n",
      "$ water_facility                         \u001b[3m\u001b[38;5;246m<lgl>\u001b[39m\u001b[23m TRUE, TRUE, TRUE, TRUE, TRUE,…\n",
      "$ gas_facility                           \u001b[3m\u001b[38;5;246m<lgl>\u001b[39m\u001b[23m FALSE, FALSE, FALSE, FALSE, F…\n",
      "$ sewage_facility                        \u001b[3m\u001b[38;5;246m<lgl>\u001b[39m\u001b[23m FALSE, TRUE, TRUE, TRUE, TRUE…\n",
      "$ proximity_with_transportation_facility \u001b[3m\u001b[38;5;246m<chr>\u001b[39m\u001b[23m NA, NA, NA, NA, NA, NA, NA, N…\n",
      "$ depth_ratio                            \u001b[3m\u001b[38;5;246m<dbl>\u001b[39m\u001b[23m 1.0, 1.0, 2.0, 2.0, 1.5, 1.0,…\n",
      "$ number_of_floors                       \u001b[3m\u001b[38;5;246m<int>\u001b[39m\u001b[23m 1, 2, 1, 2, 2, 2, 2, 1, 2, 2,…\n",
      "$ number_of_basement_floors              \u001b[3m\u001b[38;5;246m<int>\u001b[39m\u001b[23m 0, 0, 0, 0, 0, 0, 0, 0, 0, 0,…\n",
      "$ use_district                           \u001b[3m\u001b[38;5;246m<chr>\u001b[39m\u001b[23m NA, \"2住居\", \"近商\", NA, NA, \"2住居…\n",
      "$ building_coverage                      \u001b[3m\u001b[38;5;246m<dbl>\u001b[39m\u001b[23m 0, 60, 80, 70, 70, 60, 70, 70…\n",
      "$ configuration                          \u001b[3m\u001b[38;5;246m<chr>\u001b[39m\u001b[23m NA, NA, \"台形\", NA, NA, NA, \"台形…\n",
      "$ surrounding_present_usage              \u001b[3m\u001b[38;5;246m<chr>\u001b[39m\u001b[23m \"低層別荘が建ち並ぶ環境の良い別荘地域\", \"一般住宅の中…\n",
      "$ fire_area                              \u001b[3m\u001b[38;5;246m<chr>\u001b[39m\u001b[23m NA, NA, NA, NA, NA, NA, NA, N…\n",
      "$ urban_planning_area                    \u001b[3m\u001b[38;5;246m<chr>\u001b[39m\u001b[23m \"都計外\", \"非線引\", \"非線引\", \"非線引\", \"…\n",
      "$ forest_law                             \u001b[3m\u001b[38;5;246m<chr>\u001b[39m\u001b[23m NA, NA, NA, NA, NA, NA, NA, N…\n",
      "$ parks_law                              \u001b[3m\u001b[38;5;246m<chr>\u001b[39m\u001b[23m NA, NA, NA, NA, NA, NA, NA, N…\n",
      "$ attribute_change_floor_area_ratio      \u001b[3m\u001b[38;5;246m<lgl>\u001b[39m\u001b[23m FALSE, FALSE, FALSE, FALSE, F…\n",
      "$ frontage_ratio                         \u001b[3m\u001b[38;5;246m<dbl>\u001b[39m\u001b[23m 1.2, 1.2, 1.0, 1.0, 1.0, 1.0,…\n",
      "$ floor_area_ratio                       \u001b[3m\u001b[38;5;246m<dbl>\u001b[39m\u001b[23m 0, 200, 300, 400, 400, 200, 4…\n",
      "$ attribute_change_selected_land_status  \u001b[3m\u001b[38;5;246m<dbl>\u001b[39m\u001b[23m 1, 1, 1, 1, 1, 1, 1, 1, 1, 1,…\n",
      "$ attribute_change_address               \u001b[3m\u001b[38;5;246m<lgl>\u001b[39m\u001b[23m FALSE, FALSE, FALSE, FALSE, F…\n",
      "$ attribute_change_acreage               \u001b[3m\u001b[38;5;246m<lgl>\u001b[39m\u001b[23m FALSE, FALSE, FALSE, FALSE, F…\n",
      "$ attribute_change_current_use           \u001b[3m\u001b[38;5;246m<lgl>\u001b[39m\u001b[23m FALSE, FALSE, FALSE, FALSE, F…\n",
      "$ attribute_change_building_structure    \u001b[3m\u001b[38;5;246m<lgl>\u001b[39m\u001b[23m FALSE, FALSE, FALSE, FALSE, F…\n",
      "$ attribute_change_distance_from_station \u001b[3m\u001b[38;5;246m<lgl>\u001b[39m\u001b[23m FALSE, FALSE, FALSE, FALSE, F…\n",
      "$ attribute_change_use_district          \u001b[3m\u001b[38;5;246m<lgl>\u001b[39m\u001b[23m FALSE, FALSE, FALSE, FALSE, F…\n",
      "$ attribute_change_fire_area             \u001b[3m\u001b[38;5;246m<lgl>\u001b[39m\u001b[23m FALSE, FALSE, FALSE, FALSE, F…\n",
      "$ attribute_change_urban_planning_area   \u001b[3m\u001b[38;5;246m<lgl>\u001b[39m\u001b[23m FALSE, FALSE, FALSE, FALSE, F…\n",
      "$ attribute_change_forest_law            \u001b[3m\u001b[38;5;246m<lgl>\u001b[39m\u001b[23m FALSE, FALSE, FALSE, FALSE, F…\n",
      "$ attribute_change_parks_law             \u001b[3m\u001b[38;5;246m<lgl>\u001b[39m\u001b[23m FALSE, FALSE, FALSE, FALSE, F…\n",
      "$ attribute_change_building_coverage     \u001b[3m\u001b[38;5;246m<lgl>\u001b[39m\u001b[23m FALSE, FALSE, FALSE, FALSE, F…\n",
      "$ common_surveyed_position               \u001b[3m\u001b[38;5;246m<lgl>\u001b[39m\u001b[23m FALSE, FALSE, FALSE, FALSE, F…\n",
      "$ .longitude                             \u001b[3m\u001b[38;5;246m<dbl>\u001b[39m\u001b[23m 138.5383, 138.5921, 138.5933,…\n",
      "$ .latitude                              \u001b[3m\u001b[38;5;246m<dbl>\u001b[39m\u001b[23m 36.46920, 36.61913, 36.62025,…\n",
      "$ night_population                       \u001b[3m\u001b[38;5;246m<dbl>\u001b[39m\u001b[23m 9780, 6518, 6518, 5536, 5536,…\n"
     ]
    }
   ],
   "source": [
    "glimpse(df_lp_kanto)"
   ]
  },
  {
   "cell_type": "markdown",
   "metadata": {},
   "source": [
    "この地価公示データには45の列（変数）があります。\n",
    "\n",
    "- データの型 (`character`, `numeric`, `logical`, `factor`)\n",
    "- 欠損数、ユニーク数\n",
    "- 文字データの長さの幅\n",
    "- カテゴリデータの偏り、水準、順序\n",
    "- 数値データの要約統計量、分布（ヒストグラム）\n",
    "\n",
    "- `configuration`や`fire_area`は欠損を多く含んでいることがわかります。`building_structure`にもわずかですが欠損データがあります\n"
   ]
  },
  {
   "cell_type": "code",
   "execution_count": 6,
   "metadata": {},
   "outputs": [
    {
     "data": {
      "text/html": [
       "1986"
      ],
      "text/latex": [
       "1986"
      ],
      "text/markdown": [
       "1986"
      ],
      "text/plain": [
       "[1] 1986"
      ]
     },
     "metadata": {},
     "output_type": "display_data"
    }
   ],
   "source": [
    "# 同一のデータで重複があるもの\n",
    "df_lp_kanto %>% \n",
    "  tidyr::separate_rows(\"current_use\", sep = \",\") %>% \n",
    "  count(.row_id) %>% \n",
    "  filter(n > 1) %>% \n",
    "  distinct(.row_id) %>% \n",
    "  nrow() %>% \n",
    "  ensure(. == 1986L)"
   ]
  },
  {
   "cell_type": "markdown",
   "metadata": {},
   "source": [
    "明確な答えがあるわけではありませんが、以下の情報はデータ全体、各変数について把握しておくと良いでしょう。またデータの偏りや出現傾向、分布のパターンは可視化を行い確認するのが効率的です。\n",
    "\n",
    "## 要約統計量の算出"
   ]
  },
  {
   "cell_type": "code",
   "execution_count": 7,
   "metadata": {},
   "outputs": [
    {
     "data": {
      "text/plain": [
       "    .row_id      .prefecture        administrative_area_code posted_land_price \n",
       " Min.   :13534   Length:8476        Length:8476              Min.   :     613  \n",
       " 1st Qu.:16404   Class :character   Class :character         1st Qu.:   59900  \n",
       " Median :18532   Mode  :character   Mode  :character         Median :  155000  \n",
       " Mean   :18584                                               Mean   :  415432  \n",
       " 3rd Qu.:20708                                               3rd Qu.:  308000  \n",
       " Max.   :23851                                               Max.   :55500000  \n",
       " name_of_nearest_station distance_from_station    acreage      \n",
       " Length:8476             Min.   :    0         Min.   :    46  \n",
       " Class :character        1st Qu.:  500         1st Qu.:   140  \n",
       " Mode  :character        Median : 1000         Median :   181  \n",
       "                         Mean   : 1566         Mean   :   751  \n",
       "                         3rd Qu.: 1800         3rd Qu.:   272  \n",
       "                         Max.   :24000         Max.   :413215  \n",
       " current_use        usage_description  building_structure\n",
       " Length:8476        Length:8476        Length:8476       \n",
       " Class :character   Class :character   Class :character  \n",
       " Mode  :character   Mode  :character   Mode  :character  \n",
       "                                                         \n",
       "                                                         \n",
       "                                                         \n",
       " attribute_change_supplied_facility water_facility  gas_facility   \n",
       " Mode :logical                      Mode :logical   Mode :logical  \n",
       " FALSE:8429                         FALSE:49        FALSE:1860     \n",
       " TRUE :47                           TRUE :8427      TRUE :6616     \n",
       "                                                                   \n",
       "                                                                   \n",
       "                                                                   \n",
       " sewage_facility proximity_with_transportation_facility  depth_ratio   \n",
       " Mode :logical   Length:8476                            Min.   :0.000  \n",
       " FALSE:701       Class :character                       1st Qu.:1.000  \n",
       " TRUE :7775      Mode  :character                       Median :1.200  \n",
       "                                                        Mean   :1.459  \n",
       "                                                        3rd Qu.:1.500  \n",
       "                                                        Max.   :6.500  \n",
       " number_of_floors number_of_basement_floors use_district      \n",
       " Min.   : 0.000   Min.   :0.00000           Length:8476       \n",
       " 1st Qu.: 2.000   1st Qu.:0.00000           Class :character  \n",
       " Median : 2.000   Median :0.00000           Mode  :character  \n",
       " Mean   : 2.718   Mean   :0.07574                             \n",
       " 3rd Qu.: 2.000   3rd Qu.:0.00000                             \n",
       " Max.   :52.000   Max.   :6.00000                             \n",
       " building_coverage configuration      surrounding_present_usage\n",
       " Min.   : 0.00     Length:8476        Length:8476              \n",
       " 1st Qu.:50.00     Class :character   Class :character         \n",
       " Median :60.00     Mode  :character   Mode  :character         \n",
       " Mean   :60.17                                                 \n",
       " 3rd Qu.:60.00                                                 \n",
       " Max.   :80.00                                                 \n",
       "  fire_area         urban_planning_area  forest_law         parks_law        \n",
       " Length:8476        Length:8476         Length:8476        Length:8476       \n",
       " Class :character   Class :character    Class :character   Class :character  \n",
       " Mode  :character   Mode  :character    Mode  :character   Mode  :character  \n",
       "                                                                             \n",
       "                                                                             \n",
       "                                                                             \n",
       " attribute_change_floor_area_ratio frontage_ratio  floor_area_ratio\n",
       " Mode :logical                     Min.   :0.000   Min.   :   0.0  \n",
       " FALSE:8474                        1st Qu.:1.000   1st Qu.: 100.0  \n",
       " TRUE :2                           Median :1.000   Median : 200.0  \n",
       "                                   Mean   :1.066   Mean   : 216.6  \n",
       "                                   3rd Qu.:1.000   3rd Qu.: 200.0  \n",
       "                                   Max.   :5.500   Max.   :1300.0  \n",
       " attribute_change_selected_land_status attribute_change_address\n",
       " Min.   :1.000                         Mode :logical           \n",
       " 1st Qu.:1.000                         FALSE:8411              \n",
       " Median :1.000                         TRUE :65                \n",
       " Mean   :1.027                                                 \n",
       " 3rd Qu.:1.000                                                 \n",
       " Max.   :4.000                                                 \n",
       " attribute_change_acreage attribute_change_current_use\n",
       " Mode :logical            Mode :logical               \n",
       " FALSE:8450               FALSE:8402                  \n",
       " TRUE :26                 TRUE :74                    \n",
       "                                                      \n",
       "                                                      \n",
       "                                                      \n",
       " attribute_change_building_structure attribute_change_distance_from_station\n",
       " Mode :logical                       Mode :logical                         \n",
       " FALSE:8406                          FALSE:8431                            \n",
       " TRUE :70                            TRUE :45                              \n",
       "                                                                           \n",
       "                                                                           \n",
       "                                                                           \n",
       " attribute_change_use_district attribute_change_fire_area\n",
       " Mode :logical                 Mode :logical             \n",
       " FALSE:8475                    FALSE:8417                \n",
       " TRUE :1                       TRUE :59                  \n",
       "                                                         \n",
       "                                                         \n",
       "                                                         \n",
       " attribute_change_urban_planning_area attribute_change_forest_law\n",
       " Mode :logical                        Mode :logical              \n",
       " FALSE:8475                           FALSE:8476                 \n",
       " TRUE :1                                                         \n",
       "                                                                 \n",
       "                                                                 \n",
       "                                                                 \n",
       " attribute_change_parks_law attribute_change_building_coverage\n",
       " Mode :logical              Mode :logical                     \n",
       " FALSE:8476                 FALSE:8474                        \n",
       "                            TRUE :2                           \n",
       "                                                              \n",
       "                                                              \n",
       "                                                              \n",
       " common_surveyed_position   .longitude      .latitude     night_population\n",
       " Mode :logical            Min.   :138.5   Min.   :34.98   Min.   :  3214  \n",
       " FALSE:7870               1st Qu.:139.5   1st Qu.:35.59   1st Qu.:118919  \n",
       " TRUE :606                Median :139.7   Median :35.72   Median :200012  \n",
       "                          Mean   :139.7   Mean   :35.79   Mean   :259450  \n",
       "                          3rd Qu.:139.9   3rd Qu.:35.92   3rd Qu.:341076  \n",
       "                          Max.   :140.8   Max.   :37.02   Max.   :903346  "
      ]
     },
     "metadata": {},
     "output_type": "display_data"
    }
   ],
   "source": [
    "summary(df_lp_kanto)"
   ]
  },
  {
   "cell_type": "markdown",
   "metadata": {},
   "source": [
    "Rの組み込み関数として用意されている `summary()` を利用して、データフレームに含まれる列の要約統計量を得ることができます。"
   ]
  },
  {
   "cell_type": "code",
   "execution_count": 8,
   "metadata": {
    "lines_to_next_cell": 2
   },
   "outputs": [
    {
     "data": {
      "text/html": [
       "<table>\n",
       "<caption>A tibble: 17 × 2</caption>\n",
       "<thead>\n",
       "\t<tr><th scope=col>key</th><th scope=col>value</th></tr>\n",
       "\t<tr><th scope=col>&lt;chr&gt;</th><th scope=col>&lt;dbl&gt;</th></tr>\n",
       "</thead>\n",
       "<tbody>\n",
       "\t<tr><td>attribute_change_supplied_facility    </td><td>0.07426285</td></tr>\n",
       "\t<tr><td>water_facility                        </td><td>0.07581746</td></tr>\n",
       "\t<tr><td>gas_facility                          </td><td>0.41389377</td></tr>\n",
       "\t<tr><td>sewage_facility                       </td><td>0.27545070</td></tr>\n",
       "\t<tr><td>attribute_change_floor_area_ratio     </td><td>0.01536009</td></tr>\n",
       "\t<tr><td>attribute_change_address              </td><td>0.08723990</td></tr>\n",
       "\t<tr><td>attribute_change_acreage              </td><td>0.05530313</td></tr>\n",
       "\t<tr><td>attribute_change_current_use          </td><td>0.09303404</td></tr>\n",
       "\t<tr><td>attribute_change_building_structure   </td><td>0.09050621</td></tr>\n",
       "\t<tr><td>attribute_change_distance_from_station</td><td>0.07267424</td></tr>\n",
       "\t<tr><td>attribute_change_use_district         </td><td>0.01086187</td></tr>\n",
       "\t<tr><td>attribute_change_fire_area            </td><td>0.08314561</td></tr>\n",
       "\t<tr><td>attribute_change_urban_planning_area  </td><td>0.01086187</td></tr>\n",
       "\t<tr><td>attribute_change_forest_law           </td><td>0.00000000</td></tr>\n",
       "\t<tr><td>attribute_change_parks_law            </td><td>0.00000000</td></tr>\n",
       "\t<tr><td>attribute_change_building_coverage    </td><td>0.01536009</td></tr>\n",
       "\t<tr><td>common_surveyed_position              </td><td>0.25766673</td></tr>\n",
       "</tbody>\n",
       "</table>\n"
      ],
      "text/latex": [
       "A tibble: 17 × 2\n",
       "\\begin{tabular}{r|ll}\n",
       " key & value\\\\\n",
       " <chr> & <dbl>\\\\\n",
       "\\hline\n",
       "\t attribute\\_change\\_supplied\\_facility     & 0.07426285\\\\\n",
       "\t water\\_facility                         & 0.07581746\\\\\n",
       "\t gas\\_facility                           & 0.41389377\\\\\n",
       "\t sewage\\_facility                        & 0.27545070\\\\\n",
       "\t attribute\\_change\\_floor\\_area\\_ratio      & 0.01536009\\\\\n",
       "\t attribute\\_change\\_address               & 0.08723990\\\\\n",
       "\t attribute\\_change\\_acreage               & 0.05530313\\\\\n",
       "\t attribute\\_change\\_current\\_use           & 0.09303404\\\\\n",
       "\t attribute\\_change\\_building\\_structure    & 0.09050621\\\\\n",
       "\t attribute\\_change\\_distance\\_from\\_station & 0.07267424\\\\\n",
       "\t attribute\\_change\\_use\\_district          & 0.01086187\\\\\n",
       "\t attribute\\_change\\_fire\\_area             & 0.08314561\\\\\n",
       "\t attribute\\_change\\_urban\\_planning\\_area   & 0.01086187\\\\\n",
       "\t attribute\\_change\\_forest\\_law            & 0.00000000\\\\\n",
       "\t attribute\\_change\\_parks\\_law             & 0.00000000\\\\\n",
       "\t attribute\\_change\\_building\\_coverage     & 0.01536009\\\\\n",
       "\t common\\_surveyed\\_position               & 0.25766673\\\\\n",
       "\\end{tabular}\n"
      ],
      "text/markdown": [
       "\n",
       "A tibble: 17 × 2\n",
       "\n",
       "| key &lt;chr&gt; | value &lt;dbl&gt; |\n",
       "|---|---|\n",
       "| attribute_change_supplied_facility     | 0.07426285 |\n",
       "| water_facility                         | 0.07581746 |\n",
       "| gas_facility                           | 0.41389377 |\n",
       "| sewage_facility                        | 0.27545070 |\n",
       "| attribute_change_floor_area_ratio      | 0.01536009 |\n",
       "| attribute_change_address               | 0.08723990 |\n",
       "| attribute_change_acreage               | 0.05530313 |\n",
       "| attribute_change_current_use           | 0.09303404 |\n",
       "| attribute_change_building_structure    | 0.09050621 |\n",
       "| attribute_change_distance_from_station | 0.07267424 |\n",
       "| attribute_change_use_district          | 0.01086187 |\n",
       "| attribute_change_fire_area             | 0.08314561 |\n",
       "| attribute_change_urban_planning_area   | 0.01086187 |\n",
       "| attribute_change_forest_law            | 0.00000000 |\n",
       "| attribute_change_parks_law             | 0.00000000 |\n",
       "| attribute_change_building_coverage     | 0.01536009 |\n",
       "| common_surveyed_position               | 0.25766673 |\n",
       "\n"
      ],
      "text/plain": [
       "   key                                    value     \n",
       "1  attribute_change_supplied_facility     0.07426285\n",
       "2  water_facility                         0.07581746\n",
       "3  gas_facility                           0.41389377\n",
       "4  sewage_facility                        0.27545070\n",
       "5  attribute_change_floor_area_ratio      0.01536009\n",
       "6  attribute_change_address               0.08723990\n",
       "7  attribute_change_acreage               0.05530313\n",
       "8  attribute_change_current_use           0.09303404\n",
       "9  attribute_change_building_structure    0.09050621\n",
       "10 attribute_change_distance_from_station 0.07267424\n",
       "11 attribute_change_use_district          0.01086187\n",
       "12 attribute_change_fire_area             0.08314561\n",
       "13 attribute_change_urban_planning_area   0.01086187\n",
       "14 attribute_change_forest_law            0.00000000\n",
       "15 attribute_change_parks_law             0.00000000\n",
       "16 attribute_change_building_coverage     0.01536009\n",
       "17 common_surveyed_position               0.25766673"
      ]
     },
     "metadata": {},
     "output_type": "display_data"
    }
   ],
   "source": [
    "# 論理値型で標準偏差0の列を特定 constant cols\n",
    "df_lp_kanto %>% \n",
    "  select(-starts_with(\".\")) %>% \n",
    "  select_if(is.logical) %>% \n",
    "  mutate_all(as.numeric) %>% \n",
    "  summarise_all(sd) %>% \n",
    "  tidyr::gather()"
   ]
  },
  {
   "cell_type": "markdown",
   "metadata": {},
   "source": [
    "ここでは `skimr::` で行う例を示します。"
   ]
  },
  {
   "cell_type": "code",
   "execution_count": 9,
   "metadata": {},
   "outputs": [
    {
     "data": {
      "text/html": [
       "<dl>\n",
       "\t<dt>$character</dt>\n",
       "\t\t<dd><table>\n",
       "<caption>A tbl: 13 × 8</caption>\n",
       "<thead>\n",
       "\t<tr><th scope=col>variable</th><th scope=col>missing</th><th scope=col>complete</th><th scope=col>n</th><th scope=col>min</th><th scope=col>max</th><th scope=col>empty</th><th scope=col>n_unique</th></tr>\n",
       "\t<tr><th scope=col>&lt;chr&gt;</th><th scope=col>&lt;chr&gt;</th><th scope=col>&lt;chr&gt;</th><th scope=col>&lt;chr&gt;</th><th scope=col>&lt;chr&gt;</th><th scope=col>&lt;chr&gt;</th><th scope=col>&lt;chr&gt;</th><th scope=col>&lt;chr&gt;</th></tr>\n",
       "</thead>\n",
       "<tbody>\n",
       "\t<tr><td>administrative_area_code              </td><td>0   </td><td>8476</td><td>8476</td><td>5 </td><td>5 </td><td>0</td><td>329 </td></tr>\n",
       "\t<tr><td>building_structure                    </td><td>220 </td><td>8256</td><td>8476</td><td>2 </td><td>8 </td><td>0</td><td>130 </td></tr>\n",
       "\t<tr><td>configuration                         </td><td>7454</td><td>1022</td><td>8476</td><td>2 </td><td>3 </td><td>0</td><td>2   </td></tr>\n",
       "\t<tr><td>current_use                           </td><td>0   </td><td>8476</td><td>8476</td><td>2 </td><td>14</td><td>0</td><td>70  </td></tr>\n",
       "\t<tr><td>fire_area                             </td><td>4859</td><td>3617</td><td>8476</td><td>2 </td><td>2 </td><td>0</td><td>2   </td></tr>\n",
       "\t<tr><td>forest_law                            </td><td>8450</td><td>26  </td><td>8476</td><td>3 </td><td>3 </td><td>0</td><td>1   </td></tr>\n",
       "\t<tr><td>name_of_nearest_station               </td><td>0   </td><td>8476</td><td>8476</td><td>1 </td><td>14</td><td>0</td><td>1481</td></tr>\n",
       "\t<tr><td>parks_law                             </td><td>8465</td><td>11  </td><td>8476</td><td>7 </td><td>7 </td><td>0</td><td>2   </td></tr>\n",
       "\t<tr><td>proximity_with_transportation_facility</td><td>8308</td><td>168 </td><td>8476</td><td>2 </td><td>6 </td><td>0</td><td>3   </td></tr>\n",
       "\t<tr><td>surrounding_present_usage             </td><td>0   </td><td>8476</td><td>8476</td><td>15</td><td>22</td><td>0</td><td>4397</td></tr>\n",
       "\t<tr><td>urban_planning_area                   </td><td>0   </td><td>8476</td><td>8476</td><td>2 </td><td>3 </td><td>0</td><td>4   </td></tr>\n",
       "\t<tr><td>usage_description                     </td><td>7552</td><td>924 </td><td>8476</td><td>1 </td><td>8 </td><td>0</td><td>40  </td></tr>\n",
       "\t<tr><td>use_district                          </td><td>515 </td><td>7961</td><td>8476</td><td>2 </td><td>3 </td><td>0</td><td>12  </td></tr>\n",
       "</tbody>\n",
       "</table>\n",
       "</dd>\n",
       "\t<dt>$integer</dt>\n",
       "\t\t<dd><table>\n",
       "<caption>A tbl: 5 × 12</caption>\n",
       "<thead>\n",
       "\t<tr><th scope=col>variable</th><th scope=col>missing</th><th scope=col>complete</th><th scope=col>n</th><th scope=col>mean</th><th scope=col>sd</th><th scope=col>p0</th><th scope=col>p25</th><th scope=col>p50</th><th scope=col>p75</th><th scope=col>p100</th><th scope=col>hist</th></tr>\n",
       "\t<tr><th scope=col>&lt;chr&gt;</th><th scope=col>&lt;chr&gt;</th><th scope=col>&lt;chr&gt;</th><th scope=col>&lt;chr&gt;</th><th scope=col>&lt;chr&gt;</th><th scope=col>&lt;chr&gt;</th><th scope=col>&lt;chr&gt;</th><th scope=col>&lt;chr&gt;</th><th scope=col>&lt;chr&gt;</th><th scope=col>&lt;chr&gt;</th><th scope=col>&lt;chr&gt;</th><th scope=col>&lt;chr&gt;</th></tr>\n",
       "</thead>\n",
       "<tbody>\n",
       "\t<tr><td>acreage                  </td><td>0</td><td>8476</td><td>8476</td><td>   750.95 </td><td>   7246.83</td><td>46 </td><td>140  </td><td>181   </td><td>272   </td><td>413215  </td><td>▇▁▁▁▁▁▁▁</td></tr>\n",
       "\t<tr><td>distance_from_station    </td><td>0</td><td>8476</td><td>8476</td><td>  1565.6  </td><td>   1964.8 </td><td>0  </td><td>500  </td><td>1000  </td><td>1800  </td><td>24000   </td><td>▇▁▁▁▁▁▁▁</td></tr>\n",
       "\t<tr><td>number_of_basement_floors</td><td>0</td><td>8476</td><td>8476</td><td>     0.076</td><td>      0.33</td><td>0  </td><td>0    </td><td>0     </td><td>0     </td><td>6       </td><td>▇▁▁▁▁▁▁▁</td></tr>\n",
       "\t<tr><td>number_of_floors         </td><td>0</td><td>8476</td><td>8476</td><td>     2.72 </td><td>      2.22</td><td>0  </td><td>2    </td><td>2     </td><td>2     </td><td>52      </td><td>▇▁▁▁▁▁▁▁</td></tr>\n",
       "\t<tr><td>posted_land_price        </td><td>0</td><td>8476</td><td>8476</td><td>415431.75 </td><td>1766361.43</td><td>613</td><td>59900</td><td>155000</td><td>308000</td><td>55500000</td><td>▇▁▁▁▁▁▁▁</td></tr>\n",
       "</tbody>\n",
       "</table>\n",
       "</dd>\n",
       "\t<dt>$logical</dt>\n",
       "\t\t<dd><table>\n",
       "<caption>A tbl: 17 × 6</caption>\n",
       "<thead>\n",
       "\t<tr><th scope=col>variable</th><th scope=col>missing</th><th scope=col>complete</th><th scope=col>n</th><th scope=col>mean</th><th scope=col>count</th></tr>\n",
       "\t<tr><th scope=col>&lt;chr&gt;</th><th scope=col>&lt;chr&gt;</th><th scope=col>&lt;chr&gt;</th><th scope=col>&lt;chr&gt;</th><th scope=col>&lt;chr&gt;</th><th scope=col>&lt;chr&gt;</th></tr>\n",
       "</thead>\n",
       "<tbody>\n",
       "\t<tr><td>attribute_change_acreage              </td><td>0</td><td>8476</td><td>8476</td><td>0.0031 </td><td>FAL: 8450, TRU: 26, NA: 0  </td></tr>\n",
       "\t<tr><td>attribute_change_address              </td><td>0</td><td>8476</td><td>8476</td><td>0.0077 </td><td>FAL: 8411, TRU: 65, NA: 0  </td></tr>\n",
       "\t<tr><td>attribute_change_building_coverage    </td><td>0</td><td>8476</td><td>8476</td><td>0.00024</td><td>FAL: 8474, TRU: 2, NA: 0   </td></tr>\n",
       "\t<tr><td>attribute_change_building_structure   </td><td>0</td><td>8476</td><td>8476</td><td>0.0083 </td><td>FAL: 8406, TRU: 70, NA: 0  </td></tr>\n",
       "\t<tr><td>attribute_change_current_use          </td><td>0</td><td>8476</td><td>8476</td><td>0.0087 </td><td>FAL: 8402, TRU: 74, NA: 0  </td></tr>\n",
       "\t<tr><td>attribute_change_distance_from_station</td><td>0</td><td>8476</td><td>8476</td><td>0.0053 </td><td>FAL: 8431, TRU: 45, NA: 0  </td></tr>\n",
       "\t<tr><td>attribute_change_fire_area            </td><td>0</td><td>8476</td><td>8476</td><td>0.007  </td><td>FAL: 8417, TRU: 59, NA: 0  </td></tr>\n",
       "\t<tr><td>attribute_change_floor_area_ratio     </td><td>0</td><td>8476</td><td>8476</td><td>0.00024</td><td>FAL: 8474, TRU: 2, NA: 0   </td></tr>\n",
       "\t<tr><td>attribute_change_forest_law           </td><td>0</td><td>8476</td><td>8476</td><td>0      </td><td>FAL: 8476, NA: 0           </td></tr>\n",
       "\t<tr><td>attribute_change_parks_law            </td><td>0</td><td>8476</td><td>8476</td><td>0      </td><td>FAL: 8476, NA: 0           </td></tr>\n",
       "\t<tr><td>attribute_change_supplied_facility    </td><td>0</td><td>8476</td><td>8476</td><td>0.0055 </td><td>FAL: 8429, TRU: 47, NA: 0  </td></tr>\n",
       "\t<tr><td>attribute_change_urban_planning_area  </td><td>0</td><td>8476</td><td>8476</td><td>0.00012</td><td>FAL: 8475, TRU: 1, NA: 0   </td></tr>\n",
       "\t<tr><td>attribute_change_use_district         </td><td>0</td><td>8476</td><td>8476</td><td>0.00012</td><td>FAL: 8475, TRU: 1, NA: 0   </td></tr>\n",
       "\t<tr><td>common_surveyed_position              </td><td>0</td><td>8476</td><td>8476</td><td>0.071  </td><td>FAL: 7870, TRU: 606, NA: 0 </td></tr>\n",
       "\t<tr><td>gas_facility                          </td><td>0</td><td>8476</td><td>8476</td><td>0.78   </td><td>TRU: 6616, FAL: 1860, NA: 0</td></tr>\n",
       "\t<tr><td>sewage_facility                       </td><td>0</td><td>8476</td><td>8476</td><td>0.92   </td><td>TRU: 7775, FAL: 701, NA: 0 </td></tr>\n",
       "\t<tr><td>water_facility                        </td><td>0</td><td>8476</td><td>8476</td><td>0.99   </td><td>TRU: 8427, FAL: 49, NA: 0  </td></tr>\n",
       "</tbody>\n",
       "</table>\n",
       "</dd>\n",
       "\t<dt>$numeric</dt>\n",
       "\t\t<dd><table>\n",
       "<caption>A tbl: 6 × 12</caption>\n",
       "<thead>\n",
       "\t<tr><th scope=col>variable</th><th scope=col>missing</th><th scope=col>complete</th><th scope=col>n</th><th scope=col>mean</th><th scope=col>sd</th><th scope=col>p0</th><th scope=col>p25</th><th scope=col>p50</th><th scope=col>p75</th><th scope=col>p100</th><th scope=col>hist</th></tr>\n",
       "\t<tr><th scope=col>&lt;chr&gt;</th><th scope=col>&lt;chr&gt;</th><th scope=col>&lt;chr&gt;</th><th scope=col>&lt;chr&gt;</th><th scope=col>&lt;chr&gt;</th><th scope=col>&lt;chr&gt;</th><th scope=col>&lt;chr&gt;</th><th scope=col>&lt;chr&gt;</th><th scope=col>&lt;chr&gt;</th><th scope=col>&lt;chr&gt;</th><th scope=col>&lt;chr&gt;</th><th scope=col>&lt;chr&gt;</th></tr>\n",
       "</thead>\n",
       "<tbody>\n",
       "\t<tr><td>attribute_change_selected_land_status</td><td>0</td><td>8476</td><td>8476</td><td>     1.03</td><td>     0.28</td><td>1   </td><td>1     </td><td>     1  </td><td>     1  </td><td>     4  </td><td>▇▁▁▁▁▁▁▁</td></tr>\n",
       "\t<tr><td>building_coverage                    </td><td>0</td><td>8476</td><td>8476</td><td>    60.17</td><td>    12.42</td><td>0   </td><td>50    </td><td>    60  </td><td>    60  </td><td>    80  </td><td>▁▁▁▂▂▇▁▃</td></tr>\n",
       "\t<tr><td>depth_ratio                          </td><td>0</td><td>8476</td><td>8476</td><td>     1.46</td><td>     0.55</td><td>0   </td><td>1     </td><td>     1.2</td><td>     1.5</td><td>     6.5</td><td>▁▇▂▁▁▁▁▁</td></tr>\n",
       "\t<tr><td>floor_area_ratio                     </td><td>0</td><td>8476</td><td>8476</td><td>   216.6 </td><td>   142.24</td><td>0   </td><td>100   </td><td>   200  </td><td>   200  </td><td>  1300  </td><td>▅▇▁▁▁▁▁▁</td></tr>\n",
       "\t<tr><td>frontage_ratio                       </td><td>0</td><td>8476</td><td>8476</td><td>     1.07</td><td>     0.22</td><td>0   </td><td>1     </td><td>     1  </td><td>     1  </td><td>     5.5</td><td>▁▇▁▁▁▁▁▁</td></tr>\n",
       "\t<tr><td>night_population                     </td><td>0</td><td>8476</td><td>8476</td><td>259450.38</td><td>197975.79</td><td>3214</td><td>118919</td><td>200012  </td><td>341076  </td><td>903346  </td><td>▆▇▃▂▁▁▁▁</td></tr>\n",
       "</tbody>\n",
       "</table>\n",
       "</dd>\n",
       "</dl>\n"
      ],
      "text/latex": [
       "\\begin{description}\n",
       "\\item[\\$character] A tbl: 13 × 8\n",
       "\\begin{tabular}{r|llllllll}\n",
       " variable & missing & complete & n & min & max & empty & n\\_unique\\\\\n",
       " <chr> & <chr> & <chr> & <chr> & <chr> & <chr> & <chr> & <chr>\\\\\n",
       "\\hline\n",
       "\t administrative\\_area\\_code               & 0    & 8476 & 8476 & 5  & 5  & 0 & 329 \\\\\n",
       "\t building\\_structure                     & 220  & 8256 & 8476 & 2  & 8  & 0 & 130 \\\\\n",
       "\t configuration                          & 7454 & 1022 & 8476 & 2  & 3  & 0 & 2   \\\\\n",
       "\t current\\_use                            & 0    & 8476 & 8476 & 2  & 14 & 0 & 70  \\\\\n",
       "\t fire\\_area                              & 4859 & 3617 & 8476 & 2  & 2  & 0 & 2   \\\\\n",
       "\t forest\\_law                             & 8450 & 26   & 8476 & 3  & 3  & 0 & 1   \\\\\n",
       "\t name\\_of\\_nearest\\_station                & 0    & 8476 & 8476 & 1  & 14 & 0 & 1481\\\\\n",
       "\t parks\\_law                              & 8465 & 11   & 8476 & 7  & 7  & 0 & 2   \\\\\n",
       "\t proximity\\_with\\_transportation\\_facility & 8308 & 168  & 8476 & 2  & 6  & 0 & 3   \\\\\n",
       "\t surrounding\\_present\\_usage              & 0    & 8476 & 8476 & 15 & 22 & 0 & 4397\\\\\n",
       "\t urban\\_planning\\_area                    & 0    & 8476 & 8476 & 2  & 3  & 0 & 4   \\\\\n",
       "\t usage\\_description                      & 7552 & 924  & 8476 & 1  & 8  & 0 & 40  \\\\\n",
       "\t use\\_district                           & 515  & 7961 & 8476 & 2  & 3  & 0 & 12  \\\\\n",
       "\\end{tabular}\n",
       "\n",
       "\\item[\\$integer] A tbl: 5 × 12\n",
       "\\begin{tabular}{r|llllllllllll}\n",
       " variable & missing & complete & n & mean & sd & p0 & p25 & p50 & p75 & p100 & hist\\\\\n",
       " <chr> & <chr> & <chr> & <chr> & <chr> & <chr> & <chr> & <chr> & <chr> & <chr> & <chr> & <chr>\\\\\n",
       "\\hline\n",
       "\t acreage                   & 0 & 8476 & 8476 &    750.95  &    7246.83 & 46  & 140   & 181    & 272    & 413215   & ▇▁▁▁▁▁▁▁\\\\\n",
       "\t distance\\_from\\_station     & 0 & 8476 & 8476 &   1565.6   &    1964.8  & 0   & 500   & 1000   & 1800   & 24000    & ▇▁▁▁▁▁▁▁\\\\\n",
       "\t number\\_of\\_basement\\_floors & 0 & 8476 & 8476 &      0.076 &       0.33 & 0   & 0     & 0      & 0      & 6        & ▇▁▁▁▁▁▁▁\\\\\n",
       "\t number\\_of\\_floors          & 0 & 8476 & 8476 &      2.72  &       2.22 & 0   & 2     & 2      & 2      & 52       & ▇▁▁▁▁▁▁▁\\\\\n",
       "\t posted\\_land\\_price         & 0 & 8476 & 8476 & 415431.75  & 1766361.43 & 613 & 59900 & 155000 & 308000 & 55500000 & ▇▁▁▁▁▁▁▁\\\\\n",
       "\\end{tabular}\n",
       "\n",
       "\\item[\\$logical] A tbl: 17 × 6\n",
       "\\begin{tabular}{r|llllll}\n",
       " variable & missing & complete & n & mean & count\\\\\n",
       " <chr> & <chr> & <chr> & <chr> & <chr> & <chr>\\\\\n",
       "\\hline\n",
       "\t attribute\\_change\\_acreage               & 0 & 8476 & 8476 & 0.0031  & FAL: 8450, TRU: 26, NA: 0  \\\\\n",
       "\t attribute\\_change\\_address               & 0 & 8476 & 8476 & 0.0077  & FAL: 8411, TRU: 65, NA: 0  \\\\\n",
       "\t attribute\\_change\\_building\\_coverage     & 0 & 8476 & 8476 & 0.00024 & FAL: 8474, TRU: 2, NA: 0   \\\\\n",
       "\t attribute\\_change\\_building\\_structure    & 0 & 8476 & 8476 & 0.0083  & FAL: 8406, TRU: 70, NA: 0  \\\\\n",
       "\t attribute\\_change\\_current\\_use           & 0 & 8476 & 8476 & 0.0087  & FAL: 8402, TRU: 74, NA: 0  \\\\\n",
       "\t attribute\\_change\\_distance\\_from\\_station & 0 & 8476 & 8476 & 0.0053  & FAL: 8431, TRU: 45, NA: 0  \\\\\n",
       "\t attribute\\_change\\_fire\\_area             & 0 & 8476 & 8476 & 0.007   & FAL: 8417, TRU: 59, NA: 0  \\\\\n",
       "\t attribute\\_change\\_floor\\_area\\_ratio      & 0 & 8476 & 8476 & 0.00024 & FAL: 8474, TRU: 2, NA: 0   \\\\\n",
       "\t attribute\\_change\\_forest\\_law            & 0 & 8476 & 8476 & 0       & FAL: 8476, NA: 0           \\\\\n",
       "\t attribute\\_change\\_parks\\_law             & 0 & 8476 & 8476 & 0       & FAL: 8476, NA: 0           \\\\\n",
       "\t attribute\\_change\\_supplied\\_facility     & 0 & 8476 & 8476 & 0.0055  & FAL: 8429, TRU: 47, NA: 0  \\\\\n",
       "\t attribute\\_change\\_urban\\_planning\\_area   & 0 & 8476 & 8476 & 0.00012 & FAL: 8475, TRU: 1, NA: 0   \\\\\n",
       "\t attribute\\_change\\_use\\_district          & 0 & 8476 & 8476 & 0.00012 & FAL: 8475, TRU: 1, NA: 0   \\\\\n",
       "\t common\\_surveyed\\_position               & 0 & 8476 & 8476 & 0.071   & FAL: 7870, TRU: 606, NA: 0 \\\\\n",
       "\t gas\\_facility                           & 0 & 8476 & 8476 & 0.78    & TRU: 6616, FAL: 1860, NA: 0\\\\\n",
       "\t sewage\\_facility                        & 0 & 8476 & 8476 & 0.92    & TRU: 7775, FAL: 701, NA: 0 \\\\\n",
       "\t water\\_facility                         & 0 & 8476 & 8476 & 0.99    & TRU: 8427, FAL: 49, NA: 0  \\\\\n",
       "\\end{tabular}\n",
       "\n",
       "\\item[\\$numeric] A tbl: 6 × 12\n",
       "\\begin{tabular}{r|llllllllllll}\n",
       " variable & missing & complete & n & mean & sd & p0 & p25 & p50 & p75 & p100 & hist\\\\\n",
       " <chr> & <chr> & <chr> & <chr> & <chr> & <chr> & <chr> & <chr> & <chr> & <chr> & <chr> & <chr>\\\\\n",
       "\\hline\n",
       "\t attribute\\_change\\_selected\\_land\\_status & 0 & 8476 & 8476 &      1.03 &      0.28 & 1    & 1      &      1   &      1   &      4   & ▇▁▁▁▁▁▁▁\\\\\n",
       "\t building\\_coverage                     & 0 & 8476 & 8476 &     60.17 &     12.42 & 0    & 50     &     60   &     60   &     80   & ▁▁▁▂▂▇▁▃\\\\\n",
       "\t depth\\_ratio                           & 0 & 8476 & 8476 &      1.46 &      0.55 & 0    & 1      &      1.2 &      1.5 &      6.5 & ▁▇▂▁▁▁▁▁\\\\\n",
       "\t floor\\_area\\_ratio                      & 0 & 8476 & 8476 &    216.6  &    142.24 & 0    & 100    &    200   &    200   &   1300   & ▅▇▁▁▁▁▁▁\\\\\n",
       "\t frontage\\_ratio                        & 0 & 8476 & 8476 &      1.07 &      0.22 & 0    & 1      &      1   &      1   &      5.5 & ▁▇▁▁▁▁▁▁\\\\\n",
       "\t night\\_population                      & 0 & 8476 & 8476 & 259450.38 & 197975.79 & 3214 & 118919 & 200012   & 341076   & 903346   & ▆▇▃▂▁▁▁▁\\\\\n",
       "\\end{tabular}\n",
       "\n",
       "\\end{description}\n"
      ],
      "text/markdown": [
       "$character\n",
       ":   \n",
       "A tbl: 13 × 8\n",
       "\n",
       "| variable &lt;chr&gt; | missing &lt;chr&gt; | complete &lt;chr&gt; | n &lt;chr&gt; | min &lt;chr&gt; | max &lt;chr&gt; | empty &lt;chr&gt; | n_unique &lt;chr&gt; |\n",
       "|---|---|---|---|---|---|---|---|\n",
       "| administrative_area_code               | 0    | 8476 | 8476 | 5  | 5  | 0 | 329  |\n",
       "| building_structure                     | 220  | 8256 | 8476 | 2  | 8  | 0 | 130  |\n",
       "| configuration                          | 7454 | 1022 | 8476 | 2  | 3  | 0 | 2    |\n",
       "| current_use                            | 0    | 8476 | 8476 | 2  | 14 | 0 | 70   |\n",
       "| fire_area                              | 4859 | 3617 | 8476 | 2  | 2  | 0 | 2    |\n",
       "| forest_law                             | 8450 | 26   | 8476 | 3  | 3  | 0 | 1    |\n",
       "| name_of_nearest_station                | 0    | 8476 | 8476 | 1  | 14 | 0 | 1481 |\n",
       "| parks_law                              | 8465 | 11   | 8476 | 7  | 7  | 0 | 2    |\n",
       "| proximity_with_transportation_facility | 8308 | 168  | 8476 | 2  | 6  | 0 | 3    |\n",
       "| surrounding_present_usage              | 0    | 8476 | 8476 | 15 | 22 | 0 | 4397 |\n",
       "| urban_planning_area                    | 0    | 8476 | 8476 | 2  | 3  | 0 | 4    |\n",
       "| usage_description                      | 7552 | 924  | 8476 | 1  | 8  | 0 | 40   |\n",
       "| use_district                           | 515  | 7961 | 8476 | 2  | 3  | 0 | 12   |\n",
       "\n",
       "\n",
       "$integer\n",
       ":   \n",
       "A tbl: 5 × 12\n",
       "\n",
       "| variable &lt;chr&gt; | missing &lt;chr&gt; | complete &lt;chr&gt; | n &lt;chr&gt; | mean &lt;chr&gt; | sd &lt;chr&gt; | p0 &lt;chr&gt; | p25 &lt;chr&gt; | p50 &lt;chr&gt; | p75 &lt;chr&gt; | p100 &lt;chr&gt; | hist &lt;chr&gt; |\n",
       "|---|---|---|---|---|---|---|---|---|---|---|---|\n",
       "| acreage                   | 0 | 8476 | 8476 |    750.95  |    7246.83 | 46  | 140   | 181    | 272    | 413215   | ▇▁▁▁▁▁▁▁ |\n",
       "| distance_from_station     | 0 | 8476 | 8476 |   1565.6   |    1964.8  | 0   | 500   | 1000   | 1800   | 24000    | ▇▁▁▁▁▁▁▁ |\n",
       "| number_of_basement_floors | 0 | 8476 | 8476 |      0.076 |       0.33 | 0   | 0     | 0      | 0      | 6        | ▇▁▁▁▁▁▁▁ |\n",
       "| number_of_floors          | 0 | 8476 | 8476 |      2.72  |       2.22 | 0   | 2     | 2      | 2      | 52       | ▇▁▁▁▁▁▁▁ |\n",
       "| posted_land_price         | 0 | 8476 | 8476 | 415431.75  | 1766361.43 | 613 | 59900 | 155000 | 308000 | 55500000 | ▇▁▁▁▁▁▁▁ |\n",
       "\n",
       "\n",
       "$logical\n",
       ":   \n",
       "A tbl: 17 × 6\n",
       "\n",
       "| variable &lt;chr&gt; | missing &lt;chr&gt; | complete &lt;chr&gt; | n &lt;chr&gt; | mean &lt;chr&gt; | count &lt;chr&gt; |\n",
       "|---|---|---|---|---|---|\n",
       "| attribute_change_acreage               | 0 | 8476 | 8476 | 0.0031  | FAL: 8450, TRU: 26, NA: 0   |\n",
       "| attribute_change_address               | 0 | 8476 | 8476 | 0.0077  | FAL: 8411, TRU: 65, NA: 0   |\n",
       "| attribute_change_building_coverage     | 0 | 8476 | 8476 | 0.00024 | FAL: 8474, TRU: 2, NA: 0    |\n",
       "| attribute_change_building_structure    | 0 | 8476 | 8476 | 0.0083  | FAL: 8406, TRU: 70, NA: 0   |\n",
       "| attribute_change_current_use           | 0 | 8476 | 8476 | 0.0087  | FAL: 8402, TRU: 74, NA: 0   |\n",
       "| attribute_change_distance_from_station | 0 | 8476 | 8476 | 0.0053  | FAL: 8431, TRU: 45, NA: 0   |\n",
       "| attribute_change_fire_area             | 0 | 8476 | 8476 | 0.007   | FAL: 8417, TRU: 59, NA: 0   |\n",
       "| attribute_change_floor_area_ratio      | 0 | 8476 | 8476 | 0.00024 | FAL: 8474, TRU: 2, NA: 0    |\n",
       "| attribute_change_forest_law            | 0 | 8476 | 8476 | 0       | FAL: 8476, NA: 0            |\n",
       "| attribute_change_parks_law             | 0 | 8476 | 8476 | 0       | FAL: 8476, NA: 0            |\n",
       "| attribute_change_supplied_facility     | 0 | 8476 | 8476 | 0.0055  | FAL: 8429, TRU: 47, NA: 0   |\n",
       "| attribute_change_urban_planning_area   | 0 | 8476 | 8476 | 0.00012 | FAL: 8475, TRU: 1, NA: 0    |\n",
       "| attribute_change_use_district          | 0 | 8476 | 8476 | 0.00012 | FAL: 8475, TRU: 1, NA: 0    |\n",
       "| common_surveyed_position               | 0 | 8476 | 8476 | 0.071   | FAL: 7870, TRU: 606, NA: 0  |\n",
       "| gas_facility                           | 0 | 8476 | 8476 | 0.78    | TRU: 6616, FAL: 1860, NA: 0 |\n",
       "| sewage_facility                        | 0 | 8476 | 8476 | 0.92    | TRU: 7775, FAL: 701, NA: 0  |\n",
       "| water_facility                         | 0 | 8476 | 8476 | 0.99    | TRU: 8427, FAL: 49, NA: 0   |\n",
       "\n",
       "\n",
       "$numeric\n",
       ":   \n",
       "A tbl: 6 × 12\n",
       "\n",
       "| variable &lt;chr&gt; | missing &lt;chr&gt; | complete &lt;chr&gt; | n &lt;chr&gt; | mean &lt;chr&gt; | sd &lt;chr&gt; | p0 &lt;chr&gt; | p25 &lt;chr&gt; | p50 &lt;chr&gt; | p75 &lt;chr&gt; | p100 &lt;chr&gt; | hist &lt;chr&gt; |\n",
       "|---|---|---|---|---|---|---|---|---|---|---|---|\n",
       "| attribute_change_selected_land_status | 0 | 8476 | 8476 |      1.03 |      0.28 | 1    | 1      |      1   |      1   |      4   | ▇▁▁▁▁▁▁▁ |\n",
       "| building_coverage                     | 0 | 8476 | 8476 |     60.17 |     12.42 | 0    | 50     |     60   |     60   |     80   | ▁▁▁▂▂▇▁▃ |\n",
       "| depth_ratio                           | 0 | 8476 | 8476 |      1.46 |      0.55 | 0    | 1      |      1.2 |      1.5 |      6.5 | ▁▇▂▁▁▁▁▁ |\n",
       "| floor_area_ratio                      | 0 | 8476 | 8476 |    216.6  |    142.24 | 0    | 100    |    200   |    200   |   1300   | ▅▇▁▁▁▁▁▁ |\n",
       "| frontage_ratio                        | 0 | 8476 | 8476 |      1.07 |      0.22 | 0    | 1      |      1   |      1   |      5.5 | ▁▇▁▁▁▁▁▁ |\n",
       "| night_population                      | 0 | 8476 | 8476 | 259450.38 | 197975.79 | 3214 | 118919 | 200012   | 341076   | 903346   | ▆▇▃▂▁▁▁▁ |\n",
       "\n",
       "\n",
       "\n",
       "\n"
      ],
      "text/plain": [
       "$character\n",
       "\u001b[38;5;246m# A tibble: 13 x 8\u001b[39m\n",
       "   variable                    missing complete n     min   max   empty n_unique\n",
       " \u001b[38;5;250m*\u001b[39m \u001b[3m\u001b[38;5;246m<chr>\u001b[39m\u001b[23m                       \u001b[3m\u001b[38;5;246m<chr>\u001b[39m\u001b[23m   \u001b[3m\u001b[38;5;246m<chr>\u001b[39m\u001b[23m    \u001b[3m\u001b[38;5;246m<chr>\u001b[39m\u001b[23m \u001b[3m\u001b[38;5;246m<chr>\u001b[39m\u001b[23m \u001b[3m\u001b[38;5;246m<chr>\u001b[39m\u001b[23m \u001b[3m\u001b[38;5;246m<chr>\u001b[39m\u001b[23m \u001b[3m\u001b[38;5;246m<chr>\u001b[39m\u001b[23m   \n",
       "\u001b[38;5;250m 1\u001b[39m administrative_area_code    0       8476     8476  5     5     0     329     \n",
       "\u001b[38;5;250m 2\u001b[39m building_structure          220     8256     8476  2     8     0     130     \n",
       "\u001b[38;5;250m 3\u001b[39m configuration               7454    1022     8476  2     3     0     2       \n",
       "\u001b[38;5;250m 4\u001b[39m current_use                 0       8476     8476  2     14    0     70      \n",
       "\u001b[38;5;250m 5\u001b[39m fire_area                   4859    3617     8476  2     2     0     2       \n",
       "\u001b[38;5;250m 6\u001b[39m forest_law                  8450    26       8476  3     3     0     1       \n",
       "\u001b[38;5;250m 7\u001b[39m name_of_nearest_station     0       8476     8476  1     14    0     1481    \n",
       "\u001b[38;5;250m 8\u001b[39m parks_law                   8465    11       8476  7     7     0     2       \n",
       "\u001b[38;5;250m 9\u001b[39m proximity_with_transportat… 8308    168      8476  2     6     0     3       \n",
       "\u001b[38;5;250m10\u001b[39m surrounding_present_usage   0       8476     8476  15    22    0     4397    \n",
       "\u001b[38;5;250m11\u001b[39m urban_planning_area         0       8476     8476  2     3     0     4       \n",
       "\u001b[38;5;250m12\u001b[39m usage_description           7552    924      8476  1     8     0     40      \n",
       "\u001b[38;5;250m13\u001b[39m use_district                515     7961     8476  2     3     0     12      \n",
       "\n",
       "$integer\n",
       "\u001b[38;5;246m# A tibble: 5 x 12\u001b[39m\n",
       "  variable missing complete n     mean  sd    p0    p25   p50   p75   p100 \n",
       "\u001b[38;5;250m*\u001b[39m \u001b[3m\u001b[38;5;246m<chr>\u001b[39m\u001b[23m    \u001b[3m\u001b[38;5;246m<chr>\u001b[39m\u001b[23m   \u001b[3m\u001b[38;5;246m<chr>\u001b[39m\u001b[23m    \u001b[3m\u001b[38;5;246m<chr>\u001b[39m\u001b[23m \u001b[3m\u001b[38;5;246m<chr>\u001b[39m\u001b[23m \u001b[3m\u001b[38;5;246m<chr>\u001b[39m\u001b[23m \u001b[3m\u001b[38;5;246m<chr>\u001b[39m\u001b[23m \u001b[3m\u001b[38;5;246m<chr>\u001b[39m\u001b[23m \u001b[3m\u001b[38;5;246m<chr>\u001b[39m\u001b[23m \u001b[3m\u001b[38;5;246m<chr>\u001b[39m\u001b[23m \u001b[3m\u001b[38;5;246m<chr>\u001b[39m\u001b[23m\n",
       "\u001b[38;5;250m1\u001b[39m acreage  0       8476     8476  \u001b[38;5;246m\"\u001b[39m   … \u001b[38;5;246m\"\u001b[39m   … 46    140   181   272   4132…\n",
       "\u001b[38;5;250m2\u001b[39m distanc… 0       8476     8476  \u001b[38;5;246m\"\u001b[39m  1… \u001b[38;5;246m\"\u001b[39m   … 0     500   1000  1800  24000\n",
       "\u001b[38;5;250m3\u001b[39m number_… 0       8476     8476  \u001b[38;5;246m\"\u001b[39m   … \u001b[38;5;246m\"\u001b[39m   … 0     0     0     0     6    \n",
       "\u001b[38;5;250m4\u001b[39m number_… 0       8476     8476  \u001b[38;5;246m\"\u001b[39m   … \u001b[38;5;246m\"\u001b[39m   … 0     2     2     2     52   \n",
       "\u001b[38;5;250m5\u001b[39m posted_… 0       8476     8476  \u001b[38;5;246m\"\u001b[39m415… 1766… 613   59900 1550… 3080… 5550…\n",
       "\u001b[38;5;246m# … with 1 more variable: hist \u001b[3m\u001b[38;5;246m<chr>\u001b[38;5;246m\u001b[23m\u001b[39m\n",
       "\n",
       "$logical\n",
       "\u001b[38;5;246m# A tibble: 17 x 6\u001b[39m\n",
       "   variable                    missing complete n     mean    count             \n",
       " \u001b[38;5;250m*\u001b[39m \u001b[3m\u001b[38;5;246m<chr>\u001b[39m\u001b[23m                       \u001b[3m\u001b[38;5;246m<chr>\u001b[39m\u001b[23m   \u001b[3m\u001b[38;5;246m<chr>\u001b[39m\u001b[23m    \u001b[3m\u001b[38;5;246m<chr>\u001b[39m\u001b[23m \u001b[3m\u001b[38;5;246m<chr>\u001b[39m\u001b[23m   \u001b[3m\u001b[38;5;246m<chr>\u001b[39m\u001b[23m             \n",
       "\u001b[38;5;250m 1\u001b[39m attribute_change_acreage    0       8476     8476  \u001b[38;5;246m\"\u001b[39m0.003… FAL: 8450, TRU: 2…\n",
       "\u001b[38;5;250m 2\u001b[39m attribute_change_address    0       8476     8476  \u001b[38;5;246m\"\u001b[39m0.007… FAL: 8411, TRU: 6…\n",
       "\u001b[38;5;250m 3\u001b[39m attribute_change_building_… 0       8476     8476  0.00024 FAL: 8474, TRU: 2…\n",
       "\u001b[38;5;250m 4\u001b[39m attribute_change_building_… 0       8476     8476  \u001b[38;5;246m\"\u001b[39m0.008… FAL: 8406, TRU: 7…\n",
       "\u001b[38;5;250m 5\u001b[39m attribute_change_current_u… 0       8476     8476  \u001b[38;5;246m\"\u001b[39m0.008… FAL: 8402, TRU: 7…\n",
       "\u001b[38;5;250m 6\u001b[39m attribute_change_distance_… 0       8476     8476  \u001b[38;5;246m\"\u001b[39m0.005… FAL: 8431, TRU: 4…\n",
       "\u001b[38;5;250m 7\u001b[39m attribute_change_fire_area  0       8476     8476  \u001b[38;5;246m\"\u001b[39m0.007… FAL: 8417, TRU: 5…\n",
       "\u001b[38;5;250m 8\u001b[39m attribute_change_floor_are… 0       8476     8476  0.00024 FAL: 8474, TRU: 2…\n",
       "\u001b[38;5;250m 9\u001b[39m attribute_change_forest_law 0       8476     8476  \u001b[38;5;246m\"\u001b[39m0    … FAL: 8476, NA: 0  \n",
       "\u001b[38;5;250m10\u001b[39m attribute_change_parks_law  0       8476     8476  \u001b[38;5;246m\"\u001b[39m0    … FAL: 8476, NA: 0  \n",
       "\u001b[38;5;250m11\u001b[39m attribute_change_supplied_… 0       8476     8476  \u001b[38;5;246m\"\u001b[39m0.005… FAL: 8429, TRU: 4…\n",
       "\u001b[38;5;250m12\u001b[39m attribute_change_urban_pla… 0       8476     8476  0.00012 FAL: 8475, TRU: 1…\n",
       "\u001b[38;5;250m13\u001b[39m attribute_change_use_distr… 0       8476     8476  0.00012 FAL: 8475, TRU: 1…\n",
       "\u001b[38;5;250m14\u001b[39m common_surveyed_position    0       8476     8476  \u001b[38;5;246m\"\u001b[39m0.071… FAL: 7870, TRU: 6…\n",
       "\u001b[38;5;250m15\u001b[39m gas_facility                0       8476     8476  \u001b[38;5;246m\"\u001b[39m0.78 … TRU: 6616, FAL: 1…\n",
       "\u001b[38;5;250m16\u001b[39m sewage_facility             0       8476     8476  \u001b[38;5;246m\"\u001b[39m0.92 … TRU: 7775, FAL: 7…\n",
       "\u001b[38;5;250m17\u001b[39m water_facility              0       8476     8476  \u001b[38;5;246m\"\u001b[39m0.99 … TRU: 8427, FAL: 4…\n",
       "\n",
       "$numeric\n",
       "\u001b[38;5;246m# A tibble: 6 x 12\u001b[39m\n",
       "  variable missing complete n     mean  sd    p0    p25   p50   p75   p100 \n",
       "\u001b[38;5;250m*\u001b[39m \u001b[3m\u001b[38;5;246m<chr>\u001b[39m\u001b[23m    \u001b[3m\u001b[38;5;246m<chr>\u001b[39m\u001b[23m   \u001b[3m\u001b[38;5;246m<chr>\u001b[39m\u001b[23m    \u001b[3m\u001b[38;5;246m<chr>\u001b[39m\u001b[23m \u001b[3m\u001b[38;5;246m<chr>\u001b[39m\u001b[23m \u001b[3m\u001b[38;5;246m<chr>\u001b[39m\u001b[23m \u001b[3m\u001b[38;5;246m<chr>\u001b[39m\u001b[23m \u001b[3m\u001b[38;5;246m<chr>\u001b[39m\u001b[23m \u001b[3m\u001b[38;5;246m<chr>\u001b[39m\u001b[23m \u001b[3m\u001b[38;5;246m<chr>\u001b[39m\u001b[23m \u001b[3m\u001b[38;5;246m<chr>\u001b[39m\u001b[23m\n",
       "\u001b[38;5;250m1\u001b[39m attribu… 0       8476     8476  \u001b[38;5;246m\"\u001b[39m   … \u001b[38;5;246m\"\u001b[39m   … 1     1     \u001b[38;5;246m\"\u001b[39m   … \u001b[38;5;246m\"\u001b[39m   … \u001b[38;5;246m\"\u001b[39m   …\n",
       "\u001b[38;5;250m2\u001b[39m buildin… 0       8476     8476  \u001b[38;5;246m\"\u001b[39m   … \u001b[38;5;246m\"\u001b[39m   … 0     50    \u001b[38;5;246m\"\u001b[39m   … \u001b[38;5;246m\"\u001b[39m   … \u001b[38;5;246m\"\u001b[39m   …\n",
       "\u001b[38;5;250m3\u001b[39m depth_r… 0       8476     8476  \u001b[38;5;246m\"\u001b[39m   … \u001b[38;5;246m\"\u001b[39m   … 0     1     \u001b[38;5;246m\"\u001b[39m   … \u001b[38;5;246m\"\u001b[39m   … \u001b[38;5;246m\"\u001b[39m   …\n",
       "\u001b[38;5;250m4\u001b[39m floor_a… 0       8476     8476  \u001b[38;5;246m\"\u001b[39m   … \u001b[38;5;246m\"\u001b[39m   … 0     100   \u001b[38;5;246m\"\u001b[39m   … \u001b[38;5;246m\"\u001b[39m   … \u001b[38;5;246m\"\u001b[39m  1…\n",
       "\u001b[38;5;250m5\u001b[39m frontag… 0       8476     8476  \u001b[38;5;246m\"\u001b[39m   … \u001b[38;5;246m\"\u001b[39m   … 0     1     \u001b[38;5;246m\"\u001b[39m   … \u001b[38;5;246m\"\u001b[39m   … \u001b[38;5;246m\"\u001b[39m   …\n",
       "\u001b[38;5;250m6\u001b[39m night_p… 0       8476     8476  2594… 1979… 3214  1189… \u001b[38;5;246m\"\u001b[39m200… \u001b[38;5;246m\"\u001b[39m341… \u001b[38;5;246m\"\u001b[39m903…\n",
       "\u001b[38;5;246m# … with 1 more variable: hist \u001b[3m\u001b[38;5;246m<chr>\u001b[38;5;246m\u001b[23m\u001b[39m\n"
      ]
     },
     "metadata": {},
     "output_type": "display_data"
    }
   ],
   "source": [
    "# skimr::skim(df_lp) # Rコンソールでの実行は skim() で構いません\n",
    "df_lp_kanto %>% \n",
    "  select(-starts_with(\".\")) %>% \n",
    "  skimr::skim_to_list()"
   ]
  },
  {
   "cell_type": "markdown",
   "metadata": {},
   "source": [
    "論理型データのうち、`attribute_change_forest_law` と `attribute_change_parks_law` は FALSE のみが出現していることがわかります。"
   ]
  },
  {
   "cell_type": "markdown",
   "metadata": {},
   "source": [
    "## 探索的データ分析\n",
    "\n",
    "モデリングでは、目的変数の挙動（予測、分類）を明らかにすることがゴールとして設定されます。変数が多いデータであるほど確認する図の数が多くなり、効率的ではなくなります。そのため、まずはモデリングの目的変数となるデータを詳しく見ることを勧めます。また、この段階で作る図は初期モデルを構築する前段階で示唆を提供するものであると望ましいです。そこで目的変数に影響する説明変数、説明変数間の関係を明らかにすることで、次のモデリングプロセスに活かせる知識を得られることが期待できます。\n",
    "\n",
    "探索的データ分析の結果が最終的な成果物になることは稀です。ここで作られる図は論文や書籍、プレゼンテーションのための図ではありません。つまり複雑な図を作ることは求められていません。ここでは主にggplot2による作図を行いますが、扱いに慣れた最低限の機能を提供しれくれるライブラリを利用すると良いでしょう。\n",
    "\n",
    "以下では引き続き、地価公示データを使います。このデータには位置情報も含まれているため、地図上へのデータのマッピングも試みます。\n",
    "\n",
    "また時系列データの例としてビールへの支出データも利用します。\n",
    "\n",
    "## 数値データ"
   ]
  },
  {
   "cell_type": "code",
   "execution_count": 10,
   "metadata": {
    "eval": true,
    "warning": false
   },
   "outputs": [
    {
     "name": "stderr",
     "output_type": "stream",
     "text": [
      "Warning message:\n",
      "“Deprecated”Warning message:\n",
      "“Deprecated”Warning message:\n",
      "“Deprecated”Warning message:\n",
      "“Deprecated”Warning message:\n",
      "“Deprecated”Warning message:\n",
      "“Deprecated”Warning message:\n",
      "“Deprecated”Warning message:\n",
      "“Deprecated”Warning message:\n",
      "“Deprecated”Warning message:\n",
      "“Deprecated”Warning message:\n",
      "“Deprecated”Warning message:\n",
      "“Deprecated”Warning message:\n",
      "“Deprecated”Warning message:\n",
      "“Deprecated”Warning message:\n",
      "“Deprecated”Warning message:\n",
      "“Deprecated”Warning message:\n",
      "“Deprecated”Warning message:\n",
      "“Deprecated”Warning message:\n",
      "“Deprecated”Warning message:\n",
      "“Deprecated”Warning message:\n",
      "“Deprecated”Warning message:\n",
      "“Deprecated”Warning message:\n",
      "“Deprecated”Warning message:\n",
      "“Deprecated”Warning message:\n",
      "“Deprecated”Warning message:\n",
      "“Deprecated”Warning message:\n",
      "“Deprecated”Warning message:\n",
      "“Deprecated”Warning message:\n",
      "“Deprecated”Warning message:\n",
      "“Deprecated”Warning message:\n",
      "“Deprecated”Warning message:\n",
      "“Deprecated”Warning message:\n",
      "“Deprecated”Warning message:\n",
      "“Deprecated”Warning message:\n",
      "“Deprecated”Warning message:\n",
      "“Deprecated”Warning message:\n",
      "“Deprecated”Warning message:\n",
      "“Deprecated”Warning message:\n",
      "“Deprecated”Warning message:\n",
      "“Deprecated”Warning message:\n",
      "“Deprecated”"
     ]
    }
   ],
   "source": [
    "df_is_num <- \n",
    "  df_lp_kanto %>% \n",
    "  select(-starts_with(\".\")) %>% \n",
    "  select_if(is_numeric)"
   ]
  },
  {
   "cell_type": "markdown",
   "metadata": {},
   "source": [
    "## カテゴリデータ"
   ]
  },
  {
   "cell_type": "code",
   "execution_count": 11,
   "metadata": {
    "eval": true,
    "warning": false
   },
   "outputs": [],
   "source": [
    "df_is_cat <- \n",
    "  df_lp_kanto %>% \n",
    "  select(-starts_with(\".\")) %>% \n",
    "  select_if(is.character) %>% \n",
    "  verify(ncol(.) == 13)"
   ]
  },
  {
   "cell_type": "code",
   "execution_count": 12,
   "metadata": {
    "eval": true
   },
   "outputs": [
    {
     "data": {
      "text/html": [
       "<table>\n",
       "<caption>A tibble: 1481 × 2</caption>\n",
       "<thead>\n",
       "\t<tr><th scope=col>name_of_nearest_station</th><th scope=col>n</th></tr>\n",
       "\t<tr><th scope=col>&lt;chr&gt;</th><th scope=col>&lt;int&gt;</th></tr>\n",
       "</thead>\n",
       "<tbody>\n",
       "\t<tr><td>本厚木    </td><td>59</td></tr>\n",
       "\t<tr><td>水戸      </td><td>56</td></tr>\n",
       "\t<tr><td>宇都宮    </td><td>55</td></tr>\n",
       "\t<tr><td>平塚      </td><td>51</td></tr>\n",
       "\t<tr><td>八王子    </td><td>48</td></tr>\n",
       "\t<tr><td>柏        </td><td>41</td></tr>\n",
       "\t<tr><td>川崎      </td><td>40</td></tr>\n",
       "\t<tr><td>木更津    </td><td>36</td></tr>\n",
       "\t<tr><td>千葉      </td><td>35</td></tr>\n",
       "\t<tr><td>前橋      </td><td>34</td></tr>\n",
       "\t<tr><td>大宮      </td><td>34</td></tr>\n",
       "\t<tr><td>古河      </td><td>33</td></tr>\n",
       "\t<tr><td>逗子      </td><td>32</td></tr>\n",
       "\t<tr><td>橋本      </td><td>31</td></tr>\n",
       "\t<tr><td>戸塚      </td><td>31</td></tr>\n",
       "\t<tr><td>三鷹      </td><td>31</td></tr>\n",
       "\t<tr><td>東武宇都宮</td><td>31</td></tr>\n",
       "\t<tr><td>熊谷      </td><td>30</td></tr>\n",
       "\t<tr><td>君津      </td><td>30</td></tr>\n",
       "\t<tr><td>茅ケ崎    </td><td>29</td></tr>\n",
       "\t<tr><td>小山      </td><td>29</td></tr>\n",
       "\t<tr><td>土浦      </td><td>29</td></tr>\n",
       "\t<tr><td>守谷      </td><td>27</td></tr>\n",
       "\t<tr><td>秦野      </td><td>26</td></tr>\n",
       "\t<tr><td>蕨        </td><td>25</td></tr>\n",
       "\t<tr><td>五井      </td><td>24</td></tr>\n",
       "\t<tr><td>荒川沖    </td><td>24</td></tr>\n",
       "\t<tr><td>川口      </td><td>24</td></tr>\n",
       "\t<tr><td>つくば    </td><td>23</td></tr>\n",
       "\t<tr><td>牛久      </td><td>23</td></tr>\n",
       "\t<tr><td>⋮</td><td>⋮</td></tr>\n",
       "\t<tr><td>福浦        </td><td>1</td></tr>\n",
       "\t<tr><td>片貝        </td><td>1</td></tr>\n",
       "\t<tr><td>片瀬江ノ島  </td><td>1</td></tr>\n",
       "\t<tr><td>宝町        </td><td>1</td></tr>\n",
       "\t<tr><td>北鹿沼      </td><td>1</td></tr>\n",
       "\t<tr><td>北習志野    </td><td>1</td></tr>\n",
       "\t<tr><td>北真岡      </td><td>1</td></tr>\n",
       "\t<tr><td>北水海道    </td><td>1</td></tr>\n",
       "\t<tr><td>北藤岡      </td><td>1</td></tr>\n",
       "\t<tr><td>北府中      </td><td>1</td></tr>\n",
       "\t<tr><td>堀切        </td><td>1</td></tr>\n",
       "\t<tr><td>本所吾妻橋  </td><td>1</td></tr>\n",
       "\t<tr><td>本納        </td><td>1</td></tr>\n",
       "\t<tr><td>本蓮沼      </td><td>1</td></tr>\n",
       "\t<tr><td>万座・鹿沢口</td><td>1</td></tr>\n",
       "\t<tr><td>万博記念公園</td><td>1</td></tr>\n",
       "\t<tr><td>木場        </td><td>1</td></tr>\n",
       "\t<tr><td>門沢橋      </td><td>1</td></tr>\n",
       "\t<tr><td>野崎        </td><td>1</td></tr>\n",
       "\t<tr><td>野島公園    </td><td>1</td></tr>\n",
       "\t<tr><td>柳小路      </td><td>1</td></tr>\n",
       "\t<tr><td>柳瀬川      </td><td>1</td></tr>\n",
       "\t<tr><td>柳生        </td><td>1</td></tr>\n",
       "\t<tr><td>立会川      </td><td>1</td></tr>\n",
       "\t<tr><td>竜舞        </td><td>1</td></tr>\n",
       "\t<tr><td>緑が丘      </td><td>1</td></tr>\n",
       "\t<tr><td>六本木一丁目</td><td>1</td></tr>\n",
       "\t<tr><td>和戸        </td><td>1</td></tr>\n",
       "\t<tr><td>和泉多摩川  </td><td>1</td></tr>\n",
       "\t<tr><td>茗荷谷      </td><td>1</td></tr>\n",
       "</tbody>\n",
       "</table>\n"
      ],
      "text/latex": [
       "A tibble: 1481 × 2\n",
       "\\begin{tabular}{r|ll}\n",
       " name\\_of\\_nearest\\_station & n\\\\\n",
       " <chr> & <int>\\\\\n",
       "\\hline\n",
       "\t 本厚木     & 59\\\\\n",
       "\t 水戸       & 56\\\\\n",
       "\t 宇都宮     & 55\\\\\n",
       "\t 平塚       & 51\\\\\n",
       "\t 八王子     & 48\\\\\n",
       "\t 柏         & 41\\\\\n",
       "\t 川崎       & 40\\\\\n",
       "\t 木更津     & 36\\\\\n",
       "\t 千葉       & 35\\\\\n",
       "\t 前橋       & 34\\\\\n",
       "\t 大宮       & 34\\\\\n",
       "\t 古河       & 33\\\\\n",
       "\t 逗子       & 32\\\\\n",
       "\t 橋本       & 31\\\\\n",
       "\t 戸塚       & 31\\\\\n",
       "\t 三鷹       & 31\\\\\n",
       "\t 東武宇都宮 & 31\\\\\n",
       "\t 熊谷       & 30\\\\\n",
       "\t 君津       & 30\\\\\n",
       "\t 茅ケ崎     & 29\\\\\n",
       "\t 小山       & 29\\\\\n",
       "\t 土浦       & 29\\\\\n",
       "\t 守谷       & 27\\\\\n",
       "\t 秦野       & 26\\\\\n",
       "\t 蕨         & 25\\\\\n",
       "\t 五井       & 24\\\\\n",
       "\t 荒川沖     & 24\\\\\n",
       "\t 川口       & 24\\\\\n",
       "\t つくば     & 23\\\\\n",
       "\t 牛久       & 23\\\\\n",
       "\t ⋮ & ⋮\\\\\n",
       "\t 福浦         & 1\\\\\n",
       "\t 片貝         & 1\\\\\n",
       "\t 片瀬江ノ島   & 1\\\\\n",
       "\t 宝町         & 1\\\\\n",
       "\t 北鹿沼       & 1\\\\\n",
       "\t 北習志野     & 1\\\\\n",
       "\t 北真岡       & 1\\\\\n",
       "\t 北水海道     & 1\\\\\n",
       "\t 北藤岡       & 1\\\\\n",
       "\t 北府中       & 1\\\\\n",
       "\t 堀切         & 1\\\\\n",
       "\t 本所吾妻橋   & 1\\\\\n",
       "\t 本納         & 1\\\\\n",
       "\t 本蓮沼       & 1\\\\\n",
       "\t 万座・鹿沢口 & 1\\\\\n",
       "\t 万博記念公園 & 1\\\\\n",
       "\t 木場         & 1\\\\\n",
       "\t 門沢橋       & 1\\\\\n",
       "\t 野崎         & 1\\\\\n",
       "\t 野島公園     & 1\\\\\n",
       "\t 柳小路       & 1\\\\\n",
       "\t 柳瀬川       & 1\\\\\n",
       "\t 柳生         & 1\\\\\n",
       "\t 立会川       & 1\\\\\n",
       "\t 竜舞         & 1\\\\\n",
       "\t 緑が丘       & 1\\\\\n",
       "\t 六本木一丁目 & 1\\\\\n",
       "\t 和戸         & 1\\\\\n",
       "\t 和泉多摩川   & 1\\\\\n",
       "\t 茗荷谷       & 1\\\\\n",
       "\\end{tabular}\n"
      ],
      "text/markdown": [
       "\n",
       "A tibble: 1481 × 2\n",
       "\n",
       "| name_of_nearest_station &lt;chr&gt; | n &lt;int&gt; |\n",
       "|---|---|\n",
       "| 本厚木     | 59 |\n",
       "| 水戸       | 56 |\n",
       "| 宇都宮     | 55 |\n",
       "| 平塚       | 51 |\n",
       "| 八王子     | 48 |\n",
       "| 柏         | 41 |\n",
       "| 川崎       | 40 |\n",
       "| 木更津     | 36 |\n",
       "| 千葉       | 35 |\n",
       "| 前橋       | 34 |\n",
       "| 大宮       | 34 |\n",
       "| 古河       | 33 |\n",
       "| 逗子       | 32 |\n",
       "| 橋本       | 31 |\n",
       "| 戸塚       | 31 |\n",
       "| 三鷹       | 31 |\n",
       "| 東武宇都宮 | 31 |\n",
       "| 熊谷       | 30 |\n",
       "| 君津       | 30 |\n",
       "| 茅ケ崎     | 29 |\n",
       "| 小山       | 29 |\n",
       "| 土浦       | 29 |\n",
       "| 守谷       | 27 |\n",
       "| 秦野       | 26 |\n",
       "| 蕨         | 25 |\n",
       "| 五井       | 24 |\n",
       "| 荒川沖     | 24 |\n",
       "| 川口       | 24 |\n",
       "| つくば     | 23 |\n",
       "| 牛久       | 23 |\n",
       "| ⋮ | ⋮ |\n",
       "| 福浦         | 1 |\n",
       "| 片貝         | 1 |\n",
       "| 片瀬江ノ島   | 1 |\n",
       "| 宝町         | 1 |\n",
       "| 北鹿沼       | 1 |\n",
       "| 北習志野     | 1 |\n",
       "| 北真岡       | 1 |\n",
       "| 北水海道     | 1 |\n",
       "| 北藤岡       | 1 |\n",
       "| 北府中       | 1 |\n",
       "| 堀切         | 1 |\n",
       "| 本所吾妻橋   | 1 |\n",
       "| 本納         | 1 |\n",
       "| 本蓮沼       | 1 |\n",
       "| 万座・鹿沢口 | 1 |\n",
       "| 万博記念公園 | 1 |\n",
       "| 木場         | 1 |\n",
       "| 門沢橋       | 1 |\n",
       "| 野崎         | 1 |\n",
       "| 野島公園     | 1 |\n",
       "| 柳小路       | 1 |\n",
       "| 柳瀬川       | 1 |\n",
       "| 柳生         | 1 |\n",
       "| 立会川       | 1 |\n",
       "| 竜舞         | 1 |\n",
       "| 緑が丘       | 1 |\n",
       "| 六本木一丁目 | 1 |\n",
       "| 和戸         | 1 |\n",
       "| 和泉多摩川   | 1 |\n",
       "| 茗荷谷       | 1 |\n",
       "\n"
      ],
      "text/plain": [
       "     name_of_nearest_station n \n",
       "1    本厚木                  59\n",
       "2    水戸                    56\n",
       "3    宇都宮                  55\n",
       "4    平塚                    51\n",
       "5    八王子                  48\n",
       "6    柏                      41\n",
       "7    川崎                    40\n",
       "8    木更津                  36\n",
       "9    千葉                    35\n",
       "10   前橋                    34\n",
       "11   大宮                    34\n",
       "12   古河                    33\n",
       "13   逗子                    32\n",
       "14   橋本                    31\n",
       "15   戸塚                    31\n",
       "16   三鷹                    31\n",
       "17   東武宇都宮              31\n",
       "18   熊谷                    30\n",
       "19   君津                    30\n",
       "20   茅ケ崎                  29\n",
       "21   小山                    29\n",
       "22   土浦                    29\n",
       "23   守谷                    27\n",
       "24   秦野                    26\n",
       "25   蕨                      25\n",
       "26   五井                    24\n",
       "27   荒川沖                  24\n",
       "28   川口                    24\n",
       "29   つくば                  23\n",
       "30   牛久                    23\n",
       "⋮    ⋮                       ⋮ \n",
       "1452 福浦                    1 \n",
       "1453 片貝                    1 \n",
       "1454 片瀬江ノ島              1 \n",
       "1455 宝町                    1 \n",
       "1456 北鹿沼                  1 \n",
       "1457 北習志野                1 \n",
       "1458 北真岡                  1 \n",
       "1459 北水海道                1 \n",
       "1460 北藤岡                  1 \n",
       "1461 北府中                  1 \n",
       "1462 堀切                    1 \n",
       "1463 本所吾妻橋              1 \n",
       "1464 本納                    1 \n",
       "1465 本蓮沼                  1 \n",
       "1466 万座・鹿沢口            1 \n",
       "1467 万博記念公園            1 \n",
       "1468 木場                    1 \n",
       "1469 門沢橋                  1 \n",
       "1470 野崎                    1 \n",
       "1471 野島公園                1 \n",
       "1472 柳小路                  1 \n",
       "1473 柳瀬川                  1 \n",
       "1474 柳生                    1 \n",
       "1475 立会川                  1 \n",
       "1476 竜舞                    1 \n",
       "1477 緑が丘                  1 \n",
       "1478 六本木一丁目            1 \n",
       "1479 和戸                    1 \n",
       "1480 和泉多摩川              1 \n",
       "1481 茗荷谷                  1 "
      ]
     },
     "metadata": {},
     "output_type": "display_data"
    }
   ],
   "source": [
    "df_is_cat %>% \n",
    "  count(name_of_nearest_station, sort = TRUE)"
   ]
  },
  {
   "cell_type": "markdown",
   "metadata": {},
   "source": [
    "## 論理値"
   ]
  },
  {
   "cell_type": "code",
   "execution_count": 13,
   "metadata": {
    "eval": true,
    "lines_to_next_cell": 2
   },
   "outputs": [],
   "source": [
    "df_is_log <-\n",
    "  df_lp_kanto %>% \n",
    "  select(-starts_with(\".\")) %>% \n",
    "  select_if(is.logical) %>% \n",
    "  verify(ncol(.) == 17)"
   ]
  },
  {
   "cell_type": "code",
   "execution_count": null,
   "metadata": {
    "eval": true
   },
   "outputs": [],
   "source": [
    "gg_count_var <- function(data, var) {\n",
    "  var <- rlang::enquo(var)\n",
    "  var_label <- rlang::quo_name(var)\n",
    "    data %>% \n",
    "    count(!!var) %>% \n",
    "    ggplot(aes(forcats::fct_reorder(!!var, n), n)) +\n",
    "    geom_bar(stat = \"identity\") +\n",
    "    labs(x = var_label) +\n",
    "    coord_flip()\n",
    "}"
   ]
  },
  {
   "cell_type": "code",
   "execution_count": null,
   "metadata": {
    "eval": false,
    "fig.height": 10,
    "hide_input": false,
    "name": "pref08_name_of_nearest_station"
   },
   "outputs": [],
   "source": [
    "df_is_cat %>% \n",
    "  filter(stringr::str_detect(administrative_area_code, \"^08\")) %>% \n",
    "  gg_count_var(name_of_nearest_station)"
   ]
  },
  {
   "cell_type": "markdown",
   "metadata": {},
   "source": [
    "![](../images/pref08_name_of_nearest_station-1.png)"
   ]
  },
  {
   "cell_type": "code",
   "execution_count": null,
   "metadata": {
    "eval": true,
    "fig.height": 16,
    "hide_input": false,
    "name": "pref08_categorical_count"
   },
   "outputs": [],
   "source": [
    "purrr::map(\n",
    "  rlang::syms(str_subset(names(df_is_cat), \"name_of_nearest_station\", negate = TRUE)),\n",
    "  ~ gg_count_var(df_is_cat %>% \n",
    "                   filter(stringr::str_detect(administrative_area_code, \"^08\")), \n",
    "                 !!.x)) %>% \n",
    "    plot_grid(plotlist = ., ncol = 2)"
   ]
  },
  {
   "cell_type": "markdown",
   "metadata": {},
   "source": [
    "![](../images/pref08_categorical_count-1.png)\n",
    "\n",
    "何枚かの図は文字が潰れてしまいましたが、いくつかのカテゴリデータについて掴めたことがあります。\n"
   ]
  },
  {
   "cell_type": "markdown",
   "metadata": {},
   "source": [
    "### 全体"
   ]
  },
  {
   "cell_type": "code",
   "execution_count": 14,
   "metadata": {
    "lines_to_next_cell": 0
   },
   "outputs": [
    {
     "data": {
      "image/png": "[encoded data removed]",
      "text/plain": [
       "plot without title"
      ]
     },
     "metadata": {},
     "output_type": "display_data"
    }
   ],
   "source": [
    "vis_dat(df_lp_kanto)"
   ]
  },
  {
   "cell_type": "markdown",
   "metadata": {},
   "source": []
  },
  {
   "cell_type": "markdown",
   "metadata": {},
   "source": [
    "### 1変数の可視化\n",
    "\n",
    "データのばらつきを見るのにはヒストグラム、箱ひげ図を利用します。一変量を対象とした単純な可視化は、変数の変動、特性を理解するのに役立ちます。\n",
    "\n",
    "#### ヒストグラム\n",
    "\n",
    "スパイク（峰）を検出するのに効果的です。ヒストグラムは単峰、二峰など多様な形状を取り得ます。"
   ]
  },
  {
   "cell_type": "code",
   "execution_count": 15,
   "metadata": {},
   "outputs": [
    {
     "name": "stderr",
     "output_type": "stream",
     "text": [
      "Warning message in grid.Call(C_stringMetric, as.graphicsAnnot(x$label)):\n",
      "“font family 'IPAexGothic' not found in PostScript font database”Warning message in grid.Call(C_stringMetric, as.graphicsAnnot(x$label)):\n",
      "“font family 'IPAexGothic' not found in PostScript font database”Warning message in grid.Call(C_stringMetric, as.graphicsAnnot(x$label)):\n",
      "“font family 'IPAexGothic' not found in PostScript font database”Warning message in grid.Call(C_stringMetric, as.graphicsAnnot(x$label)):\n",
      "“font family 'IPAexGothic' not found in PostScript font database”Warning message in grid.Call(C_stringMetric, as.graphicsAnnot(x$label)):\n",
      "“font family 'IPAexGothic' not found in PostScript font database”Warning message in grid.Call(C_stringMetric, as.graphicsAnnot(x$label)):\n",
      "“font family 'IPAexGothic' not found in PostScript font database”Warning message in grid.Call(C_stringMetric, as.graphicsAnnot(x$label)):\n",
      "“font family 'IPAexGothic' not found in PostScript font database”Warning message in grid.Call(C_stringMetric, as.graphicsAnnot(x$label)):\n",
      "“font family 'IPAexGothic' not found in PostScript font database”Warning message in grid.Call(C_stringMetric, as.graphicsAnnot(x$label)):\n",
      "“font family 'IPAexGothic' not found in PostScript font database”Warning message in grid.Call(C_stringMetric, as.graphicsAnnot(x$label)):\n",
      "“font family 'IPAexGothic' not found in PostScript font database”Warning message in grid.Call(C_stringMetric, as.graphicsAnnot(x$label)):\n",
      "“font family 'IPAexGothic' not found in PostScript font database”Warning message in grid.Call(C_stringMetric, as.graphicsAnnot(x$label)):\n",
      "“font family 'IPAexGothic' not found in PostScript font database”Warning message in grid.Call(C_stringMetric, as.graphicsAnnot(x$label)):\n",
      "“font family 'IPAexGothic' not found in PostScript font database”Warning message in grid.Call(C_stringMetric, as.graphicsAnnot(x$label)):\n",
      "“font family 'IPAexGothic' not found in PostScript font database”Warning message in grid.Call(C_stringMetric, as.graphicsAnnot(x$label)):\n",
      "“font family 'IPAexGothic' not found in PostScript font database”Warning message in grid.Call(C_stringMetric, as.graphicsAnnot(x$label)):\n",
      "“font family 'IPAexGothic' not found in PostScript font database”Warning message in grid.Call(C_stringMetric, as.graphicsAnnot(x$label)):\n",
      "“font family 'IPAexGothic' not found in PostScript font database”Warning message in grid.Call(C_stringMetric, as.graphicsAnnot(x$label)):\n",
      "“font family 'IPAexGothic' not found in PostScript font database”Warning message in grid.Call(C_stringMetric, as.graphicsAnnot(x$label)):\n",
      "“font family 'IPAexGothic' not found in PostScript font database”Warning message in grid.Call(C_stringMetric, as.graphicsAnnot(x$label)):\n",
      "“font family 'IPAexGothic' not found in PostScript font database”Warning message in grid.Call(C_stringMetric, as.graphicsAnnot(x$label)):\n",
      "“font family 'IPAexGothic' not found in PostScript font database”Warning message in grid.Call(C_stringMetric, as.graphicsAnnot(x$label)):\n",
      "“font family 'IPAexGothic' not found in PostScript font database”Warning message in grid.Call(C_stringMetric, as.graphicsAnnot(x$label)):\n",
      "“font family 'IPAexGothic' not found in PostScript font database”Warning message in grid.Call(C_stringMetric, as.graphicsAnnot(x$label)):\n",
      "“font family 'IPAexGothic' not found in PostScript font database”Warning message in grid.Call(C_stringMetric, as.graphicsAnnot(x$label)):\n",
      "“font family 'IPAexGothic' not found in PostScript font database”Warning message in grid.Call(C_stringMetric, as.graphicsAnnot(x$label)):\n",
      "“font family 'IPAexGothic' not found in PostScript font database”Warning message in grid.Call(C_stringMetric, as.graphicsAnnot(x$label)):\n",
      "“font family 'IPAexGothic' not found in PostScript font database”Warning message in grid.Call(C_stringMetric, as.graphicsAnnot(x$label)):\n",
      "“font family 'IPAexGothic' not found in PostScript font database”Warning message in grid.Call(C_textBounds, as.graphicsAnnot(x$label), x$x, x$y, :\n",
      "“font family 'IPAexGothic' not found in PostScript font database”Warning message in grid.Call(C_textBounds, as.graphicsAnnot(x$label), x$x, x$y, :\n",
      "“font family 'IPAexGothic' not found in PostScript font database”Warning message in grid.Call(C_textBounds, as.graphicsAnnot(x$label), x$x, x$y, :\n",
      "“font family 'IPAexGothic' not found in PostScript font database”Warning message in grid.Call(C_textBounds, as.graphicsAnnot(x$label), x$x, x$y, :\n",
      "“font family 'IPAexGothic' not found in PostScript font database”Warning message in grid.Call(C_textBounds, as.graphicsAnnot(x$label), x$x, x$y, :\n",
      "“font family 'IPAexGothic' not found in PostScript font database”Warning message in grid.Call(C_textBounds, as.graphicsAnnot(x$label), x$x, x$y, :\n",
      "“font family 'IPAexGothic' not found in PostScript font database”Warning message in grid.Call(C_textBounds, as.graphicsAnnot(x$label), x$x, x$y, :\n",
      "“font family 'IPAexGothic' not found in PostScript font database”Warning message in grid.Call(C_textBounds, as.graphicsAnnot(x$label), x$x, x$y, :\n",
      "“font family 'IPAexGothic' not found in PostScript font database”Warning message in grid.Call(C_textBounds, as.graphicsAnnot(x$label), x$x, x$y, :\n",
      "“font family 'IPAexGothic' not found in PostScript font database”Warning message in grid.Call(C_textBounds, as.graphicsAnnot(x$label), x$x, x$y, :\n",
      "“font family 'IPAexGothic' not found in PostScript font database”Warning message in grid.Call(C_textBounds, as.graphicsAnnot(x$label), x$x, x$y, :\n",
      "“font family 'IPAexGothic' not found in PostScript font database”Warning message in grid.Call(C_textBounds, as.graphicsAnnot(x$label), x$x, x$y, :\n",
      "“font family 'IPAexGothic' not found in PostScript font database”Warning message in grid.Call(C_textBounds, as.graphicsAnnot(x$label), x$x, x$y, :\n",
      "“font family 'IPAexGothic' not found in PostScript font database”Warning message in grid.Call(C_textBounds, as.graphicsAnnot(x$label), x$x, x$y, :\n",
      "“font family 'IPAexGothic' not found in PostScript font database”Warning message in grid.Call(C_textBounds, as.graphicsAnnot(x$label), x$x, x$y, :\n",
      "“font family 'IPAexGothic' not found in PostScript font database”Warning message in grid.Call(C_textBounds, as.graphicsAnnot(x$label), x$x, x$y, :\n",
      "“font family 'IPAexGothic' not found in PostScript font database”Warning message in grid.Call(C_textBounds, as.graphicsAnnot(x$label), x$x, x$y, :\n",
      "“font family 'IPAexGothic' not found in PostScript font database”Warning message in grid.Call(C_textBounds, as.graphicsAnnot(x$label), x$x, x$y, :\n",
      "“font family 'IPAexGothic' not found in PostScript font database”Warning message in grid.Call(C_textBounds, as.graphicsAnnot(x$label), x$x, x$y, :\n",
      "“font family 'IPAexGothic' not found in PostScript font database”Warning message in grid.Call(C_textBounds, as.graphicsAnnot(x$label), x$x, x$y, :\n",
      "“font family 'IPAexGothic' not found in PostScript font database”Warning message in grid.Call(C_textBounds, as.graphicsAnnot(x$label), x$x, x$y, :\n",
      "“font family 'IPAexGothic' not found in PostScript font database”Warning message in grid.Call(C_textBounds, as.graphicsAnnot(x$label), x$x, x$y, :\n",
      "“font family 'IPAexGothic' not found in PostScript font database”Warning message in grid.Call(C_textBounds, as.graphicsAnnot(x$label), x$x, x$y, :\n",
      "“font family 'IPAexGothic' not found in PostScript font database”Warning message in grid.Call(C_textBounds, as.graphicsAnnot(x$label), x$x, x$y, :\n",
      "“font family 'IPAexGothic' not found in PostScript font database”Warning message in grid.Call(C_textBounds, as.graphicsAnnot(x$label), x$x, x$y, :\n",
      "“font family 'IPAexGothic' not found in PostScript font database”Warning message in grid.Call(C_textBounds, as.graphicsAnnot(x$label), x$x, x$y, :\n",
      "“font family 'IPAexGothic' not found in PostScript font database”Warning message in grid.Call(C_textBounds, as.graphicsAnnot(x$label), x$x, x$y, :\n",
      "“font family 'IPAexGothic' not found in PostScript font database”Warning message in grid.Call(C_textBounds, as.graphicsAnnot(x$label), x$x, x$y, :\n",
      "“font family 'IPAexGothic' not found in PostScript font database”Warning message in grid.Call(C_textBounds, as.graphicsAnnot(x$label), x$x, x$y, :\n",
      "“font family 'IPAexGothic' not found in PostScript font database”Warning message in grid.Call(C_textBounds, as.graphicsAnnot(x$label), x$x, x$y, :\n"
     ]
    },
    {
     "name": "stderr",
     "output_type": "stream",
     "text": [
      "“font family 'IPAexGothic' not found in PostScript font database”Warning message in grid.Call(C_textBounds, as.graphicsAnnot(x$label), x$x, x$y, :\n",
      "“font family 'IPAexGothic' not found in PostScript font database”Warning message in grid.Call(C_textBounds, as.graphicsAnnot(x$label), x$x, x$y, :\n",
      "“font family 'IPAexGothic' not found in PostScript font database”Warning message in grid.Call(C_textBounds, as.graphicsAnnot(x$label), x$x, x$y, :\n",
      "“font family 'IPAexGothic' not found in PostScript font database”Warning message in grid.Call(C_textBounds, as.graphicsAnnot(x$label), x$x, x$y, :\n",
      "“font family 'IPAexGothic' not found in PostScript font database”Warning message in grid.Call(C_textBounds, as.graphicsAnnot(x$label), x$x, x$y, :\n",
      "“font family 'IPAexGothic' not found in PostScript font database”Warning message in grid.Call(C_textBounds, as.graphicsAnnot(x$label), x$x, x$y, :\n",
      "“font family 'IPAexGothic' not found in PostScript font database”Warning message in grid.Call(C_textBounds, as.graphicsAnnot(x$label), x$x, x$y, :\n",
      "“font family 'IPAexGothic' not found in PostScript font database”Warning message in grid.Call(C_textBounds, as.graphicsAnnot(x$label), x$x, x$y, :\n",
      "“font family 'IPAexGothic' not found in PostScript font database”Warning message in grid.Call(C_textBounds, as.graphicsAnnot(x$label), x$x, x$y, :\n",
      "“font family 'IPAexGothic' not found in PostScript font database”Warning message in grid.Call(C_textBounds, as.graphicsAnnot(x$label), x$x, x$y, :\n",
      "“font family 'IPAexGothic' not found in PostScript font database”Warning message in grid.Call(C_textBounds, as.graphicsAnnot(x$label), x$x, x$y, :\n",
      "“font family 'IPAexGothic' not found in PostScript font database”Warning message in grid.Call(C_textBounds, as.graphicsAnnot(x$label), x$x, x$y, :\n",
      "“font family 'IPAexGothic' not found in PostScript font database”Warning message in grid.Call(C_textBounds, as.graphicsAnnot(x$label), x$x, x$y, :\n",
      "“font family 'IPAexGothic' not found in PostScript font database”Warning message in grid.Call(C_textBounds, as.graphicsAnnot(x$label), x$x, x$y, :\n",
      "“font family 'IPAexGothic' not found in PostScript font database”Warning message in grid.Call(C_textBounds, as.graphicsAnnot(x$label), x$x, x$y, :\n",
      "“font family 'IPAexGothic' not found in PostScript font database”Warning message in grid.Call(C_textBounds, as.graphicsAnnot(x$label), x$x, x$y, :\n",
      "“font family 'IPAexGothic' not found in PostScript font database”Warning message in grid.Call(C_textBounds, as.graphicsAnnot(x$label), x$x, x$y, :\n",
      "“font family 'IPAexGothic' not found in PostScript font database”Warning message in grid.Call(C_textBounds, as.graphicsAnnot(x$label), x$x, x$y, :\n",
      "“font family 'IPAexGothic' not found in PostScript font database”Warning message in grid.Call(C_textBounds, as.graphicsAnnot(x$label), x$x, x$y, :\n",
      "“font family 'IPAexGothic' not found in PostScript font database”Warning message in grid.Call(C_textBounds, as.graphicsAnnot(x$label), x$x, x$y, :\n",
      "“font family 'IPAexGothic' not found in PostScript font database”Warning message in grid.Call(C_textBounds, as.graphicsAnnot(x$label), x$x, x$y, :\n",
      "“font family 'IPAexGothic' not found in PostScript font database”Warning message in grid.Call(C_textBounds, as.graphicsAnnot(x$label), x$x, x$y, :\n",
      "“font family 'IPAexGothic' not found in PostScript font database”Warning message in grid.Call(C_textBounds, as.graphicsAnnot(x$label), x$x, x$y, :\n",
      "“font family 'IPAexGothic' not found in PostScript font database”Warning message in grid.Call(C_textBounds, as.graphicsAnnot(x$label), x$x, x$y, :\n",
      "“font family 'IPAexGothic' not found in PostScript font database”Warning message in grid.Call(C_textBounds, as.graphicsAnnot(x$label), x$x, x$y, :\n",
      "“font family 'IPAexGothic' not found in PostScript font database”Warning message in grid.Call(C_textBounds, as.graphicsAnnot(x$label), x$x, x$y, :\n",
      "“font family 'IPAexGothic' not found in PostScript font database”Warning message in grid.Call(C_textBounds, as.graphicsAnnot(x$label), x$x, x$y, :\n",
      "“font family 'IPAexGothic' not found in PostScript font database”Warning message in grid.Call(C_textBounds, as.graphicsAnnot(x$label), x$x, x$y, :\n",
      "“font family 'IPAexGothic' not found in PostScript font database”Warning message in grid.Call(C_textBounds, as.graphicsAnnot(x$label), x$x, x$y, :\n",
      "“font family 'IPAexGothic' not found in PostScript font database”Warning message in grid.Call(C_textBounds, as.graphicsAnnot(x$label), x$x, x$y, :\n",
      "“font family 'IPAexGothic' not found in PostScript font database”Warning message in grid.Call(C_textBounds, as.graphicsAnnot(x$label), x$x, x$y, :\n",
      "“font family 'IPAexGothic' not found in PostScript font database”Warning message in grid.Call(C_textBounds, as.graphicsAnnot(x$label), x$x, x$y, :\n",
      "“font family 'IPAexGothic' not found in PostScript font database”Warning message in grid.Call(C_textBounds, as.graphicsAnnot(x$label), x$x, x$y, :\n",
      "“font family 'IPAexGothic' not found in PostScript font database”Warning message in grid.Call(C_textBounds, as.graphicsAnnot(x$label), x$x, x$y, :\n",
      "“font family 'IPAexGothic' not found in PostScript font database”Warning message in grid.Call(C_textBounds, as.graphicsAnnot(x$label), x$x, x$y, :\n",
      "“font family 'IPAexGothic' not found in PostScript font database”Warning message in grid.Call(C_textBounds, as.graphicsAnnot(x$label), x$x, x$y, :\n",
      "“font family 'IPAexGothic' not found in PostScript font database”Warning message in grid.Call(C_textBounds, as.graphicsAnnot(x$label), x$x, x$y, :\n",
      "“font family 'IPAexGothic' not found in PostScript font database”Warning message in grid.Call(C_textBounds, as.graphicsAnnot(x$label), x$x, x$y, :\n",
      "“font family 'IPAexGothic' not found in PostScript font database”Warning message in grid.Call(C_textBounds, as.graphicsAnnot(x$label), x$x, x$y, :\n",
      "“font family 'IPAexGothic' not found in PostScript font database”Warning message in grid.Call(C_textBounds, as.graphicsAnnot(x$label), x$x, x$y, :\n",
      "“font family 'IPAexGothic' not found in PostScript font database”Warning message in grid.Call(C_textBounds, as.graphicsAnnot(x$label), x$x, x$y, :\n",
      "“font family 'IPAexGothic' not found in PostScript font database”Warning message in grid.Call(C_textBounds, as.graphicsAnnot(x$label), x$x, x$y, :\n",
      "“font family 'IPAexGothic' not found in PostScript font database”Warning message in grid.Call(C_textBounds, as.graphicsAnnot(x$label), x$x, x$y, :\n",
      "“font family 'IPAexGothic' not found in PostScript font database”Warning message in grid.Call(C_textBounds, as.graphicsAnnot(x$label), x$x, x$y, :\n",
      "“font family 'IPAexGothic' not found in PostScript font database”Warning message in grid.Call(C_textBounds, as.graphicsAnnot(x$label), x$x, x$y, :\n",
      "“font family 'IPAexGothic' not found in PostScript font database”Warning message in grid.Call(C_textBounds, as.graphicsAnnot(x$label), x$x, x$y, :\n",
      "“font family 'IPAexGothic' not found in PostScript font database”Warning message in grid.Call(C_textBounds, as.graphicsAnnot(x$label), x$x, x$y, :\n",
      "“font family 'IPAexGothic' not found in PostScript font database”Warning message in grid.Call(C_textBounds, as.graphicsAnnot(x$label), x$x, x$y, :\n",
      "“font family 'IPAexGothic' not found in PostScript font database”Warning message in grid.Call(C_textBounds, as.graphicsAnnot(x$label), x$x, x$y, :\n",
      "“font family 'IPAexGothic' not found in PostScript font database”Warning message in grid.Call(C_textBounds, as.graphicsAnnot(x$label), x$x, x$y, :\n",
      "“font family 'IPAexGothic' not found in PostScript font database”Warning message in grid.Call(C_textBounds, as.graphicsAnnot(x$label), x$x, x$y, :\n",
      "“font family 'IPAexGothic' not found in PostScript font database”Warning message in grid.Call(C_textBounds, as.graphicsAnnot(x$label), x$x, x$y, :\n",
      "“font family 'IPAexGothic' not found in PostScript font database”Warning message in grid.Call(C_textBounds, as.graphicsAnnot(x$label), x$x, x$y, :\n",
      "“font family 'IPAexGothic' not found in PostScript font database”Warning message in grid.Call(C_textBounds, as.graphicsAnnot(x$label), x$x, x$y, :\n",
      "“font family 'IPAexGothic' not found in PostScript font database”Warning message in grid.Call(C_textBounds, as.graphicsAnnot(x$label), x$x, x$y, :\n",
      "“font family 'IPAexGothic' not found in PostScript font database”Warning message in grid.Call(C_textBounds, as.graphicsAnnot(x$label), x$x, x$y, :\n"
     ]
    },
    {
     "name": "stderr",
     "output_type": "stream",
     "text": [
      "“font family 'IPAexGothic' not found in PostScript font database”Warning message in grid.Call(C_textBounds, as.graphicsAnnot(x$label), x$x, x$y, :\n",
      "“font family 'IPAexGothic' not found in PostScript font database”Warning message in grid.Call(C_textBounds, as.graphicsAnnot(x$label), x$x, x$y, :\n",
      "“font family 'IPAexGothic' not found in PostScript font database”Warning message in grid.Call(C_textBounds, as.graphicsAnnot(x$label), x$x, x$y, :\n",
      "“font family 'IPAexGothic' not found in PostScript font database”Warning message in grid.Call(C_textBounds, as.graphicsAnnot(x$label), x$x, x$y, :\n",
      "“font family 'IPAexGothic' not found in PostScript font database”Warning message in grid.Call(C_textBounds, as.graphicsAnnot(x$label), x$x, x$y, :\n",
      "“font family 'IPAexGothic' not found in PostScript font database”Warning message in grid.Call(C_textBounds, as.graphicsAnnot(x$label), x$x, x$y, :\n",
      "“font family 'IPAexGothic' not found in PostScript font database”Warning message in grid.Call(C_textBounds, as.graphicsAnnot(x$label), x$x, x$y, :\n",
      "“font family 'IPAexGothic' not found in PostScript font database”Warning message in grid.Call(C_textBounds, as.graphicsAnnot(x$label), x$x, x$y, :\n",
      "“font family 'IPAexGothic' not found in PostScript font database”Warning message in grid.Call(C_textBounds, as.graphicsAnnot(x$label), x$x, x$y, :\n",
      "“font family 'IPAexGothic' not found in PostScript font database”Warning message in grid.Call(C_textBounds, as.graphicsAnnot(x$label), x$x, x$y, :\n",
      "“font family 'IPAexGothic' not found in PostScript font database”Warning message in grid.Call(C_textBounds, as.graphicsAnnot(x$label), x$x, x$y, :\n",
      "“font family 'IPAexGothic' not found in PostScript font database”Warning message in grid.Call(C_textBounds, as.graphicsAnnot(x$label), x$x, x$y, :\n",
      "“font family 'IPAexGothic' not found in PostScript font database”Warning message in grid.Call(C_textBounds, as.graphicsAnnot(x$label), x$x, x$y, :\n",
      "“font family 'IPAexGothic' not found in PostScript font database”Warning message in grid.Call.graphics(C_text, as.graphicsAnnot(x$label), x$x, x$y, :\n",
      "“font family 'IPAexGothic' not found in PostScript font database”Warning message in grid.Call.graphics(C_text, as.graphicsAnnot(x$label), x$x, x$y, :\n",
      "“font family 'IPAexGothic' not found in PostScript font database”Warning message in grid.Call.graphics(C_text, as.graphicsAnnot(x$label), x$x, x$y, :\n",
      "“font family 'IPAexGothic' not found in PostScript font database”Warning message in grid.Call.graphics(C_text, as.graphicsAnnot(x$label), x$x, x$y, :\n",
      "“font family 'IPAexGothic' not found in PostScript font database”Warning message in grid.Call.graphics(C_text, as.graphicsAnnot(x$label), x$x, x$y, :\n",
      "“font family 'IPAexGothic' not found in PostScript font database”Warning message in grid.Call(C_textBounds, as.graphicsAnnot(x$label), x$x, x$y, :\n",
      "“font family 'IPAexGothic' not found in PostScript font database”Warning message in grid.Call(C_textBounds, as.graphicsAnnot(x$label), x$x, x$y, :\n",
      "“font family 'IPAexGothic' not found in PostScript font database”Warning message in grid.Call(C_textBounds, as.graphicsAnnot(x$label), x$x, x$y, :\n",
      "“font family 'IPAexGothic' not found in PostScript font database”Warning message in grid.Call(C_textBounds, as.graphicsAnnot(x$label), x$x, x$y, :\n",
      "“font family 'IPAexGothic' not found in PostScript font database”Warning message in grid.Call(C_textBounds, as.graphicsAnnot(x$label), x$x, x$y, :\n",
      "“font family 'IPAexGothic' not found in PostScript font database”Warning message in grid.Call(C_textBounds, as.graphicsAnnot(x$label), x$x, x$y, :\n",
      "“font family 'IPAexGothic' not found in PostScript font database”Warning message in grid.Call(C_textBounds, as.graphicsAnnot(x$label), x$x, x$y, :\n",
      "“font family 'IPAexGothic' not found in PostScript font database”Warning message in grid.Call(C_textBounds, as.graphicsAnnot(x$label), x$x, x$y, :\n",
      "“font family 'IPAexGothic' not found in PostScript font database”Warning message in grid.Call(C_textBounds, as.graphicsAnnot(x$label), x$x, x$y, :\n",
      "“font family 'IPAexGothic' not found in PostScript font database”Warning message in grid.Call(C_textBounds, as.graphicsAnnot(x$label), x$x, x$y, :\n",
      "“font family 'IPAexGothic' not found in PostScript font database”Warning message in grid.Call(C_textBounds, as.graphicsAnnot(x$label), x$x, x$y, :\n",
      "“font family 'IPAexGothic' not found in PostScript font database”Warning message in grid.Call(C_textBounds, as.graphicsAnnot(x$label), x$x, x$y, :\n",
      "“font family 'IPAexGothic' not found in PostScript font database”Warning message in grid.Call(C_textBounds, as.graphicsAnnot(x$label), x$x, x$y, :\n",
      "“font family 'IPAexGothic' not found in PostScript font database”Warning message in grid.Call(C_textBounds, as.graphicsAnnot(x$label), x$x, x$y, :\n",
      "“font family 'IPAexGothic' not found in PostScript font database”Warning message in grid.Call(C_textBounds, as.graphicsAnnot(x$label), x$x, x$y, :\n",
      "“font family 'IPAexGothic' not found in PostScript font database”Warning message in grid.Call(C_textBounds, as.graphicsAnnot(x$label), x$x, x$y, :\n",
      "“font family 'IPAexGothic' not found in PostScript font database”Warning message in grid.Call(C_textBounds, as.graphicsAnnot(x$label), x$x, x$y, :\n",
      "“font family 'IPAexGothic' not found in PostScript font database”Warning message in grid.Call(C_textBounds, as.graphicsAnnot(x$label), x$x, x$y, :\n",
      "“font family 'IPAexGothic' not found in PostScript font database”Warning message in grid.Call(C_textBounds, as.graphicsAnnot(x$label), x$x, x$y, :\n",
      "“font family 'IPAexGothic' not found in PostScript font database”Warning message in grid.Call(C_textBounds, as.graphicsAnnot(x$label), x$x, x$y, :\n",
      "“font family 'IPAexGothic' not found in PostScript font database”Warning message in grid.Call(C_textBounds, as.graphicsAnnot(x$label), x$x, x$y, :\n",
      "“font family 'IPAexGothic' not found in PostScript font database”Warning message in grid.Call(C_textBounds, as.graphicsAnnot(x$label), x$x, x$y, :\n",
      "“font family 'IPAexGothic' not found in PostScript font database”Warning message in grid.Call(C_textBounds, as.graphicsAnnot(x$label), x$x, x$y, :\n",
      "“font family 'IPAexGothic' not found in PostScript font database”Warning message in grid.Call(C_textBounds, as.graphicsAnnot(x$label), x$x, x$y, :\n",
      "“font family 'IPAexGothic' not found in PostScript font database”Warning message in grid.Call(C_textBounds, as.graphicsAnnot(x$label), x$x, x$y, :\n",
      "“font family 'IPAexGothic' not found in PostScript font database”Warning message in grid.Call(C_textBounds, as.graphicsAnnot(x$label), x$x, x$y, :\n",
      "“font family 'IPAexGothic' not found in PostScript font database”Warning message in grid.Call(C_textBounds, as.graphicsAnnot(x$label), x$x, x$y, :\n",
      "“font family 'IPAexGothic' not found in PostScript font database”Warning message in grid.Call(C_textBounds, as.graphicsAnnot(x$label), x$x, x$y, :\n",
      "“font family 'IPAexGothic' not found in PostScript font database”Warning message in grid.Call(C_textBounds, as.graphicsAnnot(x$label), x$x, x$y, :\n",
      "“font family 'IPAexGothic' not found in PostScript font database”Warning message in grid.Call(C_textBounds, as.graphicsAnnot(x$label), x$x, x$y, :\n",
      "“font family 'IPAexGothic' not found in PostScript font database”Warning message in grid.Call.graphics(C_text, as.graphicsAnnot(x$label), x$x, x$y, :\n",
      "“font family 'IPAexGothic' not found in PostScript font database”Warning message in grid.Call.graphics(C_text, as.graphicsAnnot(x$label), x$x, x$y, :\n",
      "“font family 'IPAexGothic' not found in PostScript font database”Warning message in grid.Call.graphics(C_text, as.graphicsAnnot(x$label), x$x, x$y, :\n",
      "“font family 'IPAexGothic' not found in PostScript font database”Warning message in grid.Call(C_textBounds, as.graphicsAnnot(x$label), x$x, x$y, :\n",
      "“font family 'IPAexGothic' not found in PostScript font database”Warning message in grid.Call(C_textBounds, as.graphicsAnnot(x$label), x$x, x$y, :\n",
      "“font family 'IPAexGothic' not found in PostScript font database”Warning message in grid.Call(C_textBounds, as.graphicsAnnot(x$label), x$x, x$y, :\n",
      "“font family 'IPAexGothic' not found in PostScript font database”Warning message in grid.Call.graphics(C_text, as.graphicsAnnot(x$label), x$x, x$y, :\n",
      "“font family 'IPAexGothic' not found in PostScript font database”Warning message in grid.Call(C_textBounds, as.graphicsAnnot(x$label), x$x, x$y, :\n"
     ]
    },
    {
     "name": "stderr",
     "output_type": "stream",
     "text": [
      "“font family 'IPAexGothic' not found in PostScript font database”Warning message in grid.Call(C_textBounds, as.graphicsAnnot(x$label), x$x, x$y, :\n",
      "“font family 'IPAexGothic' not found in PostScript font database”Warning message in grid.Call.graphics(C_text, as.graphicsAnnot(x$label), x$x, x$y, :\n",
      "“font family 'IPAexGothic' not found in PostScript font database”"
     ]
    },
    {
     "data": {
      "image/png": "[encoded data removed]",
      "text/plain": [
       "plot without title"
      ]
     },
     "metadata": {},
     "output_type": "display_data"
    }
   ],
   "source": [
    "df_lp_kanto %>% \n",
    "  ggplot(aes(posted_land_price)) +\n",
    "  geom_histogram(bins = 30)"
   ]
  },
  {
   "cell_type": "markdown",
   "metadata": {},
   "source": [
    "<!-- box-cox変換をする図をあとで -->"
   ]
  },
  {
   "cell_type": "code",
   "execution_count": null,
   "metadata": {},
   "outputs": [],
   "source": [
    "df_lp_kanto %>% \n",
    "  ggplot(aes(posted_land_price)) +\n",
    "  geom_density() +\n",
    "  facet_wrap(~ .prefecture, ncol = 1)"
   ]
  },
  {
   "cell_type": "code",
   "execution_count": null,
   "metadata": {
    "lines_to_next_cell": 2
   },
   "outputs": [],
   "source": [
    "library(ggridges)\n",
    "\n",
    "ggplot(df_lp_kanto, \n",
    "       aes(x = posted_land_price, y  = .prefecture)) +\n",
    "  scale_x_log10() +\n",
    "  ggridges::geom_density_ridges(scale = 4)"
   ]
  },
  {
   "cell_type": "markdown",
   "metadata": {},
   "source": [
    "#### 箱ひげ図・バイオリンプロット"
   ]
  },
  {
   "cell_type": "markdown",
   "metadata": {},
   "source": [
    "### 2変数の可視化\n"
   ]
  },
  {
   "cell_type": "code",
   "execution_count": null,
   "metadata": {},
   "outputs": [],
   "source": [
    "df_lp_kanto %>% \n",
    "  ggplot(aes(use_district, posted_land_price)) +\n",
    "  geom_boxplot()"
   ]
  },
  {
   "cell_type": "markdown",
   "metadata": {},
   "source": [
    "#### 散布図"
   ]
  },
  {
   "cell_type": "code",
   "execution_count": null,
   "metadata": {},
   "outputs": [],
   "source": [
    "df_lp_kanto %>% \n",
    "  ggplot(aes(distance_from_station, posted_land_price)) +\n",
    "  geom_point()"
   ]
  },
  {
   "cell_type": "code",
   "execution_count": null,
   "metadata": {},
   "outputs": [],
   "source": [
    "df_lp_kanto %>% \n",
    "  ggplot(aes(distance_from_station, acreage)) +\n",
    "  geom_point()"
   ]
  },
  {
   "cell_type": "markdown",
   "metadata": {},
   "source": [
    "## 特殊なデータの視覚化\n",
    "\n",
    "### 時系列データ\n",
    "\n",
    "時系列データを扱うときは、時間のならびの通りに表示させることが肝心です。周期があるものは分割したり重ねてみると良いでしょう。"
   ]
  },
  {
   "cell_type": "code",
   "execution_count": null,
   "metadata": {},
   "outputs": [],
   "source": [
    "df_beer2018q2 %>% \n",
    "  ggplot(aes(date, expense)) +\n",
    "  geom_point() +\n",
    "  geom_line() +\n",
    "  scale_x_date(date_breaks = \"7 days\")"
   ]
  },
  {
   "cell_type": "code",
   "execution_count": null,
   "metadata": {
    "lines_to_next_cell": 2
   },
   "outputs": [],
   "source": [
    "df_beer2018q2 %>% \n",
    "  ggplot(aes(expense)) +\n",
    "  geom_histogram(bins = 30)"
   ]
  },
  {
   "cell_type": "markdown",
   "metadata": {},
   "source": [
    "### 空間データ"
   ]
  },
  {
   "cell_type": "code",
   "execution_count": null,
   "metadata": {},
   "outputs": [],
   "source": [
    "sf_lp_kanto <- \n",
    "  df_lp_kanto %>% \n",
    "  select(posted_land_price, .longitude, .latitude) %>% \n",
    "  st_as_sf(coords = c(\".longitude\", \".latitude\"), crs = 4326)\n",
    "\n",
    "ggplot(sf_lp_kanto) +\n",
    "  geom_sf(aes(color = posted_land_price),\n",
    "          fill = \"transparent\", alpha = 0.1, size = 0.5) +\n",
    "  scale_color_viridis_c()"
   ]
  },
  {
   "cell_type": "markdown",
   "metadata": {},
   "source": [
    "<!-- ksjのクレジット -->\n",
    "\n",
    "<!-- アンスコムの例 -->"
   ]
  },
  {
   "cell_type": "markdown",
   "metadata": {},
   "source": [
    "### 高次元の可視化\n",
    "\n",
    "3次元の世界に生きる我々は、高次元のデータを直接扱うことに慣れていません。\n",
    "\n",
    "次元圧縮を行ってからの可視化が効果的です。\n",
    "\n",
    "#### ヒートマップ\n",
    "\n",
    "変数間の関係、特に相関や欠損関係がある場合に役立ちます。\n",
    "\n",
    "#### 散布図行列\n"
   ]
  },
  {
   "cell_type": "code",
   "execution_count": null,
   "metadata": {
    "lines_to_next_cell": 2
   },
   "outputs": [],
   "source": [
    "df_is_num %>% \n",
    "  GGally::ggpairs()\n",
    "\n",
    "df_is_num %>% \n",
    "  corrr::correlate()"
   ]
  },
  {
   "cell_type": "code",
   "execution_count": null,
   "metadata": {},
   "outputs": [],
   "source": [
    "df_is_num %>% \n",
    "  vis_cor()\n",
    "\n",
    "df_is_log %>% \n",
    "  mutate_all(as.numeric) %>% \n",
    "  vis_cor()\n",
    "\n",
    "all.equal(\n",
    "  df_lp_kanto$attribute_change_building_coverage,\n",
    "  df_lp_kanto$attribute_change_floor_area_ratio)"
   ]
  },
  {
   "cell_type": "markdown",
   "metadata": {},
   "source": [
    "#### t-SNE\n",
    "\n",
    "高次元データの2次元散布図を用いた可視化に利用される"
   ]
  },
  {
   "cell_type": "markdown",
   "metadata": {},
   "source": [
    "#### モデルの利用\n",
    "\n",
    "効果的な変数の仮説がない場合や、変数の量が多い場合には、EDAの前に木ベースのモデルを適用してみるのも戦略の1つです。これらのモデルでは目的変数に対する説明変数の貢献度として、変数重要度を示すことが可能です。これによりEDAのとっかかりを得ることが可能になるはずです。変数重要度については後の章で解説します。\n",
    "\n",
    "## まとめ\n",
    "\n",
    "- モデリング、統計分析を行う前にデータを精査することが大事\n",
    "    - データの特徴を理解することで次のステップにかける時間を減らす、異常を見逃さない、（意図しない）間違いを見逃さない\n",
    "- 特に可視化の手法を用いることでデータの集約や関係、パターンを見やすくする\n",
    "\n",
    "## 関連項目\n",
    "\n",
    "- 次元削減\n",
    "- 欠損処理\n",
    "- 変数重要度\n",
    "\n",
    "## 参考文献"
   ]
  }
 ],
 "metadata": {
  "jupytext": {
   "formats": "ipynb,Rmd"
  },
  "kernelspec": {
   "display_name": "R",
   "language": "R",
   "name": "ir"
  },
  "language_info": {
   "codemirror_mode": "r",
   "file_extension": ".r",
   "mimetype": "text/x-r-source",
   "name": "R",
   "pygments_lexer": "r",
   "version": "3.6.0"
  },
  "toc": {
   "base_numbering": 1,
   "nav_menu": {},
   "number_sections": true,
   "sideBar": true,
   "skip_h1_title": false,
   "title_cell": "Table of Contents",
   "title_sidebar": "Contents",
   "toc_cell": false,
   "toc_position": {},
   "toc_section_display": true,
   "toc_window_display": false
  },
  "varInspector": {
   "cols": {
    "lenName": 16,
    "lenType": 16,
    "lenVar": 40
   },
   "kernels_config": {
    "python": {
     "delete_cmd_postfix": "",
     "delete_cmd_prefix": "del ",
     "library": "var_list.py",
     "varRefreshCmd": "print(var_dic_list())"
    },
    "r": {
     "delete_cmd_postfix": ") ",
     "delete_cmd_prefix": "rm(",
     "library": "var_list.r",
     "varRefreshCmd": "cat(var_dic_list()) "
    }
   },
   "types_to_exclude": [
    "module",
    "function",
    "builtin_function_or_method",
    "instance",
    "_Feature"
   ],
   "window_display": false
  }
 },
 "nbformat": 4,
 "nbformat_minor": 2
}
