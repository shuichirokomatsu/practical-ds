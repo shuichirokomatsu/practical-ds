{
 "cells": [
  {
   "cell_type": "code",
   "execution_count": null,
   "metadata": {
    "hide_output": true,
    "name": "setup"
   },
   "outputs": [],
   "source": [
    "source(here::here(\"R/setup.R\"))"
   ]
  },
  {
   "cell_type": "markdown",
   "metadata": {},
   "source": [
    "# tidyデータ: 人間にも機械にも優しいデータの記述形式\n",
    "\n",
    "データが手に入ってすぐに、モデルに利用できることはごく稀です。\n",
    "\n",
    "前処理と呼ばれる作業が必要になります。\n",
    "\n",
    "ここではtidyデータと呼ばれる\n",
    "\n",
    "形式へのデータ整形方法と一般的な前処理について紹介します。\n",
    "\n",
    "欠損値の削除や外れ値の削除\n",
    "\n",
    "データの質が統計モデリングや機械学習の学習効果に影響を及ぼします。\n",
    "\n",
    "データをモデルに流し込む前段階\n",
    "\n",
    "同時にいくつかの作業は（？）\n",
    "\n",
    "モデルの性能を大きく左右する\n",
    "\n",
    "横長\n",
    "\n",
    "## データ型\n",
    "\n",
    "表示した状態では同じように見えてもプログラムの中では異なる値として扱われることがあります。\n"
   ]
  },
  {
   "cell_type": "code",
   "execution_count": null,
   "metadata": {
    "lines_to_next_cell": 2
   },
   "outputs": [],
   "source": [
    "x <- \"2019-07-10\"\n",
    "\n",
    "class(x)\n",
    "class(lubridate::as_date(x))"
   ]
  },
  {
   "cell_type": "markdown",
   "metadata": {},
   "source": [
    "## 前処理の必要性\n",
    "\n",
    "前処理の必要性とその範囲は\n",
    "\n",
    "適用するモデルのタイプによって異なります。\n",
    "\n",
    "木ベースのモデル（決定木、ランダムフォレスト）では、特徴量を入力とする複数のステップ関数（閾値を超えた場合に1, そうでなければ0に変換する）の組み合わせによって構成されるため変数のスケールの影響を受けません。しかしロジスティック回帰や部分最小二乗法、リッジ回帰や距離を利用するk-means、主成分分析など、多くのモデルは入力のスケールに敏感で、変数間のスケールを揃える必要があります。\n",
    "\n",
    "### 前処理の必要性1: 重回帰モデル"
   ]
  },
  {
   "cell_type": "code",
   "execution_count": null,
   "metadata": {},
   "outputs": [],
   "source": [
    "df_lp_kanto %>% \n",
    "  lm(posted_land_price ~ distance_from_station + acreage + night_population,\n",
    "     data = .) %>% \n",
    "  tidy()"
   ]
  },
  {
   "cell_type": "markdown",
   "metadata": {},
   "source": [
    "`distance_from_staion` の影響が一番強く、`acreage`、`night_population`が続きます。しかし `distance_from_staion` の値が大きすぎて他の変数の効果が小さいように見えます。これは元のスケールの影響を受けているためです。 `distance_from_staion` と `acreage` の1は同じ単位ではありません。偏回帰係数を比較する場合、スケーリングを行っておく必要があります。"
   ]
  },
  {
   "cell_type": "code",
   "execution_count": null,
   "metadata": {},
   "outputs": [],
   "source": [
    "df_lp_kanto %>% \n",
    "  recipe(posted_land_price ~ distance_from_station + acreage + night_population) %>% \n",
    "  step_center(all_predictors()) %>% \n",
    "  step_scale(all_predictors()) %>% \n",
    "  prep() %>% \n",
    "  juice() %>% \n",
    "  lm(posted_land_price ~ .,\n",
    "     data = .) %>% \n",
    "  tidy()"
   ]
  },
  {
   "cell_type": "markdown",
   "metadata": {},
   "source": [
    "### 前処理の必要性2: 変数間のスケールが揃わない主成分分析\n",
    "\n",
    "[主成分分析](../03/dimension-reduction)では入力に用いる変数間のスケールが標準化されていることが前提です。それは特徴量空間におけるデータ間を距離を利用するためです。そのため、値の範囲が大きく異なる変数があることでその影響を強く受けます。まずは標準化を行わない場合の結果を見てみましょう。"
   ]
  },
  {
   "cell_type": "code",
   "execution_count": null,
   "metadata": {},
   "outputs": [],
   "source": [
    "pca_res <- \n",
    "  prcomp(~ distance_from_station + acreage + night_population, \n",
    "       data = df_lp_kanto,\n",
    "       center = FALSE,\n",
    "       scale. = FALSE)\n",
    "# 主成分軸上のSDが大きく異なっていることに注意（単位の影響を強く受けている）\n",
    "pca_res\n",
    "# 第1主成分のみで累積寄与率が99%を超える\n",
    "summary(pca_res)"
   ]
  },
  {
   "cell_type": "markdown",
   "metadata": {},
   "source": [
    "次にあらかじめ標準化したデータを元に主成分分析を行った結果を見ます。"
   ]
  },
  {
   "cell_type": "code",
   "execution_count": null,
   "metadata": {
    "lines_to_next_cell": 2
   },
   "outputs": [],
   "source": [
    "pca_res <- \n",
    "  prcomp(~ distance_from_station + acreage + night_population, \n",
    "       data = df_lp_kanto,\n",
    "       center = TRUE,\n",
    "       scale. = TRUE)\n",
    "# SDが小さくなる\n",
    "pca_res\n",
    "# 第2主成分軸まで含めて72%を説明\n",
    "summary(pca_res)"
   ]
  },
  {
   "cell_type": "markdown",
   "metadata": {},
   "source": [
    "### 前処理の必要性3: kNN"
   ]
  },
  {
   "cell_type": "code",
   "execution_count": null,
   "metadata": {
    "lines_to_next_cell": 2
   },
   "outputs": [],
   "source": [
    "library(FNN)\n",
    "set.seed(12)\n",
    "\n",
    "split_hazard <- \n",
    "  df_hazard_kys %>%\n",
    "  select(hazard, max_elevation, mean_slope_aspect) %>% \n",
    "  drop_na() %>% \n",
    "  rsample::initial_split(strata = \"hazard\")\n",
    "\n",
    "df_train <- training(split_hazard)\n",
    "df_test <- testing(split_hazard)\n",
    "\n",
    "p1 <-\n",
    "  ggplot(df_train, aes(max_elevation, mean_slope_aspect)) +\n",
    "  geom_point(aes(color = hazard))\n",
    "\n",
    "# p1 + \n",
    "#   ylim(range(df_train$max_elevation))\n",
    "# \n",
    "# plot_grid(p1, p2)\n",
    "\n",
    "knn_res <- knn(df_train, df_test, df_train$hazard, k = 2, prob = FALSE)\n",
    "df_test$predict <- knn_res\n",
    "attr(knn_res, \"nn.index\") %>% as.data.frame() %>% as_tibble() %>% .[21, ]\n",
    "\n",
    "p2 <-\n",
    "  ggplot(df_test,\n",
    "       aes(max_elevation, mean_slope_aspect)) +\n",
    "  geom_point(aes(color = predict))\n",
    "\n",
    "# get.knn(df_test %>% select_if(is.numeric), k = 2)[\"nn.index\"] %>% as.data.frame() %>% .[397, ]\n",
    "\n",
    "\n",
    "p3 <- \n",
    "  p2 + \n",
    "  scale_color_manual(values = c(\"gray\", \"gray\")) +\n",
    "  geom_point(data = df_test %>% \n",
    "               slice(c(397, 147, 271)), \n",
    "         aes(max_elevation, mean_slope_aspect),\n",
    "      #   color = \"transparent\",\n",
    "         size = 3)\n",
    "\n",
    "p3 +\n",
    "  ylim(range(df_test$max_elevation))\n",
    "\n",
    "\n",
    "rec <- \n",
    "  df_train %>% \n",
    "  recipe(hazard ~ .) %>% \n",
    "  step_center(all_predictors()) %>% \n",
    "  step_scale(all_predictors())\n",
    "\n",
    "df_train_baked <- \n",
    "  rec %>% \n",
    "  prep(training = df_train) %>% \n",
    "  bake(new_data = df_train)\n",
    "df_test_baked <- \n",
    "  rec %>% \n",
    "  prep(training = df_train) %>% \n",
    "  bake(new_data = df_test)\n",
    "\n",
    "knn(df_train_baked, df_test_baked, df_train_baked$hazard, k = 2) %>% \n",
    "  table()"
   ]
  },
  {
   "cell_type": "markdown",
   "metadata": {},
   "source": [
    "<!-- ### 前処理の必要性4: SVM -->\n",
    "\n",
    "## スケーリング処理\n",
    "\n",
    "変数間のスケールを統一する処理には複数の方法があります。いずれもデータが取りうる値のスケールを変換し、一定の範囲に収める処理を行います。これらは個々の特徴量に対して適用され、後に述べるような対数変換のようにデータの分布を変化させない変換方法になります。\n",
    "\n",
    "PLSなどで恩恵がありますが\n",
    "\n",
    "一方でデータが持つ単位を失ってしまうことは、データの解釈を困難にさせます。\n",
    "\n",
    "これらのスケーリング処理はデータの分布には影響しないことが特徴です。\n",
    "\n",
    "### Min-Maxスケーリング\n",
    "\n",
    "特徴量の値を0~1の範囲に収める変換をMin-Maxスケーリングと呼びます。\n",
    "\n",
    "Min-Maxスケーリングを行う際は、数値の取り得る値があらかじめわかっているものが望ましいです。データとして存在しない値や外れ値が与えられることで、その値に引っ張られて相対的な差がなくなってしまう恐れがあるからです。"
   ]
  },
  {
   "cell_type": "code",
   "execution_count": null,
   "metadata": {
    "lines_to_next_cell": 2
   },
   "outputs": [],
   "source": [
    "# 地価データの「最寄り駅までの距離」の範囲\n",
    "lp_dist <- df_lp_kanto$distance_from_station\n",
    "range(lp_dist)"
   ]
  },
  {
   "cell_type": "code",
   "execution_count": null,
   "metadata": {},
   "outputs": [],
   "source": [
    "lp_dist_minmax <- \n",
    "  scale(lp_dist, center = min(lp_dist), scale = (max(lp_dist) - min(lp_dist)))\n",
    "range(lp_dist_minmax)"
   ]
  },
  {
   "cell_type": "markdown",
   "metadata": {},
   "source": [
    "全体を考慮"
   ]
  },
  {
   "cell_type": "code",
   "execution_count": null,
   "metadata": {
    "lines_to_next_cell": 2
   },
   "outputs": [],
   "source": [
    "p1 <- \n",
    "  ggplot(df_lp_kanto, aes(x = 0, y = distance_from_station)) +\n",
    "  geom_violin(color = ds_col(1))\n",
    "\n",
    "p2 <- \n",
    "  ggplot(data = NULL, aes(0, lp_dist_minmax[, 1])) +\n",
    "  geom_violin(color = ds_col(5)) +\n",
    "  ylab(\"min_max(lp_dist)\")\n",
    "\n",
    "plot_grid(p1, p2)"
   ]
  },
  {
   "cell_type": "markdown",
   "metadata": {},
   "source": [
    "- 外れ値が含まれていない場合に良い\n",
    "- 外れ値の情報を活用したい時には適さない"
   ]
  },
  {
   "cell_type": "markdown",
   "metadata": {},
   "source": [
    "### 標準化\n",
    "\n",
    "標準化 (standardization)... 平均0、分散（標準偏差）1になる。\n",
    "\n",
    "- 複数の変数に対して行うことで比較が可能になる (平均0, 標準偏差1)\n",
    "- 範囲スケーリング... 最大値、最小値を利用する\n",
    "- 共通の「単位」をもつように扱いたい場合に有効\n",
    "    - 距離または内積を利用する --> KNN, SVMs\n",
    "    - ペナルティを課すため --> lasso, ridge\n",
    "\n",
    "を標準化 (standardization) と呼びます。具体的には変数の取りうる値を平均0、分散1に変換する処理です。"
   ]
  },
  {
   "cell_type": "markdown",
   "metadata": {},
   "source": [
    "<!-- あとで独立させる -->"
   ]
  },
  {
   "cell_type": "code",
   "execution_count": null,
   "metadata": {},
   "outputs": [],
   "source": [
    "# スケーリングでは分布は変わらない\n",
    "range(df_lp_kanto$posted_land_price)\n",
    "p_base <- \n",
    "  df_lp_kanto %>% \n",
    "  ggplot(aes(x = posted_land_price)) +\n",
    "  geom_histogram(bins = 30)\n",
    "p_base\n",
    "df_lp_kanto %>% \n",
    "  ggplot(aes(x = scale(posted_land_price, center = TRUE, scale = TRUE)[, 1])) +\n",
    "  geom_histogram(bins = 30)\n",
    "\n",
    "# hist(df_lp_kanto$posted_land_price)\n",
    "# hist(scale(df_lp_kanto$posted_land_price)[, 1])"
   ]
  },
  {
   "cell_type": "markdown",
   "metadata": {},
   "source": [
    "リッジ回帰、主成分分析では変数の標準化が前提となっている\n",
    "\n",
    "### 正規化\n",
    "\n",
    "正規化 (normalization)\n",
    "\n",
    "取りうる値の範囲が狭くなります。これは外れ値に対して有効な処理と言えます。\n",
    "\n",
    "体重や身長など、単位が異なる変数を比較する際に役立ちます。\n",
    "\n",
    "正規化により、取りうる値の範囲が統一されるためです。\n",
    "\n",
    "データの表現方法を変える\n",
    "\n"
   ]
  },
  {
   "cell_type": "code",
   "execution_count": null,
   "metadata": {},
   "outputs": [],
   "source": [
    "# 地価データにおける駅からの距離\n",
    "# 平均と分散\n",
    "df_lp_kanto %>% \n",
    "  summarise(mean = mean(distance_from_station),\n",
    "            sd = sd(distance_from_station))\n",
    "\n",
    "# center, scale引数はいずれも既定でTRUEです\n",
    "lp_dist_scaled <- \n",
    "  c(scale(df_lp_kanto$distance_from_station, center = TRUE, scale = TRUE))\n",
    "\n",
    "mean(lp_dist_scaled) # 限りなく0に近くなる\n",
    "sd(lp_dist_scaled) # 分散は1"
   ]
  },
  {
   "cell_type": "code",
   "execution_count": null,
   "metadata": {},
   "outputs": [],
   "source": [
    "diff(range(lp_dist))\n",
    "median(lp_dist)\n",
    "\n",
    "diff(range(c(scale(lp_dist))))"
   ]
  },
  {
   "cell_type": "markdown",
   "metadata": {},
   "source": [
    "標準地からの鉄道駅までの距離の中央値は900で、最小値は0 (近接の場合は0が与えられる)、最大値は24000です。この特徴量を標準化するとその差は14.02にまで縮まります。"
   ]
  },
  {
   "cell_type": "markdown",
   "metadata": {},
   "source": [
    "距離の"
   ]
  },
  {
   "cell_type": "markdown",
   "metadata": {},
   "source": [
    "これらの手法は、対数変換と異なりデータの分布には影響しないことが特徴です。"
   ]
  },
  {
   "cell_type": "code",
   "execution_count": null,
   "metadata": {},
   "outputs": [],
   "source": [
    "p1 <- \n",
    "  ggplot(df_lp_kanto, \n",
    "             aes(distance_from_station)) +\n",
    "  geom_histogram(bins = 30, fill = ds_col(1))\n",
    "p2 <-\n",
    "  ggplot(df_lp_kanto,\n",
    "             aes(c(scale(distance_from_station)))) +\n",
    "  geom_histogram(bins = 30, fill = ds_col(5)) + \n",
    "  scale_fill_identity() + aes(fill = ds_col(1))\n",
    "\n",
    "plot_grid(p1, p2, ncol = 2)"
   ]
  },
  {
   "cell_type": "markdown",
   "metadata": {},
   "source": [
    "## データ浄化\n",
    "\n",
    "<!-- 外れ値、欠損処理は簡単に（あとでそれぞれ解説するため）。外れ値はここだけ？ -->"
   ]
  },
  {
   "cell_type": "markdown",
   "metadata": {},
   "source": [
    "1. 情報を含まない列の削除\n",
    "    - 標準偏差が0の説明変数 (constant cols)\n",
    "    - 重複した説明変数を一つに\n",
    "        - 多重共線性\n",
    "    - 相関係数が1である説明変数の組 (perfectly correlated cols) をユニークに\n",
    "        - データリーク\n",
    "\n",
    "データセットに含まれる列のうち、`attribute_change_forest_law` と `attribute_change_parks_law` は論理型の変数でありながら1値しか持たない（標準偏差が0）ものでした。\n",
    "\n",
    "### 外れ値\n",
    "\n",
    "### 欠損処理\n",
    "\n",
    "### 不要な列の削除\n",
    "\n",
    "特徴量選択の文脈においてはフィルタ法\n",
    "\n",
    "... 情報量がない列\n",
    "\n",
    "単一の変数についてと、変数間の関係をそれぞれ調べることが重要になります。\n",
    "\n",
    "もう一度データを確認しておきましょう。\n",
    "\n",
    "<!-- 前に触れている?? EDAがさきにくるか後に来るか -->\n",
    "\n",
    "<!-- 特徴量選択の時にも役立つtips... filter法 -->\n",
    "\n",
    "- 変数内\n",
    "    - 単一の値のみが含まれる変数 (分散0)\n",
    "- 変数間\n",
    "    - 同一の値の組み合わせ\n",
    "    - 相関係数が1になる\n",
    "- データセット全体\n",
    "    - 完全に欠損する行・列"
   ]
  },
  {
   "cell_type": "code",
   "execution_count": null,
   "metadata": {},
   "outputs": [],
   "source": [
    "df_lp_kanto %>% skimr::skim_to_list()"
   ]
  },
  {
   "cell_type": "markdown",
   "metadata": {},
   "source": [
    "`attribute_change_forest_law` と `attribute_change_parks_law` の列は二値データを持つことができる変数ですが、いずれも一つの値しか記録されていません。変数内での分散は0となり、情報を持っていないのと同義です（標準化も適用できません）。そのためこれらの値はモデル構築の前にデータから削除しても問題ないと考えられます。\n",
    "\n",
    "情報量が\n",
    "\n",
    "数値データでは稀ですが、論理値変数やカテゴリ変数に潜んでいる、こうした1種類の値しか取らないデータは除外しましょう。\n"
   ]
  },
  {
   "cell_type": "code",
   "execution_count": null,
   "metadata": {
    "lines_to_next_cell": 2
   },
   "outputs": [],
   "source": [
    "scale(c(0, 0, 0), scale = TRUE)"
   ]
  },
  {
   "cell_type": "code",
   "execution_count": null,
   "metadata": {},
   "outputs": [],
   "source": [
    "df_lp_kanto_clean <- \n",
    "  df_lp_kanto %>% \n",
    "  verify(ncol(.) == 45) %>% \n",
    "  as.data.frame() %>% \n",
    "  remove_constant() %>% \n",
    "  as_tibble() %>% \n",
    "  verify(ncol(.) == 43)\n",
    "\n",
    "dim(df_lp_kanto_clean)"
   ]
  },
  {
   "cell_type": "markdown",
   "metadata": {},
   "source": [
    "<!-- df_hazard_kyusyu では constantがない-->\n",
    "\n",
    "このデータの場合、これ以外で単独の値しか持たない変数はありませんでした。\n"
   ]
  },
  {
   "cell_type": "markdown",
   "metadata": {},
   "source": [
    "どうやら違うようです。"
   ]
  },
  {
   "cell_type": "code",
   "execution_count": null,
   "metadata": {},
   "outputs": [],
   "source": [
    "df_lp_kanto %>% \n",
    "  distinct(attribute_change_urban_planning_area, \n",
    "           attribute_change_use_district)"
   ]
  },
  {
   "cell_type": "markdown",
   "metadata": {},
   "source": [
    "分散が0に近い変数を削除する\n",
    "\n",
    "変数の数は減りますが、重要な変数を削除してしまう恐れがあります。この作業は慎重に"
   ]
  },
  {
   "cell_type": "code",
   "execution_count": null,
   "metadata": {
    "lines_to_next_cell": 0
   },
   "outputs": [],
   "source": [
    "dim(df_lp_kanto_clean)\n",
    "\n",
    "nzv_filter <- \n",
    "  df_lp_kanto_clean %>%\n",
    "  recipe(~ .) %>% \n",
    "  step_nzv(all_predictors())\n",
    "\n",
    "filtered_te <- \n",
    "  nzv_filter %>% \n",
    "  prep() %>% \n",
    "  juice() %>% \n",
    "  verify(ncol(.) == 28)\n",
    "\n",
    "dim(filtered_te)\n",
    "\n",
    "# 削除される列がどのような値を持っているか確認して\n",
    "df_lp_kanto_clean %>% \n",
    "  select(names(df_lp_kanto_clean)[!names(df_lp_kanto_clean) %in% names(filtered_te)]) %>% \n",
    "  glimpse()\n",
    "\n",
    "# 重要ではなさそうなので削除\n",
    "df_lp_kanto_clean <- filtered_te"
   ]
  },
  {
   "cell_type": "markdown",
   "metadata": {},
   "source": [
    "\n"
   ]
  },
  {
   "cell_type": "code",
   "execution_count": null,
   "metadata": {},
   "outputs": [],
   "source": [
    "# 変わらん（正しい）\n",
    "# df_hazard_kys %>% \n",
    "#   as.data.frame() %>% \n",
    "#   remove_empty(\"cols\") %>% \n",
    "#   dim()"
   ]
  },
  {
   "cell_type": "markdown",
   "metadata": {},
   "source": [
    "相関係数が高い変数を\n",
    "\n",
    "多重共線性の問題を引き起こします。\n",
    "\n",
    "いずれかの変数だけを利用するようにしましょう。"
   ]
  },
  {
   "cell_type": "code",
   "execution_count": null,
   "metadata": {},
   "outputs": [],
   "source": [
    "df_lp_kanto_clean %>% \n",
    "  select(-starts_with(\".\")) %>% \n",
    "  select_if(is.numeric) %>% \n",
    "  corrr::correlate()\n",
    "\n",
    "# 最大 0.79... building_coverage - floor_area_ratio\n",
    "df_lp_kanto_clean %>% \n",
    "  select(-starts_with(\".\")) %>% \n",
    "  select_if(is.numeric) %>% \n",
    "  ggcorr(label = TRUE, label_round = 2)\n",
    "\n",
    "df_hazard_kys %>% \n",
    "  select(-block_no, -longitude, -latitude) %>% \n",
    "  select_if(is.numeric) %>% \n",
    "  ggcorr(label = TRUE, label_round = 2)"
   ]
  },
  {
   "cell_type": "code",
   "execution_count": null,
   "metadata": {
    "lines_to_next_cell": 2
   },
   "outputs": [],
   "source": [
    "# df_lp_kanto では不適切\n",
    "\n",
    "df_lp_kanto_clean %>% \n",
    "  recipe(~ .) %>% \n",
    "  step_corr(all_numeric(), -starts_with(\".\"), threshold = 0.9) %>% \n",
    "  prep() %>% \n",
    "  juice() %>% \n",
    "  verify(ncol(.) == 28L)\n",
    "\n",
    "# 閾値を低くする\n",
    "df_lp_kanto_clean %>% \n",
    "  recipe(~ .) %>% \n",
    "  step_corr(all_numeric(), -starts_with(\".\"), threshold = 0.75) %>% \n",
    "  prep() %>% \n",
    "  juice() %>% \n",
    "  verify(ncol(.) == 27L)"
   ]
  },
  {
   "cell_type": "markdown",
   "metadata": {},
   "source": [
    "テキストデータの前処理については[別の章](../02/text)で解説します。\n",
    "\n",
    "### 次元削減と特徴量抽出\n",
    "\n",
    "元データの情報を可能な限り多く含んだ状態を維持しつつ、新たな特徴量を抽出するプロセスとして[次元削減](../03/dimension-reduction)があります。主成分分析に代表されるように、これらの手法は高次元のデータのばらつきをより失わない方法で圧縮します。。特に主成分分析では高次元空間上に直交するベクトルを特徴量（成分）とすることから、入力に相関のある特徴量を与えても無相関の特徴量を得ることが可能です。\n",
    "\n",
    "なお主成分分析は変数のスケールの影響を強く受けます。実行する前にはスケーリング処理を行うようにしましょう。主成分分析を含めた次元削減の実行については[次元削減](../03/dimension-reduction)で解説します。\n",
    "\n",
    "## 関連項目\n",
    "\n",
    "- [次元削減](../03/dimension-reduction)\n",
    "- [特徴量選択](../03/feature-selection)\n",
    "\n",
    "## 参考文献\n",
    "\n",
    "- Max Kuhn and Kjell Johnson (2013). Applied Predictive Modeling. (Springer)\n",
    "- 本橋智光 (2018). 前処理大全 (技術評論社)\n",
    "- Max Kuhn and Kjell Johnson (2019).[Feature Engineering and Selection: A Practical Approach for Predictive Models](https://bookdown.org/max/FES/) (CRC Press)"
   ]
  }
 ],
 "metadata": {
  "jupytext": {
   "formats": "ipynb,Rmd"
  },
  "kernelspec": {
   "display_name": "R",
   "language": "R",
   "name": "ir"
  },
  "language_info": {
   "codemirror_mode": "r",
   "file_extension": ".r",
   "mimetype": "text/x-r-source",
   "name": "R",
   "pygments_lexer": "r",
   "version": "3.6.0"
  },
  "toc": {
   "base_numbering": 1,
   "nav_menu": {},
   "number_sections": true,
   "sideBar": true,
   "skip_h1_title": false,
   "title_cell": "Table of Contents",
   "title_sidebar": "Contents",
   "toc_cell": false,
   "toc_position": {},
   "toc_section_display": true,
   "toc_window_display": false
  }
 },
 "nbformat": 4,
 "nbformat_minor": 2
}
