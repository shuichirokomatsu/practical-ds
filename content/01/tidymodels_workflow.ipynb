{
 "cells": [
  {
   "cell_type": "code",
   "execution_count": null,
   "metadata": {
    "name": "setup"
   },
   "outputs": [],
   "source": [
    "source(here::here(\"R/setup.R\"))"
   ]
  },
  {
   "cell_type": "markdown",
   "metadata": {},
   "source": [
    "# 分析プロジェクトの全体像を掴む\n",
    "\n",
    "- データが与えられた\n",
    "- このデータを使って何を明らかにすることが目的か、またその結果をどのように使い、何を得たいのか\n",
    "- システム設計\n",
    "    - 問題を構成します。\n",
    "    - データの特徴や目的により特定していく\n",
    "\n",
    "地価公示データ\n",
    "\n",
    "- 教師付き学習\n",
    "- 回帰のタスク\n",
    "    - 多変量回帰\n",
    "\n",
    "評価指標の選択"
   ]
  },
  {
   "cell_type": "markdown",
   "metadata": {},
   "source": [
    "- 評価指標...\n",
    "- 回帰問題での典型的な評価指標は二乗平均平方根誤差 (Root Mean Square Error: RMSE)\n",
    "    - 外れ値が多く含まれる場合にはMAEを検討（外れ値の影響を受けにくい）"
   ]
  },
  {
   "cell_type": "markdown",
   "metadata": {},
   "source": [
    "データの分割\n",
    "\n",
    "- 単純な無作為抽出による分割 (hold-out)\n",
    "    - データが大規模なら良いが（特に属性の数との関係に注意。属性数がデータ件数よりも多い場合ではよくない。大きなサンプリングバイアスをもたらす恐れがある）\n",
    "        - 分割可能な層がないか... 層化抽出法を検討"
   ]
  },
  {
   "cell_type": "markdown",
   "metadata": {},
   "source": [
    "## モデルの構築から評価まで\n",
    "\n",
    "- モデル構築\n",
    "    - パラメータを推定する... 訓練用のモデル\n",
    "    - モデル選択とmodel comparison\n",
    "    - 新しいデータ（評価データ）による性能測定\n",
    "\n",
    "仮説を立て、検証し、決定するプロセスを経て変換することが重要（前処理大全）"
   ]
  },
  {
   "cell_type": "markdown",
   "metadata": {},
   "source": [
    "地価公示データを使います。\n",
    "\n",
    "前節で見つけたデータの特徴から、いくつかの処理を加えます。\n",
    "\n",
    "<!-- これはすでに実行させておく??  \n",
    "\n",
    "# - 評価データは？\n",
    "# - tidymodelsを使わないパターンも用意したい\n",
    "\n",
    "-->\n",
    "\n",
    "<!-- 最終的にselectする変数が決まっているから削除のステップは省略? -->\n",
    "\n",
    "<!-- 位置情報データの扱いは後でやるのでここでは議論しない。無視する -->\n",
    "\n",
    "![](../images/modeling-process.png)\n",
    "\n",
    "<!-- 可視化の重要性や戻ってくることをEDAで解説しているのでこの図は本の内容の交通整理と共に最初で示すのが良いかもしれない --> \n",
    "\n",
    "バイアスと分散のトレードオフ\n",
    "\n",
    "考慮すべきこと\n",
    "\n",
    "- 過学習への対策としてのデータ分割\n",
    "- モデルの汎化性能を評価するための指標の選択\n",
    "- 複数のモデルによる比較\n",
    "- モデルのハイパーパラメータの探索と調整\n",
    "\n",
    "## 線形回帰モデルの構築\n",
    "\n",
    "地価公示データ\n"
   ]
  },
  {
   "cell_type": "markdown",
   "metadata": {},
   "source": [
    "<!--最も関連がありそうな変数は何だろう？ 事前にアンケートできるならその結果を使う -->"
   ]
  },
  {
   "cell_type": "code",
   "execution_count": null,
   "metadata": {},
   "outputs": [],
   "source": [
    "ggplot() +\n",
    "  geom_sf(data = ne_knt, fill = \"transparent\") +\n",
    "  geom_sf(data = df_lp_kanto %>% \n",
    "            sf::st_as_sf(coords = \n",
    "                           c(\".longitude\", \".latitude\"), \n",
    "                         crs = 4326),\n",
    "          size = 0.2,\n",
    "          alpha = 0.75) +\n",
    "  coord_sf(datum = NA)"
   ]
  },
  {
   "cell_type": "markdown",
   "metadata": {},
   "source": [
    "- 地価公示データ\n",
    "- 係数の推定\n",
    "- データ分割後、性能評価\n",
    "    - 残差プロット\n",
    "    - 平均二乗誤差(MSE)、決定係数(R2)\n"
   ]
  },
  {
   "cell_type": "code",
   "execution_count": null,
   "metadata": {
    "lines_to_next_cell": 2
   },
   "outputs": [],
   "source": [
    "reg_perf_metrics <- metric_set(rmse, rsq, mae)"
   ]
  },
  {
   "cell_type": "code",
   "execution_count": null,
   "metadata": {},
   "outputs": [],
   "source": [
    "df_lp_kanto_simple <- \n",
    "  df_lp_kanto %>% \n",
    "  dplyr::select(posted_land_price, \n",
    "                .longitude,\n",
    "                .latitude)\n",
    "\n",
    "glimpse(df_lp_kanto_simple)"
   ]
  },
  {
   "cell_type": "markdown",
   "metadata": {},
   "source": [
    "### データ分割\n",
    "\n",
    "訓練データとテストデータ\n",
    "\n",
    "- 訓練データ (training set)... モデルのパラメータ推定に利用される\n",
    "- テストデータ (test set)... モデルの学習中には利用されない。"
   ]
  },
  {
   "cell_type": "code",
   "execution_count": null,
   "metadata": {},
   "outputs": [],
   "source": [
    "# 訓練データとテストデータ\n",
    "# [ ] 後の章で空間配置を考慮した分割にする\n",
    "set.seed(123)\n",
    "lp_split <- \n",
    "  df_lp_kanto_simple %>% \n",
    "  initial_split(prop = 3/4)\n",
    "df_lp_train <- training(lp_split)\n",
    "df_lp_test <- testing(lp_split)"
   ]
  },
  {
   "cell_type": "markdown",
   "metadata": {},
   "source": [
    "単純なhold-out検証を行う\n",
    "\n",
    "### 初期モデルの作成\n",
    "\n",
    "単純な、地価公示標準地の位置（緯度と経度）が価格に影響するというモデルを考えてみます。"
   ]
  },
  {
   "cell_type": "code",
   "execution_count": null,
   "metadata": {},
   "outputs": [],
   "source": [
    "mod_formula <- formula(posted_land_price ~ .longitude + .latitude)\n",
    "# モデルを定義... 線形回帰モデル\n",
    "mod_lin_reg <- linear_reg()\n",
    "# エンジンを指定... stats::lm\n",
    "spec_lm <- set_engine(mod_lin_reg, engine = \"lm\")"
   ]
  },
  {
   "cell_type": "code",
   "execution_count": null,
   "metadata": {},
   "outputs": [],
   "source": [
    "mod_rec <- \n",
    "  df_lp_train %>% \n",
    "  recipe(mod_formula) %>% \n",
    "  # 対数変換により正規分布に近づける\n",
    "  step_log(all_outcomes(), base = 10)\n",
    "\n",
    "mod_rec"
   ]
  },
  {
   "cell_type": "code",
   "execution_count": null,
   "metadata": {},
   "outputs": [],
   "source": [
    "df_baked <- \n",
    "  mod_rec %>% \n",
    "  prep(training = df_lp_train) %>% \n",
    "  bake(new_data = df_lp_train)"
   ]
  },
  {
   "cell_type": "code",
   "execution_count": null,
   "metadata": {},
   "outputs": [],
   "source": [
    "fit_lm <- \n",
    "  fit(\n",
    "    spec_lm,\n",
    "    mod_formula,\n",
    "    data = df_baked)\n",
    "\n",
    "tidy(fit_lm)"
   ]
  },
  {
   "cell_type": "markdown",
   "metadata": {},
   "source": [
    "### モデル評価"
   ]
  },
  {
   "cell_type": "code",
   "execution_count": null,
   "metadata": {
    "lines_to_next_cell": 2
   },
   "outputs": [],
   "source": [
    "# predict\n",
    "test_pred <- \n",
    "  fit_lm %>% \n",
    "  predict(new_data = df_lp_test) %>% \n",
    "  bind_cols(df_lp_test) %>% \n",
    "  transmute(log_price = log10(posted_land_price),\n",
    "            .pred)\n",
    "\n",
    "test_pred %>% \n",
    "  reg_perf_metrics(truth = log_price, estimate = .pred)"
   ]
  },
  {
   "cell_type": "markdown",
   "metadata": {},
   "source": [
    "## まとめ\n",
    "\n",
    "## 関連項目\n",
    "\n",
    "- データ分割\n",
    "\n",
    "## 参考文献\n",
    "\n",
    "- Aurélien Géron (2017). Hands-On Machine Learning with Scikit-Learn and TensorFlow (O'Reilly) (**翻訳** 長尾高弘訳 (2018). scikit-learnとTensorFlowによる実践機械学習 (オライリー))\n",
    "- Max Kuhn and Kjell Johnson (2019).[Feature Engineering and Selection: A Practical Approach for Predictive Models](https://bookdown.org/max/FES/) (CRC Press)"
   ]
  }
 ],
 "metadata": {
  "jupytext": {
   "formats": "ipynb,Rmd"
  },
  "kernelspec": {
   "display_name": "R",
   "language": "R",
   "name": "ir"
  }
 },
 "nbformat": 4,
 "nbformat_minor": 2
}
