{
 "cells": [
  {
   "cell_type": "code",
   "execution_count": null,
   "metadata": {
    "lines_to_next_cell": 2,
    "name": "setup"
   },
   "outputs": [],
   "source": [
    "source(here::here(\"R/setup.R\"))\n",
    "library(cattonum)\n",
    "\n",
    "df_hazard <- \n",
    "  df_hazard %>% \n",
    "  st_drop_geometry()"
   ]
  },
  {
   "cell_type": "markdown",
   "metadata": {},
   "source": [
    "# カテゴリデータの取り扱い\n",
    "\n",
    "ダミー変数の作成\n",
    "\n",
    "多くの統計・機械学習モデルでは、数値化を求めます。\n",
    "\n",
    "だめ... SVM、ニューラルネットワーク\n",
    "\n",
    "xgboost, glmnet etc.\n",
    "\n",
    "カテゴリの変数には、次にあげる特徴が含まれる場合があります。\n",
    "\n",
    "1. 大小または順序関係\n",
    "2. 重み\n",
    "\n",
    "ここで紹介する多くの特徴量エンジニアリングは、カテゴリ変数がもつ特徴を考慮しつつ、数値化するものとなります。\n",
    "\n",
    "定性的\n",
    "\n",
    "一方で、数値のように扱える郵便番号などは数値として扱ってはいけません。これらは数値出会っても大小関係や連続的な意味をもたないためです。\n",
    "\n",
    "「どれだけ違うか」ではなく「値が異なることが重要」\n",
    "\n",
    "メッシュコード\n",
    "\n",
    "尺度の問題？？\n",
    "\n",
    "カテゴリに順序を与える\n",
    "大きさを示す変数として「大」、「中」、「小」の3項目がある場合、「大」は「小」よりも大きいことはわかります。この関係は1から3の数値に示すことが可能で、大は一番大きな値である3と対応するという変換を行うことができます。\n",
    "\n",
    "ここではビールへの支出データおよび土砂災害・雪崩メッシュデータを利用します。"
   ]
  },
  {
   "cell_type": "code",
   "execution_count": null,
   "metadata": {
    "eval": false
   },
   "outputs": [],
   "source": [
    "df_beer2018q2\n",
    "df_hazard"
   ]
  },
  {
   "cell_type": "markdown",
   "metadata": {},
   "source": [
    "カテゴリ変数の特徴量エンジニアリングには、次元を増やす、増やさないの両方のパターンがあります。\n",
    "\n",
    "それぞれの方法をみていきましょう。\n",
    "\n",
    "色々ある。これで全てではない。weight of evidenceなど。\n",
    "\n",
    "カテゴリを数値に変換する処理のことを全般的にエンコーディング\n",
    "\n",
    "## ビンカウンティング\n",
    "\n",
    "統計量を当てはめるのをビンカウンティング\n",
    "\n",
    "### カウントエンコーディング\n",
    "\n",
    "カウント変数の項目に対して、頻度を求めたものがカウントエンコーディングです。"
   ]
  },
  {
   "cell_type": "code",
   "execution_count": null,
   "metadata": {},
   "outputs": [],
   "source": [
    "set.seed(1236)\n",
    "df <- \n",
    "  df_hazard %>% \n",
    "  sample_n(10) %>% \n",
    "  select(hazardDate, hazardType, maxRainfall_h)\n",
    "df"
   ]
  },
  {
   "cell_type": "markdown",
   "metadata": {},
   "source": [
    "このようなデータに対して、hazardTypeのカウントエンコーディングを適用すると次のようになります。"
   ]
  },
  {
   "cell_type": "code",
   "execution_count": null,
   "metadata": {},
   "outputs": [],
   "source": [
    "df %>% \n",
    "  group_by(hazardType) %>% \n",
    "  mutate(hazardDate,\n",
    "            hazardType_ = n(),\n",
    "            maxRainfall_h) %>% \n",
    "  ungroup() %>% \n",
    "  select(hazardDate, hazardType = hazardType_, maxRainfall_h)"
   ]
  },
  {
   "cell_type": "markdown",
   "metadata": {},
   "source": [
    "カテゴリ内での出現頻度が多ければ多いほど、特徴量の値は大きくなり、影響も強くなります。一方で、元は異なる水準であったものが同じ出現頻度であった場合にはエンコード後の値が同じになってしまうことに注意です。例では、出現頻度が1の「地すべり」と「雪崩」"
   ]
  },
  {
   "cell_type": "markdown",
   "metadata": {},
   "source": [
    "### ラベルエンコーディング\n",
    "\n",
    "ラベルエンコーディング (label encoding) はカテゴリに対して一意の数値を割り振るというアイデアが単純なものですが、それではカテゴリがもつ特徴を拾い上げることはできません。"
   ]
  },
  {
   "cell_type": "code",
   "execution_count": null,
   "metadata": {
    "lines_to_next_cell": 2
   },
   "outputs": [],
   "source": [
    "df_hazard %>% \n",
    "  st_drop_geometry() %>% \n",
    "  group_by(hazardType) %>% \n",
    "  slice(1:2L) %>% \n",
    "  ungroup() %>% \n",
    "  distinct(hazardType, hazardType_sub, .keep_all = TRUE) %>% \n",
    "  select(hazardType) %>% \n",
    "  mutate(hazardType_num = as.numeric(as.factor(hazardType))) %>% \n",
    "  head(10)"
   ]
  },
  {
   "cell_type": "markdown",
   "metadata": {},
   "source": [
    "### ターゲットエンコーディング\n",
    "\n",
    "ターゲットエンコーディング (target-based encoding, likelihood encoding) は、カテゴリ変数と対応する目的変数の値を利用した方法です。カテゴリ変数の水準ごとに、水準の項目を目的変数の平均値に置き換えるという処理を行います。例えば、カテゴリ変数にAという項目が4つ含まれ、それぞれに1.5, 3.0, 0, 1.2のoutcomeが与えられているとします。この場合、outcomeの平均値は1.425なので、カテゴリ変数のAは1.425に置き換えられます。また以下のように目的変数が論理値である場合には、それを数値に変換した値を利用します（RではTRUEが1、FALSEが0）。"
   ]
  },
  {
   "cell_type": "code",
   "execution_count": null,
   "metadata": {},
   "outputs": [],
   "source": [
    "df <- \n",
    "  tibble(\n",
    "  feature = c(\"A\", \"A\", \"A\", \"A\", \"B\", \"B\", \"C\", \"C\"),\n",
    "  outcome = c(TRUE, FALSE, FALSE, FALSE, TRUE, FALSE, TRUE, TRUE)) %>% \n",
    "  add_count(feature)\n",
    "\n",
    "df\n",
    "\n",
    "df %>% \n",
    "  mutate(outcome = as.numeric(outcome)) %>% \n",
    "  catto_mean(response = outcome)\n",
    "\n",
    "# df_target_enc <- \n",
    "#   df %>% \n",
    "#   add_count(feature) %>%\n",
    "#   group_by(feature) %>% \n",
    "#   mutate(mean_encode = sum(outcome) / n) %>% \n",
    "#   ungroup() %>% \n",
    "#   select(-feature)\n",
    "# \n",
    "# df_target_enc"
   ]
  },
  {
   "cell_type": "markdown",
   "metadata": {},
   "source": [
    "データリークを起こしてしまう問題がある。\n",
    "\n",
    "また\n",
    "\n",
    "頻度の低い水準がある場合も過学習の原因になってしまう可能性がある。\n",
    "\n",
    "#### Leave one out エンコーディング\n",
    "\n",
    "ターゲットエンコーディングの計算において、\n",
    "\n",
    "データリークを防ぐように\n",
    "\n",
    "自身を除いて計算します。\n",
    "\n",
    "完全に防げるわけではない?"
   ]
  },
  {
   "cell_type": "code",
   "execution_count": null,
   "metadata": {
    "lines_to_next_cell": 2
   },
   "outputs": [],
   "source": [
    "# df_target_enc %>% \n",
    "#   group_by(feature) %>% \n",
    "#   mutate(loo_encode = lead(outcome))\n",
    "\n",
    "df %>% \n",
    "  mutate(outcome = as.numeric(outcome)) %>% \n",
    "  catto_loo(response = outcome)"
   ]
  },
  {
   "cell_type": "markdown",
   "metadata": {},
   "source": [
    "### CatBoost\n",
    "\n",
    "## ダミー変数化\n",
    "\n",
    "カテゴリ変数を数値に変換する処理は\n",
    "エンコードと呼ばれます。\n",
    "\n",
    "### ダミーコーディング"
   ]
  },
  {
   "cell_type": "code",
   "execution_count": null,
   "metadata": {},
   "outputs": [],
   "source": [
    "mod_fml <- formula(expense ~ date + weatherdaytime_06_00_18_00)"
   ]
  },
  {
   "cell_type": "markdown",
   "metadata": {},
   "source": [
    "どうして一つ減るのか\n",
    "\n",
    "- 他のダミー変数の値から残り一つの値が推測できる... 他が0であれば1、他のダミー変数に1があれば0\n",
    "\n",
    "フルランク未満のエンコーディングは One-hotエンコーディング\n",
    "\n",
    "- ダミー変数が多くなると次元の数が増える (データ件数を上回ることも)\n",
    "\n",
    "曜日をダミーコーディングする例を考えてみましょう。曜日は7つの値を取りますが、\n",
    "\n",
    "コントラスト関数は6つのダミー変数で曜日を表現することになります。\n",
    "\n",
    "6列... 該当する曜日で1, そうでない場合に0\n",
    "\n",
    "まずは年月日からなる日付の変数から曜日を取り出す必要があります。"
   ]
  },
  {
   "cell_type": "code",
   "execution_count": null,
   "metadata": {},
   "outputs": [],
   "source": [
    "df_baked_split_date <- \n",
    "  df_beer2018q2 %>% \n",
    "  recipe(mod_fml) %>% \n",
    "  step_date(date) %>% \n",
    "  prep(training = df_beer2018q2) %>% \n",
    "  bake(new_data = df_beer2018q2)\n",
    "\n",
    "glimpse(df_baked_split_date)"
   ]
  },
  {
   "cell_type": "markdown",
   "metadata": {},
   "source": [
    "日付を記録するdate列の要素が分解され、新たな特徴量として追加されました。それでは曜日のダミーコーディングを実行します。"
   ]
  },
  {
   "cell_type": "code",
   "execution_count": null,
   "metadata": {
    "lines_to_next_cell": 0
   },
   "outputs": [],
   "source": [
    "df_baked_split_date %>% \n",
    "  recipe(expense ~ .) %>% \n",
    "  step_dummy(date_dow) %>% \n",
    "  prep(training = df_baked_split_date) %>% \n",
    "  bake(new_data = df_baked_split_date) %>% \n",
    "  select(starts_with(\"date_dow\"), everything())"
   ]
  },
  {
   "cell_type": "markdown",
   "metadata": {},
   "source": []
  },
  {
   "cell_type": "markdown",
   "metadata": {},
   "source": [
    "今度は分解した曜日の情報をもとに、ビールの売り上げは「翌日に仕事が控えている曜日よりも休日の方が増えそうだ」という直感を調べてみましょう。"
   ]
  },
  {
   "cell_type": "code",
   "execution_count": null,
   "metadata": {},
   "outputs": [],
   "source": [
    "df_baked_split_date <- \n",
    "  df_baked_split_date %>% \n",
    "  mutate(is_weekend = if_else(date_dow %in% c(\"土\", \"日\"),\n",
    "                              TRUE,\n",
    "                              FALSE))"
   ]
  },
  {
   "cell_type": "code",
   "execution_count": null,
   "metadata": {},
   "outputs": [],
   "source": [
    "df_baked_split_date %>% \n",
    "  ggplot(aes(date_dow, expense)) +\n",
    "  geom_boxplot(aes(color = is_weekend), outlier.shape = NA) +\n",
    "  geom_jitter(aes(color = is_weekend), alpha = 0.3) +\n",
    "  scale_color_ds() +\n",
    "  facet_wrap(~ date_month)"
   ]
  },
  {
   "cell_type": "markdown",
   "metadata": {},
   "source": [
    "目論見通り、どの月でも平日よりも休日の方が支出が増えているようです。また、8月は週ごとに変動が大きく、9月では平日との差がほとんどないということもグラフから読み取れます。新たな特徴量の作成と関係の図示により、経験的な推論を確認するだけでなく、モデルに対する新たな洞察も得ることができました。"
   ]
  },
  {
   "cell_type": "code",
   "execution_count": null,
   "metadata": {},
   "outputs": [],
   "source": [
    "# 日本の祝日判定に次の項目が利用可能\n",
    "stringr::str_subset(timeDate::listHolidays(), \"^JP\")"
   ]
  },
  {
   "cell_type": "markdown",
   "metadata": {},
   "source": [
    "カテゴリに含まれる項目のうち\n",
    "\n",
    "k-1の"
   ]
  },
  {
   "cell_type": "markdown",
   "metadata": {},
   "source": [
    "### One-hotエンコーディング\n",
    "\n",
    "カテゴリ変数に含まれる項目を新たな列として扱い、カテゴリに該当する場合は1、そうでない場合には0を与えていく方法です。\n",
    "\n",
    "ダミー変数とは異なり、ターゲットの項目も残るのが特徴です。\n",
    "\n",
    "> one-hot表現というのはある要素のみが1でその他の要素が0であるような表現方法"
   ]
  },
  {
   "cell_type": "code",
   "execution_count": null,
   "metadata": {},
   "outputs": [],
   "source": [
    "df_baked_split_date %>% \n",
    "  recipe(expense ~ .) %>% \n",
    "  step_dummy(date_dow, one_hot = TRUE) %>% \n",
    "  prep(training = df_baked_split_date) %>% \n",
    "  bake(new_data = df_baked_split_date) %>% \n",
    "  select(starts_with(\"date_dow\"), everything())"
   ]
  },
  {
   "cell_type": "markdown",
   "metadata": {},
   "source": [
    "> カテゴリ数に応じて列数が増えることや、新しい値が出現する度に列数を増やす必要があることが問題点\n",
    "\n",
    "ダミーコーディングでは、カテゴリが多い場合にデータサイズが増大し、さらに大量の0と一部の1を含んだスパースデータ (sparse data) になりやすいことに留意しましょう。カテゴリの数が多い場合には次の特徴量ハッシュやビンカウンティングが有効です。\n",
    "\n",
    "<!-- スパースデータは計算コストが大きくなります -->\n",
    "\n",
    "### effectコーディング\n",
    "\n",
    "## カテゴリ変数の縮約・拡張\n",
    "\n",
    "### Polynomial encoding\n",
    "\n",
    "### Expansion encoding\n",
    "\n",
    "ビールの支出データに含まれるweatherdaytime_06_00_18_00には、「晴」や「曇」だけでなく「曇一時雨」や「雨後時々曇」といった気象に関する項目が含まれます。項目の組み合わせによる表現が可能であるため、カテゴリの数は多くなっています。"
   ]
  },
  {
   "cell_type": "code",
   "execution_count": null,
   "metadata": {},
   "outputs": [],
   "source": [
    "df_beer2018q2 %>% \n",
    "  count(weatherdaytime_06_00_18_00)"
   ]
  },
  {
   "cell_type": "markdown",
   "metadata": {},
   "source": [
    "この一次や時々によって区切ることが可能な項目\n",
    "\n",
    "を新たな特徴量として活用するのがexpansion encodingになります。"
   ]
  },
  {
   "cell_type": "code",
   "execution_count": null,
   "metadata": {},
   "outputs": [],
   "source": [
    "df_beer2018q2_baked <- \n",
    "  df_beer2018q2 %>% \n",
    "  select(date, expense, weatherdaytime_06_00_18_00) %>% \n",
    "  tidyr::separate(weatherdaytime_06_00_18_00, \n",
    "                  sep = \"(後一時|一時|後時々|時々|後)\", \n",
    "                  into = paste(\"weatherdaytime_06_00_18_00\", \n",
    "                                c(\"main\", \"sub\"),\n",
    "                               sep = \"_\"))\n",
    "\n",
    "df_beer2018q2_baked"
   ]
  },
  {
   "cell_type": "markdown",
   "metadata": {},
   "source": [
    "複雑なカテゴリを評価するのではなく、大雑把なカテゴリとして扱いたい場合にはカテゴリの項目を減らすことが有効でしょう。"
   ]
  },
  {
   "cell_type": "code",
   "execution_count": null,
   "metadata": {},
   "outputs": [],
   "source": [
    "df_beer2018q2_baked %>% \n",
    "  count(weatherdaytime_06_00_18_00_main,\n",
    "        weatherdaytime_06_00_18_00_sub)"
   ]
  },
  {
   "cell_type": "markdown",
   "metadata": {},
   "source": [
    "## 多くのカテゴリを持つ場合の処理\n",
    "\n",
    "ビンカウンティング以外の方法を紹介します。\n",
    "\n",
    "<!-- 次元削減の項目も参照 -->\n",
    "\n",
    "### ターゲットエンコーディングの平滑化処理\n",
    "\n",
    "### 特徴量ハッシング\n",
    "\n",
    "ハッシュ関数を利用した\n",
    "\n",
    "固定の配列に変換する\n",
    "\n",
    "## まとめ\n",
    "\n",
    "- カテゴリ変数はツリーベースのモデルを除いて、モデルに適用可能な状態、数値に変換する必要がある\n",
    "- もっとも単純なものはカテゴリに含まれる値を独立した変数として扱うこと\n",
    "    - カテゴリ内の順序を考慮するには別な方法が必要\n",
    "- テキストも同様に数値化が必要。一般的には頻度の少ない単語が除外される。\n",
    "\n",
    "## 関連項目\n",
    "\n",
    "## 参考文献\n",
    "\n",
    "- Max Kuhn and Kjell Johnson (2013). Applied Predictive Modeling (Springer)"
   ]
  }
 ],
 "metadata": {
  "jupytext": {
   "formats": "ipynb,Rmd"
  },
  "kernelspec": {
   "display_name": "R",
   "language": "R",
   "name": "ir"
  },
  "language_info": {
   "codemirror_mode": "r",
   "file_extension": ".r",
   "mimetype": "text/x-r-source",
   "name": "R",
   "pygments_lexer": "r",
   "version": "3.6.0"
  },
  "toc": {
   "base_numbering": 1,
   "nav_menu": {},
   "number_sections": true,
   "sideBar": true,
   "skip_h1_title": false,
   "title_cell": "Table of Contents",
   "title_sidebar": "Contents",
   "toc_cell": false,
   "toc_position": {},
   "toc_section_display": true,
   "toc_window_display": false
  }
 },
 "nbformat": 4,
 "nbformat_minor": 2
}
