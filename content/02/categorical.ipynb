{
 "cells": [
  {
   "cell_type": "code",
   "execution_count": null,
   "metadata": {
    "eval": true,
    "hide_output": true,
    "name": "setup",
    "results": "\"hide\""
   },
   "outputs": [],
   "source": [
    "source(here::here(\"R/setup.R\"))"
   ]
  },
  {
   "cell_type": "markdown",
   "metadata": {},
   "source": [
    "# カテゴリデータの取り扱い\n",
    "\n",
    "項目やラベルを区別するために与えられる、文字列または数値の集合をカテゴリと呼びます。ここではカテゴリ変数に含まれる値を水準と呼びます。カテゴリ変数の例として、地名や行政名、職業などがあります。カテゴリの特徴は有限の集団であることで、数値への置き換えも可能です。しかしカテゴリには通常、大小関係はありません。すなわち名義尺度です。このようなデータは非順序データ (non-ordinal data) と呼ばれます。非順序データに対して、大小の区分のあるカテゴリデータもあります。例えば、大相撲の番付には明確な階級があります（横綱、大関、関脇、小結、前頭、これらはさらに幕内というカテゴリに属します。また幕内の下に十両が存在します）。これは順序データ (ordinal data) です。順序データの場合、さらに水準に対して「重み」が存在する可能性があります。\n",
    "\n",
    "カテゴリは「どれだけ違うか」ではなく「値が異なる」ことが重要な判断基準となります。すなわち、観客数5000人と観客数1000人はその差を求めることができ、カテゴリとして扱うより数値として扱うべきということになります。一方で、数値のように扱える郵便番号などは数値として扱うことは避けるべきです。これらは数値であっても大小関係や連続的な意味をもたないためです。\n",
    "\n",
    "カテゴリは時に大規模になります。顧客データを例にとると、ユーザを識別するIDはサービスを利用するユーザ数が増えれば増えるほど大きくなり、計算コストが高くなってしまいます。そこでより多くのカテゴリ数に対応できる特徴量エンジニアリングが求められます。\n",
    "\n",
    "ここでは順序のない・あるカテゴリを扱うための特徴量エンジニアリングの手法を紹介します。まず、ダミー変数化はカテゴリデータに対して広く利用されるものでいくつかの形態があります。次に、より多くのカテゴリ数や、新たなカテゴリの水準に対応する方法としてビンカウンティングなどを取り扱います[^1]。\n",
    "\n",
    "[^1]: カテゴリを数値に変換する処理は全般的にエンコーディングと呼ばれます。これは、カテゴリが持つ情報をエンコードして数値に変換する作業を踏襲した命名です。"
   ]
  },
  {
   "cell_type": "code",
   "execution_count": null,
   "metadata": {
    "eval": true,
    "name": "load_chapter_depends"
   },
   "outputs": [],
   "source": [
    "library(cattonum)\n",
    "library(FeatureHashing) # 特徴量ハッシング\n",
    "\n",
    "df <- \n",
    "  tibble(\n",
    "  feature = c(\"A\", \"A\", \"A\", \"A\", \"B\", \"B\", \"C\", \"C\"),\n",
    "  outcome = as.numeric(c(TRUE, FALSE, FALSE, FALSE, TRUE, FALSE, TRUE, TRUE))) %>% \n",
    "  add_count(feature)"
   ]
  },
  {
   "cell_type": "markdown",
   "metadata": {},
   "source": [
    "## カテゴリデータの例\n",
    "\n",
    "地価公示価格データは多くのカテゴリ変数をもっています。"
   ]
  },
  {
   "cell_type": "code",
   "execution_count": null,
   "metadata": {
    "eval": true
   },
   "outputs": [],
   "source": [
    "df_lp_kanto %>% \n",
    "  select_if(is.character)"
   ]
  },
  {
   "cell_type": "markdown",
   "metadata": {},
   "source": [
    "土砂災害・雪崩メッシュデータにはカテゴリ変数として6つの変数が含まれます。都道府県名 (`prefecture`)、発生場所を示す市区町村名(`cityName`) 、災害の種類 (`hazardType`) 、災害の種類の詳細 (`hazardType_sub`)、勾配 (`inclination`)、メッシュコード (`meshcode`)の6つです。ここではこれらのデータへの特徴量エンジニアリングを試みることにします。"
   ]
  },
  {
   "cell_type": "code",
   "execution_count": null,
   "metadata": {
    "eval": true
   },
   "outputs": [],
   "source": [
    "# データフレームの文字列の列を選択します\n",
    "df_hazard %>% \n",
    "  select_if(is.character)"
   ]
  },
  {
   "cell_type": "markdown",
   "metadata": {},
   "source": [
    "私たちは都道府県名は最大で47の値があることを知っています。市町村名はそれより多いでしょう。しかし災害の種類 (`hazardType`) 、災害の種類の詳細 (`hazardType_sub`)、勾配 (`inclination`)にどのような値が含まれるかは把握できていません。カテゴリ変数の特徴量エンコーディングを実施する前に、どのような値が存在するか、その頻度と一緒に確認しておきましょう。\n",
    "\n",
    "災害の種類をカウントします。災害の種類を記録する列として `hazardType`、`hazardType_sub`の2種類があります。がけ崩れ、地すべりでは災害種類の詳細を示す `hazardType_sub` が存在しないこともわかりました。また、2つの変数で頻度を集計すると、いくつかの組み合わせではわずかな頻度のものもあることがわかります。対してがけ崩れには `hazardType_sub` がなく、全体の7割近くを占めていることが判明しました。"
   ]
  },
  {
   "cell_type": "code",
   "execution_count": null,
   "metadata": {
    "eval": true
   },
   "outputs": [],
   "source": [
    "df_hazard %>% \n",
    "  count(hazardType, hazardType_sub) %>% \n",
    "  arrange(hazardType)"
   ]
  },
  {
   "cell_type": "markdown",
   "metadata": {},
   "source": [
    "続いて勾配 (`inclination`)です。勾配は連続変数として数値化が可能なように見えます。このことは覚えておきましょう。"
   ]
  },
  {
   "cell_type": "code",
   "execution_count": null,
   "metadata": {
    "eval": true
   },
   "outputs": [],
   "source": [
    "df_hazard %>% \n",
    "  count(inclination)"
   ]
  },
  {
   "cell_type": "markdown",
   "metadata": {},
   "source": [
    "ビールの支出データについては、カテゴリ変数は当日の日中の天候を記録した `weatherdaytime_06_00_18_00` のみです。"
   ]
  },
  {
   "cell_type": "code",
   "execution_count": null,
   "metadata": {
    "eval": true
   },
   "outputs": [],
   "source": [
    "df_beer2018q2 %>% \n",
    "  count(weatherdaytime_06_00_18_00)"
   ]
  },
  {
   "cell_type": "markdown",
   "metadata": {},
   "source": [
    "## ダミー変数化\n",
    "\n",
    "カテゴリ変数を数値に変換する処理として最も一般的なのが、カテゴリ変数をダミー変数化してしまうことです。カテゴリに含まれる水準の値を特徴量に直接用いるもので、ダミーコーディング、One-Hotエンコーディング、effectコーディングの3種類があります。これらはカテゴリに含まれる$k$種類の値を特徴量として扱う際の挙動が異なります。\n",
    "\n",
    "### ダミーコーディング\n",
    "\n",
    "ダミーコーディングは統計分析でも広く使われるカテゴリ変数の数値化手法です。該当する値を含む場合に1、そうでなければ0を各特徴量に与えます。ダミーコーディングではカテゴリが取りうる数、自由度 $k-1$の特徴量を生成します。自由度 $k-1$ で十分である理由は、他のダミー変数の値から残りの一つの値が推測可能だからです。\n",
    "\n",
    "具体例で示しましょう。3つの水準 (A, B, C)をもつカテゴリ変数をダミーコーディングすると、2つの特徴量ができます。ここでは`feature_B`,`feature_C`という名前をつけました。ここで、Aをもつデータを探すのは簡単です。ダミー変数には0と1の値が格納され、該当しない場合には0ですので`feature_B`,`feature_C`両方で0のデータがAになります。Aのようなダミー変数に含まれないカテゴリは参照カテゴリと呼ばれます。参照カテゴリに対して、`feature_B`、`feature_C`の値が決まります。"
   ]
  },
  {
   "cell_type": "code",
   "execution_count": null,
   "metadata": {
    "eval": true
   },
   "outputs": [],
   "source": [
    "df %>% \n",
    "  recipe(~ feature) %>% \n",
    "  step_dummy(feature) %>% \n",
    "  prep() %>% \n",
    "  juice()"
   ]
  },
  {
   "cell_type": "markdown",
   "metadata": {},
   "source": [
    "ダミーコーディングを利用したモデリングはその結果の解釈が容易になります。これを地価公示データの都市計画区分 (`urban_planning_area`) をダミー変数化することで示しましょう。都市計画区分の列は次に示すように4つの値を取りますが、1つを参照カテゴリとして扱い、3つのダミー変数で表現することになります。"
   ]
  },
  {
   "cell_type": "code",
   "execution_count": null,
   "metadata": {
    "eval": true
   },
   "outputs": [],
   "source": [
    "unique(df_lp_kanto$urban_planning_area)"
   ]
  },
  {
   "cell_type": "code",
   "execution_count": null,
   "metadata": {
    "eval": true
   },
   "outputs": [],
   "source": [
    "df_lp_kanto_dummy_baked <- \n",
    "  df_lp_kanto %>% \n",
    "  recipe(posted_land_price ~ .) %>% \n",
    "  step_dummy(urban_planning_area) %>% \n",
    "  prep() %>% \n",
    "  bake(posted_land_price, starts_with(\"urban_planning_area\"), new_data = df_lp_kanto)\n",
    "\n",
    "df_lp_kanto_dummy_baked"
   ]
  },
  {
   "cell_type": "markdown",
   "metadata": {},
   "source": [
    "都市計画区分の情報のみを使って、公示価格を予測する線形回帰モデルを適用します。"
   ]
  },
  {
   "cell_type": "code",
   "execution_count": null,
   "metadata": {
    "eval": true
   },
   "outputs": [],
   "source": [
    "df_lp_kanto_dummy_baked %>% \n",
    "  lm(posted_land_price ~ ., data = .) %>% \n",
    "  tidy()"
   ]
  },
  {
   "cell_type": "markdown",
   "metadata": {},
   "source": [
    "推定された結果の切片は、参照カテゴリの平均値を示します。つまり「市街化」の効果です。市街化に対して、他の係数はいずれも負値を取っています。この値は各カテゴリの平均値と切片（参照カテゴリ）との差を示します。これは市街化の影響が地下価格に影響し、他のカテゴリは効果が小さいことを示す結果です。ダミーエンコーディングではカテゴリの水準の一つを切片として利用可能なため、モデルの解釈が容易になるのです。"
   ]
  },
  {
   "cell_type": "code",
   "execution_count": null,
   "metadata": {
    "eval": false,
    "hide_input": false,
    "name": "lp_urban_planning_area_barplot"
   },
   "outputs": [],
   "source": [
    "df_lp_kanto %>% \n",
    "  ggplot(aes(urban_planning_area, posted_land_price)) +\n",
    "  geom_bar(stat = \"identity\")"
   ]
  },
  {
   "cell_type": "markdown",
   "metadata": {},
   "source": [
    "![](../images/lp_urban_planning_area_barplot-1.png)\n",
    "\n",
    "<!-- なお複数のカテゴリ変数をダミーエンコーディングする場合、参照セルは多次元になります。-->\n",
    "\n",
    "<!-- フルランク未満のエンコーディングは One-Hotエンコーディング -->\n",
    "\n",
    "### One-Hotエンコーディング\n",
    "\n",
    "カテゴリ変数に含まれる項目を新たな列として扱い、各列の値には0または1を与えていく方法をOne-Hotエンコーディングと言います。カテゴリに該当する場合は1、そうでない場合には0を与えていく方法です（ある要素が1で他の要素が0であるようにする表現をOne-Hot表現と呼びます）。ダミー変数とは異なり、カテゴリの水準数kの数だけダミー変数が作成されるのが特徴です。\n",
    "\n",
    "先と同じく、地価公示データの都市計画区分 (`urban_planning_area`) にOne-Hotエンコーディングを適用してみます。"
   ]
  },
  {
   "cell_type": "code",
   "execution_count": null,
   "metadata": {
    "eval": true
   },
   "outputs": [],
   "source": [
    "df_lp_kanto %>% \n",
    "  recipe(~ .) %>% \n",
    "  step_dummy(urban_planning_area, one_hot = TRUE) %>% \n",
    "  prep() %>% \n",
    "  bake(starts_with(\"urban_planning_area\"), new_data = df_lp_kanto)"
   ]
  },
  {
   "cell_type": "markdown",
   "metadata": {},
   "source": [
    "今回はカテゴリの水準数が4であったために4つの特徴量が新たに作られました。\n",
    "\n",
    "### effectコーディング\n",
    "\n",
    "ダミーコーディングのように、参照カテゴリを利用するダミー変数化の方法としてeffectコーディングがあります。しかしeffectコーディングでは参照カテゴリは-1のベクトルで表現されます。"
   ]
  },
  {
   "cell_type": "code",
   "execution_count": null,
   "metadata": {
    "eval": true
   },
   "outputs": [],
   "source": [
    "df %>% \n",
    "  recipe(~ .) %>% \n",
    "  step_dummy(feature) %>% \n",
    "  prep() %>% \n",
    "  juice() %>% \n",
    "  mutate(feature_B = if_else(feature_B == 0 & feature_C == 0,\n",
    "                             -1,\n",
    "                             feature_B),\n",
    "         feature_C = if_else(feature_B == -1 & feature_C == 0,\n",
    "                             -1,\n",
    "                             feature_C))"
   ]
  },
  {
   "cell_type": "markdown",
   "metadata": {},
   "source": [
    "effectコーディングの利点として、ダミーコーディングよりも結果の解釈が簡単ということがあります。ダミーコーディングを適用したデータ同様に、地価価格を予測する線形回帰モデルを実行してみましょう。"
   ]
  },
  {
   "cell_type": "code",
   "execution_count": null,
   "metadata": {
    "eval": true
   },
   "outputs": [],
   "source": [
    "dummy_lm_res <- \n",
    "  df_lp_kanto_dummy_baked %>% \n",
    "  mutate(urban_planning_area_調区 = if_else(urban_planning_area_調区 == 0 & urban_planning_area_都計外 == 0 & urban_planning_area_非線引 == 0,\n",
    "                             -1,\n",
    "                             urban_planning_area_調区),\n",
    "         urban_planning_area_都計外 = if_else(urban_planning_area_調区 == -1 & urban_planning_area_都計外 == 0 & urban_planning_area_非線引 == 0,\n",
    "                             -1,\n",
    "                             urban_planning_area_都計外),\n",
    "         urban_planning_area_非線引 = if_else(urban_planning_area_調区 == -1 & urban_planning_area_都計外 == -1 & urban_planning_area_非線引 == 0,\n",
    "                                           -1,\n",
    "                                           urban_planning_area_非線引)) %>% \n",
    "  lm(posted_land_price ~ ., data = .) %>% \n",
    "  tidy()\n",
    "dummy_lm_res"
   ]
  },
  {
   "cell_type": "markdown",
   "metadata": {},
   "source": [
    "effectコーディングでは、切片はターゲットとなる変数の全体平均を表し、係数は各カテゴリの平均値と全体平均との差分を表します。このことにより、各カテゴリの効果 (main effect) を主眼に捉えることができます。なお参照カテゴリの係数を算出するにはカテゴリの係数を合計してマイナスをつけます。"
   ]
  },
  {
   "cell_type": "code",
   "execution_count": null,
   "metadata": {},
   "outputs": [],
   "source": [
    "-sum(dummy_lm_res$estimate[-1])"
   ]
  },
  {
   "cell_type": "markdown",
   "metadata": {},
   "source": [
    "ダミーエンコーディングの結果と同じく、参照カテゴリの「市街化」の効果が大きく、他のカテゴリによって平均が低くなっていることがわかりました。\n",
    "\n",
    "### ダミー変数化の短所\n",
    "\n",
    "これまでカテゴリ変数のデータに対して、ダミー変数と呼ばれる特徴量を生成する3つの方法を見てきました。ここでダミー変数化の欠点と解決策をあげておきましょう。\n",
    "\n",
    "ダミー変数化では、水準数が大きなカテゴリ変数に対してはうまく機能しないという弱点があります。ダミー変数のみを利用して作成されたモデルでは、入力に与えたデータのカテゴリが既存のカテゴリであれば問題ありません。しかし新しいカテゴリが与えられた際、モデルはこの情報を知らないために予測を出せなくなります。また、水準が多い場合には次元の数が増大することになります。時にデータ件数を上回る次元のデータを扱うことになるかもしれません。さらに、大量の0と一部の1を含んだスパースデータ (sparse data)になりやすいことに留意しましょう。スパースデータは計算コストが大きくなるという問題があります。カテゴリの数が多い場合には次の特徴量ハッシュやビンカウンティングが有効です。\n",
    "\n",
    "## より多くのカテゴリに対応する\n",
    "\n",
    "先ほど、ダミー変数化の弱点として未知のカテゴリに対する脆弱性をあげました。しかしカテゴリが大量にあるデータは頻繁に存在するものです。例えば土砂災害・雪崩メッシュデータのメッシュコードはユニーク件数をカウントすると2190になります。スパースなデータは計算コストが高いだけでなく、いくつかの問題を引き起こします。\n",
    "\n",
    "まず第一にデータ件数によっては、生成されるダミー変数が多くなってしまう可能性があります。この問題はリサンプリングを行う際に検出されます。出現が稀なカテゴリは分析セット（あるいは評価セット）に含まれず、すべて0のダミー変数が選ばれてしまうことがあります。分散0の変数は情報を含まないため除外するということは[データの前処理](../01/tidy-data)で触れました。対策として、リサンプリングから分散0の変数を除去することがありますが、リサンプリング間で使用する変数が異なってしまう問題があります。そこでリサンプリングの前に稀なカテゴリは除外するという方針を取ることがあります。しかしモデルによっては「稀」という情報が有効かもしれません。この情報を失わずに値を変更する方法を以下に紹介します。\n",
    "\n",
    "### 稀なカテゴリをまとめる\n",
    "\n",
    "稀なカテゴリを「その他」として組み合わせて処理することで分散0の変数をなくすことが期待できます。データに与えられたカテゴリが新しいものであったとしても、それはその段階では「稀なカテゴリ（初めて出現）」であるため、モデルを修正せずに、新しいデータに対処できます。\n",
    "\n",
    "具体例を紹介しましょう。土砂災害・雪崩メッシュデータのメッシュコードはユニークな数を集計すると2190になります。データ全体で1回しか出現しないメッシュコードも1380と多く、これをダミー変数化すると、データの分割方法によっては分散0の変数を含んでしまう可能性が高いです。"
   ]
  },
  {
   "cell_type": "code",
   "execution_count": null,
   "metadata": {
    "eval": true
   },
   "outputs": [],
   "source": [
    "df_hazard$meshCode %>% n_distinct()"
   ]
  },
  {
   "cell_type": "code",
   "execution_count": null,
   "metadata": {
    "eval": true
   },
   "outputs": [],
   "source": [
    "df_hazard %>% \n",
    "  count(meshCode, sort = TRUE) %>% \n",
    "  filter(n == 1) %>% \n",
    "  nrow()"
   ]
  },
  {
   "cell_type": "code",
   "execution_count": null,
   "metadata": {
    "eval": false,
    "hide_input": false,
    "name": "hazard_mesh_count"
   },
   "outputs": [],
   "source": [
    "df_hazard %>% \n",
    "  count(meshCode, sort = TRUE) %>% \n",
    "  ggplot(aes(n)) +\n",
    "  geom_histogram(bins = 30)"
   ]
  },
  {
   "cell_type": "markdown",
   "metadata": {},
   "source": [
    "![](../images/hazard_mesh_count-1.png)\n",
    "\n",
    "この出現頻度が低いメッシュコードをまとめてみましょう。今回は全体で10未満の出現頻度のメッシュコードを稀なカテゴリとして扱います。これにより、`meshCode`は28の水準を含むカテゴリになりました。この数が多いか少ないかは議論が残るところですが、ダミー変数化による分散ゼロの変数が含まれる確率は低くなったでしょう。"
   ]
  },
  {
   "cell_type": "code",
   "execution_count": null,
   "metadata": {},
   "outputs": [],
   "source": [
    "df_hazard %>% \n",
    "  recipe(~ .) %>% \n",
    "  step_other(meshCode, other = \"other_meshcode\", threshold = 0.0021) %>% # 0.0004\n",
    "  prep() %>% \n",
    "  juice() %>% \n",
    "  count(meshCode)"
   ]
  },
  {
   "cell_type": "markdown",
   "metadata": {},
   "source": [
    "### 特徴量ハッシング\n",
    "\n",
    "カテゴリの組み合わせる方法として、ハッシュ関数を用いることも可能です。ハッシュはある値のセットを関数を通して別の値（ハッシュ値）に格納する技術で、通常データベースや暗号化で使われますが、特徴量エンジニアリングでも有効です。ハッシュ関数では、潜在的に無限のパターンを取り得る値を有限の$m$種類の値に割り当てます。mはあらかじめ定義することができます。ハッシュ値はハッシュテーブルと呼ばれる場所に格納されますが、ハッシュテーブルのサイズは$m$です。入力値の範囲はハッシュ値が格納されるmよりも大きいので、異なる入力値が同じ出力値に割り当てられることもあります。これを衝突と呼びます。\n",
    "\n",
    "衝突が発生した際には情報が失われることに注意が必要です。\n",
    "\n",
    "特徴量ハッシングまたはハッシュトリックと呼ばれる特徴量エンジニアリングでは、ハッシュ関数を利用して特徴量をm次元のベクトルに圧縮できます。\n",
    "\n",
    "T.B.D.\n",
    "\n",
    "<!-- 固定の配列に変換する　を利用して実行されます。 -->\n",
    "\n",
    "<!-- One-Hotエンコーディングとも似ていますが、より低次元のデータとして表現可能です。-->\n",
    "\n",
    "### 新しいカテゴリに備える\n",
    "\n",
    "モデルが予想していないカテゴリが与えられた時の別の対策として、直接カテゴリ変数を数値列にエンコードする方法を紹介します。これにはいくつかの種類があります。また、いずれも変数の値を利用して計算を行うことになるため、教師付きの方法となります。そのため適切な処理を施さないとデータ漏洩に繋がる可能性があります。\n",
    "\n",
    "カウントエンコーディングやターゲットエンコーディングなど、集計値や統計量などの代表値を当てはめる方法をまとめてビンカウンティングと呼びます。\n",
    "\n",
    "#### カウントエンコーディング\n",
    "\n",
    "カウント変数に含まれる各水準の頻度を求めたものがカウントエンコーディングです。すべての水準がデータ中で一度は出現ため、値は1以上の整数値になります。土砂災害・雪崩メッシュデータに対してカウントエンコーディングを行った結果を次に示します。"
   ]
  },
  {
   "cell_type": "code",
   "execution_count": null,
   "metadata": {
    "eval": true
   },
   "outputs": [],
   "source": [
    "df_hazard %>% \n",
    "  select(hazardDate, hazardType, maxRainfall_h) %>% \n",
    "  group_by(hazardType) %>% \n",
    "  add_count() %>% \n",
    "  select(hazardDate, hazardType, hazardType_n = n) %>% \n",
    "  slice(1L) %>% \n",
    "  ungroup()"
   ]
  },
  {
   "cell_type": "markdown",
   "metadata": {},
   "source": [
    "カウントエンコーディングは直感的で実装も簡単ですが、\n",
    "カテゴリ内での出現頻度が多ければ多いほど、特徴量の値は大きくなり、影響も強くなります。しかしもっとも大きい値（あるいは小さい値）が二番目の値と大きな差があってもその差は縮小されて表現されます。一方で、元は異なる水準であったものが同じ頻度で出現する場合にはエンコード後の値が同じになってしまうことに注意です。\n",
    "\n",
    "#### ラベルエンコーディング\n",
    "\n",
    "ラベルエンコーディング (label encoding, ordinal encoder) はカテゴリに対して一意の数値を割り振るというものです。アイデアは単純ですが、多くの場合これでカテゴリがもつ特徴を拾い上げることはできずに利用する場面は限定的でしょう。"
   ]
  },
  {
   "cell_type": "code",
   "execution_count": null,
   "metadata": {
    "eval": true
   },
   "outputs": [],
   "source": [
    "df_hazard %>% \n",
    "  distinct(hazardType, .keep_all = TRUE) %>% \n",
    "  select(hazardType) %>% \n",
    "  mutate(hazardType_num = as.numeric(as.factor(hazardType))) %>% \n",
    "  head(10)"
   ]
  },
  {
   "cell_type": "markdown",
   "metadata": {},
   "source": [
    "#### ターゲットエンコーディング\n",
    "\n",
    "ターゲットエンコーディング (target-based encoding, likelihood encoding) は、カテゴリ変数と対応する目的変数の値を利用した方法です。カテゴリ変数の水準ごとに、水準の項目を目的変数の平均値に置き換えるという処理を行います。例えば、カテゴリ変数にAという項目が4つ含まれ、それぞれに1.5, 3.0, 0, 1.2のoutcomeが与えられているとします。この場合、outcomeの平均値は1.425なので、カテゴリ変数のAは1.425に置き換えられます。"
   ]
  },
  {
   "cell_type": "code",
   "execution_count": null,
   "metadata": {
    "eval": true
   },
   "outputs": [],
   "source": [
    "tibble(\n",
    "  feature = \"A\",\n",
    "  outcome = c(1.5, 3.0, 0, 1.2)) %>% \n",
    "  catto_mean(response = outcome)"
   ]
  },
  {
   "cell_type": "markdown",
   "metadata": {},
   "source": [
    "また以下のように目的変数が論理値である場合には、それを数値に変換した値を利用します（RではTRUEが1、FALSEが0です）。"
   ]
  },
  {
   "cell_type": "code",
   "execution_count": null,
   "metadata": {
    "eval": true
   },
   "outputs": [],
   "source": [
    "df\n",
    "\n",
    "df %>% \n",
    "  catto_mean(response = outcome)"
   ]
  },
  {
   "cell_type": "markdown",
   "metadata": {},
   "source": [
    "ターゲットエンコーディングでは、カテゴリの水準ごとにデータ全体の値を参照することになるので直接利用する場合はデータ漏洩に繋がります。また頻度の低い水準がある場合も過学習の原因になってしまう可能性があることに気をつけましょう。\n",
    "\n",
    "##### Leave one out エンコーディング\n",
    "\n",
    "ターゲットエンコーディングではデータ漏洩の問題が指摘されました。これを防ぐ方法としてLeave one out エンコーディングがあります（完全にデータ漏洩を防げるわけではありません）。Leave one out エンコーディングではターゲットエンコーディング同様の計算を行いますが、自身を除いて計算されるのが特徴です。"
   ]
  },
  {
   "cell_type": "code",
   "execution_count": null,
   "metadata": {
    "eval": true
   },
   "outputs": [],
   "source": [
    "df %>% \n",
    "  mutate(outcome = as.numeric(outcome)) %>% \n",
    "  catto_loo(response = outcome)"
   ]
  },
  {
   "cell_type": "markdown",
   "metadata": {},
   "source": [
    "`feature` A のうち、`outcome` が1なのは最初の行のみで他の3つの行は0です。そのため最初のAではすべて0を参照することになり、他の行では、0が1つ、1が2つという状況で計算が行われます。\n",
    "\n",
    "## カテゴリ変数の縮約・拡張\n",
    "\n",
    "これらは前処理の段階で行われる作業かもしれませんが、カウントデータが\n",
    "\n",
    "### Polynomial encoding\n",
    "\n",
    "複数のカテゴリ変数の関係を組み合わせて新たなカテゴリ変数を作り上げます。\n",
    "\n",
    "XOR\n",
    "\n",
    "### Expansion encoding\n",
    "\n",
    "一つの特徴量から複数の特徴量を生成します。カテゴリ変数の値の分割がこれに当たります。テキストから必要な情報の取得する、空白があるとデータを区切る、など処理の方法はさまざまです。\n",
    "\n",
    "ビールの支出データに含まれるweatherdaytime_06_00_18_00には、「晴」や「曇」だけでなく「曇一時雨」や「雨後時々曇」といった気象に関する項目が含まれます。項目の組み合わせによる表現が可能であるため、カテゴリの数は多くなっています。"
   ]
  },
  {
   "cell_type": "code",
   "execution_count": null,
   "metadata": {},
   "outputs": [],
   "source": [
    "df_beer2018q2 %>% \n",
    "  count(weatherdaytime_06_00_18_00)"
   ]
  },
  {
   "cell_type": "markdown",
   "metadata": {},
   "source": [
    "この一次や時々によって区切ることが可能な項目\n",
    "\n",
    "を新たな特徴量として活用するのがexpansion encodingになります。"
   ]
  },
  {
   "cell_type": "code",
   "execution_count": null,
   "metadata": {},
   "outputs": [],
   "source": [
    "df_beer2018q2_baked <- \n",
    "  df_beer2018q2 %>% \n",
    "  select(date, expense, weatherdaytime_06_00_18_00) %>% \n",
    "  tidyr::separate(weatherdaytime_06_00_18_00, \n",
    "                  sep = \"(後一時|一時|後時々|時々|後)\", \n",
    "                  into = paste(\"weatherdaytime_06_00_18_00\", \n",
    "                                c(\"main\", \"sub\"),\n",
    "                               sep = \"_\"))\n",
    "\n",
    "df_beer2018q2_baked"
   ]
  },
  {
   "cell_type": "markdown",
   "metadata": {},
   "source": [
    "複雑なカテゴリを評価するのではなく、大雑把なカテゴリとして扱いたい場合にはカテゴリの項目を減らすことが有効でしょう。"
   ]
  },
  {
   "cell_type": "code",
   "execution_count": null,
   "metadata": {
    "lines_to_next_cell": 2
   },
   "outputs": [],
   "source": [
    "df_beer2018q2_baked %>% \n",
    "  count(weatherdaytime_06_00_18_00_main,\n",
    "        weatherdaytime_06_00_18_00_sub)"
   ]
  },
  {
   "cell_type": "markdown",
   "metadata": {},
   "source": [
    "## 順序付きデータのエンコーディング\n",
    "\n",
    "その規模によって順序が与えられている\n",
    "\n",
    "カテゴリの水準に「大」、「中」、「小」\n",
    "\n",
    "ダミー変数化では順序の情報を損なってしまう。\n",
    "\n",
    "この順序は数値的な意味を持つので重要です。\n",
    "\n",
    "目的変数と線形の関係にある可能性もあります。\n",
    "\n",
    "統計学では\n",
    "\n",
    "多項式コントラスト\n",
    "\n",
    "中 = 0, 大 = 0.71, 小=-0.71\n",
    "\n",
    "2次\n",
    "中 = 0.41, 大 = -0.82, 小=0.41"
   ]
  },
  {
   "cell_type": "code",
   "execution_count": null,
   "metadata": {
    "lines_to_next_cell": 2
   },
   "outputs": [],
   "source": [
    "df_lp_kanto %>% \n",
    "  count(current_use) %>% \n",
    "  ggplot(aes(forcats::fct_reorder(current_use, n), n)) +\n",
    "  geom_bar(stat = \"identity\") +\n",
    "  coord_flip()\n",
    "df_lp_kanto %>% \n",
    "  count(use_district) %>% \n",
    "  ggplot(aes(forcats::fct_reorder(use_district, n), n)) +\n",
    "  geom_bar(stat = \"identity\") +\n",
    "  coord_flip()\n",
    "\n",
    "recipe(formula = mod_formula3, data = df_train)\n",
    "\n",
    "mod_rec <- \n",
    "  recipe(formula = mod_formula3, data = df_train) %>% \n",
    "  step_log(all_outcomes(), base = 10) %>% \n",
    "  # 5%未満を \"other\"\n",
    "  step_other(use_district, threshold = 0.05) %>% \n",
    "  step_dummy(all_nominal())\n",
    "\n",
    "mod_rec\n",
    "\n",
    "# recipe (define) -> prep (calculate) -> bake/juice (apply)\n",
    "mod_rec_trained <- prep(mod_rec, training = df_train, verbose = TRUE)\n",
    "\n",
    "lp_test_dummy <- bake(mod_rec_trained, new_data = df_test)\n",
    "names(lp_test_dummy) # 1住居がない（一番多い）"
   ]
  },
  {
   "cell_type": "markdown",
   "metadata": {},
   "source": [
    "## まとめ\n",
    "\n",
    "- カテゴリ変数はツリーベースのモデルを除いて、モデルに適用可能な状態、数値に変換する必要がある\n",
    "- もっとも単純なものはカテゴリに含まれる値を独立した変数として扱うこと\n",
    "    - カテゴリ内の順序を考慮するには別な方法が必要\n",
    "- テキストも同様に数値化が必要。一般的には頻度の少ない単語が除外される\n",
    "\n",
    "## 関連項目\n",
    "\n",
    "- [次元削減](../03/dimension-reduction)\n",
    "\n",
    "## 参考文献\n",
    "\n",
    "- Max Kuhn and Kjell Johnson (2013). Applied Predictive Modeling (Springer)\n",
    "- Max Kuhn and Kjell Johnson (2019). Feature Engineering and Selection: A Practical Approach for Predictive Models (CRC Press)"
   ]
  }
 ],
 "metadata": {
  "jupytext": {
   "formats": "ipynb,Rmd"
  },
  "kernelspec": {
   "display_name": "R",
   "language": "R",
   "name": "ir"
  },
  "language_info": {
   "codemirror_mode": "r",
   "file_extension": ".r",
   "mimetype": "text/x-r-source",
   "name": "R",
   "pygments_lexer": "r",
   "version": "3.6.0"
  },
  "toc": {
   "base_numbering": 1,
   "nav_menu": {},
   "number_sections": true,
   "sideBar": true,
   "skip_h1_title": false,
   "title_cell": "Table of Contents",
   "title_sidebar": "Contents",
   "toc_cell": false,
   "toc_position": {},
   "toc_section_display": true,
   "toc_window_display": false
  }
 },
 "nbformat": 4,
 "nbformat_minor": 2
}
