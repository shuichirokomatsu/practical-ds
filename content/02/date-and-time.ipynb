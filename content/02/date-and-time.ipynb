{
 "cells": [
  {
   "cell_type": "code",
   "execution_count": null,
   "metadata": {
    "name": "setup"
   },
   "outputs": [],
   "source": [
    "source(here::here(\"R/setup.R\"))\n",
    "library(lubridate)"
   ]
  },
  {
   "cell_type": "markdown",
   "metadata": {},
   "source": [
    "# 日付・時間データの取り扱い\n",
    "\n",
    "ビールへの支出データ、土砂災害・雪崩メッシュデータを利用します。\n",
    "\n",
    "- 経過時間\n",
    "- タイムゾーン\n",
    "\n",
    "期間内のある瞬間の情報\n",
    "\n",
    "特定のイベントからの経過時間\n",
    "\n",
    "ビールの売り上げに対して、何が効いているか、効いていないか予測を立ててみましょう\n",
    "\n",
    "* 平日・休日\n",
    "    * より厳密には週末かそうでないか… そんなに効かない。土日は効果あり\n",
    "    * 連休の数\n",
    "        * 平日金曜日は0.5?\n",
    "* 夏休み？？\n",
    "* 関係しそうではないもの\n",
    "    * 月初、月末\n",
    "    \n",
    "## 要素の分解\n",
    "\n",
    "日付や時間のデータは複数の要素で構成されます。例えば「2019年7月10日」であれば、年月日をそれぞれ分けて2019、7、10に分解可能です。これに時間が加わればさらに時分秒の要素に分解することもできます。\n",
    "\n",
    "ビールの売り上げを考えたとき、大事な日付の要素は何でしょうか。\n",
    "\n",
    "ということがない限り、年の影響は小さそうです。小さなデータセットでは一年分しかない場合もあります（分散0）。\n",
    "\n",
    "日付もそれほど重要ではなさそうです。むしろ日付によって変わる平日・休日の違いが影響しそうですが、これについてはあとで処理を加えていくことにします。\n"
   ]
  },
  {
   "cell_type": "code",
   "execution_count": null,
   "metadata": {
    "lines_to_next_cell": 2
   },
   "outputs": [],
   "source": [
    "rep_split_date <- \n",
    "  df_beer2018q2 %>% \n",
    "  recipe(expense ~ .) %>% \n",
    "  step_date(date)\n",
    "\n",
    "df_beer_prep <- \n",
    "  rep_split_date %>% \n",
    "  prep(training = df_beer2018q2) %>% \n",
    "  juice(expense, starts_with(\"date\"), temperature_average)\n",
    "\n",
    "df_beer_prep"
   ]
  },
  {
   "cell_type": "markdown",
   "metadata": {},
   "source": [
    "## カレンダー（祝日）\n",
    "\n",
    "人の行動による影響を受けるデータでは、日付の平日・休日を区別することが重要になることが多いです。それは平日と休日では人々の行動様式が異なると考えられるためです。\n",
    "\n",
    "一方でハザードデータのように自然活動を扱うデータではこの要素が影響するとは考えられません。\n",
    "\n",
    "データが記録された日付が平日か休日\n",
    "\n",
    "7月から9月にかけては\n",
    "\n",
    "海の日（7月第3月曜日）\n",
    "山の日 (8月11日) ... 2016年に設立。\n",
    "敬老の日 (9月第3月曜日)\n",
    "秋分の日 (秋分日... )\n",
    "\n",
    "が祝日です。\n",
    "\n",
    "また、この期間で考慮すべき日付として「お盆」の期間があります。多くの企業でこの期間は夏休みとなっていると考えられます。8月13日から15日のデータも他の日付と区別できるようにしておきます。"
   ]
  },
  {
   "cell_type": "code",
   "execution_count": null,
   "metadata": {},
   "outputs": [],
   "source": [
    "df_beer_prep <- \n",
    "  df_beer_prep %>% \n",
    "  recipe(expense ~ .) %>% \n",
    "  step_holiday(date,\n",
    "               holidays = timeDate::listHolidays(\"JP\") %>% \n",
    "                 str_subset(\"UmiNoHi|KeirouNOhi|ShuubunNoHi\")) %>% \n",
    "  prep() %>% \n",
    "  bake(new_data = df_beer_prep) %>%\n",
    "  # timeDate::listHolidays() が山の日に未対応なのでフラグを作る処理を用意する\n",
    "  mutate(date_JPYamaNoHi = as.numeric(date == ymd(\"2018-08-11\")),\n",
    "         is_obon = between(date, ymd(\"2018-08-13\"), ymd(\"2018-08-15\")))\n",
    "\n",
    "df_beer_prep"
   ]
  },
  {
   "cell_type": "markdown",
   "metadata": {},
   "source": [
    "平日であれば1を与える列を追加します。"
   ]
  },
  {
   "cell_type": "code",
   "execution_count": null,
   "metadata": {},
   "outputs": [],
   "source": [
    "df_beer_prep <- \n",
    "  df_beer_prep %>% \n",
    "  mutate(is_weekday = if_else(date_dow %in% c(\"土\", \"日\"),\n",
    "                              0,\n",
    "                              if_else(date_JPKeirouNOhi == 1 | date_JPShuubunNoHi == 1 | date_JPUmiNoHi == 1 | date_JPYamaNoHi == 1,\n",
    "                                      0,\n",
    "                                      if_else(is_obon == 1,\n",
    "                                              0,\n",
    "                                              1))\n",
    "                              )) %>% \n",
    "  select(expense, is_weekday, date_month, temperature_average)\n",
    "\n",
    "df_beer_prep"
   ]
  },
  {
   "cell_type": "code",
   "execution_count": null,
   "metadata": {},
   "outputs": [],
   "source": [
    "df_beer_baked <- \n",
    "  df_beer_prep %>% \n",
    "  recipe(expense ~ .) %>% \n",
    "  step_log(expense, temperature_average, base = 10) %>% \n",
    "  prep() %>% \n",
    "  juice()"
   ]
  },
  {
   "cell_type": "markdown",
   "metadata": {},
   "source": [
    "## 自己相関\n",
    "## 季節成分・周期成分\n",
    "\n",
    "weeks\n",
    "\n",
    "df_beerの方で??\n",
    "df_hazard\n",
    "\n",
    "<!--## タイムゾーン -->"
   ]
  }
 ],
 "metadata": {
  "jupytext": {
   "formats": "ipynb,Rmd"
  },
  "kernelspec": {
   "display_name": "R",
   "language": "R",
   "name": "ir"
  },
  "language_info": {
   "codemirror_mode": "r",
   "file_extension": ".r",
   "mimetype": "text/x-r-source",
   "name": "R",
   "pygments_lexer": "r",
   "version": "3.6.0"
  },
  "toc": {
   "base_numbering": 1,
   "nav_menu": {},
   "number_sections": true,
   "sideBar": true,
   "skip_h1_title": false,
   "title_cell": "Table of Contents",
   "title_sidebar": "Contents",
   "toc_cell": false,
   "toc_position": {},
   "toc_section_display": true,
   "toc_window_display": false
  }
 },
 "nbformat": 4,
 "nbformat_minor": 2
}
