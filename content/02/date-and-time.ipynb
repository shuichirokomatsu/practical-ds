{
 "cells": [
  {
   "cell_type": "code",
   "execution_count": null,
   "metadata": {
    "eval": true,
    "hide_output": true,
    "name": "setup",
    "results": "\"hide\""
   },
   "outputs": [],
   "source": [
    "source(here::here(\"R/setup.R\"))"
   ]
  },
  {
   "cell_type": "code",
   "execution_count": null,
   "metadata": {
    "eval": true,
    "name": "load_chapter_depends"
   },
   "outputs": [],
   "source": [
    "library(lubridate)"
   ]
  },
  {
   "cell_type": "markdown",
   "metadata": {},
   "source": [
    "# 日付・時間データの取り扱い\n",
    "\n",
    "日付や時間の要素をもつデータは、\n",
    "\n",
    "データ分析、機械学習のモデルにおいて時系列を示すデータ自体が入力や出力になることはありません。代わりに、\n",
    "\n",
    "時系列データを構成する要素の特徴量エンジニアリングで生成される値を利用することになります。\n",
    "\n",
    "日付・時間データに対する特徴量エンジニアリングの基本方針は以下の3点です。\n",
    "\n",
    "- 日付・時間データの特徴量... 日付・時間データ自身を構成する要素から特徴量を生成します\n",
    "- ラグ特徴量... 特定の時間をもとに、そこからの経過時間を扱います\n",
    "- 窓枠特徴量... 固定された期間に含まれる値を要約します\n",
    "\n",
    "ここでは、日付・時間データが記録されているビールへの支出データを利用します。具体的な特徴量エンジニアリングの手法を紹介する前に、ビールの売り上げに対して、日付・時間データの何が効いているか、また、どのような状況が想定されるか仮説を立ててみましょう。思いつくものとして次の要因があります。\n",
    "\n",
    "- 平日・休日\n",
    "    -より厳密には週末かそうでないか… 土日は効果がありそうだ\n",
    "    - 連休の数... 長すぎると売り上げが伸びなくなるのではないか\n",
    "- 夏休みにはどのような挙動を示すだろうか\n",
    "- 関係しそうではないもの\n",
    "    - 月初や月末という効果は売り上げには貢献しないだろう（週ごとの影響はない）\n",
    "    \n",
    "このような仮説を検証できるよう、日付・時間に関する特徴量を生成していきます。\n",
    "\n",
    "## 日付・時間データ自体を特徴量とする\n",
    "\n",
    "日付、時間に関するデータからは多くの特徴量が生成できます。\n",
    "\n",
    "### 要素の分解\n",
    "\n",
    "日付や時間のデータは複数の要素で構成されます。例えば「2019年7月10日」であれば、年月日をそれぞれ分けて2019、7、10に分解可能です。これに時間が加わればさらに時分秒の要素に分解することもできます。"
   ]
  },
  {
   "cell_type": "code",
   "execution_count": null,
   "metadata": {
    "eval": true
   },
   "outputs": [],
   "source": [
    "mod_fml <- formula(expense ~ date + weatherdaytime_06_00_18_00)"
   ]
  },
  {
   "cell_type": "code",
   "execution_count": null,
   "metadata": {
    "eval": true
   },
   "outputs": [],
   "source": [
    "df_baked_split_date <- \n",
    "  df_beer2018q2 %>% \n",
    "  recipe(mod_fml) %>% \n",
    "  step_date(date) %>% \n",
    "  prep() %>% \n",
    "  juice()\n",
    "\n",
    "glimpse(df_baked_split_date)"
   ]
  },
  {
   "cell_type": "markdown",
   "metadata": {},
   "source": [
    "日付もそれほど重要ではなさそうです。むしろ日付によって変わる平日・休日の違いが影響しそうですが、これについてはあとで処理を加えていくことにします。\n",
    "\n",
    "期間が1年しかない場合、年の特徴量は情報がなくなり、モデルからは除外可能です。\n",
    "\n",
    "ビールの売り上げを考えたとき、大事な日付の要素は何でしょうか。\n",
    "\n",
    "ということがない限り、年の影響は小さそうです。小さなデータセットでは一年分しかない場合もあります（分散0）。"
   ]
  },
  {
   "cell_type": "markdown",
   "metadata": {},
   "source": [
    "ビールの支出データに記録されている日付の曜日をダミーコーディングする例を考えてみましょう。曜日は7つの値を取りますが、コントラスト関数は6つのダミー変数で曜日を表現することになります。\n",
    "\n",
    "6列... 該当する曜日で1, そうでない場合に0\n",
    "\n",
    "まずは年月日からなる日付の変数から曜日を取り出す必要があります。\n",
    "\n",
    "日付を記録するdate列の要素が分解され、新たな特徴量として追加されました。それでは曜日のダミーコーディングを実行します。"
   ]
  },
  {
   "cell_type": "code",
   "execution_count": null,
   "metadata": {},
   "outputs": [],
   "source": [
    "df_baked_split_date %>% \n",
    "  recipe(expense ~ .) %>% \n",
    "  step_dummy(date_dow) %>% \n",
    "  prep(training = df_baked_split_date) %>% \n",
    "  bake(new_data = df_baked_split_date) %>% \n",
    "  select(starts_with(\"date_dow\"), everything())"
   ]
  },
  {
   "cell_type": "code",
   "execution_count": null,
   "metadata": {
    "eval": true,
    "lines_to_next_cell": 0
   },
   "outputs": [],
   "source": [
    "rep_split_date <- \n",
    "  df_beer2018q2 %>% \n",
    "  recipe(expense ~ .) %>% \n",
    "  step_date(date)\n",
    "\n",
    "df_beer_prep <- \n",
    "  rep_split_date %>% \n",
    "  prep(training = df_beer2018q2) %>% \n",
    "  juice(expense, starts_with(\"date\"), temperature_average)\n",
    "\n",
    "df_beer_prep"
   ]
  },
  {
   "cell_type": "markdown",
   "metadata": {},
   "source": [
    "\n"
   ]
  },
  {
   "cell_type": "code",
   "execution_count": null,
   "metadata": {},
   "outputs": [],
   "source": [
    "df_baked_split_date %>% \n",
    "  recipe(expense ~ .) %>% \n",
    "  step_dummy(date_dow, one_hot = TRUE) %>% \n",
    "  prep(training = df_baked_split_date) %>% \n",
    "  bake(new_data = df_baked_split_date) %>% \n",
    "  select(starts_with(\"date_dow\"), everything())"
   ]
  },
  {
   "cell_type": "code",
   "execution_count": null,
   "metadata": {
    "lines_to_next_cell": 2
   },
   "outputs": [],
   "source": [
    "# 日本の祝日判定に次の項目が利用可能\n",
    "stringr::str_subset(timeDate::listHolidays(), \"^JP\")"
   ]
  },
  {
   "cell_type": "markdown",
   "metadata": {},
   "source": [
    "## カレンダー（祝日）\n",
    "\n",
    "人の行動による影響を受けるデータでは、日付の平日・休日を区別することが重要になることが多いです。それは平日と休日では人々の行動様式が異なると考えられるためです。一方で自然活動を扱うデータではこの要素が影響するとは考えられません。ビールの支出データは人間活動を直接記録したものですので、その区別を行っておくことは大事でしょう。ここでは夏場のビールの支出データを対象に平日・休日を分ける特徴量を作ろうと思います。\n",
    "\n",
    "まず、土日とその他の曜日を分けるフラグを作ります。これは曜日がわかる特徴量があれば簡単に区別可能です。\n",
    "\n",
    "今度は分解した曜日の情報をもとに、ビールの売り上げは「翌日に仕事が控えている曜日よりも休日の方が増えそうだ」という直感を調べてみましょう。"
   ]
  },
  {
   "cell_type": "code",
   "execution_count": null,
   "metadata": {},
   "outputs": [],
   "source": [
    "df_baked_split_date <- \n",
    "  df_baked_split_date %>% \n",
    "  mutate(is_weekend = if_else(date_dow %in% c(\"土\", \"日\"),\n",
    "                              TRUE,\n",
    "                              FALSE))"
   ]
  },
  {
   "cell_type": "code",
   "execution_count": null,
   "metadata": {},
   "outputs": [],
   "source": [
    "df_baked_split_date %>% \n",
    "  ggplot(aes(date_dow, expense)) +\n",
    "  geom_boxplot(aes(color = is_weekend), outlier.shape = NA) +\n",
    "  geom_jitter(aes(color = is_weekend), alpha = 0.3) +\n",
    "  scale_color_ds() +\n",
    "  guides(col = guide_legend(reverse = TRUE)) +\n",
    "  facet_wrap(~ date_month)"
   ]
  },
  {
   "cell_type": "markdown",
   "metadata": {},
   "source": [
    "目論見通り、どの月でも平日よりも休日の方が支出が増えているようです。また、8月は週ごとに変動が大きく、9月では平日との差がほとんどないということもグラフから読み取れます。新たな特徴量の作成と関係の図示により、経験的な推論を確認するだけでなく、モデルに対する新たな洞察も得ることができました。\n",
    "\n",
    "7月から9月にかけては\n",
    "\n",
    "- 海の日（7月第3月曜日）\n",
    "- 山の日 (8月11日) ... 2016年に設立。\n",
    "- 敬老の日 (9月第3月曜日)\n",
    "- 秋分の日 (秋分日... )\n",
    "\n",
    "が祝日となります。また、この期間で考慮すべき日付として「お盆」の期間があります。多くの企業でこの期間は夏休みとなっていると考えられます。8月13日から15日のデータも他の日付と区別できるようにしておきます。"
   ]
  },
  {
   "cell_type": "code",
   "execution_count": null,
   "metadata": {},
   "outputs": [],
   "source": [
    "df_beer_prep <- \n",
    "  df_beer_prep %>% \n",
    "  recipe(expense ~ .) %>% \n",
    "  step_holiday(date,\n",
    "               holidays = timeDate::listHolidays(\"JP\") %>% \n",
    "                 str_subset(\"UmiNoHi|KeirouNOhi|ShuubunNoHi\")) %>% \n",
    "  prep() %>% \n",
    "  bake(new_data = df_beer_prep) %>%\n",
    "  # timeDate::listHolidays() が山の日に未対応なのでフラグを作る処理を用意する\n",
    "  mutate(date_JPYamaNoHi = as.numeric(date == ymd(\"2018-08-11\")),\n",
    "         is_obon = between(date, ymd(\"2018-08-13\"), ymd(\"2018-08-15\")))\n",
    "\n",
    "df_beer_prep"
   ]
  },
  {
   "cell_type": "markdown",
   "metadata": {},
   "source": [
    "平日であれば1を与える列を追加します。"
   ]
  },
  {
   "cell_type": "code",
   "execution_count": null,
   "metadata": {},
   "outputs": [],
   "source": [
    "df_beer_prep <- \n",
    "  df_beer_prep %>% \n",
    "  mutate(is_weekday = if_else(date_dow %in% c(\"土\", \"日\"),\n",
    "                              0,\n",
    "                              if_else(date_JPKeirouNOhi == 1 | date_JPShuubunNoHi == 1 | date_JPUmiNoHi == 1 | date_JPYamaNoHi == 1,\n",
    "                                      0,\n",
    "                                      if_else(is_obon == 1,\n",
    "                                              0,\n",
    "                                              1))\n",
    "                              )) %>% \n",
    "  select(expense, is_weekday, date_month, temperature_average)\n",
    "\n",
    "df_beer_prep"
   ]
  },
  {
   "cell_type": "code",
   "execution_count": null,
   "metadata": {},
   "outputs": [],
   "source": [
    "df_beer_baked <- \n",
    "  df_beer_prep %>% \n",
    "  recipe(expense ~ .) %>% \n",
    "  step_log(expense, temperature_average, base = 10) %>% \n",
    "  prep() %>% \n",
    "  juice()"
   ]
  },
  {
   "cell_type": "markdown",
   "metadata": {},
   "source": [
    "## シークエンス\n",
    "\n",
    "時系列データのように、変動が大きなデータでは全体の傾向を掴むのが困難な時があります。そのような場合、移動平均などの平滑化を利用することでデータを「均し」、傾向をつかみやすくなることがあります。これらの平滑化処理は時系列データに含まれる過剰なノイズを減らすのに役立ちます。\n",
    "\n",
    "移動平均は対象時点のデータとその前後の値を足して平均を取ることで計算されます。前後の値をいくつ取るか、これは窓枠の数 (ウィンドウ window size)と呼ばれ、あらかじめ決める必要があります。ウィンドウの数は重要で、大きすぎると平滑化により非線形の関係が消えてしまう恐れがあります。例えばウィンドウを3とした時は自身と前後の一つずつの値から値が求まります。この場合では同じ値が使われることは少ないですが、大きなウィンドウを設定すると別々のデータで同じデータが使われることになるため、個別のデータがより平均に近づきます。"
   ]
  },
  {
   "cell_type": "code",
   "execution_count": null,
   "metadata": {},
   "outputs": [],
   "source": [
    "p1 <- df_beer2018q2 %>%\n",
    "  ggplot(aes(date, expense)) +\n",
    "  geom_point(color = ds_col(1))\n",
    "\n",
    "p2 <- df_beer2018q2 %>%\n",
    "  recipe(expense ~ date) %>% \n",
    "  step_window(expense, size = 5, statistic = \"mean\") %>% \n",
    "  prep() %>% \n",
    "  juice() %>% \n",
    "  ggplot(aes(date, expense)) +\n",
    "  geom_point(color = ds_col(5))\n",
    "\n",
    "plot_grid(p1, p2, ncol = 1)"
   ]
  },
  {
   "cell_type": "markdown",
   "metadata": {},
   "source": [
    "短期間の中央値を利用することも（異常値がある場合）\n",
    "\n",
    "異常値を含むように窓枠の数を決める"
   ]
  },
  {
   "cell_type": "markdown",
   "metadata": {},
   "source": [
    "- 移動平均\n",
    "- 外れ値をもつ場合には平滑化が有効\n",
    "\n",
    "## 自己相関\n",
    "\n",
    "## 季節成分・周期成分\n",
    "\n",
    "時間スケール\n",
    "\n",
    "- 一日、一週間、一ヶ月、四半期、一年\n",
    "\n",
    "周期性がある\n",
    "\n",
    "三角関数で表現\n",
    "\n",
    "sin, cos変換"
   ]
  },
  {
   "cell_type": "code",
   "execution_count": null,
   "metadata": {},
   "outputs": [],
   "source": [
    "set.seed(313)\n",
    "examples <- matrix(rnorm(40), ncol = 2)\n",
    "examples <- as.data.frame(examples)\n",
    "\n",
    "rec <- recipe(~ V1 + V2, data = examples)\n",
    "\n",
    "cos_trans <- rec  %>%\n",
    "  step_hyperbolic(all_predictors(),\n",
    "                  func = \"cos\", \n",
    "                  inverse = FALSE)\n",
    "\n",
    "cos_obj <- prep(cos_trans, training = examples)\n",
    "\n",
    "transformed_te <- bake(cos_obj, examples)\n",
    "plot(examples$V1, transformed_te$V1)\n",
    "\n",
    "plot(sin(1:12), cos(1:12))"
   ]
  },
  {
   "cell_type": "markdown",
   "metadata": {},
   "source": [
    "## 特定の時点からの経過\n",
    "\n",
    "期間内のある瞬間の情報\n",
    "特定のイベントからの経過時間"
   ]
  },
  {
   "cell_type": "code",
   "execution_count": null,
   "metadata": {},
   "outputs": [],
   "source": [
    "n <- 10\n",
    "start <- as.Date('1999/01/01')\n",
    "end <- as.Date('1999/01/10')\n",
    "\n",
    "df <- data.frame(x = runif(n),\n",
    "                 index = 1:n,\n",
    "                 day = seq(start, end, by = \"day\"))\n",
    "\n",
    "recipe(~ ., data = df) %>%\n",
    "  step_lag(index, day, lag = 2:3) %>%\n",
    "  prep(df) %>%\n",
    "  bake(df)"
   ]
  },
  {
   "cell_type": "markdown",
   "metadata": {},
   "source": [
    "時間要素のうち、何周目か\n",
    "\n",
    "規則的に増加・低下の傾向があるデータには適しているかもしれません。"
   ]
  },
  {
   "cell_type": "code",
   "execution_count": null,
   "metadata": {
    "lines_to_next_cell": 0
   },
   "outputs": [],
   "source": []
  },
  {
   "cell_type": "markdown",
   "metadata": {},
   "source": []
  },
  {
   "cell_type": "markdown",
   "metadata": {},
   "source": [
    "ラグ特徴量\n",
    "\n",
    "## 重み付け\n",
    "\n",
    "遠くなるものへは重みを小さくする\n",
    "\n",
    "<!--## タイムゾーン -->\n",
    "\n",
    "## まとめ\n",
    "\n",
    "## 関連項目\n",
    "\n",
    "- [データ分割](03/data-splitting)\n",
    "\n",
    "## 参考文献\n"
   ]
  }
 ],
 "metadata": {
  "jupytext": {
   "formats": "ipynb,Rmd"
  },
  "kernelspec": {
   "display_name": "R",
   "language": "R",
   "name": "ir"
  },
  "language_info": {
   "codemirror_mode": "r",
   "file_extension": ".r",
   "mimetype": "text/x-r-source",
   "name": "R",
   "pygments_lexer": "r",
   "version": "3.6.0"
  },
  "toc": {
   "base_numbering": 1,
   "nav_menu": {},
   "number_sections": true,
   "sideBar": true,
   "skip_h1_title": false,
   "title_cell": "Table of Contents",
   "title_sidebar": "Contents",
   "toc_cell": false,
   "toc_position": {},
   "toc_section_display": true,
   "toc_window_display": false
  }
 },
 "nbformat": 4,
 "nbformat_minor": 2
}
