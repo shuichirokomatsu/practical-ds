{
 "cells": [
  {
   "cell_type": "code",
   "execution_count": null,
   "metadata": {
    "hide_output": true,
    "name": "setup",
    "results": "\"hide\""
   },
   "outputs": [],
   "source": [
    "source(here::here(\"R/setup.R\"))"
   ]
  },
  {
   "cell_type": "markdown",
   "metadata": {},
   "source": [
    "# 数値データの取り扱い\n",
    "\n",
    "データ分析においてもっとも一般的な型が数値データです。商品の価格やウェブページのアクセス件数、株価の変動など多くのデータが数値で表されます。このことからわかるように、一言で数値データといっても実数から整数、マイナスの値を持つものまで多様な種類が存在します。\n",
    "\n",
    "多くのモデルが数値の入力を前提としているため、数値をそのまま利用することもできます。しかし特徴量エンジニアリングが不要というわけではありません。具体的には線形回帰モデルでは、出力から得られる値の誤差が正規分布に従うことを仮定します。そのため正規分布とは異なる形状の分布をもつデータ、例えば離散値ではその仮定が成立しない可能性があります。この問題を解決するため、元のデータを正規分布に近似させるという特徴量エンジニアリングが有効になります。\n",
    "\n",
    "良い特徴量というのはデータの特徴を強く反映します。連続的な数値の二値化あるいは離散化により、モデルの精度を改善できる見込みがあります。また数値以外のテキストや画像データを数値化した際、さらなる特徴量エンジニアリングが必要になることがあります。つまり数値データの処理は特徴量エンジニアリングの中で最も基本的な技と言えます。\n",
    "\n",
    "前章で示した標準化や正規化も数値データの処理ですが、この章では数値変数をモデルに適した形式へと変換する手法を紹介します。元が数値でないデータの扱い各章で解説します。単一の変数を対象にした処理として対数変換、離散化、ハッシュ化を扱います。また複数の特徴量から新たな特徴量を生成する手法や変数間の相互作用について導入を行います。\n",
    "\n",
    "## 数値データが抱える問題\n",
    "\n",
    "数値データはありふれたデータ形式ですが、その反面数多くの問題を抱えていることがあります。その特徴をあげてみます。\n",
    "\n",
    "- スケールが大きく異なる\n",
    "- 歪んだ分布をもつ\n",
    "- 大小の外れ値を含む\n",
    "- 変数間で、線形では表現できないような複雑な関係を持っている\n",
    "- 冗長な情報\n",
    "\n",
    "これらの問題は、回帰か分類かという課題設定に応じて、適用するモデルの種類によって顕在化します。しかし適切なモデルを選択することで問題のいくつかを軽減できる見込みもあります。例を見てみましょう。\n",
    "\n",
    "k近傍法やサポートベクターマシンは、特徴空間上の外れ値の影響を受けやすい性質があります。一方で、実際の値ではなく順位化されたデータを利用する木ベースのモデルでは外れ値の影響を軽減可能です。また互いに説明変数の間で強い相関がある変数を重回帰モデルに組み込むと、わずかに値が変動しただけで係数が大きく異なってしまいます。このような状況では部分最小二乗法を用いることで説明変数の相関を無相関化できます。つまり、問題のあるデータに対しては適切なモデルとデータの変換を選択することによりある程度の対策が可能なのです。\n",
    "\n",
    "数値データに対する特徴量エンジニアリングの作戦は次の3種類に分けて考えられます。\n",
    "\n",
    "- 個々の数値変数の問題について直接対処する\n",
    "- 変数変換\n",
    "- 変数間の関係を見つめ直す\n",
    "\n",
    "この章では、これらの作戦を個別に紹介してきます。\n",
    "\n",
    "## 対数変換\n",
    "\n",
    "数値データの特徴量エンジニアリングとして最初に検討するのが対数変換です。これは[前処理](01/tidy-data)で扱ったスケール変換とは対象の変数の値を変えるという意味では同じですが、大きな違いがあります。スケール変換では変数のばらつきを元にする変換のために変換後の値でも分布は変わりません。しかし対数変換ではデータの分布が変化します。\n",
    "\n",
    "対数変換の効果が大きいのは偏りがある数値データです。裾の長いデータ (long tail) とも呼びます。次の図は地価公示データの地価をヒストグラムにプロットした図と、同じデータに対数変換を施したものです。"
   ]
  },
  {
   "cell_type": "code",
   "execution_count": null,
   "metadata": {
    "eval": false,
    "hide_input": false,
    "name": "log_transform_compared"
   },
   "outputs": [],
   "source": [
    "p_base <- \n",
    "  df_lp_kanto %>% \n",
    "  ggplot(aes(posted_land_price)) +\n",
    "  geom_histogram(bins = 30, show.legend = FALSE) +\n",
    "  scale_fill_identity()\n",
    "\n",
    "p1 <- p_base + \n",
    "  aes(fill = ds_col(1)) +\n",
    "  xlab(\"円/m^2\")\n",
    "p2 <- p_base + \n",
    "  aes(fill = ds_col(5)) +\n",
    "  xlab(\"log10(円/m^2)\") +\n",
    "  scale_x_log10()\n",
    "\n",
    "plot_grid(\n",
    "  p1,\n",
    "  p2,\n",
    "  ncol = 2)"
   ]
  },
  {
   "cell_type": "markdown",
   "metadata": {},
   "source": [
    "![](../images/log_transform_compared-1.png)\n",
    "\n",
    "対数変換には次の特徴があります。特徴量のスケールが大きい時はその範囲を縮小し、小さい時は拡大します。これにより、裾の長い分布を押しつぶしたように山のある分布に近づけることができます。また分散が大きなデータでは平均値が大きいほど等分散になりやすい傾向にあります。\n",
    "\n",
    "### Box-Cox変換\n",
    "\n",
    "正規分布に従わないデータに対して線形回帰モデルを適用すると推定が思うように行かないことがあります。これは線形回帰モデルが一般に入力に対して正規分布のデータを仮定しているためです。このようなデータでは、正規分布でない分布を背景とする回帰モデルを利用することが一番の対策です。しかしここではデータの分布を変えることでデータを正規分布に近づける方法を紹介しましょう。\n",
    "\n",
    "ポアソン分布は平均と分散が等しいという性質があります。平均 $\\lambda$ が大きいほど分散が大きくなり、分布の裾が重くなります。地価公示データの土地の面積を示す変数 `acreage` は裾の重い分布をしてます (ヒストグラムは後ほど作成します)。 このデータを正規分布に近づけるにはどうすれば良いでしょう。先に紹介した対数変換は1つの手段です。\n",
    "\n",
    "データが正規分布に従っているかは、シャピロ-ウィルクの正規性検定や正規確率グラフ (QQプロット) の描画で確かめられます。 を例に見てみます。元のデータと対数変換した値を使って、シャピロ-ウィルクの正規性検定を行います。この統計手法の帰無仮説は「変数は正規分布にしたがう」です。 $P < 0.05$ となれば帰無仮説は棄却されます。すなわち正規分布の仮定が保証できなくなります。"
   ]
  },
  {
   "cell_type": "code",
   "execution_count": null,
   "metadata": {
    "eval": true
   },
   "outputs": [],
   "source": [
    "shapiro.test(sample(df_lp_kanto$acreage, 5000)) %>% tidy()\n",
    "shapiro.test(log(sample(df_lp_kanto$acreage, 5000))) %>% tidy()\n",
    "shapiro.test(log(sample(df_lp_kanto$acreage, 5000), base = 10)) %>% tidy()"
   ]
  },
  {
   "cell_type": "markdown",
   "metadata": {},
   "source": [
    "いずれの結果も統計的有意に帰無仮説を棄却するものでした。続いて正規確率グラフを作成します。このグラフでは、度数分布図で得られた度数の累積値より作成される累積度数分布図の縦軸を変形したもので、データが正規分布に従うのであれば直線上に並ぶというものです。"
   ]
  },
  {
   "cell_type": "code",
   "execution_count": null,
   "metadata": {
    "eval": false,
    "fig.height": 6,
    "hide_input": false,
    "name": "qq_plot"
   },
   "outputs": [],
   "source": [
    "ggplot(df_lp_kanto, aes(sample = log(acreage, base = 10))) + \n",
    "  stat_qq() +\n",
    "  stat_qq_line()"
   ]
  },
  {
   "cell_type": "markdown",
   "metadata": {},
   "source": [
    "![](../images/qq_plot-1.png)\n",
    "\n",
    "対数変換により小さな値の集団は正規分布に近づきましたが、途中から大きくずれてしまいました。これはデータの平均と分散の大きさを反映した結果です。\n",
    "\n",
    "分散が平均に依存しないように変換をする方法として分散安定変換があります。ポアソン分布に従うデータ $X$ を平方根で変換すると $\\tilde{X} = \\sqrt{X}$ となり、平均とは無関係に分散がほぼ一定になります。\n",
    "\n",
    "対数変換と平方根変換を一般化したものとしてBox-Cox変換があります。Box-Cox変換はパラメータ $\\lambda$ を指定する必要があり、パラメータ $\\lambda$ を変更することで、対数変換 ($\\lambda$ = 0)、平方根変換 ($\\lambda$ = 0.5)、逆数変換 ($\\lambda$ = -1.0) に対応します。\n",
    "\n",
    "土地の面積にBox-Cox変換を施し、改めて正規性の検定を行いましょう。"
   ]
  },
  {
   "cell_type": "code",
   "execution_count": null,
   "metadata": {
    "eval": true
   },
   "outputs": [],
   "source": [
    "rec_lp_acreage <- \n",
    "  recipe(~ acreage, data = df_lp_kanto)\n",
    "\n",
    "df_lp_acreage_boxcox <- \n",
    "  rec_lp_acreage %>% \n",
    "  step_BoxCox(all_predictors()) %>%\n",
    "  prep(training = df_lp_kanto) %>% \n",
    "  juice(all_predictors())"
   ]
  },
  {
   "cell_type": "code",
   "execution_count": null,
   "metadata": {
    "eval": true
   },
   "outputs": [],
   "source": [
    "shapiro.test(sample(df_lp_acreage_boxcox$acreage, 5000)) %>% tidy()"
   ]
  },
  {
   "cell_type": "code",
   "execution_count": null,
   "metadata": {
    "eval": false,
    "fig.height": 6,
    "hide_input": false,
    "name": "qq_plot_after_boxcox_transform"
   },
   "outputs": [],
   "source": [
    "df_lp_acreage_boxcox %>% \n",
    "  ggplot(aes(sample = acreage)) +\n",
    "  stat_qq() +\n",
    "  stat_qq_line()"
   ]
  },
  {
   "cell_type": "markdown",
   "metadata": {},
   "source": [
    "統計的には正規分布ではないと判断されましたが、正規確率グラフを見るとより多くのデータが正規分布に近づいていることがわかります。最後に、土地面積のデータにさまざまな変換を施したヒストグラムを比較のために作っておきましょう。\n",
    "\n",
    "![](../images/qq_plot_after_boxcox_transform-1.png)"
   ]
  },
  {
   "cell_type": "code",
   "execution_count": null,
   "metadata": {
    "eval": false,
    "hide_input": true,
    "name": "lp_acreage_transform"
   },
   "outputs": [],
   "source": [
    "p1 <- \n",
    "  ggplot(df_lp_kanto, aes(acreage)) +\n",
    "  geom_histogram(bins = 30) +\n",
    "  ggtitle(\"raw\") +\n",
    "  aes(fill = ds_col(1)) +\n",
    "  scale_fill_identity()\n",
    "\n",
    "p2 <- \n",
    "  rec_lp_acreage %>%\n",
    "  step_sqrt(all_predictors()) %>%\n",
    "  prep(training = df_lp_kanto) %>%\n",
    "  juice(all_predictors()) %>%\n",
    "  ggplot(aes(acreage)) +\n",
    "  geom_histogram(bins = 30) +\n",
    "  ggtitle(\"sqrt\") +\n",
    "  aes(fill = ds_col(2)) +\n",
    "  scale_fill_identity()\n",
    "\n",
    "p3 <- \n",
    "  rec_lp_acreage %>%\n",
    "  step_log(all_predictors(), base = 10) %>%\n",
    "  prep(training = df_lp_kanto) %>%\n",
    "  juice(all_predictors()) %>%\n",
    "  ggplot(aes(acreage)) +\n",
    "  geom_histogram(bins = 30) +\n",
    "  ggtitle(\"log (base10)\") +\n",
    "  aes(fill = ds_col(3)) +\n",
    "  scale_fill_identity()\n",
    "\n",
    "p4 <- \n",
    "  df_lp_acreage_boxcox %>% \n",
    "  ggplot(aes(acreage)) +\n",
    "  geom_histogram(bins = 30, show.legend = FALSE) +\n",
    "  ggtitle(\"Box-Cox\") +\n",
    "  aes(fill = ds_col(4)) +\n",
    "  scale_fill_identity()\n",
    "\n",
    "plot_grid(p1, p2, p3, p4, ncol = 2, labels = \"AUTO\")"
   ]
  },
  {
   "cell_type": "markdown",
   "metadata": {},
   "source": [
    "![](../images/lp_acreage_transform-1.png)\n",
    "\n",
    "対数変換やBox-Cox変換は、0や負値を扱えないという欠点もあります。そのため、強引に正の値となるような加算の処理をしてから対数変換を行うことがあります。このような処理に対して、足し合わせる数値を下駄に例えて「下駄を履かせる」と表現することがあります。ただしこの「下駄」も負値についても非負値とするために「...を足す」のような処理をすると解釈が難しくなる問題があります。ここでは詳しく解説しませんが、0や負値を含んだ特徴量を扱えるYeo-Johnson変換 (Yeo-Johnson Power Transformations) が効果的な時があります。"
   ]
  },
  {
   "cell_type": "code",
   "execution_count": null,
   "metadata": {
    "eval": true
   },
   "outputs": [],
   "source": [
    "# 0 や 負値では対数変換が行えない\n",
    "log(0)\n",
    "log10(0)\n",
    "log10(-1)\n",
    "# 下駄を履かせる処理\n",
    "log10(0 + 1)"
   ]
  },
  {
   "cell_type": "markdown",
   "metadata": {},
   "source": [
    "## ロジット変換\n",
    "\n",
    "- 百分率や比率データ\n",
    "    - 0から1の範囲に含まれる値を確率として表現。\n",
    "    - 変換前と変換後の値を、散布図にすると曲線を描く"
   ]
  },
  {
   "cell_type": "code",
   "execution_count": null,
   "metadata": {},
   "outputs": [],
   "source": [
    "df_lp_kanto %>% skimr::skim()\n",
    "d <- \n",
    "  df_lp_kanto %>% \n",
    "  transmute(frontage_ratio = frontage_ratio * 0.01)\n",
    "\n",
    "rec <- \n",
    "  recipe(~ frontage_ratio, data = d)\n",
    "\n",
    "df_transed <- rec %>% \n",
    "  step_logit(all_predictors()) %>% \n",
    "  prep(training = d) %>% \n",
    "  juice(all_predictors()) %>%\n",
    "  rename(frontage_ratio_trans = frontage_ratio) %>% \n",
    "  bind_cols(d)\n",
    "\n",
    "df_transed %>% \n",
    "  ggplot(aes(frontage_ratio, frontage_ratio_trans)) +\n",
    "  geom_point()"
   ]
  },
  {
   "cell_type": "markdown",
   "metadata": {},
   "source": [
    "## ビン詰め (ビニング, binning)\n",
    "\n",
    "ビン詰めあるいは離散化は、量的変数を1組あるいはそれ以上のカテゴリに変換する作業です。ここで新たに「ビン」という言葉が出てきました。ビンはカテゴリの値が入る容器だと考えてください。ヒストグラムで使われる「ビン」と同じものです。数値データを扱う際、単一の変数の四分位数を求めることがありますが、それと同じような作業です。四分在数ではデータのばらつきを3つに区切ります。\n",
    "\n",
    "- 結果の解釈が簡単になる\n",
    "- データの変動を抑える\n",
    "\n",
    "いろいろな方法がある\n",
    "\n",
    "一変数統計量として\n"
   ]
  },
  {
   "cell_type": "markdown",
   "metadata": {},
   "source": [
    "連続値をとる数値を離散値に\n",
    "\n",
    "線形モデルで効果を発揮します。\n",
    "\n",
    "複数の特徴量に分割する\n",
    "\n",
    "決定木では利点がない\n",
    "\n",
    "- スケールによる影響を緩和するためにカウントデータを離散化\n",
    "\n",
    "地上階数はカウントデータとして与えられています。\n",
    "\n",
    "カウントした値を階級にまとめる方法です。\n",
    "\n",
    "階級データには順序が与えられることになります。\n",
    "\n",
    "### 固定幅による離散化\n",
    "\n",
    "- 各階級の範囲をあらかじめ決めておく\n",
    "- 階級区分に規則性がある場合とない場合\n",
    "    - 年齢... 10歳区切り。階級幅は一定で規則性がある\n",
    "    - 年齢... ライフスタイルによる区切り。規則性がない\n",
    "- 10の累乗 (0~9, 10~99, 100~9999) 指数関数的\n",
    "\n",
    "### 分位数による離散化\n",
    "\n",
    "- 均等に"
   ]
  },
  {
   "cell_type": "code",
   "execution_count": null,
   "metadata": {},
   "outputs": [],
   "source": [
    "# 5段階の階級を設定\n",
    "binned <- \n",
    "  discretize(df_lp_kanto$distance_from_station, \n",
    "             cuts = 5, \n",
    "             infs = FALSE, \n",
    "             keep_na = FALSE,\n",
    "             prefix = \"distance_bins\")\n",
    "table(predict(binned, df_lp_kanto$distance_from_station))"
   ]
  },
  {
   "cell_type": "markdown",
   "metadata": {},
   "source": [
    "## シークエンス\n",
    "\n",
    "- 移動平均\n",
    "- 外れ値をもつ場合には平滑化が有効"
   ]
  },
  {
   "cell_type": "code",
   "execution_count": null,
   "metadata": {},
   "outputs": [],
   "source": [
    "mod_rec <- \n",
    "  df_lp_kanto %>%\n",
    "  select(posted_land_price, number_of_floors) %>% \n",
    "  recipe(formula = ~ .)\n",
    "\n",
    "df_trans <- \n",
    "  mod_rec %>% \n",
    "  step_BoxCox(all_numeric()) %>% \n",
    "  prep() %>% \n",
    "  juice()\n",
    "\n",
    "p1 <- df_lp_kanto %>% \n",
    "  ggplot(aes(posted_land_price)) +\n",
    "  geom_histogram(bins = 30, fill = ds_col(1))\n",
    "\n",
    "p2 <- df_trans %>% \n",
    "  ggplot(aes(posted_land_price)) +\n",
    "  geom_histogram(bins = 30, fill = ds_col(5))\n",
    "\n",
    "plot_grid(p1, p2)"
   ]
  },
  {
   "cell_type": "markdown",
   "metadata": {},
   "source": [
    "## カウントデータの取り扱い\n",
    "\n",
    "## 二値化"
   ]
  },
  {
   "cell_type": "code",
   "execution_count": null,
   "metadata": {},
   "outputs": [],
   "source": [
    "# box-cox変換 ---------------------------------------------------------------\n",
    "# モデルを定義... 線形回帰モデル\n",
    "spec_lin_reg <- linear_reg()\n",
    "# エンジンを指定... stats::lm\n",
    "spec_lm <- set_engine(spec_lin_reg, engine = \"lm\")\n",
    "\n",
    "\n",
    "# 同じ結果... formulaで参照するのではなく、x,yにデータを与える\n",
    "fit_xy(spec_lm, \n",
    "       y = df_train_baked %>% pull(posted_land_price),\n",
    "       x = df_train_baked %>% \n",
    "         select(-posted_land_price)) %>% \n",
    "  tidy()\n",
    "\n",
    "df_train_price_log <-\n",
    "  df_train %>%\n",
    "  mutate(price = log10(posted_land_price),\n",
    "         distance_from_station = log10(distance_from_station + 1))\n",
    "\n",
    "# df_train %>% \n",
    "#   recipe(mod_formula) %>% \n",
    "#   step_BoxCox(all_outcomes(), lambdas = 1.0) %>% \n",
    "#   step_log(distance_from_station, base = 10) %>% \n",
    "#   prep(training = df_train) %>% \n",
    "#   juice()\n",
    "\n",
    "# stanエンジン (rstan::stan())\n",
    "spec_stan <- \n",
    "  spec_lin_reg %>% \n",
    "  set_engine(engine = \"stan\", chains = 4, iter = 1000)\n",
    "\n",
    "fit_stan <- fit(\n",
    "  spec_stan,\n",
    "  mod_formula2,\n",
    "  data = df_train)\n",
    "\n",
    "coef(fit_stan$fit)\n",
    "fit_stan %>% broom::tidy()\n",
    "\n",
    "# knn\n",
    "fit_knn <-\n",
    "  nearest_neighbor(mode = \"regression\", neighbors = 4) %>% \n",
    "  set_engine(\"kknn\") %>% \n",
    "  fit(mod_formula2, data = df_train)\n",
    "\n",
    "predict(fit_knn, new_data = df_test %>% \n",
    "          select(-posted_land_price))\n",
    "\n",
    "car::powerTransform(df_lp_kanto$posted_land_price)\n",
    "\n",
    "library(car)\n",
    "summary(p1 <- powerTransform(cycles ~ len + amp + load, data = Wool))\n",
    "# fit linear model with transformed response:\n",
    "coef(p1, round=TRUE)\n",
    "summary(m1 <- lm(bcPower(cycles, p1$roundlam) ~ len + amp + load, Wool))"
   ]
  },
  {
   "cell_type": "code",
   "execution_count": null,
   "metadata": {},
   "outputs": [],
   "source": [
    "df_lp_kanto %>% \n",
    "  count(current_use) %>% \n",
    "  ggplot(aes(forcats::fct_reorder(current_use, n), n)) +\n",
    "  geom_bar(stat = \"identity\") +\n",
    "  coord_flip()\n",
    "df_lp_kanto %>% \n",
    "  count(use_district) %>% \n",
    "  ggplot(aes(forcats::fct_reorder(use_district, n), n)) +\n",
    "  geom_bar(stat = \"identity\") +\n",
    "  coord_flip()\n",
    "\n",
    "recipe(formula = mod_formula3, data = df_train)\n",
    "\n",
    "mod_rec <- \n",
    "  recipe(formula = mod_formula3, data = df_train) %>% \n",
    "  step_log(all_outcomes(), base = 10) %>% \n",
    "  # 5%未満を \"other\"\n",
    "  step_other(use_district, threshold = 0.05) %>% \n",
    "  step_dummy(all_nominal())\n",
    "\n",
    "mod_rec\n",
    "\n",
    "# recipe (define) -> prep (calculate) -> bake/juice (apply)\n",
    "mod_rec_trained <- prep(mod_rec, training = df_train, verbose = TRUE)\n",
    "\n",
    "lp_test_dummy <- bake(mod_rec_trained, new_data = df_test)\n",
    "names(lp_test_dummy) # 1住居がない（一番多い）"
   ]
  },
  {
   "cell_type": "code",
   "execution_count": null,
   "metadata": {},
   "outputs": [],
   "source": [
    "# interaction\n",
    "p <- ggplot(df_train,\n",
    "       aes(distance_from_station, posted_land_price)) +\n",
    "  geom_point() +\n",
    "  scale_y_log10()\n",
    "\n",
    "p +\n",
    "  geom_smooth(method = \"loess\")\n",
    "\n",
    "# MASS::rlm()\n",
    "library(MASS)\n",
    "p + \n",
    "  facet_wrap(~ gas_facility, ncol = 1) +\n",
    "  geom_smooth(method = \"rlm\")\n",
    "\n",
    "mod1 <- lm(log10(posted_land_price) ~ distance_from_station, data = df_train)\n",
    "mod2 <- lm(log10(posted_land_price) ~ distance_from_station + gas_facility + distance_from_station:gas_facility , data = df_train)\n",
    "\n",
    "anova(mod1, mod2)\n",
    "\n",
    "mod_formula4 <- formula(posted_land_price ~ distance_from_station + gas_facility)\n",
    "df_train %>% \n",
    "  recipe(mod_formula4, data = .) %>% \n",
    "  step_log(all_outcomes()) %>% \n",
    "  step_dummy(gas_facility) %>% \n",
    "  step_interact(~ starts_with(\"gas_facility\"):distance_from_station) %>% \n",
    "  prep(training = df_train) %>% \n",
    "  juice()"
   ]
  },
  {
   "cell_type": "markdown",
   "metadata": {},
   "source": [
    "<!-- ビニングや多項式特徴量、-->\n",
    "\n",
    "## より豊かな表現\n",
    "\n",
    "モデルの表現を豊かにするための特徴量エンジニアリングとして\n",
    "\n",
    "多項式特徴量や交互作用特徴量が利用可能です。\n",
    "\n",
    "線形モデルで有効?\n",
    "\n",
    "特に線形モデルでは一般に多項式特徴量、交互作用特徴量を追加することで精度向上が期待されます。\n",
    "\n"
   ]
  },
  {
   "cell_type": "markdown",
   "metadata": {},
   "source": [
    "### 多項式特徴量"
   ]
  },
  {
   "cell_type": "code",
   "execution_count": null,
   "metadata": {
    "lines_to_next_cell": 2
   },
   "outputs": [],
   "source": [
    "data(biomass)\n",
    "\n",
    "biomass_tr <- biomass[biomass$dataset == \"Training\",]\n",
    "biomass_te <- biomass[biomass$dataset == \"Testing\",]\n",
    "\n",
    "rec <- recipe(HHV ~ carbon + hydrogen + oxygen + nitrogen + sulfur,\n",
    "              data = biomass_tr)\n",
    "\n",
    "quadratic <- rec %>%\n",
    "  step_poly(carbon, hydrogen)\n",
    "quadratic <- prep(quadratic, training = biomass_tr)\n",
    "\n",
    "expanded <- bake(quadratic, biomass_te)\n",
    "expanded\n"
   ]
  },
  {
   "cell_type": "markdown",
   "metadata": {},
   "source": [
    "### 交互作用特徴量\n",
    "\n",
    "## 次元集約によると特徴量の作成\n",
    "\n",
    "- PCA, ICA\n",
    "- L2ノルム正則化... ベクトル空間に対して「距離」を与えるための数学の道具\n",
    "\n",
    "過学習を防ぐためでもある\n",
    "\n",
    "<!-- reduction... ここでは概要説明のみ。詳しくは該当する章で-->\n",
    "\n",
    "## まとめ\n",
    "\n",
    "> 対数をとるモデルと対数をとらないモデルのどちらか一方が「正しい」わけではない。あくまでも「そういう仮定を選んだ」ということに過ぎない"
   ]
  },
  {
   "cell_type": "markdown",
   "metadata": {},
   "source": [
    "数値特徴量\n",
    "\n",
    "特徴量の管理、膨大に増えた特徴量の次元削減については別の章で解説します。\n",
    "\n",
    "## 関連項目\n",
    "\n",
    "- [特徴量選択](feature-selection)\n",
    "\n",
    "## 参考文献\n",
    "\n",
    "- Max Kuhn and Kjell Johnson (2013). Applied Predictive Modeling. (Springer)\n",
    "- Sarah Guido and Andreas Müller (2016). Introduction to Machine Learning with Python A Guide for Data Scientists (O'Reilly) (**翻訳** 中田秀基訳 (2017). Pythonではじめる機械学習 scikit-learnで学ぶ特徴量エンジニアリングと機械学習の基礎 (オライリー))\n",
    "- Max Kuhn and Kjell Johnson (2019). Feature Engineering and Selection: A Practical Approach for Predictive Models (CRC Press)"
   ]
  }
 ],
 "metadata": {
  "jupytext": {
   "formats": "ipynb,Rmd"
  },
  "kernelspec": {
   "display_name": "R",
   "language": "R",
   "name": "ir"
  },
  "language_info": {
   "codemirror_mode": "r",
   "file_extension": ".r",
   "mimetype": "text/x-r-source",
   "name": "R",
   "pygments_lexer": "r",
   "version": "3.6.0"
  },
  "toc": {
   "base_numbering": 1,
   "nav_menu": {},
   "number_sections": true,
   "sideBar": true,
   "skip_h1_title": false,
   "title_cell": "Table of Contents",
   "title_sidebar": "Contents",
   "toc_cell": false,
   "toc_position": {},
   "toc_section_display": true,
   "toc_window_display": false
  }
 },
 "nbformat": 4,
 "nbformat_minor": 2
}
