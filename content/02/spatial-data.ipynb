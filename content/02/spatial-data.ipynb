{
 "cells": [
  {
   "cell_type": "code",
   "execution_count": null,
   "metadata": {
    "name": "setup"
   },
   "outputs": [],
   "source": [
    "source(here::here(\"R/setup.R\"))"
   ]
  },
  {
   "cell_type": "markdown",
   "metadata": {},
   "source": [
    "# 地理空間データの取り扱い"
   ]
  },
  {
   "cell_type": "markdown",
   "metadata": {},
   "source": [
    "## 空間データの特徴\n",
    "\n",
    "### ラスタとベクタ\n",
    "\n",
    "### 地物\n",
    "\n",
    "主にポイント、ライン、ポリゴン\n",
    "\n",
    "### 座標参照系\n",
    "\n",
    "地図上に地物を重ねる際、意図しない箇所に地物が表示されることがあります。これは地図データの座標系が異なることが原因で発生する問題の一つです。\n",
    "\n",
    "- 平面直角座標系\n",
    "- 地理座標系\n",
    "\n",
    "\n",
    "- 空間的自己相関 (spatial autocorrelation)、空間的異質性"
   ]
  },
  {
   "cell_type": "markdown",
   "metadata": {},
   "source": [
    "## 住所の分解\n",
    "\n",
    "## ジオコーディングと逆ジオコーディング\n",
    "\n",
    "緯度経度を都道府県に\n",
    "メッシュコードに\n",
    "\n",
    "## 隣接関係\n",
    "\n",
    "- 密集、過疎\n",
    "\n",
    "## 距離の計算\n",
    "\n",
    "- 対象物からの距離\n",
    "\n",
    "<!-- データ分割は別に  -->\n",
    "\n",
    "## まとめ\n",
    "\n",
    "## 関連項目\n",
    "\n",
    "## 参考文献"
   ]
  }
 ],
 "metadata": {
  "jupytext": {
   "formats": "ipynb,Rmd"
  },
  "kernelspec": {
   "display_name": "R",
   "language": "R",
   "name": "ir"
  },
  "language_info": {
   "codemirror_mode": "r",
   "file_extension": ".r",
   "mimetype": "text/x-r-source",
   "name": "R",
   "pygments_lexer": "r",
   "version": "3.6.0"
  },
  "toc": {
   "base_numbering": 1,
   "nav_menu": {},
   "number_sections": true,
   "sideBar": true,
   "skip_h1_title": false,
   "title_cell": "Table of Contents",
   "title_sidebar": "Contents",
   "toc_cell": false,
   "toc_position": {},
   "toc_section_display": true,
   "toc_window_display": false
  }
 },
 "nbformat": 4,
 "nbformat_minor": 2
}
