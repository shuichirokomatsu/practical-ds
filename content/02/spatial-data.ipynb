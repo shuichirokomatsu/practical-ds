{
 "cells": [
  {
   "cell_type": "code",
   "execution_count": null,
   "metadata": {
    "eval": true,
    "hide_output": true,
    "name": "setup",
    "results": "\"hide\""
   },
   "outputs": [],
   "source": [
    "source(here::here(\"R/setup.R\"))"
   ]
  },
  {
   "cell_type": "markdown",
   "metadata": {},
   "source": [
    "# 地理空間データの取り扱い\n",
    "\n",
    "地理空間データは"
   ]
  },
  {
   "cell_type": "markdown",
   "metadata": {},
   "source": [
    "従来の統計調査や自然環境調査だけでなく"
   ]
  },
  {
   "cell_type": "markdown",
   "metadata": {},
   "source": [
    "各種センサーによって記録される情報には位置情報がついていることが多いです。\n",
    "\n",
    "オープンデータの発達\n",
    "\n",
    "位置の属性に関する分析の重要性は増しています。\n",
    "\n",
    "多様な分野・領域で扱われるデータ形式の1つです。\n",
    "\n",
    "一方で地理空間データは時系列のデータ同様、他のデータ形式とは異なる特徴を持っており、取り扱いにはいくつかの注意が必要です。\n",
    "\n",
    "また特徴量エンジニアリングの観点からは、位置の情報を利用してさまざまな特徴量を生成できます。\n",
    "\n"
   ]
  },
  {
   "cell_type": "markdown",
   "metadata": {},
   "source": [
    "## 空間データの特徴\n",
    "\n",
    "### ラスタとベクタ\n",
    "\n",
    "### 地物\n",
    "\n",
    "主にポイント、ライン、ポリゴン\n",
    "\n",
    "### 座標参照系\n",
    "\n",
    "緯度経度\n",
    "\n",
    "地図上に地物を重ねる際、意図しない箇所に地物が表示されることがあります。これは地図データの座標系が異なることが原因で発生する問題の一つです。\n",
    "\n",
    "- 平面直角座標系\n",
    "- 地理座標系\n",
    "\n",
    "\n",
    "- 空間的自己相関 (spatial autocorrelation)、空間的異質性"
   ]
  },
  {
   "cell_type": "markdown",
   "metadata": {},
   "source": [
    "## 住所の分解\n",
    "\n",
    "住所は一般に文字列によって構造化されています。我々は次の文字列をみたとき、どのように解釈するでしょうか。\n",
    "\n",
    "> 東京都千代田区大手町1-1\n",
    "\n",
    "最後に数値がありますが、これが住所であることは多くの日本人が理解できると思います。一方機械では、日付・時間データの取り扱いでみたように基本的にはただの文字列として扱い、構成要素を指定しない限りは住所を分解してくれません。\n",
    "\n",
    "コンテキストやドメイン\n",
    "\n",
    "完全にドメインが必要な特徴量エンジニアリング"
   ]
  },
  {
   "cell_type": "markdown",
   "metadata": {},
   "source": [
    "## ジオコーディングと逆ジオコーディング\n",
    "\n",
    "緯度経度を都道府県に\n",
    "緯度経度をメッシュコードに, メッシュコードから緯度経度に\n",
    "\n",
    "- 相互変換が可能\n",
    "\n",
    "メッシュ\n",
    "郵便番号"
   ]
  },
  {
   "cell_type": "code",
   "execution_count": null,
   "metadata": {
    "lines_to_next_cell": 2
   },
   "outputs": [],
   "source": [
    "df_hazard %>% \n",
    "  select(meshCode)"
   ]
  },
  {
   "cell_type": "markdown",
   "metadata": {},
   "source": [
    "## 隣接関係\n",
    "\n",
    "- 密集、過疎\n",
    "\n",
    "- スケール\n",
    "    - 行政区域... 国、県、町\n",
    "    - メッシュ... 80km, 10km, 1km\n"
   ]
  },
  {
   "cell_type": "markdown",
   "metadata": {},
   "source": [
    "## 距離の計算\n",
    "\n",
    "- 対象物からの距離"
   ]
  },
  {
   "cell_type": "markdown",
   "metadata": {},
   "source": [
    "連続的な距離をカテゴリに分けるのも時として有効です。\n",
    "\n",
    "コロプレス図として発達してきました。\n",
    "\n",
    "<!-- データ分割は別に  -->\n",
    "\n",
    "## まとめ\n",
    "\n",
    "## 関連項目\n",
    "\n",
    "## 参考文献"
   ]
  }
 ],
 "metadata": {
  "jupytext": {
   "formats": "ipynb,Rmd"
  },
  "kernelspec": {
   "display_name": "R",
   "language": "R",
   "name": "ir"
  },
  "language_info": {
   "codemirror_mode": "r",
   "file_extension": ".r",
   "mimetype": "text/x-r-source",
   "name": "R",
   "pygments_lexer": "r",
   "version": "3.6.0"
  },
  "toc": {
   "base_numbering": 1,
   "nav_menu": {},
   "number_sections": true,
   "sideBar": true,
   "skip_h1_title": false,
   "title_cell": "Table of Contents",
   "title_sidebar": "Contents",
   "toc_cell": false,
   "toc_position": {},
   "toc_section_display": true,
   "toc_window_display": false
  }
 },
 "nbformat": 4,
 "nbformat_minor": 2
}
