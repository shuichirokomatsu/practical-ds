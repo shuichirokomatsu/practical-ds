{
 "cells": [
  {
   "cell_type": "markdown",
   "metadata": {},
   "source": [
    "<!-- trainとtestでの分布で違いがないか、可視化しながら確認 --> \n",
    "\n",
    "# データ分割\n",
    "\n",
    "- 単純な無作為抽出による分割 (hold-out)\n",
    "    - データが大規模なら良いが（特に属性の数との関係に注意。属性数がデータ件数よりも多い場合ではよくない。大きなサンプリングバイアスをもたらす恐れがある）\n",
    "        - 分割可能な層がないか... 層化抽出法を検討"
   ]
  },
  {
   "cell_type": "markdown",
   "metadata": {},
   "source": [
    "構築したモデルが課された問題に対して有効な\n",
    "\n",
    "汎化性能を評価することが大事\n",
    "\n",
    "モデルの\n",
    "\n",
    "データが追加されないことには確認しようがないので、\n",
    "\n",
    "手元のデータを利用して性能評価を行うことになります。\n",
    "\n",
    "ホールドアウト検証と交差検証法\n",
    "\n",
    "特定のデータに偏らない、より汎化能力のあるモデルを得るための手法です。\n",
    "\n",
    "## 訓練セットとテストセット\n",
    "\n",
    "訓練データからのさらなるデータ分割の操作はリサンプリングと呼ばれます。\n",
    "\n",
    "- モデルを適用するためのデータセット (analysis set)\n",
    "- 評価用のデータセット (assessment set)\n",
    "\n",
    "## ホールドアウト検証 (Hold-out)\n",
    "\n",
    "## 交差検証\n",
    "\n",
    "- k分割交差検証\n",
    "    - k は5~10が一般的\n",
    "- foldに割り当てられる検証データ\n",
    "- 学習データをk個に分割。そのうちk-1個でモデルを学習させ、残りの1個でモデル精度を評価するのをk回分繰り返す\n",
    "    - すべてのデータを検証に利用する"
   ]
  },
  {
   "cell_type": "markdown",
   "metadata": {},
   "source": [
    "### leave-one-out\n",
    "\n",
    "### k分割交差検証 (k-fold cross-validation)\n",
    "\n",
    "- 回帰問題で有効\n",
    "\n",
    "### 層化k分割交差検証 (stratifiedk k-fold cross-validation)\n",
    "\n",
    "- 分類問題で有効\n",
    "- 各分割データセットに含まれるクラスの比率が同じになるように分割がされる\n",
    "\n",
    "# 注意\n",
    "\n",
    "- データ、問題設定に応じて交差検証の方法を変更する\n",
    "    - 交差検証法と巨大なデータサイズの処理時間のトレードオフ\n",
    "    - 順番に意味のある時系列、ネスト構造のある空間データ\n",
    "    - 分類か回帰か\n",
    "        - 分類問題の場合、各クラスに偏りはないか\n",
    "            - 層化が必要\n"
   ]
  },
  {
   "cell_type": "markdown",
   "metadata": {},
   "source": [
    "<!--以下はほくそ笑むブログに投稿したやつ  -->\n",
    "\n",
    "# rsampleパッケージによるデータ分割"
   ]
  },
  {
   "cell_type": "markdown",
   "metadata": {},
   "source": [
    "前処理大全の「分割」の章では、予測モデルの評価のためのデータセット分割方法が解説されています。分割の基礎についての説明から時系列データへ適用する際の注意まで書かれいて勉強になります。本の中ではRおよびPythonでのawesome例が紹介されており、最近のRでは違う方法でもうちょっと楽にできるよー、というのが今回の話です。\n",
    "\n",
    "前処理大全でも取り上げられているcaretパッケージですが、その開発者のMaxx Kuhnが中心となってtidymodelsが整備されています（ざっくりいうとtidyverseのデータモデリング版。tidyverse、パイプ処理フレンドリーな統一的関数を提供するパッケージ群）\n",
    "\n",
    "その中のrsampleを使った、ちょっと新しいやり方を書いてみたいと思います。\n",
    "\n",
    "前処理大全に倣い、一般的なデータと時系列データの交差検証による分割をrsampleの使い方を紹介しながらやっていきます。また、rsampleの層化サンプリングについても最後に触れます。\n",
    "\n",
    "ここで扱うデータセットは前処理大全で使われているものを利用させていただきます。\n",
    "\n",
    "サポートページ\n",
    "\n",
    "この記事の中では、以下のパッケージに含まれる関数を利用します。メインはrsampleです。"
   ]
  },
  {
   "cell_type": "code",
   "execution_count": null,
   "metadata": {},
   "outputs": [],
   "source": [
    "library(readr) # データ読み込み\n",
    "library(dplyr) # データ操作一般\n",
    "library(assertr) # データのチェック\n",
    "library(rsample)"
   ]
  },
  {
   "cell_type": "markdown",
   "metadata": {},
   "source": [
    "## 1. レコードデータにおけるモデル検証用のデータ分割\n",
    "\n",
    "一般的な交差検証の例として紹介されている、交差数4の交差検証を行う処理をやってみます。\n",
    "まず20%をテストデータとして確保、残りのデータを交差検証に回します。\n",
    "\n",
    "rsampleパッケージの`initial_split()`でデータセットを訓練とテスト用に分けられます。ここでは`prop = `によりその比重を調整可能です。今回は例題と同じく、訓練に8割のデータが含まれるように指定しました。"
   ]
  },
  {
   "cell_type": "code",
   "execution_count": null,
   "metadata": {
    "results": "\"hide\""
   },
   "outputs": [],
   "source": [
    "# サポートページで公開されているデータを読み込む（製造レコード）\n",
    "production_tb <- \n",
    "  read_csv(\"https://raw.githubusercontent.com/ghmagazine/awesomebook/master/data/production.csv\") %>% \n",
    "  verify(expr = dim(.) == c(1000, 4))\n",
    "\n",
    "# prop では学習データへの分割の比率を指定します\n",
    "df_split <- initial_split(production_tb, prop = 0.8)"
   ]
  },
  {
   "cell_type": "markdown",
   "metadata": {},
   "source": [
    "`initial_split()`の返り値はrsplitオブジェクトです。出力してみると、分割したデータの情報を得ることができます。区切り文字で区切られた数値はそれぞれ、学習データ、テストデータ、元のデータの件数です。"
   ]
  },
  {
   "cell_type": "code",
   "execution_count": null,
   "metadata": {},
   "outputs": [],
   "source": [
    "df_split"
   ]
  },
  {
   "cell_type": "markdown",
   "metadata": {},
   "source": [
    "この時点では実際にデータが分割されている訳ではありません。データの分割は次の`training()`、`testing()`によって実行します。rsplitオブジェクトを引数に渡して実行すると先ほどの件数分のデータがランダムに割り当てられます。\n"
   ]
  },
  {
   "cell_type": "code",
   "execution_count": null,
   "metadata": {},
   "outputs": [],
   "source": [
    "df_train <- \n",
    "  training(df_split) %>% # 学習データ\n",
    "  verify(expr = nrow(.) == 801L)\n",
    "\n",
    "df_test <- \n",
    "  testing(df_split) %>%  # テストデータ\n",
    "  verify(expr = nrow(.) == 199L)"
   ]
  },
  {
   "cell_type": "markdown",
   "metadata": {},
   "source": [
    "続いて学習データを交差検証のためにさらに分割していきましょう。rsampleでは関数名`vfold_cv()`でk分割交差検証 (k-fold cross validation) を実行します（名前こそ違いますが、やっていることは同じです... `学習データをk個に分割、そのうちk-1個を学習用に、残りの1個をモデル精度を評価するために用いる`）。"
   ]
  },
  {
   "cell_type": "code",
   "execution_count": null,
   "metadata": {},
   "outputs": [],
   "source": [
    "train_folds <- vfold_cv(df_train, v = 4)\n",
    "\n",
    "train_folds"
   ]
  },
  {
   "cell_type": "markdown",
   "metadata": {},
   "source": [
    "ここで分割したデータセットの中身をk分割交差検証のイメージと合わせて確認しましょう。例題では交差数が4なので、下記の図のようにデータが分割されています。学習データ全体をk(=4)に分割しk-1を学習用、残りを検証用として利用するようにします。1回分のデータでは検証用のデータがkだけなので分割後のデータがもれなく検証データに割り当てられるよう、kの回数分繰り返されます。\n",
    "\n",
    "`vfold_cv()`の結果を見てみると、データが4行のデータフレームになっているのがわかります。列名はsplits,idからなります。各行にFoldのデータセットが含まれています。Foldのデータを参照するには`analysis()`、`assessment()`を使います。これらの関数はそれぞれ学習、検証データを参照します。\n"
   ]
  },
  {
   "cell_type": "code",
   "execution_count": null,
   "metadata": {},
   "outputs": [],
   "source": [
    "analysis(train_folds$splits[[1]])\n",
    "assessment(train_folds$splits[[1]])"
   ]
  },
  {
   "cell_type": "markdown",
   "metadata": {},
   "source": [
    "### zeallotによる代入\n",
    "\n",
    "Pythonでの`a, b = 0, 1`といった[parallel assignment](https://en.wikipedia.org/wiki/Assignment_(computer_science)#Parallel_assignment) を可能にするzeallotパッケージの演算子を使うと先ほどの学習・テストデータへの割り当ては次のように実行できます。"
   ]
  },
  {
   "cell_type": "code",
   "execution_count": null,
   "metadata": {},
   "outputs": [],
   "source": [
    "library(zeallot)\n",
    "\n",
    "df_split = initial_split(production_tb,  p = 0.8)\n",
    "c(df_train, df_test) %<-% list(\n",
    "  training(df_split),\n",
    "  testing(df_split))"
   ]
  },
  {
   "cell_type": "markdown",
   "metadata": {},
   "source": [
    "## 2. 時系列データにおけるモデル検証用のデータ分割\n",
    "\n",
    "先ほどの無作為に行われる学習データ、検証データの分割を時系列データに適用すると、学習データに未来と過去のデータが混同してしまうことになるため単純なk分割交差検証ではダメだと前処理大全では記されています。またそれに対する方法として、データ全体を時系列に並べ、学習と検証に利用するデータをスライドさせていくという処理が紹介されています。これもrsampleでやってみましょう。今度のデータは月ごとの経営指標のデータセットとなっており、行ごとに各月の値が記録されています。先ほどと同じく、サポートページからデータを読み込みんだらデータ型といくつかの行の値を表示してみましょう。"
   ]
  },
  {
   "cell_type": "code",
   "execution_count": null,
   "metadata": {},
   "outputs": [],
   "source": [
    "monthly_index_tb <- \n",
    "  read_csv(\"https://raw.githubusercontent.com/ghmagazine/awesomebook/master/data/monthly_index.csv\")\n",
    "\n",
    "glimpse(monthly_index_tb)"
   ]
  },
  {
   "cell_type": "markdown",
   "metadata": {},
   "source": [
    "ここで`year_month`の値が、`YYYY-MM`の形式で与えられていて、2010年1月を起点として並べられていること、データ型が文字列であることに注意してください。次の時系列データのためのデータ分割を適用する`rolling_origin()`は日付データに限らず、ある並びを考慮してランダムではない方法での抽出を行います。\n",
    "\n",
    "例題の通り、学習用24ヶ月(周期性をみるために2年)、検証用12ヶ月のデータとなるようにデータを分割します。スキップの単位も12ヶ月です。これらのオプションは引数で指定可能です。"
   ]
  },
  {
   "cell_type": "code",
   "execution_count": null,
   "metadata": {},
   "outputs": [],
   "source": [
    "df_split <- \n",
    "  rolling_origin(monthly_index_tb, \n",
    "                 initial = 24, \n",
    "                 assess = 12, \n",
    "                 skip = 12, \n",
    "                 cumulative = FALSE)\n",
    "\n",
    "df_split"
   ]
  },
  {
   "cell_type": "markdown",
   "metadata": {},
   "source": [
    "24、12行にデータが分かれたことがわかります。またデータセット全体では120行あるため、7通りの学習、検証データセットがあります。分割後の値を参照するには再び`analysis()`、`assessment()`を使います。最初のsplitデータでは2010年1月から24ヶ月分のデータ、つまり2011年12月までが含まれています。同様に検証データでは2012年月からの12ヶ月の値が格納されています。"
   ]
  },
  {
   "cell_type": "code",
   "execution_count": null,
   "metadata": {},
   "outputs": [],
   "source": [
    "analysis(df_split$splits[[1]]) %>% \n",
    "  verify(expr = nrow(.) == 24L)\n",
    "assessment(df_split$splits[[1]]) %>% \n",
    "  verify(expr = nrow(.) == 12L)"
   ]
  },
  {
   "cell_type": "markdown",
   "metadata": {},
   "source": [
    "少数データへの対策として出されている、学習データを増やしてく処理には`cumulative = TRUE`を指定するだけです（デフォルトで`TRUE`）。"
   ]
  },
  {
   "cell_type": "code",
   "execution_count": null,
   "metadata": {},
   "outputs": [],
   "source": [
    "df_split <- \n",
    "  rolling_origin(monthly_index_tb, \n",
    "                 initial = 24, \n",
    "                 assess = 12, \n",
    "                 skip = 12, \n",
    "                 cumulative = TRUE)\n",
    "\n",
    "df_split"
   ]
  },
  {
   "cell_type": "markdown",
   "metadata": {},
   "source": [
    "今度の分割では、学習データの件数が分割のたびに増えていることに注意してください。"
   ]
  },
  {
   "cell_type": "code",
   "execution_count": null,
   "metadata": {
    "lines_to_next_cell": 2
   },
   "outputs": [],
   "source": [
    "# 最初の分割データセットでは学習24、検証に12のデータ\n",
    "analysis(df_split$splits[[1]]) %>% \n",
    "  verify(expr = nrow(.) == 24L)\n",
    "assessment(df_split$splits[[1]]) %>% \n",
    "  verify(expr = nrow(.) == 12L)\n",
    "\n",
    "# 2番目の分割データセットには最初の分割データと同じ期間 + 13件のデータ\n",
    "# 最初と最後の行を確認\n",
    "analysis(df_split$splits[[3]]) %>% \n",
    "  slice(c(1, nrow(.)))"
   ]
  },
  {
   "cell_type": "markdown",
   "metadata": {},
   "source": [
    "## おまけ: 層化抽出法\n",
    "\n",
    "データに含まれる出身地や性別などの属性を「層」として扱い、層ごとに抽出を行う方法として（層化サンプリング stratified sampling）があります。層化抽出法は母集団の各層の比率を反映して抽出を行う方法で、無作為抽出よりもサンプル数が少ない層を抽出可能にするものです。rsampleでは`strata`引数がオプションに用意されており、これを分割用の関数実行時に層の名前を指定して実行することで層化サンプリングを実現します。\n",
    "\n",
    "例としてアヤメのデータセットを使います。元のデータは3種 (Species)が50件ずつ均等に含まれているため130件に限定して偏りを生じさています。"
   ]
  },
  {
   "cell_type": "code",
   "execution_count": null,
   "metadata": {},
   "outputs": [],
   "source": [
    "iris %>% \n",
    "  count(Species) %>%\n",
    "  mutate(prop = n / sum(n))\n",
    "\n",
    "# データセットの一部を抽出し、データセットに含まれる件数を種ごとに変える\n",
    "df_iris_subset <- iris[1:130, ]\n",
    "df_iris_subset %>% \n",
    "  count(Species) %>%\n",
    "  mutate(prop = n / sum(n))"
   ]
  },
  {
   "cell_type": "markdown",
   "metadata": {},
   "source": [
    "加工したデータでは\n",
    "3種のアヤメのうち、virginicaが30件(23%)と減っています。\n",
    "\n",
    "それでは層化しない方法と比較してみましょう。次の例は、k=5に分割したデータに含まれるvirginicaの割合を示します。2番目の`strata = \"Species\"`を与えて実行したものが層化サンプリングの結果です。"
   ]
  },
  {
   "cell_type": "code",
   "execution_count": null,
   "metadata": {},
   "outputs": [],
   "source": [
    "# ホールドごとに含まれる割合が異なる\n",
    "set.seed(13)\n",
    "folds1 <- vfold_cv(df_iris_subset, v = 5)\n",
    "purrr::map_dbl(folds1$splits,\n",
    "        function(x) {\n",
    "          dat <- as.data.frame(x)$Species\n",
    "          mean(dat == \"virginica\")})\n",
    "\n",
    "# strata = による層化を行うことで元データの偏りを反映してサンプリング\n",
    "set.seed(13)\n",
    "folds2 <- vfold_cv(df_iris_subset, strata = \"Species\", v = 5)\n",
    "purrr::map_dbl(folds2$splits,\n",
    "        function(x) {\n",
    "          dat <- as.data.frame(x)$Species\n",
    "          mean(dat == \"virginica\")})"
   ]
  },
  {
   "cell_type": "markdown",
   "metadata": {},
   "source": [
    "層化サンプリングした場合では、ホールド間で元データの偏りを反映することができました。便利ですね。\n",
    "\n",
    "## 不均衡データの問題と対策\n",
    "\n",
    "<!-- 訓練データとテストデータとの分割とは違う。混乱を避けるため分けた方が良いかも... -->\n",
    "\n",
    "<!-- データの分割を行ったあと、 -->\n",
    "\n",
    "クラスに属する件数に偏りがあるデータを不均衡データ (imbalanced data) と呼びます。例えば迷惑メールを区別するための「負例 (迷惑メール)」と「正例 (正常なメール)」を区別する2クラス分類を扱うとき、それぞれの件数の割合には差が出ることが予測されます。また、多クラス分類においてはあるクラスに集中したり、人気のないクラスが発生することもあります。このように現実のデータでは不均衡がしばしば発生します。特に正例となる事例が発生する確率が低い事象では不均衡がおきやすいことが知られています。"
   ]
  },
  {
   "cell_type": "markdown",
   "metadata": {},
   "source": [
    "不均衡のある状態でクラス分類を行うといくつかの問題が生じます。\n",
    "\n",
    "具体的に数値を使って見てみきましょう。正例と負例の比率が0.1:0.9のデータを考えます。正例データに対する識別を目的に分類を行うとします。このデータを元に導かれる予測精度は高精度 (accuracy 90%) になります。しかし、これは単純に「すべてのデータが負例である」と予測された精度です (recall 100%)。目的の正例データの識別はできていません。\n",
    "\n",
    "|              | 正例(予測) | 負例(予測) |\n",
    "|--------------|------------|------------|\n",
    "| 正例(実績)   | 0          | 1000       |\n",
    "| 負例(実績)\t | 0          | 9000       |"
   ]
  },
  {
   "cell_type": "code",
   "execution_count": null,
   "metadata": {
    "lines_to_next_cell": 2
   },
   "outputs": [],
   "source": [
    "d <- \n",
    "  tibble(\n",
    "  class = c(rep(TRUE, 100),\n",
    "            rep(FALSE, 900)) %>% \n",
    "    as.numeric() %>% \n",
    "    as.factor(),\n",
    "  value = rnorm(1000))\n",
    "\n",
    "mod_eng_glm <- logistic_reg(mode = \"classification\") %>%\n",
    "  set_engine(engine = \"glm\",\n",
    "             family = \"binomial\")\n",
    "classification_metric <- metric_set(precision, accuracy, recall)\n",
    "\n",
    "fit(\n",
    "  mod_eng_glm,\n",
    "  class ~ value,\n",
    "  data = d) %>% \n",
    "  predict(new_data = d) %>%\n",
    "  bind_cols(d) %>% \n",
    "  classification_metric(truth = class, estimate = .pred_class)"
   ]
  },
  {
   "cell_type": "markdown",
   "metadata": {},
   "source": [
    "偏りが大きな状態では、分類の結果も多いクラスに偏ります。"
   ]
  },
  {
   "cell_type": "markdown",
   "metadata": {},
   "source": [
    "学習データに含まれる件数に偏りが生じるために問題が発生しやすい"
   ]
  },
  {
   "cell_type": "markdown",
   "metadata": {},
   "source": [
    "クラス不均衡への対応には大きく分けて2通りの方法があります。\n",
    "\n",
    "- コスト考慮型学習... ペナルティを大きくする\n",
    "- クラス間での偏りを考慮したリサンプリング... 正例と負例のサンプル数を調整する\n",
    "    - under-sampling\n",
    "    - over-sampling\n",
    "    - ハイブリッド法\n",
    "\n",
    "またこれ以外に、少数クラスに含まれるデータが特徴量空間上でクラスタを作っていない場合を仮定した異常検知の手法もあります。ここではデータに対する扱いを考慮することで不均衡を減少させるunder-samplingとover-samplingによるリサンプリング方法を紹介します。\n"
   ]
  },
  {
   "cell_type": "markdown",
   "metadata": {},
   "source": [
    "## データの分割\n",
    "\n",
    "モデリングのプロジェクトに取りかかるとき、既存のデータの扱いを考える必要があります。\n",
    "\n",
    "訓練データの役割は、モデルの構築からモデル間の比較、パラメータの推定など、最終的なモデルに到るまでに必要な活動の基盤を担います。\n",
    "\n",
    "対してテストデータは\n",
    "\n",
    "- 訓練データ (train)\n",
    "- テストデータ (test)"
   ]
  },
  {
   "cell_type": "markdown",
   "metadata": {},
   "source": [
    "データ分割に対して、どのようなデータにも当てはめられる一律の規則を設けるのは困難です。扱われるデータ量や変数の数を考慮しなければならないためです。特にデータ量 (`n`) と 含まれる変数 (`p`)の関係には注意が必要です。\n",
    "\n",
    "`np問題`... p > n\n",
    "\n",
    "**ランダムサンプリング**\n"
   ]
  },
  {
   "cell_type": "code",
   "execution_count": 1,
   "metadata": {},
   "outputs": [
    {
     "name": "stderr",
     "output_type": "stream",
     "text": [
      "Loading required package: lattice\n",
      "Loading required package: ggplot2\n",
      "Registered S3 methods overwritten by 'ggplot2':\n",
      "  method         from \n",
      "  [.quosures     rlang\n",
      "  c.quosures     rlang\n",
      "  print.quosures rlang\n"
     ]
    }
   ],
   "source": [
    "library(caret)"
   ]
  },
  {
   "cell_type": "code",
   "execution_count": null,
   "metadata": {},
   "outputs": [],
   "source": [
    "df_landprice_mod <-\n",
    "  read_csv(here::here(\"data-raw/landprice.csv\")) %>% \n",
    "  verify(expr = dim(.) == c(640, 42))"
   ]
  },
  {
   "cell_type": "markdown",
   "metadata": {},
   "source": [
    "四分位数に基づく階級区分"
   ]
  },
  {
   "cell_type": "code",
   "execution_count": null,
   "metadata": {},
   "outputs": [],
   "source": [
    "price_quartile <- \n",
    "  df_landprice_mod %>% \n",
    "  pull(posted_land_price) %>% \n",
    "  quantile()\n",
    "\n",
    "df_landprice_mod %>% \n",
    "  mutate(g = case_when(\n",
    "    between(posted_land_price, price_quartile[1], price_quartile[2]) ~ 1,\n",
    "    between(posted_land_price, price_quartile[2], price_quartile[3]) ~ 2,\n",
    "    between(posted_land_price, price_quartile[3], price_quartile[4]) ~ 3,\n",
    "    between(posted_land_price, price_quartile[4], price_quartile[5]) ~ 4)) %>% count(g)"
   ]
  },
  {
   "cell_type": "markdown",
   "metadata": {},
   "source": [
    "- 訓練データの正当な評価と性能測定\n",
    "- データ漏洩に対する予防\n",
    "\n",
    "### 地理的関係を考慮したリサンプリング \n",
    "\n",
    "## まとめ\n",
    "\n",
    "- 訓練セットとテストセットは、分けるけど同じ処理を適用する\n",
    "    - 別々にやるのはまずい。"
   ]
  },
  {
   "cell_type": "markdown",
   "metadata": {},
   "source": [
    "## 関連項目\n",
    "\n",
    "## 参考文献\n",
    "\n",
    "- Gareth James, Daniela Witten, Trevor Hastie and Robert Tibshirani (2013). An Introduction to Statistical Learning with Applications in R (Springer)"
   ]
  }
 ],
 "metadata": {
  "jupytext": {
   "formats": "ipynb,Rmd"
  },
  "kernelspec": {
   "display_name": "R",
   "language": "R",
   "name": "ir"
  },
  "language_info": {
   "codemirror_mode": "r",
   "file_extension": ".r",
   "mimetype": "text/x-r-source",
   "name": "R",
   "pygments_lexer": "r",
   "version": "3.6.0"
  },
  "toc": {
   "base_numbering": 1,
   "nav_menu": {},
   "number_sections": true,
   "sideBar": true,
   "skip_h1_title": false,
   "title_cell": "Table of Contents",
   "title_sidebar": "Contents",
   "toc_cell": false,
   "toc_position": {},
   "toc_section_display": true,
   "toc_window_display": false
  }
 },
 "nbformat": 4,
 "nbformat_minor": 2
}
