{
 "cells": [
  {
   "cell_type": "markdown",
   "metadata": {},
   "source": [
    "# 次元削減"
   ]
  },
  {
   "cell_type": "code",
   "execution_count": null,
   "metadata": {
    "name": "setup"
   },
   "outputs": [],
   "source": [
    "source(here::here(\"R/setup.R\"))"
   ]
  },
  {
   "cell_type": "markdown",
   "metadata": {},
   "source": [
    "対数変換やBox-Cox変換などが単一のベクトルに対する特徴量エンジニアリングであったのに対し、ここで紹介する方法はモデルベースのアプローチになります。"
   ]
  },
  {
   "cell_type": "markdown",
   "metadata": {},
   "source": [
    "<!-- 特徴量の作成の文脈でも。外れ値や共線性の問題を考慮 -->\n",
    "\n",
    "高次元データと呼ぶことがあります。\n",
    "\n",
    "これらのデータの問題として以下にあげるものがあります\n",
    "\n",
    "- 計算時間の増加\n",
    "- 予測性能の低下\n",
    "- 変数重要度評価の複雑化"
   ]
  },
  {
   "cell_type": "markdown",
   "metadata": {},
   "source": [
    "ref) `feature-selection`\n",
    "\n",
    "PCAやMDSなど入力に対して線形変換を行う線形変換の\n",
    "\n",
    "他、\n",
    "\n",
    "t-SNE\n",
    "\n",
    "## 主成分分析\n",
    "\n",
    "<!-- 欠損値補完が先... handling-missing-data -->\n",
    "\n",
    "主成分分析 (Principal Component Analysis: PCA) は\n",
    "\n",
    "特徴空間\n",
    "\n",
    "主成分と呼ばれる\n",
    "\n",
    "特徴空間に含まれる情報を要約した特徴量を生成することが期待されます。\n",
    "\n",
    "主成分分析では、高次元な空間において個々のデータを表現するために「距離」を利用します。\n",
    "\n",
    "特徴空間上では異なるスケールのデータが混ざることになります。そのため主成分分析を行う際には入力に使う変数を標準化しておく必要があります。\n",
    "\n",
    "分散が最大となる\n",
    "\n",
    "主成分を特徴量として利用できます。\n",
    "\n",
    "主成分軸の寄与率を考慮して、主成分軸の何軸までを利用するか考えます。目安として寄与率が80%~90%あればデータの傾向を説明できると言われます。そのため、第一の基準として累積寄与率が90%となるまでの主成分軸上の得点、すなわち主成分得点を特徴量として扱うことが考えられます。\n",
    "\n",
    "個々のデータの情報を可能な限り失わないよう、データ全体の関係を要約してくれます。\n",
    "\n",
    "また、直行する主成分同士は\n",
    "\n",
    "無相関になるため、\n",
    "\n",
    "相関のある変数を圧縮するのにも効率的です。\n",
    "さらに白色化と組み合わせて...\n",
    "標準化することも"
   ]
  },
  {
   "cell_type": "code",
   "execution_count": null,
   "metadata": {
    "lines_to_next_cell": 0
   },
   "outputs": [],
   "source": [
    "# ggplot2 PCで塗り分ける\n"
   ]
  },
  {
   "cell_type": "markdown",
   "metadata": {},
   "source": [
    "\n"
   ]
  },
  {
   "cell_type": "markdown",
   "metadata": {},
   "source": [
    "## 部分最小二乗法\n",
    "\n",
    "- 入力変数だけでなく、目的変数も使用する\n",
    "\n",
    "## LSA (?)\n",
    "\n",
    "違うような...\n",
    "\n",
    "## まとめ\n",
    "\n",
    "## 参考文献\n",
    "\n",
    "- Trevor Hastie, Robert Tibshirani and Jerome Friedman (2009). The Elements of Statistical Learning (**翻訳** 統計的学習の基礎. (共立出版))"
   ]
  }
 ],
 "metadata": {
  "jupytext": {
   "formats": "ipynb,Rmd"
  },
  "kernelspec": {
   "display_name": "R",
   "language": "R",
   "name": "ir"
  },
  "language_info": {
   "codemirror_mode": "r",
   "file_extension": ".r",
   "mimetype": "text/x-r-source",
   "name": "R",
   "pygments_lexer": "r",
   "version": "3.6.0"
  },
  "toc": {
   "base_numbering": 1,
   "nav_menu": {},
   "number_sections": true,
   "sideBar": true,
   "skip_h1_title": false,
   "title_cell": "Table of Contents",
   "title_sidebar": "Contents",
   "toc_cell": false,
   "toc_position": {},
   "toc_section_display": true,
   "toc_window_display": false
  }
 },
 "nbformat": 4,
 "nbformat_minor": 2
}
