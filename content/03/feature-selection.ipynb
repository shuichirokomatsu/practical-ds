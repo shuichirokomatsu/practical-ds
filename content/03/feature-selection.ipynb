{
 "cells": [
  {
   "cell_type": "code",
   "execution_count": null,
   "metadata": {
    "hide_output": true,
    "name": "setup"
   },
   "outputs": [],
   "source": [
    "source(here::here(\"R/prepared_landprice.R\"))"
   ]
  },
  {
   "cell_type": "markdown",
   "metadata": {},
   "source": [
    "# 特徴量選択"
   ]
  },
  {
   "cell_type": "markdown",
   "metadata": {},
   "source": [
    "<!-- 変数選択ではあっても、モデル選択 ~~とはどういう対応関係?~ ではないかもしれない。\n",
    "モデルは構築されたもの、モデルで一つ。特徴量選択は個別の特徴量を取り扱う-->\n",
    "\n",
    "<!-- 半自動的に... 数値による客観的評価。ドメイン知識がなくてOK --> \n",
    "\n",
    "モデルの性能評価とともに\n",
    "\n",
    "モデルに組み込まれた説明変数が目的変数に対してどの程度の影響を持っているのか\n",
    "\n",
    "* フィルタ法\n",
    "* ラッパー法\n",
    "* 組み込み法\n",
    "\n",
    "<!-- フィルタ法については 01/tidy_data で -->\n",
    "\n",
    "変数間の相関がもたらす問題は多重共線性と呼ばれます(?)\n",
    "\n",
    "多重共線性への対策として、事前に共線性をもつ変数を削除しておくというものがあります。\n",
    "\n",
    "これを変数選択と言います。\n",
    "\n",
    "一方でモデルに重要な変数を削除してしまう恐れもあります。\n",
    "\n",
    "> > 余分な変数をモデルに取り組むよりもリスクよりも重要な変数をモデルに取り込まないリスクの方が大きい\n",
    "\n",
    "変数選択 (feature selection)は慎重に、かつ比較を十分に行うべきでしょう。\n",
    "\n",
    "次元削減 (feature reduction)\n",
    "\n",
    "真に必要な変数を探すための作業と言えるかもしれません。\n",
    "\n",
    "## 高次元データの問題\n",
    "\n",
    "- 学習に時間がかかる\n",
    "- 多重共線性\n",
    "- ノイズや過学習の原因\n",
    "- 次元の呪い\n",
    "\n",
    "## 多重共線性\n",
    "\n",
    "多重共線性の問題は"
   ]
  },
  {
   "cell_type": "code",
   "execution_count": null,
   "metadata": {},
   "outputs": [],
   "source": [
    "library(car)\n",
    "\n",
    "vif(lm(prestige ~ income + education, data=Duncan))\n",
    "vif(lm(prestige ~ income + education + type, data=Duncan))"
   ]
  },
  {
   "cell_type": "markdown",
   "metadata": {},
   "source": [
    "明確な数値指標はありませんが、一般にはVIFが10以上の説明変数をモデルに組み込むと多重共線性が発生する可能性があると言われます。"
   ]
  },
  {
   "cell_type": "code",
   "execution_count": null,
   "metadata": {},
   "outputs": [],
   "source": [
    "%%python\n",
    "#Imports\n",
    "import pandas as pd\n",
    "import numpy as np\n",
    "from patsy import dmatrices\n",
    "import statsmodels.api as sm\n",
    "from statsmodels.stats.outliers_influence import variance_inflation_factor\n",
    "\n",
    "df = pd.read_csv('loan.csv')\n",
    "df.dropna()\n",
    "df = df._get_numeric_data() #drop non-numeric cols\n",
    "\n",
    "df.head()"
   ]
  },
  {
   "cell_type": "markdown",
   "metadata": {},
   "source": [
    "膨大な特徴量に\n",
    "\n",
    "> LASSOやリッジ回帰のような正則化法は、モデル構築プロセスの一部として特徴の寄与を積極的に削除または割り引くことを積極的に求めているため、特徴量選択を組み込んだアルゴリズムと見なすこともできます。\n",
    "\n",
    "計算コストを考慮して\n",
    "\n",
    "1. 単変量特徴量選択... フィルタ法とも呼びます。 `tidy_data` で解説。前処理の段階で使用する変数を制限する\n",
    "2. 反復特徴量選択... ラッパー法 (wrapper method)\n",
    "3. モデルベース特徴量選択... 組み込み法 (emedded method)\n",
    "\n",
    "## 反復特徴量選択\n",
    "\n",
    "- 前向き法 (Forward stepwise selection)... \n",
    "- 後向き法 (Backward stepwise selection)... 関心のある特徴量を含めたモデルを構築。モデルに影響しない不要な特徴を一つずつ消していく\n",
    "\n",
    "### 前向き法\n",
    "\n",
    "回帰モデルを切片のみの状態の値から開始し、順次、推定結果を改善する説明変数を追加していく。\n",
    "\n",
    "データ件数に対して変数が多くなる p >> Nの状況であっても計算が可能という利点がある。\n",
    "\n",
    "モデルの改善が進まなくなったら停止\n",
    "\n",
    "### 後向き法\n",
    "\n",
    "- k個の特徴がある状態から、最も不要な特徴を一つずつ取りのぞく\n",
    "- N > kのときのみ使用できる\n",
    "\n",
    "<!-- 止まってしまうよりも色々見るのがベスト？ -->\n",
    "\n",
    "## モデルベース特徴量選択\n",
    "\n",
    "決定木、ランダムフォレスト、Lasso... feature importance\n",
    "線形モデル, MARS... 回帰係数\n",
    "\n",
    "モデルを構築していく段階で特徴量の重要度を数値化"
   ]
  },
  {
   "cell_type": "code",
   "execution_count": null,
   "metadata": {
    "lines_to_next_cell": 2
   },
   "outputs": [],
   "source": [
    "library(Boruta)\n",
    "\n",
    "d <- df_lp_kanto_sp_baked %>% \n",
    "  select(-administrative_area_code, -starts_with(\".\")) %>% \n",
    "  verify(ncol(.) == 112L)\n",
    "\n",
    "# 13 mins.\n",
    "Bor_lp <- \n",
    "  Boruta(posted_land_price ~ ., data = d, doTrace = 2)\n",
    "Bor_lp\n",
    "plot(Bor_lp)\n",
    "# plotImpHistory(Bor_lp)\n",
    "\n",
    "df_bor_stats <- \n",
    "  attStats(Bor_lp) %>% \n",
    "  tibble::rownames_to_column() %>% \n",
    "  arrange(decision, desc(meanImp))\n",
    "\n",
    "df_bor_stats %>% \n",
    "  count(decision)\n",
    "\n",
    "df_bor_stats %>% \n",
    "  filter(decision == \"Confirmed\")"
   ]
  },
  {
   "cell_type": "markdown",
   "metadata": {},
   "source": [
    "### 最初の第一歩としての変数重要度の確認\n",
    "\n",
    "- 客観的な評価、思わぬ存在を発見できるかもしれない\n",
    "    - 戦略としてはアリ\n",
    "    - Kaggle... とりあえずGBMに\n",
    "    - 思わぬ組み合わせ（新しい特徴量の生成）\n",
    "- その結果を過大評価、他の変数を捨ててしまうことは避けたい\n",
    "\n",
    "## まとめ\n",
    "\n",
    "## 関連項目\n",
    "\n",
    "- 重回帰分析\n",
    "- PCA (線形変換系手法)\n",
    "- t-SNE (非線形)\n",
    "- 解釈\n",
    "\n",
    "- `dimension-reducion`\n",
    "\n",
    "## 参考文献\n",
    "\n",
    "- Trevor Hastie, Robert Tibshirani and Jerome Friedman (2009). The Elements of Statistical Learning (**翻訳** 杉山将ほか訳 (2014). 統計的学習の基礎. (共立出版))\n",
    "- 久保拓弥 (2012). データ解析のための統計モデリング入門 (岩波書店)"
   ]
  }
 ],
 "metadata": {
  "jupytext": {
   "formats": "ipynb,Rmd"
  },
  "kernelspec": {
   "display_name": "R",
   "language": "R",
   "name": "ir"
  },
  "language_info": {
   "codemirror_mode": "r",
   "file_extension": ".r",
   "mimetype": "text/x-r-source",
   "name": "R",
   "pygments_lexer": "r",
   "version": "3.6.0"
  },
  "toc": {
   "base_numbering": 1,
   "nav_menu": {},
   "number_sections": true,
   "sideBar": true,
   "skip_h1_title": false,
   "title_cell": "Table of Contents",
   "title_sidebar": "Contents",
   "toc_cell": false,
   "toc_position": {},
   "toc_section_display": true,
   "toc_window_display": false
  }
 },
 "nbformat": 4,
 "nbformat_minor": 2
}
