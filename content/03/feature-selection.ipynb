{
 "cells": [
  {
   "cell_type": "code",
   "execution_count": null,
   "metadata": {
    "hide_output": true,
    "name": "setup"
   },
   "outputs": [],
   "source": [
    "source(here::here(\"R/prepared_landprice.R\"))"
   ]
  },
  {
   "cell_type": "markdown",
   "metadata": {},
   "source": [
    "# 特徴量選択\n",
    "\n",
    "特徴量を増やす（モデルを複雑にする）ことの問題\n",
    "\n",
    "## 高次元データの問題\n",
    "\n",
    "- 学習に時間がかかる\n",
    "- 多重共線性\n",
    "- ノイズや過学習の原因\n",
    "- 次元の呪い\n",
    "\n",
    "変数間の相関に由来する問題は多重共線性と呼ばれます\n",
    "\n",
    "多重共線性への対策として、事前に共線性をもつ変数を削除しておくというものがあります。\n",
    "\n",
    "これを変数選択と言います。\n",
    "\n",
    "一方でモデルに重要な変数を削除してしまう恐れもあります。\n",
    "\n",
    "> > 余分な変数をモデルに取り組むよりもリスクよりも重要な変数をモデルに取り込まないリスクの方が大きい\n",
    "\n",
    "変数選択 (feature selection)は慎重に、かつ比較を十分に行うべきでしょう。\n",
    "\n",
    "次元削減 (feature reduction)\n",
    "\n",
    "真に必要な変数を探すための作業と言えるかもしれません。\n",
    "\n",
    "### 多重共線性\n",
    "\n",
    "VIFでは数値による客観的指標を用いてモデルに組み込む変数を選択することができる\n",
    "\n",
    "大きく異なるが、多重共線性を生じるVIFの値としては4~10が使われることが多いです。\n",
    "\n",
    "相関の強い変数をモデルに取り入れることで発生する問題です。\n",
    "\n",
    "回帰係数が不安定\n",
    "推定結果の分散が大きくなる\n",
    "\n",
    "対策としては、事前に共線性をもつ変数を除外する、変数の情報の一部を利用するなどです。情報の一部とは、主成分分析でばらつきを最も反映する成分となります。これにより変数間の関係を無相関化が行われます。\n",
    "\n",
    "散布図行列を描いて、モデルに用いる変数間の相関を見る。\n",
    "\n",
    "相関係数を確かめる。\n",
    "\n",
    "多重共線性\n",
    "\n",
    "完全相関の変数が含まれると推定値が計算されません。"
   ]
  },
  {
   "cell_type": "code",
   "execution_count": null,
   "metadata": {
    "lines_to_next_cell": 2
   },
   "outputs": [],
   "source": [
    "tibble(\n",
    "  y = seq_len(100),\n",
    "  x1 = rnorm(100),\n",
    "  x2 = x1\n",
    ") %>% \n",
    "  lm(y ~ ., data = .)"
   ]
  },
  {
   "cell_type": "code",
   "execution_count": null,
   "metadata": {
    "lines_to_next_cell": 2
   },
   "outputs": [],
   "source": [
    "df_lp_kanto %>% \n",
    "  ggplot(aes(floor_area_ratio, building_coverage)) +\n",
    "  geom_point()\n",
    "\n",
    "# GGally::ggpairs(df_lp_kanto %>% \n",
    "#   select(-starts_with(\".\")) %>%\n",
    "#   select_if(is.numeric))\n",
    "\n",
    "cor(df_lp_kanto$floor_area_ratio, df_lp_kanto$building_coverage)\n",
    "\n",
    "# mod <- \n",
    "#   df_lp_kanto %>% \n",
    "#   lm(posted_land_price ~ scale(distance_from_station) + scale(acreage) + scale(night_population),\n",
    "#      data = .)\n",
    "car::vif(mod)"
   ]
  },
  {
   "cell_type": "markdown",
   "metadata": {},
   "source": [
    "多重共線性の問題は\n",
    "\n",
    "明確な数値指標はありませんが、一般にはVIFが10以上の説明変数をモデルに組み込むと多重共線性が発生する可能性があると言われます。"
   ]
  },
  {
   "cell_type": "markdown",
   "metadata": {},
   "source": [
    "膨大な特徴量に\n",
    "\n",
    "> LASSOやリッジ回帰のような正則化法は、モデル構築プロセスの一部として特徴の寄与を積極的に削除または割り引くことを積極的に求めているため、特徴量選択を組み込んだアルゴリズムと見なすこともできます。\n",
    "\n",
    "計算コストを考慮して\n",
    "\n",
    "## 特徴量選択の方法\n",
    "\n",
    "<!-- 変数選択ではあっても、モデル選択 ~~とはどういう対応関係?~ ではないかもしれない。\n",
    "モデルは構築されたもの、モデルで一つ。特徴量選択は個別の特徴量を取り扱う-->\n",
    "\n",
    "<!-- 半自動的に... 数値による客観的評価。ドメイン知識がなくてOK --> \n",
    "\n",
    "モデルの性能評価とともに\n",
    "\n",
    "モデルに組み込まれた説明変数が目的変数に対してどの程度の影響を持っているのか\n",
    "\n",
    "特徴量選択の基本的な戦略は次の3つに分かれます。\n",
    "\n",
    "1. 単変量統計量、フィルタ法 (filter method)\n",
    "2. 反復特徴量選択、ラッパー法 (wrapper method)\n",
    "3. モデルベース特徴量選択、組み込み法 (emedded method)\n",
    "\n",
    "このうち単変量統計量による変数選択はモデルを利用しません。その戦略は情報量の少ない変数や、互いに相関のある変数の片方を削るというもので、すでに[データの前処理](01/tidy-data)の段階で触れています。したがってここでは解説を行いません。\n",
    "\n",
    "単変量統計量は余分な特徴量を減らすことには貢献しますが、モデルの性能向上に対する期待はできないかもしれません。"
   ]
  },
  {
   "cell_type": "markdown",
   "metadata": {},
   "source": [
    "反復特徴量選択、モデルベース特徴量選択では教師あり学習を利用します。そのため、実行時は[データ分割](03/data-splitting)により分析・評価セットへデータを分割した後、分析セットに対して適用することになります。ここではこの2つの特徴量選択の方法を紹介します。"
   ]
  },
  {
   "cell_type": "markdown",
   "metadata": {},
   "source": [
    "### 反復特徴量選択\n",
    "\n",
    "異なる特徴量を用いたモデルを作る\n",
    "\n",
    "- 前向き法 (Forward stepwise selection)... \n",
    "- 後向き法 (Backward stepwise selection)... 関心のある特徴量を含めたモデルを構築。モデルに影響しない不要な特徴を一つずつ消していく\n",
    "\n",
    "#### 前向き法\n",
    "\n",
    "回帰モデルを切片のみの状態の値から開始し、順次、推定結果を改善する説明変数を追加していく。\n",
    "\n",
    "データ件数に対して変数が多くなる p >> Nの状況であっても計算が可能という利点がある。\n",
    "\n",
    "#### 後向き法\n",
    "\n",
    "- k個の特徴がある状態から、最も不要な特徴を一つずつ取りのぞく\n",
    "- N > kのときのみ使用できる\n",
    "\n",
    "<!-- 止まってしまうよりも色々見るのがベスト？ -->\n",
    "\n",
    "1. データを分析セット、評価セットに分割する\n",
    "2. 各リサンプリングに対して\n",
    "    - 分析セットでの特徴量のランクを評価する\n",
    "        - 特徴量のうち1つを除いてモデルに当てはめる\n",
    "        - 評価セットでの評価\n",
    "3. 各リサンプリングでの性能を平均し、最も良いモデルを選ぶ、訓練データに適用する\n",
    "\n",
    "### モデルベース特徴量選択\n",
    "\n",
    "特徴量選択の3つの戦略の中で最も重要になる。\n",
    "\n",
    "最終的に利用するモデルと異なるモデル、例えば問題が分類問題であっても回帰モデルを利用したり、回帰問題の場合であっても決定木やランダムフォレストを利用しても良いという特徴があります。各モデルで特徴量選択の基準として、木ベースのモデルでは特徴量重要度 (feature importance)、MARSなどの線形モデルでは回帰係数を頼りにすることとなります。\n",
    "\n",
    "特徴量選択のための手順が完全にモデル構築のプロセスに含められているという利点があります\n",
    "\n",
    "モデルを利用する特徴量選択では、リサンプリングも行います。\n"
   ]
  },
  {
   "cell_type": "markdown",
   "metadata": {},
   "source": [
    "モデルを構築していく段階で個々の特徴量の重要度を数値化\n",
    "\n",
    "重要だと思われる特徴量のみを残す。"
   ]
  },
  {
   "cell_type": "code",
   "execution_count": null,
   "metadata": {
    "lines_to_next_cell": 2
   },
   "outputs": [],
   "source": [
    "library(Boruta)\n",
    "\n",
    "d <- df_lp_kanto_sp_baked %>% \n",
    "  select(-administrative_area_code, -starts_with(\".\")) %>% \n",
    "  verify(ncol(.) == 112L)\n",
    "\n",
    "# 13 mins.\n",
    "Bor_lp <- \n",
    "  Boruta(posted_land_price ~ ., data = d, doTrace = 2)\n",
    "Bor_lp\n",
    "plot(Bor_lp)\n",
    "# plotImpHistory(Bor_lp)\n",
    "\n",
    "df_bor_stats <- \n",
    "  attStats(Bor_lp) %>% \n",
    "  tibble::rownames_to_column() %>% \n",
    "  arrange(decision, desc(meanImp))\n",
    "\n",
    "df_bor_stats %>% \n",
    "  count(decision)\n",
    "\n",
    "df_bor_stats %>% \n",
    "  filter(decision == \"Confirmed\")"
   ]
  },
  {
   "cell_type": "markdown",
   "metadata": {},
   "source": [
    "#### 最初の第一歩としての変数重要度の確認\n",
    "\n",
    "- 客観的な評価、思わぬ存在を発見できるかもしれない\n",
    "    - 戦略としてはアリ\n",
    "    - Kaggle... とりあえずGBMに\n",
    "    - 思わぬ組み合わせ（新しい特徴量の生成）\n",
    "- その結果を過大評価、他の変数を捨ててしまうことは避けたい\n",
    "\n",
    "## まとめ\n",
    "\n",
    "## 関連項目\n",
    "\n",
    "- 重回帰分析\n",
    "- PCA (線形変換系手法)\n",
    "- t-SNE (非線形)\n",
    "- 解釈\n",
    "- [次元削減](03/dimension-reducion)\n",
    "\n",
    "## 参考文献\n",
    "\n",
    "- Trevor Hastie, Robert Tibshirani and Jerome Friedman (2009). The Elements of Statistical Learning (**翻訳** 杉山将ほか訳 (2014). 統計的学習の基礎. (共立出版))\n",
    "- 久保拓弥 (2012). データ解析のための統計モデリング入門 (岩波書店)\n",
    "- Sarah Guido and Andreas Müller (2016). Introduction to Machine Learning with Python A Guide for Data Scientists (O'Reilly) (**翻訳** 中田秀基訳 (2017). Pythonではじめる機械学習 scikit-learnで学ぶ特徴量エンジニアリングと機械学習の基礎 (オライリー))\n",
    "- Max Kuhn and Kjell Johnson (2019).[Feature Engineering and Selection: A Practical Approach for Predictive Models](https://bookdown.org/max/FES/) (CRC Press)"
   ]
  }
 ],
 "metadata": {
  "jupytext": {
   "formats": "ipynb,Rmd"
  },
  "kernelspec": {
   "display_name": "R",
   "language": "R",
   "name": "ir"
  },
  "language_info": {
   "codemirror_mode": "r",
   "file_extension": ".r",
   "mimetype": "text/x-r-source",
   "name": "R",
   "pygments_lexer": "r",
   "version": "3.6.0"
  },
  "toc": {
   "base_numbering": 1,
   "nav_menu": {},
   "number_sections": true,
   "sideBar": true,
   "skip_h1_title": false,
   "title_cell": "Table of Contents",
   "title_sidebar": "Contents",
   "toc_cell": false,
   "toc_position": {},
   "toc_section_display": true,
   "toc_window_display": false
  }
 },
 "nbformat": 4,
 "nbformat_minor": 2
}
