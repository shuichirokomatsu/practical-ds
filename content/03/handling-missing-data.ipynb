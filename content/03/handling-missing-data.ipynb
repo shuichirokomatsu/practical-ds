{
 "cells": [
  {
   "cell_type": "markdown",
   "metadata": {},
   "source": [
    "# 欠損データの処理"
   ]
  },
  {
   "cell_type": "code",
   "execution_count": null,
   "metadata": {
    "hide_output": true,
    "name": "setup",
    "results": "\"hide\""
   },
   "outputs": [],
   "source": [
    "source(here::here(\"R/setup.R\"))"
   ]
  },
  {
   "cell_type": "markdown",
   "metadata": {},
   "source": [
    "## 欠損データ\n",
    "\n",
    "分析に利用するデータには多くの場合、なんらかの理由により記録されなかった値、欠損値 (欠測、欠落 missing data) が含まれます。全ての変数の値が観測されているデータを完全データ (complete data) と呼びます\n",
    "。これに対して欠損が含まれるデータは不完全データ (incomplete data) と呼ばれます。 データ件数が増えるほど、なんらかの理由によりデータとなる傾向にあります。それは後に述べるように欠損がランダムな事象により生じることが多いためです。\n",
    "\n",
    "ここではまず、欠損値があることのデメリットを確認し、欠損値に対する認識を深めます。続いて欠損発生のメカニズムを知り、欠損パターンを可視化します。最後にそれらを踏まえた上で欠損値への対策を練るようにします。\n",
    "\n",
    "### 欠損データのデメリット\n",
    "\n",
    "欠損値が含まれるデータを扱う上での問題点は次の3点が大きいです。\n",
    "\n",
    "- 統計的処理が不可能になる\n",
    "- 結果にバイアスが生じる\n",
    "- データ資源が無駄になる\n",
    "\n",
    "第一に、平均の算出など単純な集計値を求める作業ができなくなります。以下のコードはRでの算術平均の計算の実行例です。ベクトルxの2番目の要素が欠損値であるため`mean()`の返り値も欠損値です。"
   ]
  },
  {
   "cell_type": "code",
   "execution_count": null,
   "metadata": {
    "eval": true
   },
   "outputs": [],
   "source": [
    "x <- c(1, NA_real_, 3, 5)\n",
    "mean(x)"
   ]
  },
  {
   "cell_type": "markdown",
   "metadata": {},
   "source": [
    "不完全データでは平均値の算出すら行えないため、他の統計処理（例えば標準偏差や相関係数）も行えないということになります。より応用的には、データ分析に使われるサポートベクターマシン、glmnet、ニューラルネットワークといった予測モデルの多くが欠損値を許容できません。\n",
    "\n",
    "では不完全データに対して統計処理を行うにはどうすれば良いでしょうか。RやPythonでは欠損値を含んだ要素に対してリストワイズ除去 (listwise deletion 完全ケース法とも呼びます)という方法が適用できます。リストワイズ除去は欠損値を含んだ観察行の値を全て削除し、擬似的に完全データを作り出します。先ほどの例ではベクトルが対象なのでベクトル中の欠損値が除去されます。表形式のデータフレームでは行削除が行われます。"
   ]
  },
  {
   "cell_type": "code",
   "execution_count": null,
   "metadata": {
    "eval": true
   },
   "outputs": [],
   "source": [
    "mean(x, na.rm = TRUE)"
   ]
  },
  {
   "cell_type": "markdown",
   "metadata": {},
   "source": [
    "`mean(na.rm = TRUE)` を指定して実行すると欠損値を除いた平均値が算出できました。しかし、この値は欠損値を除いた3つの要素での平均値です。そのため、ベクトルxが完全データであった際の平均値とは異なる可能性があります。つまり欠損除去をしたことで分析結果が偏ってしまう可能性が生じます。これは欠損値の2つめの問題になります。例えば小学校でのクラスで身体測定を行う際、あるクラスにおいて高身長の生徒数名が欠席していたとします。するとそのクラスの平均身長は本来の値よりも過少な値を導くことになり、推定値にバイアスが出てしまいます。\n",
    "\n",
    "最後の問題ですが、表形式のデータではリストワイズ除去の適用により、欠損ではない列の値も削除されてします。これは分析に利用可能なデータの件数を減らすことになり、分析の効率性や精度低下を招くおそれがあります。具体的にはモデルの推定量の標準誤差が増加します。\n",
    "\n",
    "### 欠損のパターンと発生メカニズム\n",
    "\n",
    "統計学においては、欠損は単純なパターンと非単調なパターンに分離されます。まずデータの欠損パターンから対処する方法が異なってきます。そのためまずはデータの欠損パターンとその比率について把握しておくことが肝心になります。\n",
    "\n",
    "<!-- 欠損にパターンはあるか? -->\n",
    "\n",
    "欠損データの発生メカニズムとして、手入力によるミス、観測装置の不調、回答拒否、途中離脱といったものが挙げられます。\n",
    "\n",
    "Little and Rubin (1987; 2014) では欠損の発生メカニズムを以下の3つに区分しました。\n",
    "\n",
    "- MCAR (Missing completely at random) 欠損が完全にランダム\n",
    "- MAR (Missing at random) 欠損をデータ内で統制すればランダム\n",
    "- MNAR (Missing not at random) 欠損がランダムではない\n",
    "    \n",
    "MCARは欠損メカニズムに関する最も強い過程です。それは欠損が完全に偶然に発生しているというものです。データ中で欠損は一定の確率で発生しますが、それはデータとは無関係に生じるものとみなされます。\n",
    "\n",
    "MCARと似た欠損メカニズムとしてMARがありますが、こちらの欠損は観察されたデータに基づいてランダムに発生するものです。データ分析ではMARを仮定して解析を行うことが多くなります。それはあとで述べるようにMARを仮定した不完全データに対して、最尤法に基づく混合効果モデル (EMアルゴリズム) 、多重代入法など対策方法が用意されているためでもあります。\n",
    "\n",
    "最後のNMAR (以前はNMARとも呼ばれていました) は欠損がランダムに発生するものではない、というものです。観察されているデータでは欠損値を説明できず、未知の値によって決まります。NMARへの対策として、欠損のメカニズムを組み込んだモデルを作成することが考えられますが複雑な作業が伴います。\n",
    "\n",
    "### 欠損に対するアプローチ\n",
    "\n",
    "1. 欠損値の除去\n",
    "2. 欠損値を予測値で補完する方法 (imputation)\n",
    "3. 不完全データとして尤度を記述する方法\n",
    "\n",
    "上述のように、欠損データの除去は分析結果にバイアスをもたらすために優れた対策方法とは言えません。目安として、欠損の割合が10%未満であればリストワイズ法による欠損処理が有効とされますが、それ以上に欠損を含んだデータでは最尤法か多重代入法で対処するのが欠損データに対して一般的です。\n",
    "\n",
    "また、データに外れ値が含まれる場合、それらを除外してからの代入が効果的とされます。代入には欠損していないデータを元に補完が行われるため、外れ値の影響を受けた偏った補完になってしまうためです。\n",
    "\n",
    "## 欠損パターンの視覚化\n",
    "\n",
    "欠損値の発生パターンを可視化するRパッケージとして、mice、VI、naniar、visdatなどがあります。ここではnaniarとvisdatを利用した例を紹介します。miceについては福島 (2015)や高橋・渡辺 (2017)を参考にしてください。"
   ]
  },
  {
   "cell_type": "code",
   "execution_count": null,
   "metadata": {
    "eval": true,
    "name": "load_chapter_depend_pkgs"
   },
   "outputs": [],
   "source": [
    "library(naniar)\n",
    "library(visdat)"
   ]
  },
  {
   "cell_type": "markdown",
   "metadata": {},
   "source": [
    "地価公示データを対象にデータ全体、各行・列でどの程度の欠損が含まれるかを調べます。\n",
    "\n",
    "<!-- 巨大なデータの場合は...-->"
   ]
  },
  {
   "cell_type": "code",
   "execution_count": null,
   "metadata": {
    "eval": true
   },
   "outputs": [],
   "source": [
    "ncol(df_lp_kanto) * nrow(df_lp_kanto)\n",
    "\n",
    "df_lp_kanto %>% \n",
    "  select(-starts_with(\".\")) %>% \n",
    "  n_miss()"
   ]
  },
  {
   "cell_type": "markdown",
   "metadata": {},
   "source": [
    "12%のデータが欠損していることがわかりました。さらにこのデータに対してリストワイズ除去を適用したとしたら、データ件数がどれだけ減少するか確認しておきましょう。"
   ]
  },
  {
   "cell_type": "code",
   "execution_count": null,
   "metadata": {
    "eval": true
   },
   "outputs": [],
   "source": [
    "# リストワイズ除去を行うとデータ件数が大幅に減少します\n",
    "df_lp_kanto %>% \n",
    "  drop_na() %>% \n",
    "  nrow()"
   ]
  },
  {
   "cell_type": "markdown",
   "metadata": {},
   "source": [
    "なんと利用可能なデータが0件になってしまいました。これでは何もできません。そのため、リストワイズ除去はこのデータへの欠損処理としては有効でないことが示されました。\n",
    "\n",
    "次にnaniarパッケージの関数を使って、データ全体の欠損情報を集約してみましょう。miss_df_propがデータ中の欠損の比率、miss_case_propが欠損を含まない行の比率です。"
   ]
  },
  {
   "cell_type": "code",
   "execution_count": null,
   "metadata": {
    "eval": true
   },
   "outputs": [],
   "source": [
    "df_lp_kanto %>% \n",
    "  miss_summary()"
   ]
  },
  {
   "cell_type": "markdown",
   "metadata": {},
   "source": [
    "次に各列での欠損状況を調べます。`miss_var_summary()`が各列の欠損状況を整理してくれます。次のコードでは欠損が1件でもある変数について表示します。"
   ]
  },
  {
   "cell_type": "code",
   "execution_count": null,
   "metadata": {
    "eval": true
   },
   "outputs": [],
   "source": [
    "df_lp_kanto %>% \n",
    "  select(-starts_with(\".\")) %>% \n",
    "  miss_var_summary() %>% \n",
    "  filter(n_miss > 0)"
   ]
  },
  {
   "cell_type": "markdown",
   "metadata": {},
   "source": [
    "全体の50%以上が欠損している列が6つ、さらに90%以上の欠損が3列もあります。リストワイズ除去で件数が大幅に減少してしまうのはこれの変数が影響しているようです。`vis_miss()`でデータ全体の欠損パターンを表示して確かめてみましょう。\n",
    "このプロットは、データの各行・各列での欠損データと欠損していないデータを並べて表示するので、データ全体の欠損パターンを把握するのに役立ちます。"
   ]
  },
  {
   "cell_type": "code",
   "execution_count": null,
   "metadata": {
    "eval": true
   },
   "outputs": [],
   "source": [
    "df_lp_kanto %>% \n",
    "  select(-starts_with(\".\")) %>% \n",
    "  vis_miss()"
   ]
  },
  {
   "cell_type": "markdown",
   "metadata": {},
   "source": [
    "このように直接の数値では情報を把握しきれない場合や複数の変数間でのパターンを把握したい場合には可視化が有効です。欠損データの可視化方法としてもう1つ、可視化の章でも扱ったヒートマップは欠損の状況を把握するのも利用可能です。\n"
   ]
  },
  {
   "cell_type": "code",
   "execution_count": null,
   "metadata": {},
   "outputs": [],
   "source": [
    "df_lp_kanto %>% \n",
    "  add_n_miss() %>% \n",
    "  select(n_miss_all, everything())"
   ]
  },
  {
   "cell_type": "code",
   "execution_count": null,
   "metadata": {},
   "outputs": [],
   "source": [
    "df_lp_kanto %>% \n",
    "  select(-starts_with(\".\")) %>% \n",
    "  gg_miss_upset()"
   ]
  },
  {
   "cell_type": "code",
   "execution_count": null,
   "metadata": {},
   "outputs": [],
   "source": [
    "p <- \n",
    "  df_hazard %>% \n",
    "  ggplot(aes(outflowSediment_m3, landslideLength_m)) +\n",
    "  geom_point()\n",
    "\n",
    "cowplot::plot_grid(p, p + geom_miss_point())"
   ]
  },
  {
   "cell_type": "code",
   "execution_count": null,
   "metadata": {},
   "outputs": [],
   "source": [
    "gg_miss_fct(x = df_lp_kanto, fct = .prefecture) +\n",
    "  theme(axis.text = element_text(family = \"IPAexGothic\"))"
   ]
  },
  {
   "cell_type": "markdown",
   "metadata": {},
   "source": [
    "configuretionの欠損はどの県でも高い割合で起きていますが、fire_areanについては東京都や神奈川県では他県よりも欠損が少ないようです。"
   ]
  },
  {
   "cell_type": "markdown",
   "metadata": {},
   "source": [
    "### 時系列データの欠損補完"
   ]
  },
  {
   "cell_type": "code",
   "execution_count": null,
   "metadata": {},
   "outputs": [],
   "source": [
    "df_hazard_kys200607$hazardDate %>% range()\n",
    "\n",
    "df_hazard_kys200607 %>% \n",
    "  st_drop_geometry() %>% \n",
    "  select(hazardDate, precipitation_max_1hour) %>% \n",
    "  filter(hazardDate == \"2006-07-01\")\n",
    "\n",
    "df_hazard_kys200607 %>% \n",
    "  st_drop_geometry() %>% \n",
    "  select(hazardDate, precipitation_max_1hour) %>% \n",
    "  gg_miss_span(precipitation_max_1hour, \n",
    "               span_every = 31)"
   ]
  },
  {
   "cell_type": "markdown",
   "metadata": {},
   "source": [
    "（ウィンドウ）\n",
    "\n",
    "<!-- 日付データの欠損で適当なのがないので、ダミーとしてビールデータの一部の日付を欠損させてデモ。 -->"
   ]
  },
  {
   "cell_type": "code",
   "execution_count": null,
   "metadata": {},
   "outputs": [],
   "source": [
    "df_hazard %>% \n",
    "  filter(hazardDate == \"2006-06-12\") %>% \n",
    "  st_drop_geometry() %>% \n",
    "  miss_var_span(hazardDate, span_every = 5)\n",
    "\n",
    "df_hazard %>% \n",
    "  st_drop_geometry() %>% \n",
    "  miss_var_span(hazardDate, span_every = 30)\n",
    "\n",
    "df_beer %>% \n",
    "  gg_miss_span(date, span_every = 365)"
   ]
  },
  {
   "cell_type": "markdown",
   "metadata": {},
   "source": [
    "## 欠損データへのアプローチ\n",
    "\n",
    "### 欠損値に対するエンコーディング\n",
    "\n",
    "データ上の欠損値を減らす方法として、対象の特徴量がカテゴリである場合には「欠損」自体を1つのカテゴリとみなしてエンコーディングするのも1つの方法です。これは特に意図的に欠損値として扱われているデータで有効です。地価公示データの説明 (http://www.land.mlit.go.jp/landPrice_/notes.html) を確認したところ、 形状 (configuration) の項目で「台形、不整形と特に表示しない限り四角形」とありました。これから、現在欠損している値を「四角形」と置き換えても良いと判断します。\n",
    "\n",
    "その他、「不明」や「測定不可」として扱っても良い変数がないか確認しておきましょう。場合によっては多くの欠損がエンコーディング可能です。"
   ]
  },
  {
   "cell_type": "markdown",
   "metadata": {},
   "source": [
    "### 代入法\n",
    "\n",
    "欠損した数値データの情報を失わずに補完する方法を考えます。まずは定数や平均といった集計値を欠損値に代入する簡単な方法を示します。次に、より一般的な欠損への対策として多重代入法や最尤法を用いる例を紹介します。\n",
    "\n",
    "Rではmice、Ameliaパッケージを使った欠損値補完が行えます。"
   ]
  },
  {
   "cell_type": "code",
   "execution_count": null,
   "metadata": {
    "lines_to_next_cell": 2
   },
   "outputs": [],
   "source": [
    "df_beer2018q2 %>% \n",
    "  miss_var_summary()"
   ]
  },
  {
   "cell_type": "markdown",
   "metadata": {},
   "source": [
    "#### 平均値代入法\n",
    "\n",
    "欠損値を補完するためにもっとも勘弁な手法は、変数の中央値や平均値といった統計値を代入することです。"
   ]
  },
  {
   "cell_type": "code",
   "execution_count": null,
   "metadata": {
    "lines_to_next_cell": 2
   },
   "outputs": [],
   "source": [
    "df_prep <-\n",
    "  df_hazard %>% \n",
    "  st_drop_geometry() %>% \n",
    "  select(hazardType, maxRainfall_h, maxRainfallFor_24h)\n",
    "\n",
    "# 欠損を無視した場合の平均、中央値\n",
    "df_prep %>% \n",
    "  summarise_if(is.numeric, \n",
    "               list(mean, median), \n",
    "               na.rm = TRUE)\n",
    "\n",
    "impute_hazard <- \n",
    "  df_prep %>% \n",
    "  recipe(hazardType ~ .) %>%\n",
    "  step_medianimpute(maxRainfall_h) %>% \n",
    "  step_meanimpute(maxRainfallFor_24h)\n",
    "\n",
    "prep(impute_hazard, \n",
    "     training = df_prep, retain = TRUE) %>% \n",
    "  juice() %>% \n",
    "  summarise_if(is.numeric, \n",
    "               list(mean, median), \n",
    "               na.rm = TRUE)"
   ]
  },
  {
   "cell_type": "markdown",
   "metadata": {},
   "source": [
    "#### *k*近傍法の利用\n",
    "\n",
    "*k*近傍法 (k-nearest neighbor algorithm) は特徴空間上で隣接するデータを元に、多数決での分類を行う手法です。クラス分類や回帰問題に利用されますが、特徴空間上の距離を利用して、データに含まれる欠損ではない値から欠損値を補うことが可能です。\n",
    "\n",
    "近い値の平均値\n",
    "\n",
    "<!-- DMwRを使った knnによる補完 -->"
   ]
  },
  {
   "cell_type": "code",
   "execution_count": null,
   "metadata": {},
   "outputs": [],
   "source": [
    "library(DMwR)\n",
    "\n",
    "d <- \n",
    "  df_hazard_kys200607 %>% \n",
    "  filter(hazardDate == \"2006-07-22\") %>% \n",
    "  mutate(longitude = sf::st_coordinates(sf::st_centroid(geometry))[, 1],\n",
    "         latitude = sf::st_coordinates(sf::st_centroid(geometry))[, 2]) %>% \n",
    "  st_drop_geometry() %>% \n",
    "  select(precipitation_max_1hour, longitude, latitude)\n",
    "\n",
    "d[c(110, 119, 120), ]\n",
    "\n",
    "d_comp <- \n",
    "  d %>%\n",
    "    as.data.frame() %>% \n",
    "  #  mutate(mechCode = as.factor(meshCode)) %>% \n",
    "  #  filter(is.na(precipitation_max_1hour)) %>% \n",
    "  knnImputation(k = 5) %>% \n",
    "  as_tibble()\n",
    "\n",
    "d_comp[c(110, 119, 120), ]"
   ]
  },
  {
   "cell_type": "code",
   "execution_count": null,
   "metadata": {},
   "outputs": [],
   "source": [
    "p1 <- \n",
    "  ggplot() +\n",
    "  geom_sf(data = ne_kys, fill = \"transparent\") +\n",
    "  geom_sf(data = d %>% \n",
    "            st_as_sf(coords = c(\"longitude\", \"latitude\"), crs = 4326), \n",
    "          aes(color = precipitation_max_1hour)) +\n",
    "  scale_color_viridis_c() +\n",
    "  theme_void()\n",
    "\n",
    "p2 <- \n",
    "  ggplot() +\n",
    "  geom_sf(data = ne_kys, fill = \"transparent\") +\n",
    "  geom_sf(data = d_comp %>% \n",
    "            st_as_sf(coords = c(\"longitude\", \"latitude\"), crs = 4326), \n",
    "          aes(color = precipitation_max_1hour)) +\n",
    "  scale_color_viridis_c() +\n",
    "  theme_void()\n",
    "\n",
    "plot_grid(p1, p2)\n",
    "\n",
    "d_comp %>% \n",
    "  st_as_sf(coords = c(\"longitude\", \"latitude\"), crs = 4326) %>% \n",
    "  mapview::mapview(zcol = \"precipitation_max_1hour\")"
   ]
  },
  {
   "cell_type": "markdown",
   "metadata": {},
   "source": [
    "### 決定木を使った欠損値補完\n",
    "\n",
    "## まとめ\n",
    "\n",
    "- 欠損を含んだ不完全データはデータ分析を行う上で避けては通れないほど頻繁にあります。またほとんどの統計モデルでは欠損を無視することはできません。欠損を含んだデータを不用意に削除すると推定に偏りをもたらします。そのため欠損に対して何らかの補完が有効な手段となります。\n",
    "- 欠損の状況を把握することは、欠損に対するアプローチを考えるのに大変便利です。小さなデータセットであればヒートマップ、共起プロットで素早く全体の欠損を見渡せます。変数の大きなデータセットではPCAにより次元を圧縮したあとでの可視化が効率的です。\n",
    "- 変数内で大部分の値あるいはすべての値が欠損していることもあります。この場合、該当の変数を除外することも1つの手です。またカテゴリ変数の場合は欠損を「欠損」という一つの水準とするのも選択肢の一つでしょう。\n",
    "\n",
    "## 関連項目\n",
    "\n",
    "## 参考文献\n",
    "\n",
    "<!-- textlint-disable prh -->\n",
    "\n",
    "- 星野崇宏 (2009). 調査観察データの統計科学: 因果推論・選択バイアス・データ融合 (岩波書店)\n",
    "- Little, R, and D Rubin. (2014). Statistical Analysis with Missing Data. (John Wiley; Sons.)\n",
    "- 福島真太朗 (2015). データ分析プロセス (共立出版)\n",
    "- 阿部貴行 (2016). 欠測データの統計解析 (朝倉書店)\n",
    "- 高橋将宜・渡辺美智子 (2017). 欠測データ処理-Rによる単一代入法と多重代入法- (共立出版)\n",
    "- Max Kuhn and Kjell Johnson (2019). Feature Engineering and Selection: A Practical Approach for Predictive Models (CRC Press)\n",
    "\n",
    "<!-- textlint-enable prh -->"
   ]
  }
 ],
 "metadata": {
  "jupytext": {
   "formats": "ipynb,Rmd"
  },
  "kernelspec": {
   "display_name": "R",
   "language": "R",
   "name": "ir"
  },
  "language_info": {
   "codemirror_mode": "r",
   "file_extension": ".r",
   "mimetype": "text/x-r-source",
   "name": "R",
   "pygments_lexer": "r",
   "version": "3.6.0"
  },
  "toc": {
   "base_numbering": 1,
   "nav_menu": {},
   "number_sections": true,
   "sideBar": true,
   "skip_h1_title": false,
   "title_cell": "Table of Contents",
   "title_sidebar": "Contents",
   "toc_cell": false,
   "toc_position": {},
   "toc_section_display": true,
   "toc_window_display": false
  }
 },
 "nbformat": 4,
 "nbformat_minor": 2
}
