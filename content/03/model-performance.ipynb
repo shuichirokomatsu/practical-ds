{
 "cells": [
  {
   "cell_type": "markdown",
   "metadata": {},
   "source": [
    "# モデルの性能評価"
   ]
  },
  {
   "cell_type": "markdown",
   "metadata": {},
   "source": [
    "## モデルの汎化能力と過学習"
   ]
  },
  {
   "cell_type": "markdown",
   "metadata": {},
   "source": [
    "## 性能評価指標\n",
    "\n",
    "タスクに応じた評価指標を利用する\n",
    "\n",
    "回帰問題と分類問題では異なる評価指標を用いる。\n",
    "\n",
    "データの性質や評価したい項目に応じてさらに使い分ける。\n",
    "\n",
    "###　回帰問題\n",
    "\n",
    "- 決定係数 (coefficient of determination: $R^2$)\n",
    "- 平均二乗誤差 (MSE)\n",
    "- 二乗平均平方根誤差 (Root Mean Square Error: RMSE)\n",
    "- 平均絶対誤差 (Mean Absolute Error: MAE)\n",
    "\n",
    "- 外れ値が多く含まれる場合にはMAEを検討（外れ値の影響を受けにくい）\n",
    "\n",
    "#### 決定係数\n",
    "\n",
    "$$R^2 = 1 - RSS / TSS$$\n",
    "\n",
    "RSS... 残差平方和\n",
    "TSS... 全平方和\n",
    "\n",
    "#### 二乗平均平方根誤差\n",
    "\n",
    "$$RMSE = \\sqrt{\\frac{\\sum_{i=1}^n (y^{(i)} - {y_{EST}}^{(i)})^2}{n}}$$\n",
    "\n",
    "### 分類問題\n",
    "\n",
    "- 正解率\n",
    "- 混同行列\n",
    "- 適合率と再現率\n",
    "- ROC曲線とAUC"
   ]
  }
 ],
 "metadata": {
  "jupytext": {
   "formats": "ipynb,Rmd"
  },
  "kernelspec": {
   "display_name": "R",
   "language": "R",
   "name": "ir"
  },
  "language_info": {
   "codemirror_mode": "r",
   "file_extension": ".r",
   "mimetype": "text/x-r-source",
   "name": "R",
   "pygments_lexer": "r",
   "version": "3.6.0"
  },
  "toc": {
   "base_numbering": 1,
   "nav_menu": {},
   "number_sections": true,
   "sideBar": true,
   "skip_h1_title": false,
   "title_cell": "Table of Contents",
   "title_sidebar": "Contents",
   "toc_cell": false,
   "toc_position": {},
   "toc_section_display": true,
   "toc_window_display": false
  },
  "varInspector": {
   "cols": {
    "lenName": 16,
    "lenType": 16,
    "lenVar": 40
   },
   "kernels_config": {
    "python": {
     "delete_cmd_postfix": "",
     "delete_cmd_prefix": "del ",
     "library": "var_list.py",
     "varRefreshCmd": "print(var_dic_list())"
    },
    "r": {
     "delete_cmd_postfix": ") ",
     "delete_cmd_prefix": "rm(",
     "library": "var_list.r",
     "varRefreshCmd": "cat(var_dic_list()) "
    }
   },
   "types_to_exclude": [
    "module",
    "function",
    "builtin_function_or_method",
    "instance",
    "_Feature"
   ],
   "window_display": false
  }
 },
 "nbformat": 4,
 "nbformat_minor": 2
}
